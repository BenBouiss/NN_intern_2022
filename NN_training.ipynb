{
 "cells": [
  {
   "cell_type": "code",
   "execution_count": 1,
   "id": "83d547fb-cdb8-4150-b8aa-466264d45b33",
   "metadata": {},
   "outputs": [],
   "source": [
    "import tensorflow as tf\n",
    "import matplotlib.pyplot as plt\n",
    "import pandas as pd\n",
    "import os\n",
    "from glob import glob\n",
    "import numpy as np\n",
    "import time\n",
    "import xarray as xr\n",
    "import random\n",
    "import pickle\n",
    "import json"
   ]
  },
  {
   "cell_type": "code",
   "execution_count": 2,
   "id": "88c645d7-107f-4c87-b24f-6620ab1376a7",
   "metadata": {},
   "outputs": [
    {
     "data": {
      "text/plain": [
       "'/home/bouissob/Code'"
      ]
     },
     "execution_count": 2,
     "metadata": {},
     "output_type": "execute_result"
    }
   ],
   "source": [
    "os.getcwd()"
   ]
  },
  {
   "cell_type": "code",
   "execution_count": 3,
   "id": "5d53656e-d977-4256-b802-34c2fb020d03",
   "metadata": {},
   "outputs": [
    {
     "data": {
      "text/plain": [
       "{'Neur_seq': '32_64_64_32',\n",
       " 'Epoch': 1,\n",
       " 'Var_X': ['x', 'y', 'temperatureYZ', 'salinityYZ', 'iceDraft'],\n",
       " 'Var_Y': 'meltRate',\n",
       " 'Dataset_train': ['Ocean2'],\n",
       " 'Oc_mod_type': 'COM_NEMO-CNRS',\n",
       " 'activ_fct': 'swish',\n",
       " 'Choix': 0,\n",
       " 'Uniq_id': 1646214823,\n",
       " 'verbose': 1,\n",
       " 'batch_size': 128,\n",
       " 'Extra_n': ''}"
      ]
     },
     "execution_count": 3,
     "metadata": {},
     "output_type": "execute_result"
    }
   ],
   "source": [
    "path = os.path.join(os.getcwd(), 'Auto_model', 'COM_NEMO-CNRS', 'Ocean2')\n",
    "P = glob(path + '/*')[0]\n",
    "with open(P + '/config.json') as json_file:\n",
    "    data = json.load(json_file)\n",
    "data"
   ]
  },
  {
   "cell_type": "code",
   "execution_count": 4,
   "id": "e13629c1-a4de-4743-a5f4-318cfbcacb51",
   "metadata": {},
   "outputs": [
    {
     "data": {
      "text/plain": [
       "int"
      ]
     },
     "execution_count": 4,
     "metadata": {},
     "output_type": "execute_result"
    }
   ],
   "source": [
    "type(data['Choix'])"
   ]
  },
  {
   "cell_type": "code",
   "execution_count": 5,
   "id": "3066a768-1b62-43ad-a672-20311430dafd",
   "metadata": {},
   "outputs": [],
   "source": [
    "def Make_dire(file_path):\n",
    "    if not os.path.isdir(file_path):\n",
    "        os.makedirs(file_path)"
   ]
  },
  {
   "cell_type": "code",
   "execution_count": 6,
   "id": "383befeb-1a8a-4110-9a54-679aa0deba71",
   "metadata": {},
   "outputs": [],
   "source": [
    "Bet_path = '/bettik/bouissob/'\n",
    "\n",
    "files = glob(os.path.join(Bet_path, 'Data/') + '*Ocean1*')"
   ]
  },
  {
   "cell_type": "code",
   "execution_count": 7,
   "id": "ecb65680-f9c4-42d7-a607-38361aa2d470",
   "metadata": {},
   "outputs": [
    {
     "data": {
      "text/html": [
       "<div>\n",
       "<style scoped>\n",
       "    .dataframe tbody tr th:only-of-type {\n",
       "        vertical-align: middle;\n",
       "    }\n",
       "\n",
       "    .dataframe tbody tr th {\n",
       "        vertical-align: top;\n",
       "    }\n",
       "\n",
       "    .dataframe thead th {\n",
       "        text-align: right;\n",
       "    }\n",
       "</style>\n",
       "<table border=\"1\" class=\"dataframe\">\n",
       "  <thead>\n",
       "    <tr style=\"text-align: right;\">\n",
       "      <th></th>\n",
       "      <th>y</th>\n",
       "      <th>x</th>\n",
       "      <th>meltRate</th>\n",
       "      <th>thermalDriving</th>\n",
       "      <th>halineDriving</th>\n",
       "      <th>iceDraft</th>\n",
       "      <th>date</th>\n",
       "      <th>temperatureYZ</th>\n",
       "      <th>salinityYZ</th>\n",
       "    </tr>\n",
       "  </thead>\n",
       "  <tbody>\n",
       "    <tr>\n",
       "      <th>0</th>\n",
       "      <td>0</td>\n",
       "      <td>194</td>\n",
       "      <td>1.445518e-09</td>\n",
       "      <td>0.009086</td>\n",
       "      <td>0.127754</td>\n",
       "      <td>82.815510</td>\n",
       "      <td>0</td>\n",
       "      <td>-1.900030</td>\n",
       "      <td>33.893150</td>\n",
       "    </tr>\n",
       "    <tr>\n",
       "      <th>1</th>\n",
       "      <td>0</td>\n",
       "      <td>316</td>\n",
       "      <td>2.533100e-09</td>\n",
       "      <td>0.013837</td>\n",
       "      <td>0.194261</td>\n",
       "      <td>91.276440</td>\n",
       "      <td>0</td>\n",
       "      <td>-1.900030</td>\n",
       "      <td>33.893150</td>\n",
       "    </tr>\n",
       "    <tr>\n",
       "      <th>2</th>\n",
       "      <td>2</td>\n",
       "      <td>194</td>\n",
       "      <td>1.421181e-09</td>\n",
       "      <td>0.008926</td>\n",
       "      <td>0.125516</td>\n",
       "      <td>81.651650</td>\n",
       "      <td>0</td>\n",
       "      <td>-1.900036</td>\n",
       "      <td>33.892456</td>\n",
       "    </tr>\n",
       "    <tr>\n",
       "      <th>3</th>\n",
       "      <td>2</td>\n",
       "      <td>294</td>\n",
       "      <td>2.025993e-09</td>\n",
       "      <td>0.012627</td>\n",
       "      <td>0.177358</td>\n",
       "      <td>89.908270</td>\n",
       "      <td>0</td>\n",
       "      <td>-1.900036</td>\n",
       "      <td>33.892456</td>\n",
       "    </tr>\n",
       "    <tr>\n",
       "      <th>4</th>\n",
       "      <td>2</td>\n",
       "      <td>296</td>\n",
       "      <td>1.932426e-09</td>\n",
       "      <td>0.012012</td>\n",
       "      <td>0.168752</td>\n",
       "      <td>90.281364</td>\n",
       "      <td>0</td>\n",
       "      <td>-1.900036</td>\n",
       "      <td>33.892456</td>\n",
       "    </tr>\n",
       "  </tbody>\n",
       "</table>\n",
       "</div>"
      ],
      "text/plain": [
       "   y    x      meltRate  thermalDriving  halineDriving   iceDraft  date  \\\n",
       "0  0  194  1.445518e-09        0.009086       0.127754  82.815510     0   \n",
       "1  0  316  2.533100e-09        0.013837       0.194261  91.276440     0   \n",
       "2  2  194  1.421181e-09        0.008926       0.125516  81.651650     0   \n",
       "3  2  294  2.025993e-09        0.012627       0.177358  89.908270     0   \n",
       "4  2  296  1.932426e-09        0.012012       0.168752  90.281364     0   \n",
       "\n",
       "   temperatureYZ  salinityYZ  \n",
       "0      -1.900030   33.893150  \n",
       "1      -1.900030   33.893150  \n",
       "2      -1.900036   33.892456  \n",
       "3      -1.900036   33.892456  \n",
       "4      -1.900036   33.892456  "
      ]
     },
     "execution_count": 7,
     "metadata": {},
     "output_type": "execute_result"
    }
   ],
   "source": [
    "pd.read_csv(files[0]).head()"
   ]
  },
  {
   "cell_type": "code",
   "execution_count": 22,
   "id": "dde0327c-5a03-4bdf-b908-d62f5302313c",
   "metadata": {},
   "outputs": [],
   "source": [
    "multi = 0\n",
    "if multi == 1:\n",
    "    Datas = glob(Bet_path + '/Data/*S.csv')\n",
    "    Clean_Data = pd.DataFrame()\n",
    "    li = []\n",
    "    for ind, d in enumerate(Datas):\n",
    "        print('{}/{}'.format(ind, len(Datas)))\n",
    "        #data = pd.read_csv(d)\n",
    "        print(d)\n",
    "        li.append(pd.read_csv(d))\n",
    "    Clean_Data = pd.concat(li,ignore_index = True)\n",
    "    del li\n",
    "else:\n",
    "    Datas = glob(Bet_path + '/Data/*Ocean1*.csv')\n",
    "    Data = pd.read_csv(Datas[0])\n",
    "    Clean_Data = Data.dropna()\n",
    "    Clean_Data.reset_index(inplace=True, drop = True)\n"
   ]
  },
  {
   "cell_type": "code",
   "execution_count": 9,
   "id": "df04330d-600f-41ca-b010-fd0e762b9ada",
   "metadata": {},
   "outputs": [],
   "source": [
    "Cols = Clean_Data.columns\n",
    "Var_names_X = Cols.drop(['date', 'meltRate', 'temperatureYZ', 'salinityYZ']) #Config init avec driving\n",
    "#Var_names_X = Cols.drop(['date', 'meltRate', 'halineDriving', 'thermalDriving']) # Nouvelle config avec YZ"
   ]
  },
  {
   "cell_type": "code",
   "execution_count": 10,
   "id": "2ecae503-27c2-42b3-8851-632a5b436abd",
   "metadata": {},
   "outputs": [
    {
     "data": {
      "text/plain": [
       "Index(['y', 'x', 'thermalDriving', 'halineDriving', 'iceDraft'], dtype='object')"
      ]
     },
     "execution_count": 11,
     "metadata": {},
     "output_type": "execute_result"
    }
   ],
   "source": [
    "Var_names"
   ]
  },
  {
   "cell_type": "code",
   "execution_count": 13,
   "id": "43fb6d75-c86b-47d1-9162-4a4499d7a951",
   "metadata": {
    "tags": []
   },
   "outputs": [
    {
     "name": "stdout",
     "output_type": "stream",
     "text": [
      "558336 139584\n"
     ]
    }
   ],
   "source": [
    "X = Clean_Data[Var_names_X]\n",
    "Y = Clean_Data['meltRate']\n",
    "X_train = X.sample(frac = 0.8)\n",
    "X_valid = X.drop(X_train.index)\n",
    "\n",
    "Y_train = Y.loc[X_train.index]\n",
    "Y_valid = Y.drop(X_train.index)\n",
    "print(len(X_train), len(X_valid))\n",
    "\n",
    "mean, std = X_train.mean(), X_train.std() \n",
    "meanY, stdY = Y_train.mean(), Y_train.std() \n",
    "X_train, X_valid = (np.array((X_train - mean)/std), \n",
    "                    np.array((X_valid - mean)/std))\n",
    "\n",
    "Y_train, Y_valid = (np.array((Y_train - meanY)/stdY), \n",
    "                    np.array((Y_valid - meanY)/stdY))\n",
    "\n",
    "del X, Y\n",
    "del Clean_Data\n",
    "#maxX, minX = X_train.max(), X_train.min()\n",
    "#maxY, minY = Y_train.max(), Y_train.min()\n",
    "#X_train, X_valid = np.array((X_train - minX)/(maxX - minX)), np.array((X_valid - minX)/(maxX - minX))\n",
    "#Y_train, Y_valid = np.array((Y_train - minY)/(maxY - minY)), np.array((Y_valid - minY)/(maxY - minY))\n",
    "#Y_train_N, Y_valid_N = np.array(Y_train / maxY), np.array(Y_valid/maxY)"
   ]
  },
  {
   "cell_type": "code",
   "execution_count": 14,
   "id": "6e03bb7b-7709-4c12-aee8-773ae6ebe394",
   "metadata": {},
   "outputs": [],
   "source": [
    "def Model_init(shape):\n",
    "    model = tf.keras.models.Sequential()\n",
    "    model.add(tf.keras.layers.Input(shape))\n",
    "    model.add(tf.keras.layers.Dense(32, activation = 'relu'))\n",
    "    model.add(tf.keras.layers.Dense(64, activation = 'relu'))\n",
    "    model.add(tf.keras.layers.Dense(64, activation = 'relu'))\n",
    "    model.add(tf.keras.layers.Dense(32, activation = 'relu'))\n",
    "    model.add(tf.keras.layers.Dense(1))\n",
    "    model.compile(optimizer='adam',\n",
    "                 loss = 'mse',\n",
    "                metrics = ['mae', 'mse'])\n",
    "    return model\n",
    "def Model_init2(shape):\n",
    "    model = tf.keras.models.Sequential()\n",
    "    model.add(tf.keras.layers.Input(shape))\n",
    "    model.add(tf.keras.layers.Dense(32, activation = 'swish'))\n",
    "    model.add(tf.keras.layers.Dense(64, activation = 'swish'))\n",
    "    model.add(tf.keras.layers.Dense(64, activation = 'swish'))\n",
    "    model.add(tf.keras.layers.Dense(32, activation = 'swish'))\n",
    "    model.add(tf.keras.layers.Dense(1))\n",
    "    model.compile(optimizer='adam',\n",
    "                 loss = 'mse',\n",
    "                metrics = ['mae', 'mse'])\n",
    "    return model"
   ]
  },
  {
   "cell_type": "code",
   "execution_count": 15,
   "id": "af9db763-ba68-4916-8213-04be68ad2ce5",
   "metadata": {},
   "outputs": [],
   "source": [
    "if len(Datas) ==1:\n",
    "    Temp = Datas[0].split('/')\n",
    "    Name = Temp[len(Temp) - 1]\n",
    "    Name = Name.replace('data_', '')\n",
    "    Ocean_scen = Name.split('_')[0]\n",
    "    Mod_nam = Name.replace(Ocean_scen + '_', '').split('.')[0]\n",
    "else:\n",
    "    Names = []\n",
    "    for n in Datas:\n",
    "        Temp = n.split('/')\n",
    "        Name = Temp[len(Temp) - 1]\n",
    "        Name = Name.replace('data_', '')\n",
    "        Ocean_scens = Name.split('_')[0]\n",
    "        Names.append(Ocean_scens)\n",
    "    Ocean_scen = '_'.join(Names)\n",
    "    Mod_nam = Name.replace(Ocean_scens + '_', '').split('.')[0]\n",
    "        "
   ]
  },
  {
   "cell_type": "code",
   "execution_count": 16,
   "id": "93067fab-8ae0-409e-9d99-8cc76b4927c1",
   "metadata": {},
   "outputs": [
    {
     "data": {
      "text/plain": [
       "'Ocean1'"
      ]
     },
     "execution_count": 16,
     "metadata": {},
     "output_type": "execute_result"
    }
   ],
   "source": [
    "Ocean_scen"
   ]
  },
  {
   "cell_type": "code",
   "execution_count": 17,
   "id": "61e2b46a-c9c0-4f68-afc4-073904ddfb02",
   "metadata": {},
   "outputs": [],
   "source": [
    "Model_path = '/'.join([os.getcwd(),'Models',Mod_nam, Ocean_scen])"
   ]
  },
  {
   "cell_type": "code",
   "execution_count": 18,
   "id": "d189df81-6302-4627-be21-39f8c7b07905",
   "metadata": {},
   "outputs": [
    {
     "data": {
      "text/plain": [
       "'/home/bouissob/Code/Models/COM_NEMO-CNRS/Ocean1'"
      ]
     },
     "execution_count": 18,
     "metadata": {},
     "output_type": "execute_result"
    }
   ],
   "source": [
    "Model_path"
   ]
  },
  {
   "cell_type": "code",
   "execution_count": 19,
   "id": "e53499e3-c7eb-453a-860b-344304ad2eb5",
   "metadata": {},
   "outputs": [
    {
     "name": "stderr",
     "output_type": "stream",
     "text": [
      "2022-03-18 14:42:36.496331: I tensorflow/compiler/jit/xla_cpu_device.cc:41] Not creating XLA devices, tf_xla_enable_xla_devices not set\n",
      "2022-03-18 14:42:36.496599: I tensorflow/core/platform/cpu_feature_guard.cc:142] This TensorFlow binary is optimized with oneAPI Deep Neural Network Library (oneDNN) to use the following CPU instructions in performance-critical operations:  SSE4.1 SSE4.2 AVX\n",
      "To enable them in other operations, rebuild TensorFlow with the appropriate compiler flags.\n",
      "2022-03-18 14:42:36.499937: I tensorflow/core/common_runtime/process_util.cc:146] Creating new thread pool with default inter op setting: 2. Tune using inter_op_parallelism_threads for best performance.\n"
     ]
    }
   ],
   "source": [
    "model = Model_init2( (len(Var_names_X), ))"
   ]
  },
  {
   "cell_type": "code",
   "execution_count": 20,
   "id": "e435ef83-3746-4dce-859e-42d5587bf7a6",
   "metadata": {},
   "outputs": [
    {
     "data": {
      "text/plain": [
       "8577"
      ]
     },
     "execution_count": 20,
     "metadata": {},
     "output_type": "execute_result"
    }
   ],
   "source": [
    "model.count_params()"
   ]
  },
  {
   "cell_type": "code",
   "execution_count": 21,
   "id": "797dd403-f87a-400b-84d7-455e060be48c",
   "metadata": {
    "tags": []
   },
   "outputs": [
    {
     "name": "stderr",
     "output_type": "stream",
     "text": [
      "2022-03-18 14:42:42.123091: I tensorflow/compiler/mlir/mlir_graph_optimization_pass.cc:116] None of the MLIR optimization passes are enabled (registered 2)\n",
      "2022-03-18 14:42:42.150813: I tensorflow/core/platform/profile_utils/cpu_utils.cc:112] CPU Frequency: 2399805000 Hz\n"
     ]
    },
    {
     "name": "stdout",
     "output_type": "stream",
     "text": [
      "17448/17448 [==============================] - 79s 4ms/step - loss: 0.1118 - mae: 0.1520 - mse: 0.1118 - val_loss: 0.0468 - val_mae: 0.0934 - val_mse: 0.0468\n"
     ]
    }
   ],
   "source": [
    "Nbr_Epoch = 1\n",
    "\n",
    "Uniq = time.time()\n",
    "\n",
    "Name ='Ep_{}_Input_{}_{}_Extra_{}'.format(Nbr_Epoch, len(Var_names_X), Uniq, 'initcf')\n",
    "filepath = Model_path + '/' + Name + '/'\n",
    "Make_dire(filepath)\n",
    "#maxX.to_pickle(filepath + 'MaxX.pkl')\n",
    "#minX.to_pickle(filepath + 'MinX.pkl')\n",
    "#np.savetxt(filepath + 'MaxY.csv', np.array(maxY).reshape(1, ))\n",
    "#np.savetxt(filepath + 'MinY.csv', np.array(minY).reshape(1, ))\n",
    "\n",
    "mean.to_pickle(filepath + 'MeanX.pkl')\n",
    "std.to_pickle(filepath + 'StdX.pkl')\n",
    "np.savetxt(filepath + 'MeanY.csv', np.array(meanY).reshape(1, ))\n",
    "np.savetxt(filepath + 'StdY.csv', np.array(stdY).reshape(1, ))\n",
    "\n",
    "model = Model_init2( (len(Var_names_X), ))\n",
    "Model = model.fit(X_train, Y_train,\n",
    "                   epochs = Nbr_Epoch,\n",
    "                   batch_size = 32,\n",
    "                   validation_data = (X_valid, Y_valid))\n",
    "Model_path = os.getcwd() + '/Models/' + Mod_nam + '/' + Ocean_scen + '/'\n",
    "model.save(filepath + 'model.h5')\n",
    "with open(filepath + 'TrainingHistory', 'wb') as file_pi:\n",
    "    pickle.dump(Model.history, file_pi)\n",
    "del X_train, Y_train\n",
    "del X_valid, Y_valid"
   ]
  },
  {
   "cell_type": "markdown",
   "id": "5efde224-341c-4077-a02d-49d36908db27",
   "metadata": {
    "tags": []
   },
   "source": [
    "Data = Clean_Data.loc[Clean_Data.date == 200]\n",
    "X = Data[Var_names_X]\n",
    "X = np.array((X - mean)/std)\n",
    "X = np.array(X).reshape(-1, 5, )\n",
    "Y_mod = Model.model(X)\n",
    "#Data['Mod_Melt'] = Y_mod.numpy().reshape(len(Y_mod, )) * maxY\n",
    "Data['Mod_Melt'] = (Y_mod.numpy().reshape(len(Y_mod, )) * stdY) + meanY\n",
    "Dataset = Data.set_index(['y', 'x'])\n",
    "Dataset = Dataset.to_xarray()\n",
    "Dataset.Mod_Melt.plot(cmap = plt.get_cmap('viridis'))\n",
    "plt.figure()\n",
    "Dataset.meltRate.plot(cmap = plt.get_cmap('viridis'))"
   ]
  },
  {
   "cell_type": "code",
   "execution_count": 28,
   "id": "27b66e30-4535-462e-b0c6-324b99120b1f",
   "metadata": {},
   "outputs": [
    {
     "ename": "TypeError",
     "evalue": "'NoneType' object is not callable",
     "output_type": "error",
     "traceback": [
      "\u001b[0;31m---------------------------------------------------------------------------\u001b[0m",
      "\u001b[0;31mTypeError\u001b[0m                                 Traceback (most recent call last)",
      "\u001b[0;32m/tmp/ipykernel_28201/2131255378.py\u001b[0m in \u001b[0;36m<module>\u001b[0;34m\u001b[0m\n\u001b[0;32m----> 1\u001b[0;31m \u001b[0mModel\u001b[0m\u001b[0;34m.\u001b[0m\u001b[0mvalidation_data\u001b[0m\u001b[0;34m(\u001b[0m\u001b[0;34m)\u001b[0m\u001b[0;34m\u001b[0m\u001b[0;34m\u001b[0m\u001b[0m\n\u001b[0m",
      "\u001b[0;31mTypeError\u001b[0m: 'NoneType' object is not callable"
     ]
    }
   ],
   "source": [
    "Model.history"
   ]
  },
  {
   "cell_type": "code",
   "execution_count": 16,
   "id": "9b364d8b-c288-499d-b499-ca002ae4a1a0",
   "metadata": {
    "tags": []
   },
   "outputs": [
    {
     "ename": "TypeError",
     "evalue": "'History' object is not subscriptable",
     "output_type": "error",
     "traceback": [
      "\u001b[0;31m---------------------------------------------------------------------------\u001b[0m",
      "\u001b[0;31mTypeError\u001b[0m                                 Traceback (most recent call last)",
      "\u001b[0;32m/tmp/ipykernel_13888/2184916522.py\u001b[0m in \u001b[0;36m<module>\u001b[0;34m\u001b[0m\n\u001b[1;32m      1\u001b[0m \u001b[0mhist\u001b[0m \u001b[0;34m=\u001b[0m \u001b[0mmodel\u001b[0m\u001b[0;34m.\u001b[0m\u001b[0mhistory\u001b[0m\u001b[0;34m\u001b[0m\u001b[0;34m\u001b[0m\u001b[0m\n\u001b[0;32m----> 2\u001b[0;31m \u001b[0mplt\u001b[0m\u001b[0;34m.\u001b[0m\u001b[0mplot\u001b[0m\u001b[0;34m(\u001b[0m\u001b[0mhist\u001b[0m\u001b[0;34m[\u001b[0m\u001b[0;34m'loss'\u001b[0m\u001b[0;34m]\u001b[0m\u001b[0;34m)\u001b[0m\u001b[0;34m\u001b[0m\u001b[0;34m\u001b[0m\u001b[0m\n\u001b[0m\u001b[1;32m      3\u001b[0m \u001b[0;32mfor\u001b[0m \u001b[0mk\u001b[0m \u001b[0;32min\u001b[0m \u001b[0mhist\u001b[0m\u001b[0;34m.\u001b[0m\u001b[0mkeys\u001b[0m\u001b[0;34m(\u001b[0m\u001b[0;34m)\u001b[0m\u001b[0;34m:\u001b[0m\u001b[0;34m\u001b[0m\u001b[0;34m\u001b[0m\u001b[0m\n\u001b[1;32m      4\u001b[0m     \u001b[0mplt\u001b[0m\u001b[0;34m.\u001b[0m\u001b[0mplot\u001b[0m\u001b[0;34m(\u001b[0m\u001b[0mhist\u001b[0m\u001b[0;34m[\u001b[0m\u001b[0mk\u001b[0m\u001b[0;34m]\u001b[0m\u001b[0;34m,\u001b[0m \u001b[0mlabel\u001b[0m \u001b[0;34m=\u001b[0m \u001b[0mk\u001b[0m\u001b[0;34m)\u001b[0m\u001b[0;34m\u001b[0m\u001b[0;34m\u001b[0m\u001b[0m\n\u001b[1;32m      5\u001b[0m \u001b[0mplt\u001b[0m\u001b[0;34m.\u001b[0m\u001b[0mlegend\u001b[0m\u001b[0;34m(\u001b[0m\u001b[0;34m)\u001b[0m\u001b[0;34m\u001b[0m\u001b[0;34m\u001b[0m\u001b[0m\n",
      "\u001b[0;31mTypeError\u001b[0m: 'History' object is not subscriptable"
     ]
    }
   ],
   "source": [
    "hist = Model.history\n",
    "plt.plot(hist['loss'])\n",
    "for k in hist.keys():\n",
    "    plt.plot(hist[k], label = k)\n",
    "plt.legend()\n",
    "plt.show()"
   ]
  },
  {
   "cell_type": "code",
   "execution_count": 15,
   "id": "763aebee-8c18-4146-96ba-7b392e955ae9",
   "metadata": {},
   "outputs": [
    {
     "data": {
      "image/png": "[encoded data removed]",
      "text/plain": [
       "<Figure size 432x288 with 1 Axes>"
      ]
     },
     "metadata": {
      "needs_background": "light"
     },
     "output_type": "display_data"
    }
   ],
   "source": [
    "hist = Model.history\n",
    "plt.plot(hist['loss'])\n",
    "for k in hist.keys():\n",
    "    plt.plot(hist[k], label = k)\n",
    "plt.legend()\n",
    "plt.show()"
   ]
  },
  {
   "cell_type": "code",
   "execution_count": 60,
   "id": "8de75b80-166a-491f-b90b-8d014e2b3c4b",
   "metadata": {},
   "outputs": [
    {
     "data": {
      "text/plain": [
       "Index(['y', 'x', 'thermalDriving', 'halineDriving', 'iceDraft'], dtype='object')"
      ]
     },
     "execution_count": 60,
     "metadata": {},
     "output_type": "execute_result"
    }
   ],
   "source": [
    "Var_names_X"
   ]
  },
  {
   "cell_type": "code",
   "execution_count": 73,
   "id": "db50a6ef-e8ec-43f0-b034-8eef60178744",
   "metadata": {},
   "outputs": [
    {
     "name": "stderr",
     "output_type": "stream",
     "text": [
      "/home/bouissob/miniconda3/envs/py37/lib/python3.7/site-packages/ipykernel_launcher.py:9: SettingWithCopyWarning: \n",
      "A value is trying to be set on a copy of a slice from a DataFrame.\n",
      "Try using .loc[row_indexer,col_indexer] = value instead\n",
      "\n",
      "See the caveats in the documentation: https://pandas.pydata.org/pandas-docs/stable/user_guide/indexing.html#returning-a-view-versus-a-copy\n",
      "  if __name__ == '__main__':\n"
     ]
    },
    {
     "data": {
      "text/plain": [
       "<matplotlib.collections.QuadMesh at 0x7ff43917da50>"
      ]
     },
     "execution_count": 73,
     "metadata": {},
     "output_type": "execute_result"
    },
    {
     "data": {
      "image/png": "[encoded data removed]",
      "text/plain": [
       "<Figure size 432x288 with 2 Axes>"
      ]
     },
     "metadata": {
      "needs_background": "light"
     },
     "output_type": "display_data"
    }
   ],
   "source": [
    "d = Clean_Data.loc[Clean_Data.date == 239]\n",
    "dx = d[Var_names_X]\n",
    "X = np.array((dx - mean) / std).reshape(-1, len(Var_names_X))\n",
    "#X[:, 4] = 0\n",
    "#X[:, 4] = 0\n",
    "X[:, 3] = 0\n",
    "X[:, 2] = 0\n",
    "Y = (model(X) * stdY) + meanY\n",
    "d['Mod'] = Y\n",
    "arr2 = d.set_index(['x', 'y']).to_xarray()\n",
    "arr2.Mod.plot(x = 'x')"
   ]
  },
  {
   "cell_type": "code",
   "execution_count": null,
   "id": "0a00cdab-565a-46c0-a364-55354c57632d",
   "metadata": {},
   "outputs": [],
   "source": []
  },
  {
   "cell_type": "code",
   "execution_count": null,
   "id": "bcfbd958-4e16-4b76-84c3-bf2756fa338c",
   "metadata": {},
   "outputs": [],
   "source": []
  },
  {
   "cell_type": "code",
   "execution_count": null,
   "id": "ccd2bf5e-004c-4285-85fc-d46f9ec3415c",
   "metadata": {},
   "outputs": [],
   "source": []
  },
  {
   "cell_type": "code",
   "execution_count": 46,
   "id": "d2cdd947-45ef-4913-8d69-08f0be8e691b",
   "metadata": {},
   "outputs": [
    {
     "data": {
      "text/plain": [
       "<matplotlib.collections.QuadMesh at 0x7ff439ce2890>"
      ]
     },
     "execution_count": 46,
     "metadata": {},
     "output_type": "execute_result"
    },
    {
     "data": {
      "image/png": "[encoded data removed]",
      "text/plain": [
       "<Figure size 432x288 with 2 Axes>"
      ]
     },
     "metadata": {
      "needs_background": "light"
     },
     "output_type": "display_data"
    }
   ],
   "source": [
    "arr.Mod.plot(x = 'x')"
   ]
  },
  {
   "cell_type": "code",
   "execution_count": 53,
   "id": "fc898696-25f4-4199-9087-52c0b2703eab",
   "metadata": {},
   "outputs": [],
   "source": []
  },
  {
   "cell_type": "code",
   "execution_count": 49,
   "id": "de40f53f-f7b3-44f4-afd7-3f30990652db",
   "metadata": {},
   "outputs": [
    {
     "data": {
      "text/plain": [
       "array([[-2.01888409, -0.85130163, -0.66888066, -0.77595926, -1.38065693],\n",
       "       [-2.01888409,  1.57113672, -0.58423412, -0.65459487, -1.30947082],\n",
       "       [-1.91539808, -0.85130163, -0.66558147, -0.77117258, -1.39044907],\n",
       "       ...,\n",
       "       [ 1.91358428,  1.61084882, -0.55120873, -0.60870989, -1.23607507],\n",
       "       [ 2.01707029, -0.85130163, -0.48458297, -0.51619807, -1.38274785],\n",
       "       [ 2.01707029,  1.57113672, -0.39261332, -0.3910131 , -1.31060156]])"
      ]
     },
     "execution_count": 49,
     "metadata": {},
     "output_type": "execute_result"
    }
   ],
   "source": [
    "X"
   ]
  },
  {
   "cell_type": "code",
   "execution_count": null,
   "id": "543e7afc-6bc5-4fb6-9c12-2fbb772c567c",
   "metadata": {},
   "outputs": [],
   "source": []
  }
 ],
 "metadata": {
  "kernelspec": {
   "display_name": "py37",
   "language": "python",
   "name": "py37"
  },
  "language_info": {
   "codemirror_mode": {
    "name": "ipython",
    "version": 3
   },
   "file_extension": ".py",
   "mimetype": "text/x-python",
   "name": "python",
   "nbconvert_exporter": "python",
   "pygments_lexer": "ipython3",
   "version": "3.7.11"
  }
 },
 "nbformat": 4,
 "nbformat_minor": 5
}
