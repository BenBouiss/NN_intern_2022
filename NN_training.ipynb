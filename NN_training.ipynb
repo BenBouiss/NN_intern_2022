{
 "cells": [
  {
   "cell_type": "code",
   "execution_count": 1,
   "id": "83d547fb-cdb8-4150-b8aa-466264d45b33",
   "metadata": {},
   "outputs": [],
   "source": [
    "import tensorflow as tf\n",
    "import matplotlib.pyplot as plt\n",
    "import pandas as pd\n",
    "import os\n",
    "from glob import glob\n",
    "import numpy as np\n",
    "import time\n",
    "import xarray as xr\n",
    "import random"
   ]
  },
  {
   "cell_type": "code",
   "execution_count": 2,
   "id": "3066a768-1b62-43ad-a672-20311430dafd",
   "metadata": {},
   "outputs": [],
   "source": [
    "def Make_dire(file_path):\n",
    "    if not os.path.isdir(file_path):\n",
    "        os.makedirs(file_path)"
   ]
  },
  {
   "cell_type": "code",
   "execution_count": 8,
   "id": "383befeb-1a8a-4110-9a54-679aa0deba71",
   "metadata": {},
   "outputs": [],
   "source": [
    "Bet_path = '/bettik/bouissob/'\n",
    "\n",
    "files = glob(os.path.join(Bet_path, 'Data/') + '*Ocean1*')"
   ]
  },
  {
   "cell_type": "code",
   "execution_count": 10,
   "id": "fe97a86f-ab77-4ba2-a5c5-74a3bafbaa66",
   "metadata": {},
   "outputs": [
    {
     "data": {
      "text/html": [
       "<div>\n",
       "<style scoped>\n",
       "    .dataframe tbody tr th:only-of-type {\n",
       "        vertical-align: middle;\n",
       "    }\n",
       "\n",
       "    .dataframe tbody tr th {\n",
       "        vertical-align: top;\n",
       "    }\n",
       "\n",
       "    .dataframe thead th {\n",
       "        text-align: right;\n",
       "    }\n",
       "</style>\n",
       "<table border=\"1\" class=\"dataframe\">\n",
       "  <thead>\n",
       "    <tr style=\"text-align: right;\">\n",
       "      <th></th>\n",
       "      <th>y</th>\n",
       "      <th>x</th>\n",
       "      <th>meltRate</th>\n",
       "      <th>thermalDriving</th>\n",
       "      <th>halineDriving</th>\n",
       "      <th>iceDraft</th>\n",
       "      <th>date</th>\n",
       "      <th>temperatureYZ</th>\n",
       "      <th>salinityYZ</th>\n",
       "    </tr>\n",
       "  </thead>\n",
       "  <tbody>\n",
       "    <tr>\n",
       "      <th>0</th>\n",
       "      <td>0</td>\n",
       "      <td>194</td>\n",
       "      <td>1.445518e-09</td>\n",
       "      <td>0.009086</td>\n",
       "      <td>0.127754</td>\n",
       "      <td>82.815510</td>\n",
       "      <td>0</td>\n",
       "      <td>-1.900000</td>\n",
       "      <td>33.813705</td>\n",
       "    </tr>\n",
       "    <tr>\n",
       "      <th>1</th>\n",
       "      <td>0</td>\n",
       "      <td>316</td>\n",
       "      <td>2.533100e-09</td>\n",
       "      <td>0.013837</td>\n",
       "      <td>0.194261</td>\n",
       "      <td>91.276440</td>\n",
       "      <td>0</td>\n",
       "      <td>-1.900000</td>\n",
       "      <td>33.813705</td>\n",
       "    </tr>\n",
       "    <tr>\n",
       "      <th>2</th>\n",
       "      <td>2</td>\n",
       "      <td>194</td>\n",
       "      <td>1.421181e-09</td>\n",
       "      <td>0.008926</td>\n",
       "      <td>0.125516</td>\n",
       "      <td>81.651650</td>\n",
       "      <td>0</td>\n",
       "      <td>-1.900000</td>\n",
       "      <td>33.813770</td>\n",
       "    </tr>\n",
       "    <tr>\n",
       "      <th>3</th>\n",
       "      <td>2</td>\n",
       "      <td>294</td>\n",
       "      <td>2.025993e-09</td>\n",
       "      <td>0.012627</td>\n",
       "      <td>0.177358</td>\n",
       "      <td>89.908270</td>\n",
       "      <td>0</td>\n",
       "      <td>-1.900000</td>\n",
       "      <td>33.813770</td>\n",
       "    </tr>\n",
       "    <tr>\n",
       "      <th>4</th>\n",
       "      <td>2</td>\n",
       "      <td>296</td>\n",
       "      <td>1.932426e-09</td>\n",
       "      <td>0.012012</td>\n",
       "      <td>0.168752</td>\n",
       "      <td>90.281364</td>\n",
       "      <td>0</td>\n",
       "      <td>-1.900000</td>\n",
       "      <td>33.813770</td>\n",
       "    </tr>\n",
       "    <tr>\n",
       "      <th>...</th>\n",
       "      <td>...</td>\n",
       "      <td>...</td>\n",
       "      <td>...</td>\n",
       "      <td>...</td>\n",
       "      <td>...</td>\n",
       "      <td>...</td>\n",
       "      <td>...</td>\n",
       "      <td>...</td>\n",
       "      <td>...</td>\n",
       "    </tr>\n",
       "    <tr>\n",
       "      <th>697915</th>\n",
       "      <td>76</td>\n",
       "      <td>314</td>\n",
       "      <td>2.370411e-07</td>\n",
       "      <td>0.080768</td>\n",
       "      <td>1.095842</td>\n",
       "      <td>100.000000</td>\n",
       "      <td>239</td>\n",
       "      <td>-1.744817</td>\n",
       "      <td>33.694328</td>\n",
       "    </tr>\n",
       "    <tr>\n",
       "      <th>697916</th>\n",
       "      <td>76</td>\n",
       "      <td>316</td>\n",
       "      <td>3.454754e-07</td>\n",
       "      <td>0.098296</td>\n",
       "      <td>1.324571</td>\n",
       "      <td>106.927826</td>\n",
       "      <td>239</td>\n",
       "      <td>-1.744817</td>\n",
       "      <td>33.694328</td>\n",
       "    </tr>\n",
       "    <tr>\n",
       "      <th>697917</th>\n",
       "      <td>76</td>\n",
       "      <td>318</td>\n",
       "      <td>2.071392e-07</td>\n",
       "      <td>0.037772</td>\n",
       "      <td>0.521274</td>\n",
       "      <td>100.000000</td>\n",
       "      <td>239</td>\n",
       "      <td>-1.744817</td>\n",
       "      <td>33.694328</td>\n",
       "    </tr>\n",
       "    <tr>\n",
       "      <th>697918</th>\n",
       "      <td>78</td>\n",
       "      <td>194</td>\n",
       "      <td>4.374625e-08</td>\n",
       "      <td>0.060759</td>\n",
       "      <td>0.831188</td>\n",
       "      <td>82.566990</td>\n",
       "      <td>239</td>\n",
       "      <td>-1.771173</td>\n",
       "      <td>33.690521</td>\n",
       "    </tr>\n",
       "    <tr>\n",
       "      <th>697919</th>\n",
       "      <td>78</td>\n",
       "      <td>316</td>\n",
       "      <td>3.876529e-07</td>\n",
       "      <td>0.110257</td>\n",
       "      <td>1.479312</td>\n",
       "      <td>91.142044</td>\n",
       "      <td>239</td>\n",
       "      <td>-1.771173</td>\n",
       "      <td>33.690521</td>\n",
       "    </tr>\n",
       "  </tbody>\n",
       "</table>\n",
       "<p>697920 rows × 9 columns</p>\n",
       "</div>"
      ],
      "text/plain": [
       "         y    x      meltRate  thermalDriving  halineDriving    iceDraft  \\\n",
       "0        0  194  1.445518e-09        0.009086       0.127754   82.815510   \n",
       "1        0  316  2.533100e-09        0.013837       0.194261   91.276440   \n",
       "2        2  194  1.421181e-09        0.008926       0.125516   81.651650   \n",
       "3        2  294  2.025993e-09        0.012627       0.177358   89.908270   \n",
       "4        2  296  1.932426e-09        0.012012       0.168752   90.281364   \n",
       "...     ..  ...           ...             ...            ...         ...   \n",
       "697915  76  314  2.370411e-07        0.080768       1.095842  100.000000   \n",
       "697916  76  316  3.454754e-07        0.098296       1.324571  106.927826   \n",
       "697917  76  318  2.071392e-07        0.037772       0.521274  100.000000   \n",
       "697918  78  194  4.374625e-08        0.060759       0.831188   82.566990   \n",
       "697919  78  316  3.876529e-07        0.110257       1.479312   91.142044   \n",
       "\n",
       "        date  temperatureYZ  salinityYZ  \n",
       "0          0      -1.900000   33.813705  \n",
       "1          0      -1.900000   33.813705  \n",
       "2          0      -1.900000   33.813770  \n",
       "3          0      -1.900000   33.813770  \n",
       "4          0      -1.900000   33.813770  \n",
       "...      ...            ...         ...  \n",
       "697915   239      -1.744817   33.694328  \n",
       "697916   239      -1.744817   33.694328  \n",
       "697917   239      -1.744817   33.694328  \n",
       "697918   239      -1.771173   33.690521  \n",
       "697919   239      -1.771173   33.690521  \n",
       "\n",
       "[697920 rows x 9 columns]"
      ]
     },
     "execution_count": 10,
     "metadata": {},
     "output_type": "execute_result"
    }
   ],
   "source": [
    "pd.read_csv(files[0])"
   ]
  },
  {
   "cell_type": "code",
   "execution_count": 4,
   "id": "dde0327c-5a03-4bdf-b908-d62f5302313c",
   "metadata": {},
   "outputs": [],
   "source": [
    "multi = 1\n",
    "if multi == 1:\n",
    "    Datas = glob(Bet_path + '/Data/*S.csv')\n",
    "    Clean_Data = pd.DataFrame()\n",
    "    for ind, d in enumerate(Datas):\n",
    "        print('{}/{}'.format(ind, len(Datas)))\n",
    "        data = pd.read_csv(d)\n",
    "        print(d)\n",
    "        Clean_Data = pd.concat([Clean_Data, data],ignore_index = True)\n",
    "    del data\n",
    "else:\n",
    "    Datas = glob(os.getcwd() + '/Data/*.nc.csv')\n",
    "    Data = pd.read_csv(Datas[0])\n",
    "    Clean_Data = Data.dropna()\n",
    "    Clean_Data.reset_index(inplace=True, drop = True)\n"
   ]
  },
  {
   "cell_type": "code",
   "execution_count": 5,
   "id": "df04330d-600f-41ca-b010-fd0e762b9ada",
   "metadata": {},
   "outputs": [
    {
     "data": {
      "text/html": [
       "<div>\n",
       "<style scoped>\n",
       "    .dataframe tbody tr th:only-of-type {\n",
       "        vertical-align: middle;\n",
       "    }\n",
       "\n",
       "    .dataframe tbody tr th {\n",
       "        vertical-align: top;\n",
       "    }\n",
       "\n",
       "    .dataframe thead th {\n",
       "        text-align: right;\n",
       "    }\n",
       "</style>\n",
       "<table border=\"1\" class=\"dataframe\">\n",
       "  <thead>\n",
       "    <tr style=\"text-align: right;\">\n",
       "      <th></th>\n",
       "      <th>y</th>\n",
       "      <th>x</th>\n",
       "      <th>meltRate</th>\n",
       "      <th>thermalDriving</th>\n",
       "      <th>halineDriving</th>\n",
       "      <th>iceDraft</th>\n",
       "      <th>date</th>\n",
       "    </tr>\n",
       "  </thead>\n",
       "  <tbody>\n",
       "    <tr>\n",
       "      <th>0</th>\n",
       "      <td>0</td>\n",
       "      <td>194</td>\n",
       "      <td>1.445518e-09</td>\n",
       "      <td>0.009086</td>\n",
       "      <td>0.127754</td>\n",
       "      <td>82.815510</td>\n",
       "      <td>0</td>\n",
       "    </tr>\n",
       "    <tr>\n",
       "      <th>1</th>\n",
       "      <td>0</td>\n",
       "      <td>316</td>\n",
       "      <td>2.533100e-09</td>\n",
       "      <td>0.013837</td>\n",
       "      <td>0.194261</td>\n",
       "      <td>91.276440</td>\n",
       "      <td>0</td>\n",
       "    </tr>\n",
       "    <tr>\n",
       "      <th>2</th>\n",
       "      <td>2</td>\n",
       "      <td>194</td>\n",
       "      <td>1.421181e-09</td>\n",
       "      <td>0.008926</td>\n",
       "      <td>0.125516</td>\n",
       "      <td>81.651650</td>\n",
       "      <td>0</td>\n",
       "    </tr>\n",
       "    <tr>\n",
       "      <th>3</th>\n",
       "      <td>2</td>\n",
       "      <td>294</td>\n",
       "      <td>2.025993e-09</td>\n",
       "      <td>0.012627</td>\n",
       "      <td>0.177358</td>\n",
       "      <td>89.908270</td>\n",
       "      <td>0</td>\n",
       "    </tr>\n",
       "    <tr>\n",
       "      <th>4</th>\n",
       "      <td>2</td>\n",
       "      <td>296</td>\n",
       "      <td>1.932426e-09</td>\n",
       "      <td>0.012012</td>\n",
       "      <td>0.168752</td>\n",
       "      <td>90.281364</td>\n",
       "      <td>0</td>\n",
       "    </tr>\n",
       "    <tr>\n",
       "      <th>...</th>\n",
       "      <td>...</td>\n",
       "      <td>...</td>\n",
       "      <td>...</td>\n",
       "      <td>...</td>\n",
       "      <td>...</td>\n",
       "      <td>...</td>\n",
       "      <td>...</td>\n",
       "    </tr>\n",
       "    <tr>\n",
       "      <th>697915</th>\n",
       "      <td>76</td>\n",
       "      <td>314</td>\n",
       "      <td>2.370411e-07</td>\n",
       "      <td>0.080768</td>\n",
       "      <td>1.095842</td>\n",
       "      <td>100.000000</td>\n",
       "      <td>239</td>\n",
       "    </tr>\n",
       "    <tr>\n",
       "      <th>697916</th>\n",
       "      <td>76</td>\n",
       "      <td>316</td>\n",
       "      <td>3.454754e-07</td>\n",
       "      <td>0.098296</td>\n",
       "      <td>1.324571</td>\n",
       "      <td>106.927826</td>\n",
       "      <td>239</td>\n",
       "    </tr>\n",
       "    <tr>\n",
       "      <th>697917</th>\n",
       "      <td>76</td>\n",
       "      <td>318</td>\n",
       "      <td>2.071392e-07</td>\n",
       "      <td>0.037772</td>\n",
       "      <td>0.521274</td>\n",
       "      <td>100.000000</td>\n",
       "      <td>239</td>\n",
       "    </tr>\n",
       "    <tr>\n",
       "      <th>697918</th>\n",
       "      <td>78</td>\n",
       "      <td>194</td>\n",
       "      <td>4.374625e-08</td>\n",
       "      <td>0.060759</td>\n",
       "      <td>0.831188</td>\n",
       "      <td>82.566990</td>\n",
       "      <td>239</td>\n",
       "    </tr>\n",
       "    <tr>\n",
       "      <th>697919</th>\n",
       "      <td>78</td>\n",
       "      <td>316</td>\n",
       "      <td>3.876529e-07</td>\n",
       "      <td>0.110257</td>\n",
       "      <td>1.479312</td>\n",
       "      <td>91.142044</td>\n",
       "      <td>239</td>\n",
       "    </tr>\n",
       "  </tbody>\n",
       "</table>\n",
       "<p>697920 rows × 7 columns</p>\n",
       "</div>"
      ],
      "text/plain": [
       "         y    x      meltRate  thermalDriving  halineDriving    iceDraft  date\n",
       "0        0  194  1.445518e-09        0.009086       0.127754   82.815510     0\n",
       "1        0  316  2.533100e-09        0.013837       0.194261   91.276440     0\n",
       "2        2  194  1.421181e-09        0.008926       0.125516   81.651650     0\n",
       "3        2  294  2.025993e-09        0.012627       0.177358   89.908270     0\n",
       "4        2  296  1.932426e-09        0.012012       0.168752   90.281364     0\n",
       "...     ..  ...           ...             ...            ...         ...   ...\n",
       "697915  76  314  2.370411e-07        0.080768       1.095842  100.000000   239\n",
       "697916  76  316  3.454754e-07        0.098296       1.324571  106.927826   239\n",
       "697917  76  318  2.071392e-07        0.037772       0.521274  100.000000   239\n",
       "697918  78  194  4.374625e-08        0.060759       0.831188   82.566990   239\n",
       "697919  78  316  3.876529e-07        0.110257       1.479312   91.142044   239\n",
       "\n",
       "[697920 rows x 7 columns]"
      ]
     },
     "execution_count": 5,
     "metadata": {},
     "output_type": "execute_result"
    }
   ],
   "source": [
    "Clean_Data"
   ]
  },
  {
   "cell_type": "code",
   "execution_count": 5,
   "id": "2ecae503-27c2-42b3-8851-632a5b436abd",
   "metadata": {},
   "outputs": [],
   "source": [
    "Cols = Clean_Data.columns\n",
    "Var_names_X = Cols.drop(['date', 'meltRate'])"
   ]
  },
  {
   "cell_type": "code",
   "execution_count": 6,
   "id": "43fb6d75-c86b-47d1-9162-4a4499d7a951",
   "metadata": {
    "tags": []
   },
   "outputs": [
    {
     "name": "stdout",
     "output_type": "stream",
     "text": [
      "558336 139584\n"
     ]
    }
   ],
   "source": [
    "X = Clean_Data[Var_names_X]\n",
    "Y = Clean_Data['meltRate']\n",
    "X_train = X.sample(frac = 0.8)\n",
    "X_valid = X.drop(X_train.index)\n",
    "\n",
    "Y_train = Y.loc[X_train.index]\n",
    "Y_valid = Y.drop(X_train.index)\n",
    "print(len(X_train), len(X_valid))\n",
    "\n",
    "#mean, std = X_train.mean(), X_train.std() \n",
    "#meanY, stdY = Y_train.mean(), Y_train.std() \n",
    "\n",
    "maxX, minX = X_train.max(), X_train.min()\n",
    "maxY, minY = Y_train.max(), Y_train.min()\n",
    "X_train, X_valid = np.array((X_train - minX)/(maxX - minX)), np.array((X_valid - minX)/(maxX - minX))\n",
    "Y_train, Y_valid = np.array((Y_train - minY)/(maxY - minY)), np.array((Y_valid - minY)/(maxY - minY))\n",
    "#Y_train_N, Y_valid_N = np.array(Y_train / maxY), np.array(Y_valid/maxY)"
   ]
  },
  {
   "cell_type": "code",
   "execution_count": 7,
   "id": "d968ce49-1947-45f0-a3e0-d2c158ecec12",
   "metadata": {},
   "outputs": [
    {
     "data": {
      "text/plain": [
       "y                 0.0\n",
       "x                 0.0\n",
       "thermalDriving    0.0\n",
       "halineDriving     0.0\n",
       "iceDraft          0.0\n",
       "dtype: float64"
      ]
     },
     "execution_count": 7,
     "metadata": {},
     "output_type": "execute_result"
    }
   ],
   "source": [
    "A = (X - minX)/(maxX - minX)\n",
    "A.min()"
   ]
  },
  {
   "cell_type": "code",
   "execution_count": 8,
   "id": "6e03bb7b-7709-4c12-aee8-773ae6ebe394",
   "metadata": {},
   "outputs": [],
   "source": [
    "def Model_init(shape):\n",
    "    model = tf.keras.models.Sequential()\n",
    "    model.add(tf.keras.layers.Input(shape))\n",
    "    model.add(tf.keras.layers.Dense(32, activation = 'relu'))\n",
    "    model.add(tf.keras.layers.Dense(64, activation = 'relu'))\n",
    "    model.add(tf.keras.layers.Dense(64, activation = 'relu'))\n",
    "    model.add(tf.keras.layers.Dense(32, activation = 'relu'))\n",
    "    model.add(tf.keras.layers.Dense(1))\n",
    "    model.compile(optimizer='adam',\n",
    "                 loss = 'mse',\n",
    "                metrics = ['mae', 'mse'])\n",
    "    return model\n",
    "def Model_init2(shape):\n",
    "    model = tf.keras.models.Sequential()\n",
    "    model.add(tf.keras.layers.Input(shape))\n",
    "    model.add(tf.keras.layers.Dense(32, activation = 'swish'))\n",
    "    model.add(tf.keras.layers.Dense(64, activation = 'swish'))\n",
    "    model.add(tf.keras.layers.Dense(64, activation = 'swish'))\n",
    "    model.add(tf.keras.layers.Dense(32, activation = 'swish'))\n",
    "    model.add(tf.keras.layers.Dense(1))\n",
    "    model.compile(optimizer='adam',\n",
    "                 loss = 'mse',\n",
    "                metrics = ['mae', 'mse'])\n",
    "    return model"
   ]
  },
  {
   "cell_type": "code",
   "execution_count": 9,
   "id": "af9db763-ba68-4916-8213-04be68ad2ce5",
   "metadata": {},
   "outputs": [],
   "source": [
    "if len(Datas) ==1:\n",
    "    Temp = Datas[0].split('/')\n",
    "    Name = Temp[len(Temp) - 1]\n",
    "    Name = Name.replace('data_', '')\n",
    "    Ocean_scen = Name.split('_')[0]\n",
    "    Mod_nam = Name.replace(Ocean_scen + '_', '').split('.')[0]\n",
    "else:\n",
    "    Names = []\n",
    "    for n in Datas:\n",
    "        Temp = n.split('/')\n",
    "        Name = Temp[len(Temp) - 1]\n",
    "        Name = Name.replace('data_', '')\n",
    "        Ocean_scens = Name.split('_')[0]\n",
    "        Names.append(Ocean_scens)\n",
    "    Ocean_scen = '_'.join(Names)\n",
    "    Mod_nam = Name.replace(Ocean_scens + '_', '').split('.')[0]\n",
    "        "
   ]
  },
  {
   "cell_type": "code",
   "execution_count": 10,
   "id": "93067fab-8ae0-409e-9d99-8cc76b4927c1",
   "metadata": {},
   "outputs": [
    {
     "data": {
      "text/plain": [
       "'Ocean1'"
      ]
     },
     "execution_count": 10,
     "metadata": {},
     "output_type": "execute_result"
    }
   ],
   "source": [
    "Ocean_scen"
   ]
  },
  {
   "cell_type": "code",
   "execution_count": 11,
   "id": "61e2b46a-c9c0-4f68-afc4-073904ddfb02",
   "metadata": {},
   "outputs": [],
   "source": [
    "Model_path = '/'.join([os.getcwd(),'Models',Mod_nam, Ocean_scen])"
   ]
  },
  {
   "cell_type": "code",
   "execution_count": 12,
   "id": "d189df81-6302-4627-be21-39f8c7b07905",
   "metadata": {},
   "outputs": [
    {
     "data": {
      "text/plain": [
       "'/home/bouissob/Code/Models/COM_NEMO-CNRS/Ocean1'"
      ]
     },
     "execution_count": 12,
     "metadata": {},
     "output_type": "execute_result"
    }
   ],
   "source": [
    "Model_path"
   ]
  },
  {
   "cell_type": "code",
   "execution_count": 13,
   "id": "797dd403-f87a-400b-84d7-455e060be48c",
   "metadata": {
    "tags": []
   },
   "outputs": [
    {
     "name": "stderr",
     "output_type": "stream",
     "text": [
      "2022-02-22 21:10:32.037827: I tensorflow/compiler/jit/xla_cpu_device.cc:41] Not creating XLA devices, tf_xla_enable_xla_devices not set\n",
      "2022-02-22 21:10:32.038291: I tensorflow/core/platform/cpu_feature_guard.cc:142] This TensorFlow binary is optimized with oneAPI Deep Neural Network Library (oneDNN) to use the following CPU instructions in performance-critical operations:  SSE4.1 SSE4.2 AVX AVX2 FMA\n",
      "To enable them in other operations, rebuild TensorFlow with the appropriate compiler flags.\n",
      "2022-02-22 21:10:32.040852: I tensorflow/core/common_runtime/process_util.cc:146] Creating new thread pool with default inter op setting: 2. Tune using inter_op_parallelism_threads for best performance.\n",
      "2022-02-22 21:10:32.225754: I tensorflow/compiler/mlir/mlir_graph_optimization_pass.cc:116] None of the MLIR optimization passes are enabled (registered 2)\n",
      "2022-02-22 21:10:32.246022: I tensorflow/core/platform/profile_utils/cpu_utils.cc:112] CPU Frequency: 2300150000 Hz\n"
     ]
    },
    {
     "name": "stdout",
     "output_type": "stream",
     "text": [
      "Epoch 1/3\n",
      "17448/17448 [==============================] - 35s 2ms/step - loss: 0.0018 - mae: 0.0184 - mse: 0.0018 - val_loss: 3.6795e-04 - val_mae: 0.0094 - val_mse: 3.6795e-04\n",
      "Epoch 2/3\n",
      "17448/17448 [==============================] - 30s 2ms/step - loss: 5.1389e-04 - mae: 0.0108 - mse: 5.1389e-04 - val_loss: 3.4175e-04 - val_mae: 0.0094 - val_mse: 3.4175e-04\n",
      "Epoch 3/3\n",
      "17448/17448 [==============================] - 29s 2ms/step - loss: 3.4357e-04 - mae: 0.0092 - mse: 3.4357e-04 - val_loss: 2.2429e-04 - val_mae: 0.0080 - val_mse: 2.2429e-04\n"
     ]
    }
   ],
   "source": [
    "Nbr_Epoch = 3\n",
    "\n",
    "Uniq = time.time()\n",
    "\n",
    "Name ='Ep_{}_Input_{}_{}'.format(Nbr_Epoch, len(Var_names_X), Uniq)\n",
    "filepath = Model_path + '/' + Name + '/'\n",
    "Make_dire(filepath)\n",
    "maxX.to_pickle(filepath + 'MaxX.pkl')\n",
    "minX.to_pickle(filepath + 'MinX.pkl')\n",
    "np.savetxt(filepath + 'MaxY.csv', np.array(maxY).reshape(1, ))\n",
    "np.savetxt(filepath + 'MinY.csv', np.array(minY).reshape(1, ))\n",
    "model = Model_init( (len(Var_names_X), ))\n",
    "Model = model.fit(X_train, Y_train,\n",
    "                   epochs = Nbr_Epoch,\n",
    "                   batch_size = 32,\n",
    "                   validation_data = (X_valid, Y_valid))\n",
    "Model_path = os.getcwd() + '/Models/' + Mod_nam + '/' + Ocean_scen + '/'\n",
    "model.save(filepath + 'model.h5')\n",
    "del X_train, Y_train\n",
    "del X_valid, Y_valid"
   ]
  },
  {
   "cell_type": "code",
   "execution_count": null,
   "id": "a17791b2-4eae-42fb-bf0f-dcb6a5cdc427",
   "metadata": {},
   "outputs": [],
   "source": [
    "Datas = glob(os.getcwd() + '/Data/*.nc.csv')\n",
    "Data = pd.read_csv(Datas[0])\n",
    "Clean_Data = Data.dropna()\n",
    "Clean_Data.reset_index(inplace=True)"
   ]
  },
  {
   "cell_type": "code",
   "execution_count": null,
   "id": "2f4f00ba-aee4-456a-a0c5-2106fb3353c2",
   "metadata": {},
   "outputs": [],
   "source": [
    "X = Clean_Data[Var_names_X]\n",
    "X = np.array((X - mean)/std)\n",
    "X = np.array(X).reshape(-1, 5, )\n",
    "Y_mod = Model.model(X)\n",
    "#Data['Mod_Melt'] = Y_mod.numpy().reshape(len(Y_mod, )) * maxY\n",
    "Data['Mod_Melt'] = (Y_mod.numpy().reshape(len(Y_mod, )) * stdY) + meanY\n",
    "Dataset = Data.set_index(['y', 'x'])\n",
    "Dataset = Dataset.to_xarray()\n",
    "Dataset.Mod_Melt.plot(cmap = plt.get_cmap('viridis'))\n",
    "plt.figure()\n",
    "Dataset.meltRate.plot(cmap = plt.get_cmap('viridis'))"
   ]
  },
  {
   "cell_type": "code",
   "execution_count": 18,
   "id": "9b364d8b-c288-499d-b499-ca002ae4a1a0",
   "metadata": {
    "tags": []
   },
   "outputs": [
    {
     "data": {
      "image/png": "[encoded data removed]",
      "text/plain": [
       "<Figure size 432x288 with 1 Axes>"
      ]
     },
     "metadata": {
      "needs_background": "light"
     },
     "output_type": "display_data"
    }
   ],
   "source": [
    "hist = Model.history\n",
    "plt.plot(hist['loss'])\n",
    "for k in hist.keys():\n",
    "    plt.plot(hist[k], label = k)\n",
    "plt.legend()\n",
    "plt.show()"
   ]
  },
  {
   "cell_type": "code",
   "execution_count": null,
   "id": "763aebee-8c18-4146-96ba-7b392e955ae9",
   "metadata": {},
   "outputs": [],
   "source": []
  }
 ],
 "metadata": {
  "kernelspec": {
   "display_name": "py37",
   "language": "python",
   "name": "py37"
  },
  "language_info": {
   "codemirror_mode": {
    "name": "ipython",
    "version": 3
   },
   "file_extension": ".py",
   "mimetype": "text/x-python",
   "name": "python",
   "nbconvert_exporter": "python",
   "pygments_lexer": "ipython3",
   "version": "3.7.11"
  }
 },
 "nbformat": 4,
 "nbformat_minor": 5
}
