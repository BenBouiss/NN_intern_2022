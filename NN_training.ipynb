{
 "cells": [
  {
   "cell_type": "code",
   "execution_count": 1,
   "id": "83d547fb-cdb8-4150-b8aa-466264d45b33",
   "metadata": {},
   "outputs": [],
   "source": [
    "import tensorflow as tf\n",
    "import matplotlib.pyplot as plt\n",
    "import pandas as pd\n",
    "import os\n",
    "from glob import glob\n",
    "import numpy as np\n",
    "import time\n",
    "import xarray as xr\n"
   ]
  },
  {
   "cell_type": "code",
   "execution_count": 2,
   "id": "3066a768-1b62-43ad-a672-20311430dafd",
   "metadata": {},
   "outputs": [],
   "source": [
    "def Make_dire(file_path):\n",
    "    if not os.path.isdir(file_path):\n",
    "        os.makedirs(file_path)"
   ]
  },
  {
   "cell_type": "code",
   "execution_count": 3,
   "id": "383befeb-1a8a-4110-9a54-679aa0deba71",
   "metadata": {},
   "outputs": [],
   "source": [
    "Bet_path = '/bettik/bouissob/'\n",
    "Datas = glob(os.getcwd() + '/Data/*.nc.csv')\n"
   ]
  },
  {
   "cell_type": "code",
   "execution_count": 4,
   "id": "fe97a86f-ab77-4ba2-a5c5-74a3bafbaa66",
   "metadata": {},
   "outputs": [],
   "source": [
    "Data = pd.read_csv(Datas[0])\n",
    "Clean_Data = Data.dropna()\n",
    "Clean_Data.reset_index(inplace=True)"
   ]
  },
  {
   "cell_type": "code",
   "execution_count": 5,
   "id": "dde0327c-5a03-4bdf-b908-d62f5302313c",
   "metadata": {},
   "outputs": [
    {
     "name": "stdout",
     "output_type": "stream",
     "text": [
      "0/4\n",
      "1/4\n",
      "2/4\n",
      "3/4\n"
     ]
    }
   ],
   "source": [
    "Datas = glob(Bet_path + '/Data/*S.csv')\n",
    "Clean_Data = pd.DataFrame()\n",
    "for ind, d in enumerate(Datas):\n",
    "    print('{}/{}'.format(ind, len(Datas)))\n",
    "    data = pd.read_csv(d)\n",
    "    Clean_Data = pd.concat([Clean_Data, data], axis=0).reset_index(drop = True)"
   ]
  },
  {
   "cell_type": "code",
   "execution_count": null,
   "id": "2ecae503-27c2-42b3-8851-632a5b436abd",
   "metadata": {},
   "outputs": [],
   "source": []
  },
  {
   "cell_type": "code",
   "execution_count": 5,
   "id": "43fb6d75-c86b-47d1-9162-4a4499d7a951",
   "metadata": {},
   "outputs": [
    {
     "name": "stdout",
     "output_type": "stream",
     "text": [
      "558336 139584\n"
     ]
    }
   ],
   "source": [
    "Var_names_X = ['thermalDriving', 'x', 'y', 'iceDraft', 'halineDriving']\n",
    "X = Clean_Data[Var_names_X]\n",
    "Y = Clean_Data['meltRate']\n",
    "X_train = X.sample(frac = 0.8)\n",
    "X_valid = X.drop(X_train.index)\n",
    "\n",
    "Y_train = Y.loc[X_train.index]\n",
    "Y_valid = Y.drop(X_train.index)\n",
    "print(len(X_train), len(X_valid))\n",
    "\n",
    "mean, std = X_train.mean(), X_train.std() \n",
    "meanY, stdY = Y_train.mean(), Y_train.std() \n",
    "maxY = max(Y_train)\n",
    "X_train_N, X_valid_N = np.array((X_train - mean)/std), np.array((X_valid - mean)/std)\n",
    "#Y_train_N, Y_valid_N = np.array((Y_train-meanY)/stdY), np.array((Y_valid-meanY)/stdY)\n",
    "Y_train_N, Y_valid_N = np.array(Y_train / maxY), np.array(Y_valid/maxY)"
   ]
  },
  {
   "cell_type": "code",
   "execution_count": 6,
   "id": "6e03bb7b-7709-4c12-aee8-773ae6ebe394",
   "metadata": {},
   "outputs": [],
   "source": [
    "def Model_init(shape):\n",
    "    model = tf.keras.models.Sequential()\n",
    "    model.add(tf.keras.layers.Input(shape))\n",
    "    model.add(tf.keras.layers.Dense(32, activation = 'relu'))\n",
    "    model.add(tf.keras.layers.Dense(64, activation = 'relu'))\n",
    "    model.add(tf.keras.layers.Dense(32, activation = 'relu'))\n",
    "    model.add(tf.keras.layers.Dense(1, activation = 'relu'))\n",
    "    model.compile(optimizer='adam',\n",
    "                 loss = 'mse',\n",
    "                metrics = ['mae', 'mse'])\n",
    "    return model\n",
    "def Model_init2(shape):\n",
    "    model = tf.keras.models.Sequential()\n",
    "    model.add(tf.keras.layers.Input(shape))\n",
    "    model.add(tf.keras.layers.Dense(32, activation = 'swish'))\n",
    "    model.add(tf.keras.layers.Dense(64, activation = 'swish'))\n",
    "    model.add(tf.keras.layers.Dense(64, activation = 'swish'))\n",
    "    model.add(tf.keras.layers.Dense(32, activation = 'swish'))\n",
    "    model.add(tf.keras.layers.Dense(1))\n",
    "    model.compile(optimizer='adam',\n",
    "                 loss = 'mse',\n",
    "                metrics = ['mae', 'mse'])\n",
    "    return model"
   ]
  },
  {
   "cell_type": "code",
   "execution_count": null,
   "id": "ba867250-1032-4f07-83a4-43003c703ae2",
   "metadata": {},
   "outputs": [],
   "source": []
  },
  {
   "cell_type": "code",
   "execution_count": 7,
   "id": "af9db763-ba68-4916-8213-04be68ad2ce5",
   "metadata": {},
   "outputs": [],
   "source": [
    "if len(Datas) ==1:\n",
    "    Temp = Datas[0].split('/')\n",
    "    Name = Temp[len(Temp) - 1]\n",
    "    Name = Name.replace('data_', '')\n",
    "    Ocean_scen = Name.split('_')[0]\n",
    "    Mod_nam = Name.replace(Ocean_scen + '_', '').split('.')[0]\n",
    "else:\n",
    "    Names = []\n",
    "    for n in Datas:\n",
    "        Temp = n.split('/')\n",
    "        Name = Temp[len(Temp) - 1]\n",
    "        Name = Name.replace('data_', '')\n",
    "        Ocean_scens = Name.split('_')[0]\n",
    "        Names.append(Ocean_scens)\n",
    "    Ocean_scen = '_'.join(Names)\n",
    "    Mod_nam = Name.replace(Ocean_scens + '_', '').split('.')[0]\n",
    "        "
   ]
  },
  {
   "cell_type": "code",
   "execution_count": 8,
   "id": "93067fab-8ae0-409e-9d99-8cc76b4927c1",
   "metadata": {},
   "outputs": [
    {
     "data": {
      "text/plain": [
       "'Ocean1'"
      ]
     },
     "execution_count": 8,
     "metadata": {},
     "output_type": "execute_result"
    }
   ],
   "source": [
    "Ocean_scen"
   ]
  },
  {
   "cell_type": "code",
   "execution_count": 9,
   "id": "61e2b46a-c9c0-4f68-afc4-073904ddfb02",
   "metadata": {},
   "outputs": [],
   "source": [
    "Model_path = '/'.join([os.getcwd(),'Models',Mod_nam, Ocean_scen])"
   ]
  },
  {
   "cell_type": "code",
   "execution_count": 10,
   "id": "d189df81-6302-4627-be21-39f8c7b07905",
   "metadata": {},
   "outputs": [
    {
     "data": {
      "text/plain": [
       "'/home/bouissob/Code/Models/COM_NEMO-CNRS/Ocean1'"
      ]
     },
     "execution_count": 10,
     "metadata": {},
     "output_type": "execute_result"
    }
   ],
   "source": [
    "Model_path"
   ]
  },
  {
   "cell_type": "code",
   "execution_count": 11,
   "id": "797dd403-f87a-400b-84d7-455e060be48c",
   "metadata": {
    "tags": []
   },
   "outputs": [
    {
     "name": "stderr",
     "output_type": "stream",
     "text": [
      "2022-02-21 12:09:53.525341: I tensorflow/compiler/jit/xla_cpu_device.cc:41] Not creating XLA devices, tf_xla_enable_xla_devices not set\n",
      "2022-02-21 12:09:53.526050: I tensorflow/core/platform/cpu_feature_guard.cc:142] This TensorFlow binary is optimized with oneAPI Deep Neural Network Library (oneDNN) to use the following CPU instructions in performance-critical operations:  SSE4.1 SSE4.2 AVX AVX2 FMA\n",
      "To enable them in other operations, rebuild TensorFlow with the appropriate compiler flags.\n",
      "2022-02-21 12:09:53.545466: I tensorflow/core/common_runtime/process_util.cc:146] Creating new thread pool with default inter op setting: 2. Tune using inter_op_parallelism_threads for best performance.\n",
      "2022-02-21 12:09:53.733446: I tensorflow/compiler/mlir/mlir_graph_optimization_pass.cc:116] None of the MLIR optimization passes are enabled (registered 2)\n",
      "2022-02-21 12:09:53.752740: I tensorflow/core/platform/profile_utils/cpu_utils.cc:112] CPU Frequency: 2300150000 Hz\n"
     ]
    },
    {
     "name": "stdout",
     "output_type": "stream",
     "text": [
      "Epoch 1/25\n",
      "17448/17448 [==============================] - 45s 2ms/step - loss: 0.0023 - mae: 0.0232 - mse: 0.0023 - val_loss: 0.0012 - val_mae: 0.0154 - val_mse: 0.0012\n",
      "Epoch 2/25\n",
      "17448/17448 [==============================] - 29s 2ms/step - loss: 8.3055e-04 - mae: 0.0133 - mse: 8.3055e-04 - val_loss: 5.6276e-04 - val_mae: 0.0115 - val_mse: 5.6276e-04\n",
      "Epoch 3/25\n",
      "17448/17448 [==============================] - 29s 2ms/step - loss: 4.9243e-04 - mae: 0.0105 - mse: 4.9243e-04 - val_loss: 3.6006e-04 - val_mae: 0.0089 - val_mse: 3.6006e-04\n",
      "Epoch 4/25\n",
      "17448/17448 [==============================] - 29s 2ms/step - loss: 3.3028e-04 - mae: 0.0090 - mse: 3.3028e-04 - val_loss: 4.4384e-04 - val_mae: 0.0092 - val_mse: 4.4384e-04\n",
      "Epoch 5/25\n",
      "17448/17448 [==============================] - 30s 2ms/step - loss: 2.8341e-04 - mae: 0.0083 - mse: 2.8341e-04 - val_loss: 2.1750e-04 - val_mae: 0.0073 - val_mse: 2.1750e-04\n",
      "Epoch 6/25\n",
      "17448/17448 [==============================] - 30s 2ms/step - loss: 2.6718e-04 - mae: 0.0080 - mse: 2.6718e-04 - val_loss: 2.7487e-04 - val_mae: 0.0082 - val_mse: 2.7487e-04\n",
      "Epoch 7/25\n",
      "17448/17448 [==============================] - 29s 2ms/step - loss: 2.4400e-04 - mae: 0.0077 - mse: 2.4400e-04 - val_loss: 2.0305e-04 - val_mae: 0.0069 - val_mse: 2.0305e-04\n",
      "Epoch 8/25\n",
      "17448/17448 [==============================] - 29s 2ms/step - loss: 2.2742e-04 - mae: 0.0075 - mse: 2.2742e-04 - val_loss: 2.3618e-04 - val_mae: 0.0083 - val_mse: 2.3618e-04\n",
      "Epoch 9/25\n",
      "17448/17448 [==============================] - 29s 2ms/step - loss: 2.2093e-04 - mae: 0.0074 - mse: 2.2093e-04 - val_loss: 2.3384e-04 - val_mae: 0.0070 - val_mse: 2.3384e-04\n",
      "Epoch 10/25\n",
      "17448/17448 [==============================] - 30s 2ms/step - loss: 2.1024e-04 - mae: 0.0072 - mse: 2.1024e-04 - val_loss: 1.7554e-04 - val_mae: 0.0065 - val_mse: 1.7554e-04\n",
      "Epoch 11/25\n",
      "17448/17448 [==============================] - 30s 2ms/step - loss: 2.1692e-04 - mae: 0.0072 - mse: 2.1692e-04 - val_loss: 1.7839e-04 - val_mae: 0.0068 - val_mse: 1.7839e-04\n",
      "Epoch 12/25\n",
      "17448/17448 [==============================] - 29s 2ms/step - loss: 1.9652e-04 - mae: 0.0069 - mse: 1.9652e-04 - val_loss: 1.6927e-04 - val_mae: 0.0063 - val_mse: 1.6927e-04\n",
      "Epoch 13/25\n",
      "17448/17448 [==============================] - 29s 2ms/step - loss: 1.9498e-04 - mae: 0.0069 - mse: 1.9498e-04 - val_loss: 2.0713e-04 - val_mae: 0.0066 - val_mse: 2.0713e-04\n",
      "Epoch 14/25\n",
      "17448/17448 [==============================] - 29s 2ms/step - loss: 1.9653e-04 - mae: 0.0069 - mse: 1.9653e-04 - val_loss: 1.6322e-04 - val_mae: 0.0066 - val_mse: 1.6322e-04\n",
      "Epoch 15/25\n",
      "17448/17448 [==============================] - 29s 2ms/step - loss: 1.9076e-04 - mae: 0.0068 - mse: 1.9076e-04 - val_loss: 1.7248e-04 - val_mae: 0.0068 - val_mse: 1.7248e-04\n",
      "Epoch 16/25\n",
      "17448/17448 [==============================] - 29s 2ms/step - loss: 1.9095e-04 - mae: 0.0068 - mse: 1.9095e-04 - val_loss: 2.1272e-04 - val_mae: 0.0065 - val_mse: 2.1272e-04\n",
      "Epoch 17/25\n",
      "17448/17448 [==============================] - 29s 2ms/step - loss: 1.8623e-04 - mae: 0.0067 - mse: 1.8623e-04 - val_loss: 1.5335e-04 - val_mae: 0.0059 - val_mse: 1.5335e-04\n",
      "Epoch 18/25\n",
      "17448/17448 [==============================] - 30s 2ms/step - loss: 1.7438e-04 - mae: 0.0066 - mse: 1.7438e-04 - val_loss: 1.5257e-04 - val_mae: 0.0065 - val_mse: 1.5257e-04\n",
      "Epoch 19/25\n",
      "17448/17448 [==============================] - 30s 2ms/step - loss: 1.7273e-04 - mae: 0.0065 - mse: 1.7273e-04 - val_loss: 1.8968e-04 - val_mae: 0.0072 - val_mse: 1.8968e-04\n",
      "Epoch 20/25\n",
      "17448/17448 [==============================] - 30s 2ms/step - loss: 1.7568e-04 - mae: 0.0066 - mse: 1.7568e-04 - val_loss: 1.6106e-04 - val_mae: 0.0067 - val_mse: 1.6106e-04\n",
      "Epoch 21/25\n",
      "17448/17448 [==============================] - 30s 2ms/step - loss: 1.6705e-04 - mae: 0.0064 - mse: 1.6705e-04 - val_loss: 1.9731e-04 - val_mae: 0.0069 - val_mse: 1.9731e-04\n",
      "Epoch 22/25\n",
      "17448/17448 [==============================] - 30s 2ms/step - loss: 1.7376e-04 - mae: 0.0065 - mse: 1.7376e-04 - val_loss: 1.4114e-04 - val_mae: 0.0059 - val_mse: 1.4114e-04\n",
      "Epoch 23/25\n",
      "17448/17448 [==============================] - 30s 2ms/step - loss: 1.6078e-04 - mae: 0.0064 - mse: 1.6078e-04 - val_loss: 1.4661e-04 - val_mae: 0.0064 - val_mse: 1.4661e-04\n",
      "Epoch 24/25\n",
      "17448/17448 [==============================] - 30s 2ms/step - loss: 1.5789e-04 - mae: 0.0063 - mse: 1.5789e-04 - val_loss: 1.5022e-04 - val_mae: 0.0062 - val_mse: 1.5022e-04\n",
      "Epoch 25/25\n",
      "17448/17448 [==============================] - 29s 2ms/step - loss: 1.5999e-04 - mae: 0.0063 - mse: 1.5999e-04 - val_loss: 1.3576e-04 - val_mae: 0.0061 - val_mse: 1.3576e-04\n"
     ]
    },
    {
     "data": {
      "text/plain": [
       "[0.05491097271442413, 0.20010702311992645, 0.05491097271442413]"
      ]
     },
     "execution_count": 11,
     "metadata": {},
     "output_type": "execute_result"
    }
   ],
   "source": [
    "Nbr_Epoch = 25\n",
    "\n",
    "Uniq = time.time()\n",
    "\n",
    "Name ='Ep_{}_Input_{}_{}'.format(Nbr_Epoch, len(Var_names_X), Uniq)\n",
    "filepath = Model_path + '/' + Name + '/'\n",
    "Make_dire(filepath)\n",
    "mean.to_pickle(filepath + 'MeanX.pkl')\n",
    "std.to_pickle(filepath + 'StdX.pkl')\n",
    "np.savetxt(filepath + 'MaxY.csv', np.array(maxY).reshape(1, ))\n",
    "model = Model_init2( (len(Var_names_X), ))\n",
    "Model = model.fit(X_train_N, Y_train_N,\n",
    "                   epochs = Nbr_Epoch,\n",
    "                   batch_size = 32,\n",
    "                   validation_data = (X_valid_N, Y_valid_N))\n",
    "Model_path = os.getcwd() + '/Models/' + Mod_nam + '/' + Ocean_scen + '/'\n",
    "\n",
    "\n",
    "model.save(filepath + 'model.h5')\n",
    "model.evaluate(X_train, Y_train, verbose = 0)"
   ]
  },
  {
   "cell_type": "code",
   "execution_count": 12,
   "id": "678a3520-b3e5-499d-9d32-6a8ea3dae212",
   "metadata": {
    "tags": []
   },
   "outputs": [
    {
     "name": "stderr",
     "output_type": "stream",
     "text": [
      "/home/bouissob/miniconda3/envs/py37/lib/python3.7/site-packages/ipykernel_launcher.py:6: SettingWithCopyWarning: \n",
      "A value is trying to be set on a copy of a slice from a DataFrame.\n",
      "Try using .loc[row_indexer,col_indexer] = value instead\n",
      "\n",
      "See the caveats in the documentation: https://pandas.pydata.org/pandas-docs/stable/user_guide/indexing.html#returning-a-view-versus-a-copy\n",
      "  \n"
     ]
    },
    {
     "data": {
      "text/plain": [
       "<matplotlib.collections.QuadMesh at 0x7f9b1af67350>"
      ]
     },
     "execution_count": 12,
     "metadata": {},
     "output_type": "execute_result"
    },
    {
     "data": {
      "image/png": "[encoded data removed]",
      "text/plain": [
       "<Figure size 432x288 with 2 Axes>"
      ]
     },
     "metadata": {
      "needs_background": "light"
     },
     "output_type": "display_data"
    },
    {
     "data": {
      "image/png": "[encoded data removed]",
      "text/plain": [
       "<Figure size 432x288 with 2 Axes>"
      ]
     },
     "metadata": {
      "needs_background": "light"
     },
     "output_type": "display_data"
    }
   ],
   "source": [
    "Data = Clean_Data.loc[Clean_Data.date == 190]\n",
    "X = Data[Var_names_X]\n",
    "X = np.array((X - mean)/std)\n",
    "X = np.array(X).reshape(-1, 5, )\n",
    "Y_mod = Model.model(X)\n",
    "Data['Mod_Melt'] = Y_mod.numpy().reshape(len(Y_mod, )) * maxY\n",
    "#Data['Mod_Melt'] = (Y_mod.numpy().reshape(len(Y_mod, )) * stdY) + meanY\n",
    "Dataset = Data.set_index(['y', 'x'])\n",
    "Dataset = Dataset.to_xarray()\n",
    "Dataset.Mod_Melt.plot(cmap = plt.get_cmap('viridis'))\n",
    "plt.figure()\n",
    "Dataset.meltRate.plot(cmap = plt.get_cmap('viridis'))"
   ]
  },
  {
   "cell_type": "code",
   "execution_count": 13,
   "id": "b9b73f4e-9fa9-4462-a59e-3da8fc0aa7dc",
   "metadata": {
    "tags": []
   },
   "outputs": [],
   "source": [
    "mean.to_pickle(filepath + 'MeanX.pkl')\n",
    "std.to_pickle(filepath + 'StdX.pkl')\n",
    "np.savetxt(filepath + 'MaxY.csv', np.array(maxY).reshape(1, ))\n",
    "tmx = int(Clean_Data.loc[len(Clean_Data) - 1].date)\n",
    "#STD = pd.read_pickle(pwd + '/std.pkl')"
   ]
  },
  {
   "cell_type": "code",
   "execution_count": 16,
   "id": "6522d013-e37d-4562-b308-2961f2134052",
   "metadata": {},
   "outputs": [],
   "source": [
    "hist = Model.history"
   ]
  },
  {
   "cell_type": "code",
   "execution_count": 22,
   "id": "8d9f1341-eb77-4345-960c-7fa77bf8c0e6",
   "metadata": {},
   "outputs": [
    {
     "data": {
      "text/plain": [
       "[<matplotlib.lines.Line2D at 0x7f9b1a180790>]"
      ]
     },
     "execution_count": 22,
     "metadata": {},
     "output_type": "execute_result"
    },
    {
     "data": {
      "image/png": "[encoded data removed]",
      "text/plain": [
       "<Figure size 432x288 with 1 Axes>"
      ]
     },
     "metadata": {
      "needs_background": "light"
     },
     "output_type": "display_data"
    }
   ],
   "source": [
    "plt.plot(hist['loss'])"
   ]
  },
  {
   "cell_type": "code",
   "execution_count": 25,
   "id": "276dac80-f3c9-471a-a289-a4eaebdc93f8",
   "metadata": {},
   "outputs": [
    {
     "data": {
      "text/plain": [
       "dict_keys(['loss', 'mae', 'mse', 'val_loss', 'val_mae', 'val_mse'])"
      ]
     },
     "execution_count": 25,
     "metadata": {},
     "output_type": "execute_result"
    }
   ],
   "source": [
    "hist.keys()"
   ]
  },
  {
   "cell_type": "code",
   "execution_count": null,
   "id": "e40aba52-439d-490a-a9ca-2fa6cf8f1335",
   "metadata": {},
   "outputs": [],
   "source": [
    "\n"
   ]
  },
  {
   "cell_type": "code",
   "execution_count": 33,
   "id": "a17791b2-4eae-42fb-bf0f-dcb6a5cdc427",
   "metadata": {},
   "outputs": [
    {
     "data": {
      "image/png": "[encoded data removed]",
      "text/plain": [
       "<Figure size 432x288 with 1 Axes>"
      ]
     },
     "metadata": {
      "needs_background": "light"
     },
     "output_type": "display_data"
    }
   ],
   "source": [
    "for k in hist.keys():\n",
    "    plt.plot(hist[k], label = k)\n",
    "plt.legend()\n",
    "plt.show()\n"
   ]
  },
  {
   "cell_type": "code",
   "execution_count": 34,
   "id": "9daafb8b-b486-4f7a-897c-f56d96d983f8",
   "metadata": {},
   "outputs": [
    {
     "data": {
      "text/plain": [
       "[<matplotlib.lines.Line2D at 0x7f9b16d8d1d0>]"
      ]
     },
     "execution_count": 34,
     "metadata": {},
     "output_type": "execute_result"
    },
    {
     "data": {
      "image/png": "[encoded data removed]",
      "text/plain": [
       "<Figure size 432x288 with 1 Axes>"
      ]
     },
     "metadata": {
      "needs_background": "light"
     },
     "output_type": "display_data"
    }
   ],
   "source": [
    "plt.plot(hist['loss'])"
   ]
  },
  {
   "cell_type": "code",
   "execution_count": null,
   "id": "2f4f00ba-aee4-456a-a0c5-2106fb3353c2",
   "metadata": {},
   "outputs": [],
   "source": []
  }
 ],
 "metadata": {
  "kernelspec": {
   "display_name": "py37",
   "language": "python",
   "name": "py37"
  },
  "language_info": {
   "codemirror_mode": {
    "name": "ipython",
    "version": 3
   },
   "file_extension": ".py",
   "mimetype": "text/x-python",
   "name": "python",
   "nbconvert_exporter": "python",
   "pygments_lexer": "ipython3",
   "version": "3.7.11"
  }
 },
 "nbformat": 4,
 "nbformat_minor": 5
}
