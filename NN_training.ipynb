{
 "cells": [
  {
   "cell_type": "code",
   "execution_count": 1,
   "id": "83d547fb-cdb8-4150-b8aa-466264d45b33",
   "metadata": {},
   "outputs": [],
   "source": [
    "import tensorflow as tf\n",
    "import matplotlib.pyplot as plt\n",
    "import pandas as pd\n",
    "import os\n",
    "from glob import glob\n",
    "import numpy as np\n",
    "import time\n",
    "import xarray as xr\n",
    "import random"
   ]
  },
  {
   "cell_type": "code",
   "execution_count": 2,
   "id": "88c645d7-107f-4c87-b24f-6620ab1376a7",
   "metadata": {},
   "outputs": [
    {
     "data": {
      "text/plain": [
       "'/home/bouissob/Code'"
      ]
     },
     "execution_count": 2,
     "metadata": {},
     "output_type": "execute_result"
    }
   ],
   "source": [
    "os.getcwd()"
   ]
  },
  {
   "cell_type": "code",
   "execution_count": 3,
   "id": "3066a768-1b62-43ad-a672-20311430dafd",
   "metadata": {},
   "outputs": [],
   "source": [
    "def Make_dire(file_path):\n",
    "    if not os.path.isdir(file_path):\n",
    "        os.makedirs(file_path)"
   ]
  },
  {
   "cell_type": "code",
   "execution_count": 4,
   "id": "383befeb-1a8a-4110-9a54-679aa0deba71",
   "metadata": {},
   "outputs": [],
   "source": [
    "Bet_path = '/bettik/bouissob/'\n",
    "\n",
    "files = glob(os.path.join(Bet_path, 'Data/') + '*Ocean1*')"
   ]
  },
  {
   "cell_type": "code",
   "execution_count": 5,
   "id": "ecb65680-f9c4-42d7-a607-38361aa2d470",
   "metadata": {},
   "outputs": [
    {
     "data": {
      "text/html": [
       "<div>\n",
       "<style scoped>\n",
       "    .dataframe tbody tr th:only-of-type {\n",
       "        vertical-align: middle;\n",
       "    }\n",
       "\n",
       "    .dataframe tbody tr th {\n",
       "        vertical-align: top;\n",
       "    }\n",
       "\n",
       "    .dataframe thead th {\n",
       "        text-align: right;\n",
       "    }\n",
       "</style>\n",
       "<table border=\"1\" class=\"dataframe\">\n",
       "  <thead>\n",
       "    <tr style=\"text-align: right;\">\n",
       "      <th></th>\n",
       "      <th>y</th>\n",
       "      <th>x</th>\n",
       "      <th>meltRate</th>\n",
       "      <th>thermalDriving</th>\n",
       "      <th>halineDriving</th>\n",
       "      <th>iceDraft</th>\n",
       "      <th>date</th>\n",
       "      <th>temperatureYZ</th>\n",
       "      <th>salinityYZ</th>\n",
       "    </tr>\n",
       "  </thead>\n",
       "  <tbody>\n",
       "    <tr>\n",
       "      <th>0</th>\n",
       "      <td>0</td>\n",
       "      <td>194</td>\n",
       "      <td>1.445518e-09</td>\n",
       "      <td>0.009086</td>\n",
       "      <td>0.127754</td>\n",
       "      <td>82.815510</td>\n",
       "      <td>0</td>\n",
       "      <td>-1.900030</td>\n",
       "      <td>33.893150</td>\n",
       "    </tr>\n",
       "    <tr>\n",
       "      <th>1</th>\n",
       "      <td>0</td>\n",
       "      <td>316</td>\n",
       "      <td>2.533100e-09</td>\n",
       "      <td>0.013837</td>\n",
       "      <td>0.194261</td>\n",
       "      <td>91.276440</td>\n",
       "      <td>0</td>\n",
       "      <td>-1.900030</td>\n",
       "      <td>33.893150</td>\n",
       "    </tr>\n",
       "    <tr>\n",
       "      <th>2</th>\n",
       "      <td>2</td>\n",
       "      <td>194</td>\n",
       "      <td>1.421181e-09</td>\n",
       "      <td>0.008926</td>\n",
       "      <td>0.125516</td>\n",
       "      <td>81.651650</td>\n",
       "      <td>0</td>\n",
       "      <td>-1.900036</td>\n",
       "      <td>33.892456</td>\n",
       "    </tr>\n",
       "    <tr>\n",
       "      <th>3</th>\n",
       "      <td>2</td>\n",
       "      <td>294</td>\n",
       "      <td>2.025993e-09</td>\n",
       "      <td>0.012627</td>\n",
       "      <td>0.177358</td>\n",
       "      <td>89.908270</td>\n",
       "      <td>0</td>\n",
       "      <td>-1.900036</td>\n",
       "      <td>33.892456</td>\n",
       "    </tr>\n",
       "    <tr>\n",
       "      <th>4</th>\n",
       "      <td>2</td>\n",
       "      <td>296</td>\n",
       "      <td>1.932426e-09</td>\n",
       "      <td>0.012012</td>\n",
       "      <td>0.168752</td>\n",
       "      <td>90.281364</td>\n",
       "      <td>0</td>\n",
       "      <td>-1.900036</td>\n",
       "      <td>33.892456</td>\n",
       "    </tr>\n",
       "  </tbody>\n",
       "</table>\n",
       "</div>"
      ],
      "text/plain": [
       "   y    x      meltRate  thermalDriving  halineDriving   iceDraft  date  \\\n",
       "0  0  194  1.445518e-09        0.009086       0.127754  82.815510     0   \n",
       "1  0  316  2.533100e-09        0.013837       0.194261  91.276440     0   \n",
       "2  2  194  1.421181e-09        0.008926       0.125516  81.651650     0   \n",
       "3  2  294  2.025993e-09        0.012627       0.177358  89.908270     0   \n",
       "4  2  296  1.932426e-09        0.012012       0.168752  90.281364     0   \n",
       "\n",
       "   temperatureYZ  salinityYZ  \n",
       "0      -1.900030   33.893150  \n",
       "1      -1.900030   33.893150  \n",
       "2      -1.900036   33.892456  \n",
       "3      -1.900036   33.892456  \n",
       "4      -1.900036   33.892456  "
      ]
     },
     "execution_count": 5,
     "metadata": {},
     "output_type": "execute_result"
    }
   ],
   "source": [
    "pd.read_csv(files[0]).head()"
   ]
  },
  {
   "cell_type": "code",
   "execution_count": 6,
   "id": "dde0327c-5a03-4bdf-b908-d62f5302313c",
   "metadata": {},
   "outputs": [
    {
     "name": "stdout",
     "output_type": "stream",
     "text": [
      "0/4\n",
      "/bettik/bouissob//Data/data_Ocean1_COM_NEMO-CNRS.csv\n",
      "1/4\n",
      "/bettik/bouissob//Data/data_Ocean2_COM_NEMO-CNRS.csv\n",
      "2/4\n",
      "/bettik/bouissob//Data/data_Ocean3_COM_NEMO-CNRS.csv\n",
      "3/4\n",
      "/bettik/bouissob//Data/data_Ocean4_COM_NEMO-CNRS.csv\n"
     ]
    }
   ],
   "source": [
    "multi = 1\n",
    "if multi == 1:\n",
    "    Datas = glob(Bet_path + '/Data/*S.csv')\n",
    "    Clean_Data = pd.DataFrame()\n",
    "    li = []\n",
    "    for ind, d in enumerate(Datas):\n",
    "        print('{}/{}'.format(ind, len(Datas)))\n",
    "        #data = pd.read_csv(d)\n",
    "        print(d)\n",
    "        li.append(pd.read_csv(d))\n",
    "    Clean_Data = pd.concat(li,ignore_index = True)\n",
    "    del li\n",
    "else:\n",
    "    Datas = glob(Bet_path + '/Data/*Ocean1*.csv')\n",
    "    Data = pd.read_csv(Datas[0])\n",
    "    Clean_Data = Data.dropna()\n",
    "    Clean_Data.reset_index(inplace=True, drop = True)\n"
   ]
  },
  {
   "cell_type": "code",
   "execution_count": 7,
   "id": "df04330d-600f-41ca-b010-fd0e762b9ada",
   "metadata": {},
   "outputs": [],
   "source": [
    "Cols = Clean_Data.columns\n",
    "Var_names_X = Cols.drop(['date', 'meltRate'])\n",
    "Var_names_X = Cols.drop(['date', 'meltRate', 'halineDriving', 'thermalDriving'])"
   ]
  },
  {
   "cell_type": "code",
   "execution_count": null,
   "id": "2ecae503-27c2-42b3-8851-632a5b436abd",
   "metadata": {},
   "outputs": [],
   "source": []
  },
  {
   "cell_type": "code",
   "execution_count": 8,
   "id": "43fb6d75-c86b-47d1-9162-4a4499d7a951",
   "metadata": {
    "tags": []
   },
   "outputs": [
    {
     "name": "stdout",
     "output_type": "stream",
     "text": [
      "7483133 1870783\n"
     ]
    }
   ],
   "source": [
    "X = Clean_Data[Var_names_X]\n",
    "Y = Clean_Data['meltRate']\n",
    "X_train = X.sample(frac = 0.8)\n",
    "X_valid = X.drop(X_train.index)\n",
    "\n",
    "Y_train = Y.loc[X_train.index]\n",
    "Y_valid = Y.drop(X_train.index)\n",
    "print(len(X_train), len(X_valid))\n",
    "\n",
    "mean, std = X_train.mean(), X_train.std() \n",
    "meanY, stdY = Y_train.mean(), Y_train.std() \n",
    "X_train, X_valid = (np.array((X_train - mean)/std), \n",
    "                    np.array((X_valid - mean)/std))\n",
    "\n",
    "Y_train, Y_valid = (np.array((Y_train - meanY)/stdY), \n",
    "                    np.array((Y_valid - meanY)/stdY))\n",
    "\n",
    "del X, Y\n",
    "del Clean_Data\n",
    "#maxX, minX = X_train.max(), X_train.min()\n",
    "#maxY, minY = Y_train.max(), Y_train.min()\n",
    "#X_train, X_valid = np.array((X_train - minX)/(maxX - minX)), np.array((X_valid - minX)/(maxX - minX))\n",
    "#Y_train, Y_valid = np.array((Y_train - minY)/(maxY - minY)), np.array((Y_valid - minY)/(maxY - minY))\n",
    "#Y_train_N, Y_valid_N = np.array(Y_train / maxY), np.array(Y_valid/maxY)"
   ]
  },
  {
   "cell_type": "code",
   "execution_count": 13,
   "id": "6e03bb7b-7709-4c12-aee8-773ae6ebe394",
   "metadata": {},
   "outputs": [],
   "source": [
    "def Model_init(shape):\n",
    "    model = tf.keras.models.Sequential()\n",
    "    model.add(tf.keras.layers.Input(shape))\n",
    "    model.add(tf.keras.layers.Dense(32, activation = 'relu'))\n",
    "    model.add(tf.keras.layers.Dense(64, activation = 'relu'))\n",
    "    model.add(tf.keras.layers.Dense(64, activation = 'relu'))\n",
    "    model.add(tf.keras.layers.Dense(32, activation = 'relu'))\n",
    "    model.add(tf.keras.layers.Dense(1))\n",
    "    model.compile(optimizer='adam',\n",
    "                 loss = 'mse',\n",
    "                metrics = ['mae', 'mse'])\n",
    "    return model\n",
    "def Model_init2(shape):\n",
    "    model = tf.keras.models.Sequential()\n",
    "    model.add(tf.keras.layers.Input(shape))\n",
    "    model.add(tf.keras.layers.Dense(32, activation = 'swish'))\n",
    "    model.add(tf.keras.layers.Dense(64, activation = 'swish'))\n",
    "    model.add(tf.keras.layers.Dense(64, activation = 'swish'))\n",
    "    model.add(tf.keras.layers.Dense(32, activation = 'swish'))\n",
    "    model.add(tf.keras.layers.Dense(1))\n",
    "    model.compile(optimizer='adam',\n",
    "                 loss = 'mse',\n",
    "                metrics = ['mae', 'mse'])\n",
    "    return model"
   ]
  },
  {
   "cell_type": "code",
   "execution_count": 14,
   "id": "af9db763-ba68-4916-8213-04be68ad2ce5",
   "metadata": {},
   "outputs": [],
   "source": [
    "if len(Datas) ==1:\n",
    "    Temp = Datas[0].split('/')\n",
    "    Name = Temp[len(Temp) - 1]\n",
    "    Name = Name.replace('data_', '')\n",
    "    Ocean_scen = Name.split('_')[0]\n",
    "    Mod_nam = Name.replace(Ocean_scen + '_', '').split('.')[0]\n",
    "else:\n",
    "    Names = []\n",
    "    for n in Datas:\n",
    "        Temp = n.split('/')\n",
    "        Name = Temp[len(Temp) - 1]\n",
    "        Name = Name.replace('data_', '')\n",
    "        Ocean_scens = Name.split('_')[0]\n",
    "        Names.append(Ocean_scens)\n",
    "    Ocean_scen = '_'.join(Names)\n",
    "    Mod_nam = Name.replace(Ocean_scens + '_', '').split('.')[0]\n",
    "        "
   ]
  },
  {
   "cell_type": "code",
   "execution_count": 16,
   "id": "93067fab-8ae0-409e-9d99-8cc76b4927c1",
   "metadata": {},
   "outputs": [
    {
     "data": {
      "text/plain": [
       "'Ocean1_Ocean2_Ocean3_Ocean4'"
      ]
     },
     "execution_count": 16,
     "metadata": {},
     "output_type": "execute_result"
    }
   ],
   "source": [
    "Ocean_scen"
   ]
  },
  {
   "cell_type": "code",
   "execution_count": 17,
   "id": "61e2b46a-c9c0-4f68-afc4-073904ddfb02",
   "metadata": {},
   "outputs": [],
   "source": [
    "Model_path = '/'.join([os.getcwd(),'Models',Mod_nam, Ocean_scen])"
   ]
  },
  {
   "cell_type": "code",
   "execution_count": 18,
   "id": "d189df81-6302-4627-be21-39f8c7b07905",
   "metadata": {},
   "outputs": [
    {
     "data": {
      "text/plain": [
       "'/home/bouissob/Code/Models/COM_NEMO-CNRS/Ocean1_Ocean2_Ocean3_Ocean4'"
      ]
     },
     "execution_count": 18,
     "metadata": {},
     "output_type": "execute_result"
    }
   ],
   "source": [
    "Model_path"
   ]
  },
  {
   "cell_type": "code",
   "execution_count": null,
   "id": "797dd403-f87a-400b-84d7-455e060be48c",
   "metadata": {
    "tags": []
   },
   "outputs": [
    {
     "name": "stderr",
     "output_type": "stream",
     "text": [
      "2022-02-24 11:02:41.089959: I tensorflow/compiler/jit/xla_cpu_device.cc:41] Not creating XLA devices, tf_xla_enable_xla_devices not set\n",
      "2022-02-24 11:02:41.132641: I tensorflow/core/platform/cpu_feature_guard.cc:142] This TensorFlow binary is optimized with oneAPI Deep Neural Network Library (oneDNN) to use the following CPU instructions in performance-critical operations:  SSE4.1 SSE4.2 AVX\n",
      "To enable them in other operations, rebuild TensorFlow with the appropriate compiler flags.\n",
      "2022-02-24 11:02:41.147028: I tensorflow/core/common_runtime/process_util.cc:146] Creating new thread pool with default inter op setting: 2. Tune using inter_op_parallelism_threads for best performance.\n",
      "2022-02-24 11:02:42.017837: I tensorflow/compiler/mlir/mlir_graph_optimization_pass.cc:116] None of the MLIR optimization passes are enabled (registered 2)\n",
      "2022-02-24 11:02:42.119042: I tensorflow/core/platform/profile_utils/cpu_utils.cc:112] CPU Frequency: 2499985000 Hz\n"
     ]
    },
    {
     "name": "stdout",
     "output_type": "stream",
     "text": [
      "Epoch 1/3\n",
      "116924/116924 [==============================] - 277s 2ms/step - loss: 0.0728 - mae: 0.0731 - mse: 0.0728 - val_loss: 0.0286 - val_mae: 0.0479 - val_mse: 0.0286\n",
      "Epoch 2/3\n",
      "  4784/116924 [>.............................] - ETA: 3:35 - loss: 0.0363 - mae: 0.0506 - mse: 0.0363"
     ]
    }
   ],
   "source": [
    "Nbr_Epoch = 3\n",
    "\n",
    "Uniq = time.time()\n",
    "\n",
    "Name ='Ep_{}_Input_{}_{}'.format(Nbr_Epoch, len(Var_names_X), Uniq)\n",
    "filepath = Model_path + '/' + Name + '/'\n",
    "Make_dire(filepath)\n",
    "#maxX.to_pickle(filepath + 'MaxX.pkl')\n",
    "#minX.to_pickle(filepath + 'MinX.pkl')\n",
    "#np.savetxt(filepath + 'MaxY.csv', np.array(maxY).reshape(1, ))\n",
    "#np.savetxt(filepath + 'MinY.csv', np.array(minY).reshape(1, ))\n",
    "\n",
    "mean.to_pickle(filepath + 'MeanX.pkl')\n",
    "std.to_pickle(filepath + 'StdX.pkl')\n",
    "np.savetxt(filepath + 'MeanY.csv', np.array(meanY).reshape(1, ))\n",
    "np.savetxt(filepath + 'StdY.csv', np.array(stdY).reshape(1, ))\n",
    "\n",
    "model = Model_init( (len(Var_names_X), ))\n",
    "Model = model.fit(X_train, Y_train,\n",
    "                   epochs = Nbr_Epoch,\n",
    "                   batch_size = 64,\n",
    "                   validation_data = (X_valid, Y_valid))\n",
    "Model_path = os.getcwd() + '/Models/' + Mod_nam + '/' + Ocean_scen + '/'\n",
    "model.save(filepath + 'model.h5')\n",
    "del X_train, Y_train\n",
    "del X_valid, Y_valid"
   ]
  },
  {
   "cell_type": "code",
   "execution_count": null,
   "id": "a17791b2-4eae-42fb-bf0f-dcb6a5cdc427",
   "metadata": {},
   "outputs": [],
   "source": [
    "Datas = glob(os.getcwd() + '/Data/*.nc.csv')\n",
    "Data = pd.read_csv(Datas[0])\n",
    "Clean_Data = Data.dropna()\n",
    "Clean_Data.reset_index(inplace=True)"
   ]
  },
  {
   "cell_type": "code",
   "execution_count": 50,
   "id": "2f4f00ba-aee4-456a-a0c5-2106fb3353c2",
   "metadata": {},
   "outputs": [
    {
     "name": "stderr",
     "output_type": "stream",
     "text": [
      "/home/bouissob/miniconda3/envs/py37/lib/python3.7/site-packages/ipykernel_launcher.py:7: SettingWithCopyWarning: \n",
      "A value is trying to be set on a copy of a slice from a DataFrame.\n",
      "Try using .loc[row_indexer,col_indexer] = value instead\n",
      "\n",
      "See the caveats in the documentation: https://pandas.pydata.org/pandas-docs/stable/user_guide/indexing.html#returning-a-view-versus-a-copy\n",
      "  import sys\n"
     ]
    },
    {
     "data": {
      "text/plain": [
       "<matplotlib.collections.QuadMesh at 0x7f030f4bf410>"
      ]
     },
     "execution_count": 50,
     "metadata": {},
     "output_type": "execute_result"
    },
    {
     "data": {
      "image/png": "[encoded data removed]",
      "text/plain": [
       "<Figure size 432x288 with 2 Axes>"
      ]
     },
     "metadata": {
      "needs_background": "light"
     },
     "output_type": "display_data"
    },
    {
     "data": {
      "image/png": "[encoded data removed]",
      "text/plain": [
       "<Figure size 432x288 with 2 Axes>"
      ]
     },
     "metadata": {
      "needs_background": "light"
     },
     "output_type": "display_data"
    }
   ],
   "source": [
    "Data = Clean_Data.loc[Clean_Data.date == 200]\n",
    "X = Data[Var_names_X]\n",
    "X = np.array((X - mean)/std)\n",
    "X = np.array(X).reshape(-1, 5, )\n",
    "Y_mod = Model.model(X)\n",
    "#Data['Mod_Melt'] = Y_mod.numpy().reshape(len(Y_mod, )) * maxY\n",
    "Data['Mod_Melt'] = (Y_mod.numpy().reshape(len(Y_mod, )) * stdY) + meanY\n",
    "Dataset = Data.set_index(['y', 'x'])\n",
    "Dataset = Dataset.to_xarray()\n",
    "Dataset.Mod_Melt.plot(cmap = plt.get_cmap('viridis'))\n",
    "plt.figure()\n",
    "Dataset.meltRate.plot(cmap = plt.get_cmap('viridis'))"
   ]
  },
  {
   "cell_type": "code",
   "execution_count": 51,
   "id": "27b66e30-4535-462e-b0c6-324b99120b1f",
   "metadata": {},
   "outputs": [
    {
     "data": {
      "text/plain": [
       "y                 39.005011\n",
       "x                236.900218\n",
       "iceDraft         246.779432\n",
       "temperatureYZ     -1.530660\n",
       "salinityYZ        34.014723\n",
       "dtype: float64"
      ]
     },
     "execution_count": 51,
     "metadata": {},
     "output_type": "execute_result"
    }
   ],
   "source": [
    "mean"
   ]
  },
  {
   "cell_type": "code",
   "execution_count": 54,
   "id": "0b5926dd-685d-4409-9753-1b34abec7ffe",
   "metadata": {},
   "outputs": [
    {
     "data": {
      "text/plain": [
       "Index(['y', 'x', 'iceDraft', 'temperatureYZ', 'salinityYZ'], dtype='object')"
      ]
     },
     "execution_count": 54,
     "metadata": {},
     "output_type": "execute_result"
    }
   ],
   "source": [
    "Var_names_X"
   ]
  },
  {
   "cell_type": "code",
   "execution_count": 52,
   "id": "19d6f529-887a-4b32-9c44-c433889549bd",
   "metadata": {},
   "outputs": [
    {
     "data": {
      "text/plain": [
       "y                 19.342531\n",
       "x                 50.339525\n",
       "iceDraft         118.747140\n",
       "temperatureYZ      0.648915\n",
       "salinityYZ         0.214172\n",
       "dtype: float64"
      ]
     },
     "execution_count": 52,
     "metadata": {},
     "output_type": "execute_result"
    }
   ],
   "source": [
    "std"
   ]
  },
  {
   "cell_type": "code",
   "execution_count": 18,
   "id": "9b364d8b-c288-499d-b499-ca002ae4a1a0",
   "metadata": {
    "tags": []
   },
   "outputs": [
    {
     "data": {
      "image/png": "[encoded data removed]",
      "text/plain": [
       "<Figure size 432x288 with 1 Axes>"
      ]
     },
     "metadata": {
      "needs_background": "light"
     },
     "output_type": "display_data"
    }
   ],
   "source": [
    "hist = Model.history\n",
    "plt.plot(hist['loss'])\n",
    "for k in hist.keys():\n",
    "    plt.plot(hist[k], label = k)\n",
    "plt.legend()\n",
    "plt.show()"
   ]
  },
  {
   "cell_type": "code",
   "execution_count": null,
   "id": "763aebee-8c18-4146-96ba-7b392e955ae9",
   "metadata": {},
   "outputs": [],
   "source": []
  }
 ],
 "metadata": {
  "kernelspec": {
   "display_name": "py37",
   "language": "python",
   "name": "py37"
  },
  "language_info": {
   "codemirror_mode": {
    "name": "ipython",
    "version": 3
   },
   "file_extension": ".py",
   "mimetype": "text/x-python",
   "name": "python",
   "nbconvert_exporter": "python",
   "pygments_lexer": "ipython3",
   "version": "3.7.11"
  }
 },
 "nbformat": 4,
 "nbformat_minor": 5
}
