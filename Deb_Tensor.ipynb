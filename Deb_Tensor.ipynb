{
 "cells": [
  {
   "cell_type": "code",
   "execution_count": 1,
   "id": "83d547fb-cdb8-4150-b8aa-466264d45b33",
   "metadata": {},
   "outputs": [],
   "source": [
    "import tensorflow as tf\n",
    "import matplotlib.pyplot as plt\n",
    "import pandas as pd\n",
    "import os\n",
    "from glob import glob\n",
    "import numpy as np\n",
    "import time\n",
    "import xarray as xr"
   ]
  },
  {
   "cell_type": "markdown",
   "id": "01f0d22f-f635-4641-88e6-11231b72e3b9",
   "metadata": {},
   "source": [
    "from tensorflow.keras.backend import sigmoid\n",
    "def swish(x, beta = 1):\n",
    "    return (x * sigmoid(beta * x))\n",
    "\n",
    "from tensorflow.keras.utils.generic_utils import get_custom_objects\n",
    "from tensorflow.keras.layers import Activation\n",
    "get_custom_objects().update({'swish': Activation(swish)})"
   ]
  },
  {
   "cell_type": "code",
   "execution_count": 2,
   "id": "383befeb-1a8a-4110-9a54-679aa0deba71",
   "metadata": {},
   "outputs": [
    {
     "data": {
      "text/plain": [
       "['/home/bouissob/Script/Data/data_Ocean1_COM_NEMO-CNRS.nc.csv']"
      ]
     },
     "execution_count": 2,
     "metadata": {},
     "output_type": "execute_result"
    }
   ],
   "source": [
    "Datas = glob(os.getcwd() + '/Data/*.csv')\n",
    "Datas"
   ]
  },
  {
   "cell_type": "code",
   "execution_count": 3,
   "id": "fe97a86f-ab77-4ba2-a5c5-74a3bafbaa66",
   "metadata": {},
   "outputs": [],
   "source": [
    "Data = pd.read_csv(Datas[0])\n",
    "Clean_Data = Data.loc[(~Data['meltRate'].isna() & ~Data['thermalDriving'].isna() & \n",
    "      ~Data['halineDriving'].isna() & ~Data['iceDraft'].isna())]\n",
    "Clean_Data.reset_index(inplace=True)"
   ]
  },
  {
   "cell_type": "code",
   "execution_count": 4,
   "id": "57e093b6-2146-461a-8ab7-cb6c0c9f63fd",
   "metadata": {},
   "outputs": [],
   "source": [
    "Var_names_X = ['thermalDriving', 'x', 'y', 'iceDraft', 'halineDriving']\n",
    "X = Clean_Data[Var_names_X]\n",
    "Y = Clean_Data['meltRate']"
   ]
  },
  {
   "cell_type": "code",
   "execution_count": 5,
   "id": "43fb6d75-c86b-47d1-9162-4a4499d7a951",
   "metadata": {},
   "outputs": [],
   "source": [
    "X_train = X.sample(frac = 0.8)\n",
    "X_valid = X.drop(X_train.index)\n",
    "\n",
    "Y_train = Y.loc[X_train.index]\n",
    "Y_valid = Y.drop(X_train.index)"
   ]
  },
  {
   "cell_type": "code",
   "execution_count": 6,
   "id": "dc4e7572-8ac1-453a-b36f-3820b3b556f9",
   "metadata": {},
   "outputs": [],
   "source": [
    "mean, std = X_train.mean(), X_train.std() \n",
    "meanY, stdY = Y_train.mean(), Y_train.std() \n",
    "maxY = max(Y_train)\n",
    "X_train_N, X_valid_N = np.array((X_train - mean)/std), np.array((X_valid - mean)/std)\n",
    "#Y_train_N, Y_valid_N = np.array((Y_train-meanY)/stdY), np.array((Y_valid-meanY)/stdY)\n",
    "Y_train_N, Y_valid_N = np.array(Y_train / maxY), np.array(Y_valid/maxY)"
   ]
  },
  {
   "cell_type": "code",
   "execution_count": 7,
   "id": "6e03bb7b-7709-4c12-aee8-773ae6ebe394",
   "metadata": {},
   "outputs": [],
   "source": [
    "def Model_init(shape):\n",
    "    model = tf.keras.models.Sequential()\n",
    "    model.add(tf.keras.layers.Input(shape))\n",
    "    model.add(tf.keras.layers.Dense(32, activation = 'relu'))\n",
    "    model.add(tf.keras.layers.Dense(64, activation = 'relu'))\n",
    "    model.add(tf.keras.layers.Dense(32, activation = 'relu'))\n",
    "    model.add(tf.keras.layers.Dense(1, activation = 'relu'))\n",
    "    model.compile(optimizer='adam',\n",
    "                 loss = 'mse',\n",
    "                metrics = ['mae', 'mse'])\n",
    "    return model\n",
    "def Model_init2(shape):\n",
    "    model = tf.keras.models.Sequential()\n",
    "    model.add(tf.keras.layers.Input(shape))\n",
    "    model.add(tf.keras.layers.Dense(32, activation = 'swish'))\n",
    "    model.add(tf.keras.layers.Dense(64, activation = 'swish'))\n",
    "    model.add(tf.keras.layers.Dense(64, activation = 'swish'))\n",
    "    model.add(tf.keras.layers.Dense(32, activation = 'swish'))\n",
    "    model.add(tf.keras.layers.Dense(1))\n",
    "    model.compile(optimizer='adam',\n",
    "                 loss = 'mse',\n",
    "                metrics = ['mae', 'mse'])\n",
    "    return model"
   ]
  },
  {
   "cell_type": "code",
   "execution_count": 8,
   "id": "797dd403-f87a-400b-84d7-455e060be48c",
   "metadata": {
    "tags": []
   },
   "outputs": [
    {
     "name": "stderr",
     "output_type": "stream",
     "text": [
      "2022-02-18 09:53:44.850489: I tensorflow/compiler/jit/xla_cpu_device.cc:41] Not creating XLA devices, tf_xla_enable_xla_devices not set\n",
      "2022-02-18 09:53:44.850945: I tensorflow/core/platform/cpu_feature_guard.cc:142] This TensorFlow binary is optimized with oneAPI Deep Neural Network Library (oneDNN) to use the following CPU instructions in performance-critical operations:  SSE4.1 SSE4.2 AVX\n",
      "To enable them in other operations, rebuild TensorFlow with the appropriate compiler flags.\n",
      "2022-02-18 09:53:44.851902: I tensorflow/core/common_runtime/process_util.cc:146] Creating new thread pool with default inter op setting: 2. Tune using inter_op_parallelism_threads for best performance.\n",
      "2022-02-18 09:53:44.964799: I tensorflow/compiler/mlir/mlir_graph_optimization_pass.cc:116] None of the MLIR optimization passes are enabled (registered 2)\n",
      "2022-02-18 09:53:44.985954: I tensorflow/core/platform/profile_utils/cpu_utils.cc:112] CPU Frequency: 2399835000 Hz\n"
     ]
    },
    {
     "name": "stdout",
     "output_type": "stream",
     "text": [
      "Epoch 1/4\n",
      "55834/55834 [==============================] - 93s 2ms/step - loss: 0.0019 - mae: 0.0211 - mse: 0.0019 - val_loss: 5.3926e-04 - val_mae: 0.0112 - val_mse: 5.3926e-04\n",
      "Epoch 2/4\n",
      "55834/55834 [==============================] - 92s 2ms/step - loss: 5.6721e-04 - mae: 0.0112 - mse: 5.6721e-04 - val_loss: 5.9678e-04 - val_mae: 0.0118 - val_mse: 5.9678e-04\n",
      "Epoch 3/4\n",
      "55834/55834 [==============================] - 85s 2ms/step - loss: 5.5396e-04 - mae: 0.0106 - mse: 5.5396e-04 - val_loss: 3.4307e-04 - val_mae: 0.0101 - val_mse: 3.4307e-04\n",
      "Epoch 4/4\n",
      "55834/55834 [==============================] - 91s 2ms/step - loss: 5.2696e-04 - mae: 0.0094 - mse: 5.2696e-04 - val_loss: 4.1563e-04 - val_mae: 0.0095 - val_mse: 4.1563e-04\n"
     ]
    },
    {
     "name": "stderr",
     "output_type": "stream",
     "text": [
      "2022-02-18 09:59:46.756734: W tensorflow/python/util/util.cc:348] Sets are not currently considered sequences, but this may change in the future, so consider avoiding using them.\n"
     ]
    },
    {
     "name": "stdout",
     "output_type": "stream",
     "text": [
      "INFO:tensorflow:Assets written to: /home/bouissob/Script/Models/data_Ocean1_COM_NEMO-CNRS%1645174786.5328197/assets\n"
     ]
    },
    {
     "data": {
      "text/plain": [
       "[205.0816192626953, 9.995375633239746, 205.0816192626953]"
      ]
     },
     "execution_count": 8,
     "metadata": {},
     "output_type": "execute_result"
    }
   ],
   "source": [
    "Nbr_Epoch = 4\n",
    "model = Model_init2( (5, ))\n",
    "Model = model.fit(X_train_N, Y_train_N,\n",
    "                   epochs = Nbr_Epoch,\n",
    "                   batch_size = 10,\n",
    "                   validation_data = (X_valid_N, Y_valid_N))\n",
    "Model_path = os.getcwd() + '/Models/'\n",
    "Temp = Datas[0].split('/')\n",
    "Name = Temp[len(Temp) - 1].split('.')[0] + '%' +str(time.time())\n",
    "filepath = Model_path + Name\n",
    "#tf.keras.models.save_model(\n",
    "#    Model.model, filepath, overwrite=True, include_optimizer=True, save_format=None,\n",
    "#    signatures=None, options=None, save_traces=True\n",
    "#)\n",
    "model.save(filepath + '.h5')\n",
    "model.evaluate(X_train, Y_train, verbose = 0)"
   ]
  },
  {
   "cell_type": "code",
   "execution_count": null,
   "id": "1fcb8cab-d328-4e2d-9606-4fea56b9656b",
   "metadata": {},
   "outputs": [],
   "source": []
  },
  {
   "cell_type": "code",
   "execution_count": 9,
   "id": "e2bd37a0-5086-4b5e-9809-2c358530eb3e",
   "metadata": {},
   "outputs": [],
   "source": [
    "model.save(filepath + '.h5')"
   ]
  },
  {
   "cell_type": "code",
   "execution_count": 12,
   "id": "678a3520-b3e5-499d-9d32-6a8ea3dae212",
   "metadata": {
    "tags": []
   },
   "outputs": [
    {
     "name": "stderr",
     "output_type": "stream",
     "text": [
      "/home/bouissob/miniconda3/envs/py37/lib/python3.7/site-packages/ipykernel_launcher.py:6: SettingWithCopyWarning: \n",
      "A value is trying to be set on a copy of a slice from a DataFrame.\n",
      "Try using .loc[row_indexer,col_indexer] = value instead\n",
      "\n",
      "See the caveats in the documentation: https://pandas.pydata.org/pandas-docs/stable/user_guide/indexing.html#returning-a-view-versus-a-copy\n",
      "  \n"
     ]
    },
    {
     "data": {
      "text/plain": [
       "<matplotlib.collections.QuadMesh at 0x7fc650f171d0>"
      ]
     },
     "execution_count": 12,
     "metadata": {},
     "output_type": "execute_result"
    },
    {
     "data": {
      "image/png": "[encoded data removed]",
      "text/plain": [
       "<Figure size 432x288 with 2 Axes>"
      ]
     },
     "metadata": {
      "needs_background": "light"
     },
     "output_type": "display_data"
    },
    {
     "data": {
      "image/png": "[encoded data removed]",
      "text/plain": [
       "<Figure size 432x288 with 2 Axes>"
      ]
     },
     "metadata": {
      "needs_background": "light"
     },
     "output_type": "display_data"
    }
   ],
   "source": [
    "Data = Clean_Data.loc[Clean_Data.date == 10]\n",
    "X = Data[Var_names_X]\n",
    "X = np.array((X - mean)/std)\n",
    "X = np.array(X).reshape(-1, 5, )\n",
    "Y_mod = Model.model(X)\n",
    "Data['Mod_Melt'] = Y_mod.numpy().reshape(len(Y_mod, )) * maxY\n",
    "#Data['Mod_Melt'] = (Y_mod.numpy().reshape(len(Y_mod, )) * stdY) + meanY\n",
    "Dataset = Data.set_index(['y', 'x'])\n",
    "Dataset = Dataset.to_xarray()\n",
    "Dataset.Mod_Melt.plot(cmap = plt.get_cmap('viridis'))\n",
    "plt.figure()\n",
    "Dataset.meltRate.plot(cmap = plt.get_cmap('viridis'))"
   ]
  },
  {
   "cell_type": "code",
   "execution_count": 101,
   "id": "b9b73f4e-9fa9-4462-a59e-3da8fc0aa7dc",
   "metadata": {
    "tags": []
   },
   "outputs": [],
   "source": [
    "Norm_path = '/home/bouissob/Script/Models/Norm_values_for_models/'\n",
    "N_path = Norm_path + Name + '/'\n",
    "if not os.path.isdir(N_path):\n",
    "    os.makedirs(N_path)\n",
    "mean.to_pickle(N_path + 'MeanX.pkl')\n",
    "std.to_pickle(N_path + 'StdX.pkl')\n",
    "np.savetxt(N_path + 'MaxY.csv', np.array(maxY).reshape(1, ))\n",
    "tmx = int(Clean_Data.loc[len(Clean_Data) - 1].date)\n",
    "#STD = pd.read_pickle(pwd + '/std.pkl')"
   ]
  },
  {
   "cell_type": "code",
   "execution_count": 104,
   "id": "c41fc6ea-07a6-4fe9-a6ca-fd9594b24413",
   "metadata": {},
   "outputs": [],
   "source": [
    "STD = pd.read_pickle(N_path + 'StdX.pkl')"
   ]
  },
  {
   "cell_type": "code",
   "execution_count": 114,
   "id": "f57d14ba-c485-49ec-b28a-7858c6d9e750",
   "metadata": {},
   "outputs": [
    {
     "data": {
      "text/html": [
       "<div>\n",
       "<style scoped>\n",
       "    .dataframe tbody tr th:only-of-type {\n",
       "        vertical-align: middle;\n",
       "    }\n",
       "\n",
       "    .dataframe tbody tr th {\n",
       "        vertical-align: top;\n",
       "    }\n",
       "\n",
       "    .dataframe thead th {\n",
       "        text-align: right;\n",
       "    }\n",
       "</style>\n",
       "<table border=\"1\" class=\"dataframe\">\n",
       "  <thead>\n",
       "    <tr style=\"text-align: right;\">\n",
       "      <th></th>\n",
       "      <th>thermalDriving</th>\n",
       "      <th>x</th>\n",
       "      <th>y</th>\n",
       "      <th>iceDraft</th>\n",
       "      <th>halineDriving</th>\n",
       "    </tr>\n",
       "  </thead>\n",
       "  <tbody>\n",
       "    <tr>\n",
       "      <th>2908</th>\n",
       "      <td>0.021486</td>\n",
       "      <td>3.853261</td>\n",
       "      <td>0.000000</td>\n",
       "      <td>0.697364</td>\n",
       "      <td>0.031098</td>\n",
       "    </tr>\n",
       "    <tr>\n",
       "      <th>2909</th>\n",
       "      <td>0.034605</td>\n",
       "      <td>6.276446</td>\n",
       "      <td>0.000000</td>\n",
       "      <td>0.768610</td>\n",
       "      <td>0.050021</td>\n",
       "    </tr>\n",
       "    <tr>\n",
       "      <th>2910</th>\n",
       "      <td>0.022203</td>\n",
       "      <td>3.853261</td>\n",
       "      <td>0.103437</td>\n",
       "      <td>0.687563</td>\n",
       "      <td>0.032132</td>\n",
       "    </tr>\n",
       "    <tr>\n",
       "      <th>2911</th>\n",
       "      <td>0.032137</td>\n",
       "      <td>5.839479</td>\n",
       "      <td>0.103437</td>\n",
       "      <td>0.757089</td>\n",
       "      <td>0.046467</td>\n",
       "    </tr>\n",
       "    <tr>\n",
       "      <th>2912</th>\n",
       "      <td>0.028122</td>\n",
       "      <td>5.879203</td>\n",
       "      <td>0.103437</td>\n",
       "      <td>0.760231</td>\n",
       "      <td>0.040684</td>\n",
       "    </tr>\n",
       "    <tr>\n",
       "      <th>...</th>\n",
       "      <td>...</td>\n",
       "      <td>...</td>\n",
       "      <td>...</td>\n",
       "      <td>...</td>\n",
       "      <td>...</td>\n",
       "    </tr>\n",
       "    <tr>\n",
       "      <th>5811</th>\n",
       "      <td>0.028717</td>\n",
       "      <td>6.236722</td>\n",
       "      <td>3.930616</td>\n",
       "      <td>0.842069</td>\n",
       "      <td>0.041552</td>\n",
       "    </tr>\n",
       "    <tr>\n",
       "      <th>5812</th>\n",
       "      <td>0.036860</td>\n",
       "      <td>6.276446</td>\n",
       "      <td>3.930616</td>\n",
       "      <td>0.900406</td>\n",
       "      <td>0.053301</td>\n",
       "    </tr>\n",
       "    <tr>\n",
       "      <th>5813</th>\n",
       "      <td>0.022240</td>\n",
       "      <td>6.316171</td>\n",
       "      <td>3.930616</td>\n",
       "      <td>0.842069</td>\n",
       "      <td>0.032217</td>\n",
       "    </tr>\n",
       "    <tr>\n",
       "      <th>5814</th>\n",
       "      <td>0.025435</td>\n",
       "      <td>3.853261</td>\n",
       "      <td>4.034053</td>\n",
       "      <td>0.695271</td>\n",
       "      <td>0.036803</td>\n",
       "    </tr>\n",
       "    <tr>\n",
       "      <th>5815</th>\n",
       "      <td>0.030744</td>\n",
       "      <td>6.276446</td>\n",
       "      <td>4.034053</td>\n",
       "      <td>0.767479</td>\n",
       "      <td>0.044466</td>\n",
       "    </tr>\n",
       "  </tbody>\n",
       "</table>\n",
       "<p>2908 rows × 5 columns</p>\n",
       "</div>"
      ],
      "text/plain": [
       "      thermalDriving         x         y  iceDraft  halineDriving\n",
       "2908        0.021486  3.853261  0.000000  0.697364       0.031098\n",
       "2909        0.034605  6.276446  0.000000  0.768610       0.050021\n",
       "2910        0.022203  3.853261  0.103437  0.687563       0.032132\n",
       "2911        0.032137  5.839479  0.103437  0.757089       0.046467\n",
       "2912        0.028122  5.879203  0.103437  0.760231       0.040684\n",
       "...              ...       ...       ...       ...            ...\n",
       "5811        0.028717  6.236722  3.930616  0.842069       0.041552\n",
       "5812        0.036860  6.276446  3.930616  0.900406       0.053301\n",
       "5813        0.022240  6.316171  3.930616  0.842069       0.032217\n",
       "5814        0.025435  3.853261  4.034053  0.695271       0.036803\n",
       "5815        0.030744  6.276446  4.034053  0.767479       0.044466\n",
       "\n",
       "[2908 rows x 5 columns]"
      ]
     },
     "execution_count": 114,
     "metadata": {},
     "output_type": "execute_result"
    }
   ],
   "source": [
    "Data[Var_names_X] / STD"
   ]
  },
  {
   "cell_type": "code",
   "execution_count": 115,
   "id": "99ad84a4-5cc1-4252-91ac-76f1cf7c46d7",
   "metadata": {},
   "outputs": [
    {
     "data": {
      "text/html": [
       "<div>\n",
       "<style scoped>\n",
       "    .dataframe tbody tr th:only-of-type {\n",
       "        vertical-align: middle;\n",
       "    }\n",
       "\n",
       "    .dataframe tbody tr th {\n",
       "        vertical-align: top;\n",
       "    }\n",
       "\n",
       "    .dataframe thead th {\n",
       "        text-align: right;\n",
       "    }\n",
       "</style>\n",
       "<table border=\"1\" class=\"dataframe\">\n",
       "  <thead>\n",
       "    <tr style=\"text-align: right;\">\n",
       "      <th></th>\n",
       "      <th>thermalDriving</th>\n",
       "      <th>x</th>\n",
       "      <th>y</th>\n",
       "      <th>iceDraft</th>\n",
       "      <th>halineDriving</th>\n",
       "    </tr>\n",
       "  </thead>\n",
       "  <tbody>\n",
       "    <tr>\n",
       "      <th>2908</th>\n",
       "      <td>0.006723</td>\n",
       "      <td>194</td>\n",
       "      <td>0</td>\n",
       "      <td>82.815510</td>\n",
       "      <td>0.094629</td>\n",
       "    </tr>\n",
       "    <tr>\n",
       "      <th>2909</th>\n",
       "      <td>0.010828</td>\n",
       "      <td>316</td>\n",
       "      <td>0</td>\n",
       "      <td>91.276440</td>\n",
       "      <td>0.152211</td>\n",
       "    </tr>\n",
       "    <tr>\n",
       "      <th>2910</th>\n",
       "      <td>0.006948</td>\n",
       "      <td>194</td>\n",
       "      <td>2</td>\n",
       "      <td>81.651650</td>\n",
       "      <td>0.097775</td>\n",
       "    </tr>\n",
       "    <tr>\n",
       "      <th>2911</th>\n",
       "      <td>0.010056</td>\n",
       "      <td>294</td>\n",
       "      <td>2</td>\n",
       "      <td>89.908270</td>\n",
       "      <td>0.141399</td>\n",
       "    </tr>\n",
       "    <tr>\n",
       "      <th>2912</th>\n",
       "      <td>0.008800</td>\n",
       "      <td>296</td>\n",
       "      <td>2</td>\n",
       "      <td>90.281364</td>\n",
       "      <td>0.123800</td>\n",
       "    </tr>\n",
       "    <tr>\n",
       "      <th>...</th>\n",
       "      <td>...</td>\n",
       "      <td>...</td>\n",
       "      <td>...</td>\n",
       "      <td>...</td>\n",
       "      <td>...</td>\n",
       "    </tr>\n",
       "    <tr>\n",
       "      <th>5811</th>\n",
       "      <td>0.008986</td>\n",
       "      <td>314</td>\n",
       "      <td>76</td>\n",
       "      <td>100.000000</td>\n",
       "      <td>0.126443</td>\n",
       "    </tr>\n",
       "    <tr>\n",
       "      <th>5812</th>\n",
       "      <td>0.011534</td>\n",
       "      <td>316</td>\n",
       "      <td>76</td>\n",
       "      <td>106.927826</td>\n",
       "      <td>0.162194</td>\n",
       "    </tr>\n",
       "    <tr>\n",
       "      <th>5813</th>\n",
       "      <td>0.006959</td>\n",
       "      <td>318</td>\n",
       "      <td>76</td>\n",
       "      <td>100.000000</td>\n",
       "      <td>0.098036</td>\n",
       "    </tr>\n",
       "    <tr>\n",
       "      <th>5814</th>\n",
       "      <td>0.007959</td>\n",
       "      <td>194</td>\n",
       "      <td>78</td>\n",
       "      <td>82.566990</td>\n",
       "      <td>0.111991</td>\n",
       "    </tr>\n",
       "    <tr>\n",
       "      <th>5815</th>\n",
       "      <td>0.009620</td>\n",
       "      <td>316</td>\n",
       "      <td>78</td>\n",
       "      <td>91.142044</td>\n",
       "      <td>0.135309</td>\n",
       "    </tr>\n",
       "  </tbody>\n",
       "</table>\n",
       "<p>2908 rows × 5 columns</p>\n",
       "</div>"
      ],
      "text/plain": [
       "      thermalDriving    x   y    iceDraft  halineDriving\n",
       "2908        0.006723  194   0   82.815510       0.094629\n",
       "2909        0.010828  316   0   91.276440       0.152211\n",
       "2910        0.006948  194   2   81.651650       0.097775\n",
       "2911        0.010056  294   2   89.908270       0.141399\n",
       "2912        0.008800  296   2   90.281364       0.123800\n",
       "...              ...  ...  ..         ...            ...\n",
       "5811        0.008986  314  76  100.000000       0.126443\n",
       "5812        0.011534  316  76  106.927826       0.162194\n",
       "5813        0.006959  318  76  100.000000       0.098036\n",
       "5814        0.007959  194  78   82.566990       0.111991\n",
       "5815        0.009620  316  78   91.142044       0.135309\n",
       "\n",
       "[2908 rows x 5 columns]"
      ]
     },
     "execution_count": 115,
     "metadata": {},
     "output_type": "execute_result"
    }
   ],
   "source": [
    "Data[Var_names_X]"
   ]
  },
  {
   "cell_type": "code",
   "execution_count": null,
   "id": "7fd3c1d5-b7af-430b-90ce-9064ee3586c6",
   "metadata": {},
   "outputs": [],
   "source": []
  }
 ],
 "metadata": {
  "kernelspec": {
   "display_name": "py37",
   "language": "python",
   "name": "py37"
  },
  "language_info": {
   "codemirror_mode": {
    "name": "ipython",
    "version": 3
   },
   "file_extension": ".py",
   "mimetype": "text/x-python",
   "name": "python",
   "nbconvert_exporter": "python",
   "pygments_lexer": "ipython3",
   "version": "3.7.11"
  }
 },
 "nbformat": 4,
 "nbformat_minor": 5
}
