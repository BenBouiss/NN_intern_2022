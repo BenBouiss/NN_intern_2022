{
 "cells": [
  {
   "cell_type": "code",
   "execution_count": 1,
   "id": "b5cdeb0c-3fdc-43c5-b115-b83cb8a55c08",
   "metadata": {},
   "outputs": [],
   "source": [
    "import numpy as np\n",
    "import matplotlib.pyplot as plt\n",
    "import xarray as xr\n",
    "import os\n",
    "import pandas as pd\n",
    "import glob\n",
    "import math\n"
   ]
  },
  {
   "cell_type": "code",
   "execution_count": 2,
   "id": "72130807-b433-4ef4-8030-85d5a7e63b20",
   "metadata": {},
   "outputs": [],
   "source": [
    "File_path = '/bettik/bouissob/ISOMIP+/'\n",
    "Bet_path = '/bettik/bouissob/'"
   ]
  },
  {
   "cell_type": "code",
   "execution_count": 3,
   "id": "eccdd424-ce98-4f88-9aaf-ebc0f60b457e",
   "metadata": {},
   "outputs": [
    {
     "data": {
      "text/plain": [
       "['Ocean4_COM_MITgcm_JPL.nc', 'Ocean1_TYP_FVCOM.nc']"
      ]
     },
     "execution_count": 3,
     "metadata": {},
     "output_type": "execute_result"
    }
   ],
   "source": [
    "os.listdir(File_path)[0:2]"
   ]
  },
  {
   "cell_type": "code",
   "execution_count": 4,
   "id": "539d9896-ee53-4b26-8bba-8efa73d53c70",
   "metadata": {},
   "outputs": [],
   "source": [
    "Data_Name = '*COM_NEMO-CNRS.nc'\n",
    "paths = glob.glob(File_path + Data_Name)"
   ]
  },
  {
   "cell_type": "code",
   "execution_count": 5,
   "id": "340e6c9e-3603-40b9-85a7-756a5ac74c54",
   "metadata": {},
   "outputs": [
    {
     "data": {
      "text/plain": [
       "['/bettik/bouissob/ISOMIP+/Ocean1_COM_NEMO-CNRS.nc',\n",
       " '/bettik/bouissob/ISOMIP+/Ocean4_COM_NEMO-CNRS.nc',\n",
       " '/bettik/bouissob/ISOMIP+/Ocean3_COM_NEMO-CNRS.nc',\n",
       " '/bettik/bouissob/ISOMIP+/Ocean2_COM_NEMO-CNRS.nc']"
      ]
     },
     "execution_count": 5,
     "metadata": {},
     "output_type": "execute_result"
    }
   ],
   "source": [
    "paths"
   ]
  },
  {
   "cell_type": "markdown",
   "id": "13293609-4d6f-4690-ab0b-def6b934ae00",
   "metadata": {},
   "source": [
    "Dans NN, var en x pour simul y<br>\n",
    "x : T, S, x, y, z<br>\n",
    "y : MeltRate<br>\n",
    "1ere Étape : Preparer les données"
   ]
  },
  {
   "cell_type": "code",
   "execution_count": 6,
   "id": "205f88ee-bad3-43c3-be0b-dc9061473002",
   "metadata": {},
   "outputs": [],
   "source": [
    "def get_depth_temp_sali(df, Data, zs):\n",
    "    ys, IceDraft = df.ny, df.iceDraft\n",
    "    N_T, N_S = [], []\n",
    "    ylast = None\n",
    "    dataset = Data[['temperatureYZ', 'salinityYZ']].to_dataframe().dropna()\n",
    "    Index_Y = dataset.index.get_level_values('ny')\n",
    "    for ind, y in enumerate(ys):\n",
    "        indz = np.abs(np.array(zs + IceDraft[ind])).argmin()\n",
    "        if y != ylast:\n",
    "            Slice = dataset.iloc[Index_Y == y].droplevel('ny')\n",
    "        Z_N = abs(np.array(Slice.index - indz)).argmin() + Slice.index[0]\n",
    "        New_T = dataset.temperatureYZ.loc[Z_N, y]\n",
    "        New_S = dataset.salinityYZ.loc[Z_N, y]\n",
    "        N_T.append(New_T)\n",
    "        N_S.append(New_S)\n",
    "    return np.array(N_T), np.array(N_S)"
   ]
  },
  {
   "cell_type": "code",
   "execution_count": null,
   "id": "1f8ce9f4-6562-446d-8f3d-2638bc3d2809",
   "metadata": {},
   "outputs": [],
   "source": []
  },
  {
   "cell_type": "code",
   "execution_count": null,
   "id": "46ebc322-0610-46b8-908d-7cd5124e897a",
   "metadata": {
    "tags": []
   },
   "outputs": [],
   "source": []
  },
  {
   "cell_type": "code",
   "execution_count": 8,
   "id": "74fa1752-be4a-4a6d-afa1-cd539fd18acd",
   "metadata": {
    "tags": []
   },
   "outputs": [
    {
     "name": "stdout",
     "output_type": "stream",
     "text": [
      "/bettik/bouissob/ISOMIP+/Ocean1_COM_NEMO-CNRS.nc\n",
      "Starting 24 / 240\n",
      "Starting 48 / 240\n",
      "Starting 72 / 240\n",
      "Starting 96 / 240\n",
      "Starting 120 / 240\n",
      "Starting 144 / 240\n",
      "Starting 168 / 240\n",
      "Starting 192 / 240\n",
      "Starting 216 / 240\n",
      "Starting 240 / 240\n",
      "/bettik/bouissob/ISOMIP+/Ocean4_COM_NEMO-CNRS.nc\n",
      "Starting 120 / 1200\n",
      "Starting 240 / 1200\n",
      "Starting 360 / 1200\n",
      "Starting 480 / 1200\n",
      "Starting 600 / 1200\n",
      "Starting 720 / 1200\n",
      "Starting 840 / 1200\n",
      "Starting 960 / 1200\n",
      "Starting 1080 / 1200\n",
      "Starting 1200 / 1200\n",
      "/bettik/bouissob/ISOMIP+/Ocean3_COM_NEMO-CNRS.nc\n",
      "Starting 120 / 1200\n",
      "Starting 240 / 1200\n",
      "Starting 360 / 1200\n",
      "Starting 480 / 1200\n",
      "Starting 600 / 1200\n",
      "Starting 720 / 1200\n",
      "Starting 840 / 1200\n",
      "Starting 960 / 1200\n",
      "Starting 1080 / 1200\n",
      "Starting 1200 / 1200\n",
      "/bettik/bouissob/ISOMIP+/Ocean2_COM_NEMO-CNRS.nc\n",
      "Starting 24 / 240\n",
      "Starting 48 / 240\n",
      "Starting 72 / 240\n",
      "Starting 96 / 240\n",
      "Starting 120 / 240\n",
      "Starting 144 / 240\n",
      "Starting 168 / 240\n",
      "Starting 192 / 240\n",
      "Starting 216 / 240\n",
      "Starting 240 / 240\n"
     ]
    }
   ],
   "source": [
    "for path in paths:\n",
    "    dfT = pd.DataFrame()\n",
    "    Name = path.replace('.nc', '').replace(File_path, '')\n",
    "    print(path)\n",
    "    Data = xr.open_dataset(path)\n",
    "    T = np.array(Data.nTime.as_numpy())\n",
    "    Horiz_resol = 2 #km/index\n",
    "    XstartYZ = int(500 / Horiz_resol)\n",
    "    YstartXZ = int(40 / Horiz_resol)\n",
    "    time = len(T)\n",
    "\n",
    "    for t in range(time):\n",
    "        if (t+1)%int(time/10) == 0:\n",
    "            print('Starting {} / {}'.format(t+1, time))\n",
    "        df = pd.DataFrame()\n",
    "        df['meltRate'] = (Data['meltRate'][t].to_dataframe())\n",
    "        df['thermalDriving'] = Data['thermalDriving'][t].to_dataframe()\n",
    "        df['halineDriving'] = Data['halineDriving'][t].to_dataframe()\n",
    "        if Data['iceDraft'].ndim == 2:\n",
    "            df['iceDraft'] = Data['iceDraft'].to_dataframe()\n",
    "        else:\n",
    "            df['iceDraft'] = Data['iceDraft'][t].to_dataframe()\n",
    "        df['date'] = t\n",
    "        df.dropna(inplace = True)\n",
    "        df.reset_index(inplace=True)\n",
    "        T, S = get_depth_temp_sali(df, Data.sel(nTime = t),Data.z.to_dataframe())\n",
    "        df['temperatureYZ'] = T\n",
    "        df['salinityYZ'] = S\n",
    "        dfT = pd.concat([dfT, df], ignore_index = True)\n",
    "    dfT.dropna(inplace = True)\n",
    "    dfT.reset_index(drop = True, inplace = True)\n",
    "    dfT.rename(columns={'nx' :'x', 'ny': 'y'}, inplace=True)\n",
    "    dfT['x'] = dfT['x'] * Horiz_resol\n",
    "    dfT['y'] = dfT['y'] * Horiz_resol\n",
    "    pd.DataFrame.to_csv(dfT, Bet_path + 'Data/data_{}.csv'.format(Name), index = False)"
   ]
  },
  {
   "cell_type": "code",
   "execution_count": null,
   "id": "dee7f0c1-30f7-4f42-a179-72f66f167458",
   "metadata": {},
   "outputs": [],
   "source": []
  },
  {
   "cell_type": "code",
   "execution_count": null,
   "id": "f681bdf5-a54b-4607-a360-563763035993",
   "metadata": {
    "tags": []
   },
   "outputs": [],
   "source": []
  }
 ],
 "metadata": {
  "kernelspec": {
   "display_name": "py37",
   "language": "python",
   "name": "py37"
  },
  "language_info": {
   "codemirror_mode": {
    "name": "ipython",
    "version": 3
   },
   "file_extension": ".py",
   "mimetype": "text/x-python",
   "name": "python",
   "nbconvert_exporter": "python",
   "pygments_lexer": "ipython3",
   "version": "3.7.11"
  }
 },
 "nbformat": 4,
 "nbformat_minor": 5
}
