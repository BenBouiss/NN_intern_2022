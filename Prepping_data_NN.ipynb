{
 "cells": [
  {
   "cell_type": "code",
   "execution_count": 1,
   "id": "b5cdeb0c-3fdc-43c5-b115-b83cb8a55c08",
   "metadata": {},
   "outputs": [],
   "source": [
    "import numpy as np\n",
    "import matplotlib.pyplot as plt\n",
    "import xarray as xr\n",
    "import os\n",
    "import pandas as pd\n",
    "import glob\n",
    "import math\n",
    "import time"
   ]
  },
  {
   "cell_type": "code",
   "execution_count": 2,
   "id": "72130807-b433-4ef4-8030-85d5a7e63b20",
   "metadata": {},
   "outputs": [],
   "source": [
    "File_path = '/bettik/bouissob/ISOMIP+/'\n",
    "Bet_path = '/bettik/bouissob/'"
   ]
  },
  {
   "cell_type": "code",
   "execution_count": 3,
   "id": "eccdd424-ce98-4f88-9aaf-ebc0f60b457e",
   "metadata": {},
   "outputs": [
    {
     "data": {
      "text/plain": [
       "['Ocean4_COM_MITgcm_JPL.nc', 'Ocean1_TYP_FVCOM.nc']"
      ]
     },
     "execution_count": 3,
     "metadata": {},
     "output_type": "execute_result"
    }
   ],
   "source": [
    "os.listdir(File_path)[0:2]"
   ]
  },
  {
   "cell_type": "code",
   "execution_count": 4,
   "id": "539d9896-ee53-4b26-8bba-8efa73d53c70",
   "metadata": {},
   "outputs": [],
   "source": [
    "Data_Name = '*COM_NEMO-CNRS.nc'\n",
    "paths = glob.glob(File_path + Data_Name)"
   ]
  },
  {
   "cell_type": "code",
   "execution_count": 5,
   "id": "340e6c9e-3603-40b9-85a7-756a5ac74c54",
   "metadata": {},
   "outputs": [
    {
     "data": {
      "text/plain": [
       "['/bettik/bouissob/ISOMIP+/Ocean1_COM_NEMO-CNRS.nc',\n",
       " '/bettik/bouissob/ISOMIP+/Ocean4_COM_NEMO-CNRS.nc',\n",
       " '/bettik/bouissob/ISOMIP+/Ocean3_COM_NEMO-CNRS.nc',\n",
       " '/bettik/bouissob/ISOMIP+/Ocean2_COM_NEMO-CNRS.nc']"
      ]
     },
     "execution_count": 5,
     "metadata": {},
     "output_type": "execute_result"
    }
   ],
   "source": [
    "paths"
   ]
  },
  {
   "cell_type": "markdown",
   "id": "13293609-4d6f-4690-ab0b-def6b934ae00",
   "metadata": {},
   "source": [
    "Dans NN, var en x pour simul y<br>\n",
    "x : T, S, x, y, z<br>\n",
    "y : MeltRate<br>\n",
    "1ere Étape : Preparer les données"
   ]
  },
  {
   "cell_type": "code",
   "execution_count": 6,
   "id": "205f88ee-bad3-43c3-be0b-dc9061473002",
   "metadata": {},
   "outputs": [],
   "source": [
    "def get_depth_temp_sali(df, Data, zs):\n",
    "    ys, IceDraft = df.ny, df.iceDraft\n",
    "    N_T, N_S = [], []\n",
    "    ylast = None\n",
    "    dataset = Data[['temperatureYZ', 'salinityYZ']].to_dataframe().dropna()\n",
    "    Index_Y = dataset.index.get_level_values('ny')\n",
    "    for ind, y in enumerate(ys):\n",
    "        indz = np.abs(np.array(zs + IceDraft[ind])).argmin()\n",
    "        if y != ylast:\n",
    "            Slice = dataset.iloc[Index_Y == y].droplevel('ny')\n",
    "        Z_N = abs(np.array(Slice.index - indz)).argmin() + Slice.index[0]\n",
    "        New_T = dataset.temperatureYZ.loc[Z_N, y]\n",
    "        New_S = dataset.salinityYZ.loc[Z_N, y]\n",
    "        N_T.append(New_T)\n",
    "        N_S.append(New_S)\n",
    "    return np.array(N_T), np.array(N_S)"
   ]
  },
  {
   "cell_type": "code",
   "execution_count": 7,
   "id": "1f8ce9f4-6562-446d-8f3d-2638bc3d2809",
   "metadata": {},
   "outputs": [],
   "source": [
    "def New_get_depth_temp_sal(df, Data):\n",
    "    ys, Icedraft = np.array(df.ny), np.array(df.iceDraft)\n",
    "    Var = ['temperatureYZ', 'salinityYZ']\n",
    "    y = xr.DataArray(ys)\n",
    "    iceZ = xr.DataArray(Icedraft)\n",
    "    Data = Data.assign_coords({'nz':  - Data.nz})\n",
    "    Filled = Data[Var].interpolate_na(dim=\"nz\", use_coordinate = True, method = 'nearest', fill_value=\"extrapolate\")\n",
    "    Cur = Filled[Var].interp(ny = y, nz = iceZ, method = 'nearest')\n",
    "    T, S = np.array(Cur.to_array())\n",
    "    return T, S\n"
   ]
  },
  {
   "cell_type": "code",
   "execution_count": null,
   "id": "43e14022-524d-45e8-a6bf-b86090ce049f",
   "metadata": {},
   "outputs": [],
   "source": []
  },
  {
   "cell_type": "code",
   "execution_count": 9,
   "id": "74fa1752-be4a-4a6d-afa1-cd539fd18acd",
   "metadata": {
    "tags": []
   },
   "outputs": [
    {
     "name": "stdout",
     "output_type": "stream",
     "text": [
      "/bettik/bouissob/ISOMIP+/Ocean1_COM_NEMO-CNRS.nc\n",
      "Done in 13.519770799997787 s\n"
     ]
    }
   ],
   "source": [
    "for path in paths[0:1]:\n",
    "    dfT = pd.DataFrame()\n",
    "    Name = path.replace('.nc', '').replace(File_path, '')\n",
    "    print(path)\n",
    "    Data = xr.open_dataset(path)\n",
    "    Data = Data.assign_coords({'nx': Data.x,\n",
    "                           'ny': Data.y,\n",
    "                           'nz': Data.z,\n",
    "                           'nTime': Data.time})\n",
    "    T = np.array(Data.nTime.as_numpy())\n",
    "    Horiz_resol = 2 #km/index\n",
    "    XstartYZ = int(500 / Horiz_resol)\n",
    "    YstartXZ = int(40 / Horiz_resol)\n",
    "    Time = len(T)\n",
    "    Start = time.perf_counter()\n",
    "    T = []\n",
    "    df = []\n",
    "    for t in range(Time):\n",
    "        if (t+1)%int(Time/10) == 0:\n",
    "            print('Starting {} / {}    '.format(t+1, Time), end = '\\r')\n",
    "        df = pd.DataFrame()\n",
    "        df['meltRate'] = (Data['meltRate'].isel(nTime = t).to_dataframe())['meltRate']\n",
    "        df['thermalDriving'] = Data['thermalDriving'].isel(nTime = t).to_dataframe()['thermalDriving']\n",
    "        df['halineDriving'] = Data['halineDriving'].isel(nTime = t).to_dataframe()['halineDriving']\n",
    "        if Data['iceDraft'].ndim == 2:\n",
    "            df['iceDraft'] = Data['iceDraft'].to_dataframe()['iceDraft']\n",
    "        else:\n",
    "            df['iceDraft'] = Data['iceDraft'].isel(nTime = t).to_dataframe()['iceDraft']\n",
    "        df['date'] = t\n",
    "        df.dropna(inplace = True)\n",
    "        df.reset_index(inplace=True)\n",
    "        T, S = New_get_depth_temp_sal(df, Data.isel(nTime = t))\n",
    "        #T, S = get_depth_temp_sali(df, Data.isel(nTime = t), Data.z.to_dataframe())\n",
    "        df['temperatureYZ'] = T\n",
    "        df['salinityYZ'] = S\n",
    "        dfT = pd.concat([dfT, df], ignore_index = True)\n",
    "\n",
    "    print('Done in {} s'.format(time.perf_counter() - Start))\n",
    "    d = pd.DataFrame(dfT)\n",
    "    dfT.dropna(inplace = True)\n",
    "    dfT.reset_index(drop = True, inplace = True)\n",
    "    dfT.rename(columns={'nx' :'x', 'ny': 'y'}, inplace=True)\n",
    "    dfT['x'] = dfT['x'] * Horiz_resol\n",
    "    dfT['y'] = dfT['y'] * Horiz_resol\n",
    "    #pd.DataFrame.to_csv(dfT, Bet_path + 'Data/data_{}.csv'.format(Name), index = False)"
   ]
  },
  {
   "cell_type": "code",
   "execution_count": 15,
   "id": "8a06bb76-125a-4c64-accf-25ceba9d7155",
   "metadata": {},
   "outputs": [],
   "source": [
    "Ancien = pd.read_csv(Bet_path + 'Data/data_{}.csv'.format(Name))\n",
    "Nouveau = dfT"
   ]
  },
  {
   "cell_type": "code",
   "execution_count": 18,
   "id": "dcab31bb-45a0-41c4-84a4-c77a8ce166d5",
   "metadata": {},
   "outputs": [],
   "source": [
    "Nv = Nouveau.set_index(['x', 'y', 'date'])\n",
    "Ac = Ancien.set_index(['x', 'y', 'date'])"
   ]
  },
  {
   "cell_type": "code",
   "execution_count": 48,
   "id": "73128ccc-0483-4ac4-8994-11cedcc7b1a0",
   "metadata": {},
   "outputs": [],
   "source": [
    "Diff = pd.DataFrame(Nouveau['temperatureYZ'] - Ancien['temperatureYZ'])\n",
    "Diff['x'] = Nouveau['x']\n",
    "Diff['y'] = Nouveau['y']\n",
    "Diff['date'] = Nouveau['date']\n",
    "Diff = Diff.set_index(['x', 'y', 'date']).to_xarray()"
   ]
  },
  {
   "cell_type": "code",
   "execution_count": 54,
   "id": "0ea3f5e1-8120-4d28-bd09-dca9c4820a2d",
   "metadata": {},
   "outputs": [
    {
     "data": {
      "text/plain": [
       "<matplotlib.collections.QuadMesh at 0x7f907d654290>"
      ]
     },
     "execution_count": 54,
     "metadata": {},
     "output_type": "execute_result"
    },
    {
     "data": {
      "image/png": "[encoded data removed]",
      "text/plain": [
       "<Figure size 432x288 with 2 Axes>"
      ]
     },
     "metadata": {
      "needs_background": "light"
     },
     "output_type": "display_data"
    },
    {
     "data": {
      "image/png": "[encoded data removed]",
      "text/plain": [
       "<Figure size 432x288 with 2 Axes>"
      ]
     },
     "metadata": {
      "needs_background": "light"
     },
     "output_type": "display_data"
    },
    {
     "data": {
      "image/png": "[encoded data removed]",
      "text/plain": [
       "<Figure size 432x288 with 2 Axes>"
      ]
     },
     "metadata": {
      "needs_background": "light"
     },
     "output_type": "display_data"
    }
   ],
   "source": [
    "Diff.temperatureYZ.isel(date = 0).plot(x = 'x')\n",
    "plt.figure()\n",
    "Diff.temperatureYZ.isel(date = 50).plot(x = 'x')\n",
    "plt.figure()\n",
    "Diff.temperatureYZ.isel(date = 239).plot(x = 'x')"
   ]
  },
  {
   "cell_type": "code",
   "execution_count": 56,
   "id": "964c6eb0-21c6-40cd-9cb8-c9e0fe4447a2",
   "metadata": {},
   "outputs": [
    {
     "data": {
      "text/plain": [
       "<matplotlib.collections.QuadMesh at 0x7f907d7b5e10>"
      ]
     },
     "execution_count": 56,
     "metadata": {},
     "output_type": "execute_result"
    },
    {
     "data": {
      "image/png": "[encoded data removed]",
      "text/plain": [
       "<Figure size 432x288 with 2 Axes>"
      ]
     },
     "metadata": {
      "needs_background": "light"
     },
     "output_type": "display_data"
    },
    {
     "data": {
      "image/png": "[encoded data removed]",
      "text/plain": [
       "<Figure size 432x288 with 2 Axes>"
      ]
     },
     "metadata": {
      "needs_background": "light"
     },
     "output_type": "display_data"
    }
   ],
   "source": [
    "Data.bathymetry.plot()\n",
    "plt.figure()\n",
    "Data.iceDraft.plot()"
   ]
  },
  {
   "cell_type": "code",
   "execution_count": 63,
   "id": "973889e3-823d-47ee-9d37-f1d27bc71e51",
   "metadata": {},
   "outputs": [
    {
     "name": "stderr",
     "output_type": "stream",
     "text": [
      "/home/bouissob/miniconda3/envs/py37/lib/python3.7/site-packages/ipykernel_launcher.py:1: FutureWarning: xarray.ufuncs is deprecated. Instead, use numpy ufuncs directly.\n",
      "  \"\"\"Entry point for launching an IPython kernel.\n",
      "/home/bouissob/miniconda3/envs/py37/lib/python3.7/site-packages/xarray/core/dataarray.py:3061: FutureWarning: xarray.ufuncs is deprecated. Instead, use numpy ufuncs directly.\n",
      "  da = self.__array_wrap__(f(self.variable.data, *args, **kwargs))\n"
     ]
    },
    {
     "data": {
      "text/html": [
       "<div><svg style=\"position: absolute; width: 0; height: 0; overflow: hidden\">\n",
       "<defs>\n",
       "<symbol id=\"icon-database\" viewBox=\"0 0 32 32\">\n",
       "<path d=\"M16 0c-8.837 0-16 2.239-16 5v4c0 2.761 7.163 5 16 5s16-2.239 16-5v-4c0-2.761-7.163-5-16-5z\"></path>\n",
       "<path d=\"M16 17c-8.837 0-16-2.239-16-5v6c0 2.761 7.163 5 16 5s16-2.239 16-5v-6c0 2.761-7.163 5-16 5z\"></path>\n",
       "<path d=\"M16 26c-8.837 0-16-2.239-16-5v6c0 2.761 7.163 5 16 5s16-2.239 16-5v-6c0 2.761-7.163 5-16 5z\"></path>\n",
       "</symbol>\n",
       "<symbol id=\"icon-file-text2\" viewBox=\"0 0 32 32\">\n",
       "<path d=\"M28.681 7.159c-0.694-0.947-1.662-2.053-2.724-3.116s-2.169-2.030-3.116-2.724c-1.612-1.182-2.393-1.319-2.841-1.319h-15.5c-1.378 0-2.5 1.121-2.5 2.5v27c0 1.378 1.122 2.5 2.5 2.5h23c1.378 0 2.5-1.122 2.5-2.5v-19.5c0-0.448-0.137-1.23-1.319-2.841zM24.543 5.457c0.959 0.959 1.712 1.825 2.268 2.543h-4.811v-4.811c0.718 0.556 1.584 1.309 2.543 2.268zM28 29.5c0 0.271-0.229 0.5-0.5 0.5h-23c-0.271 0-0.5-0.229-0.5-0.5v-27c0-0.271 0.229-0.5 0.5-0.5 0 0 15.499-0 15.5 0v7c0 0.552 0.448 1 1 1h7v19.5z\"></path>\n",
       "<path d=\"M23 26h-14c-0.552 0-1-0.448-1-1s0.448-1 1-1h14c0.552 0 1 0.448 1 1s-0.448 1-1 1z\"></path>\n",
       "<path d=\"M23 22h-14c-0.552 0-1-0.448-1-1s0.448-1 1-1h14c0.552 0 1 0.448 1 1s-0.448 1-1 1z\"></path>\n",
       "<path d=\"M23 18h-14c-0.552 0-1-0.448-1-1s0.448-1 1-1h14c0.552 0 1 0.448 1 1s-0.448 1-1 1z\"></path>\n",
       "</symbol>\n",
       "</defs>\n",
       "</svg>\n",
       "<style>/* CSS stylesheet for displaying xarray objects in jupyterlab.\n",
       " *\n",
       " */\n",
       "\n",
       ":root {\n",
       "  --xr-font-color0: var(--jp-content-font-color0, rgba(0, 0, 0, 1));\n",
       "  --xr-font-color2: var(--jp-content-font-color2, rgba(0, 0, 0, 0.54));\n",
       "  --xr-font-color3: var(--jp-content-font-color3, rgba(0, 0, 0, 0.38));\n",
       "  --xr-border-color: var(--jp-border-color2, #e0e0e0);\n",
       "  --xr-disabled-color: var(--jp-layout-color3, #bdbdbd);\n",
       "  --xr-background-color: var(--jp-layout-color0, white);\n",
       "  --xr-background-color-row-even: var(--jp-layout-color1, white);\n",
       "  --xr-background-color-row-odd: var(--jp-layout-color2, #eeeeee);\n",
       "}\n",
       "\n",
       "html[theme=dark],\n",
       "body.vscode-dark {\n",
       "  --xr-font-color0: rgba(255, 255, 255, 1);\n",
       "  --xr-font-color2: rgba(255, 255, 255, 0.54);\n",
       "  --xr-font-color3: rgba(255, 255, 255, 0.38);\n",
       "  --xr-border-color: #1F1F1F;\n",
       "  --xr-disabled-color: #515151;\n",
       "  --xr-background-color: #111111;\n",
       "  --xr-background-color-row-even: #111111;\n",
       "  --xr-background-color-row-odd: #313131;\n",
       "}\n",
       "\n",
       ".xr-wrap {\n",
       "  display: block;\n",
       "  min-width: 300px;\n",
       "  max-width: 700px;\n",
       "}\n",
       "\n",
       ".xr-text-repr-fallback {\n",
       "  /* fallback to plain text repr when CSS is not injected (untrusted notebook) */\n",
       "  display: none;\n",
       "}\n",
       "\n",
       ".xr-header {\n",
       "  padding-top: 6px;\n",
       "  padding-bottom: 6px;\n",
       "  margin-bottom: 4px;\n",
       "  border-bottom: solid 1px var(--xr-border-color);\n",
       "}\n",
       "\n",
       ".xr-header > div,\n",
       ".xr-header > ul {\n",
       "  display: inline;\n",
       "  margin-top: 0;\n",
       "  margin-bottom: 0;\n",
       "}\n",
       "\n",
       ".xr-obj-type,\n",
       ".xr-array-name {\n",
       "  margin-left: 2px;\n",
       "  margin-right: 10px;\n",
       "}\n",
       "\n",
       ".xr-obj-type {\n",
       "  color: var(--xr-font-color2);\n",
       "}\n",
       "\n",
       ".xr-sections {\n",
       "  padding-left: 0 !important;\n",
       "  display: grid;\n",
       "  grid-template-columns: 150px auto auto 1fr 20px 20px;\n",
       "}\n",
       "\n",
       ".xr-section-item {\n",
       "  display: contents;\n",
       "}\n",
       "\n",
       ".xr-section-item input {\n",
       "  display: none;\n",
       "}\n",
       "\n",
       ".xr-section-item input + label {\n",
       "  color: var(--xr-disabled-color);\n",
       "}\n",
       "\n",
       ".xr-section-item input:enabled + label {\n",
       "  cursor: pointer;\n",
       "  color: var(--xr-font-color2);\n",
       "}\n",
       "\n",
       ".xr-section-item input:enabled + label:hover {\n",
       "  color: var(--xr-font-color0);\n",
       "}\n",
       "\n",
       ".xr-section-summary {\n",
       "  grid-column: 1;\n",
       "  color: var(--xr-font-color2);\n",
       "  font-weight: 500;\n",
       "}\n",
       "\n",
       ".xr-section-summary > span {\n",
       "  display: inline-block;\n",
       "  padding-left: 0.5em;\n",
       "}\n",
       "\n",
       ".xr-section-summary-in:disabled + label {\n",
       "  color: var(--xr-font-color2);\n",
       "}\n",
       "\n",
       ".xr-section-summary-in + label:before {\n",
       "  display: inline-block;\n",
       "  content: '►';\n",
       "  font-size: 11px;\n",
       "  width: 15px;\n",
       "  text-align: center;\n",
       "}\n",
       "\n",
       ".xr-section-summary-in:disabled + label:before {\n",
       "  color: var(--xr-disabled-color);\n",
       "}\n",
       "\n",
       ".xr-section-summary-in:checked + label:before {\n",
       "  content: '▼';\n",
       "}\n",
       "\n",
       ".xr-section-summary-in:checked + label > span {\n",
       "  display: none;\n",
       "}\n",
       "\n",
       ".xr-section-summary,\n",
       ".xr-section-inline-details {\n",
       "  padding-top: 4px;\n",
       "  padding-bottom: 4px;\n",
       "}\n",
       "\n",
       ".xr-section-inline-details {\n",
       "  grid-column: 2 / -1;\n",
       "}\n",
       "\n",
       ".xr-section-details {\n",
       "  display: none;\n",
       "  grid-column: 1 / -1;\n",
       "  margin-bottom: 5px;\n",
       "}\n",
       "\n",
       ".xr-section-summary-in:checked ~ .xr-section-details {\n",
       "  display: contents;\n",
       "}\n",
       "\n",
       ".xr-array-wrap {\n",
       "  grid-column: 1 / -1;\n",
       "  display: grid;\n",
       "  grid-template-columns: 20px auto;\n",
       "}\n",
       "\n",
       ".xr-array-wrap > label {\n",
       "  grid-column: 1;\n",
       "  vertical-align: top;\n",
       "}\n",
       "\n",
       ".xr-preview {\n",
       "  color: var(--xr-font-color3);\n",
       "}\n",
       "\n",
       ".xr-array-preview,\n",
       ".xr-array-data {\n",
       "  padding: 0 5px !important;\n",
       "  grid-column: 2;\n",
       "}\n",
       "\n",
       ".xr-array-data,\n",
       ".xr-array-in:checked ~ .xr-array-preview {\n",
       "  display: none;\n",
       "}\n",
       "\n",
       ".xr-array-in:checked ~ .xr-array-data,\n",
       ".xr-array-preview {\n",
       "  display: inline-block;\n",
       "}\n",
       "\n",
       ".xr-dim-list {\n",
       "  display: inline-block !important;\n",
       "  list-style: none;\n",
       "  padding: 0 !important;\n",
       "  margin: 0;\n",
       "}\n",
       "\n",
       ".xr-dim-list li {\n",
       "  display: inline-block;\n",
       "  padding: 0;\n",
       "  margin: 0;\n",
       "}\n",
       "\n",
       ".xr-dim-list:before {\n",
       "  content: '(';\n",
       "}\n",
       "\n",
       ".xr-dim-list:after {\n",
       "  content: ')';\n",
       "}\n",
       "\n",
       ".xr-dim-list li:not(:last-child):after {\n",
       "  content: ',';\n",
       "  padding-right: 5px;\n",
       "}\n",
       "\n",
       ".xr-has-index {\n",
       "  font-weight: bold;\n",
       "}\n",
       "\n",
       ".xr-var-list,\n",
       ".xr-var-item {\n",
       "  display: contents;\n",
       "}\n",
       "\n",
       ".xr-var-item > div,\n",
       ".xr-var-item label,\n",
       ".xr-var-item > .xr-var-name span {\n",
       "  background-color: var(--xr-background-color-row-even);\n",
       "  margin-bottom: 0;\n",
       "}\n",
       "\n",
       ".xr-var-item > .xr-var-name:hover span {\n",
       "  padding-right: 5px;\n",
       "}\n",
       "\n",
       ".xr-var-list > li:nth-child(odd) > div,\n",
       ".xr-var-list > li:nth-child(odd) > label,\n",
       ".xr-var-list > li:nth-child(odd) > .xr-var-name span {\n",
       "  background-color: var(--xr-background-color-row-odd);\n",
       "}\n",
       "\n",
       ".xr-var-name {\n",
       "  grid-column: 1;\n",
       "}\n",
       "\n",
       ".xr-var-dims {\n",
       "  grid-column: 2;\n",
       "}\n",
       "\n",
       ".xr-var-dtype {\n",
       "  grid-column: 3;\n",
       "  text-align: right;\n",
       "  color: var(--xr-font-color2);\n",
       "}\n",
       "\n",
       ".xr-var-preview {\n",
       "  grid-column: 4;\n",
       "}\n",
       "\n",
       ".xr-var-name,\n",
       ".xr-var-dims,\n",
       ".xr-var-dtype,\n",
       ".xr-preview,\n",
       ".xr-attrs dt {\n",
       "  white-space: nowrap;\n",
       "  overflow: hidden;\n",
       "  text-overflow: ellipsis;\n",
       "  padding-right: 10px;\n",
       "}\n",
       "\n",
       ".xr-var-name:hover,\n",
       ".xr-var-dims:hover,\n",
       ".xr-var-dtype:hover,\n",
       ".xr-attrs dt:hover {\n",
       "  overflow: visible;\n",
       "  width: auto;\n",
       "  z-index: 1;\n",
       "}\n",
       "\n",
       ".xr-var-attrs,\n",
       ".xr-var-data {\n",
       "  display: none;\n",
       "  background-color: var(--xr-background-color) !important;\n",
       "  padding-bottom: 5px !important;\n",
       "}\n",
       "\n",
       ".xr-var-attrs-in:checked ~ .xr-var-attrs,\n",
       ".xr-var-data-in:checked ~ .xr-var-data {\n",
       "  display: block;\n",
       "}\n",
       "\n",
       ".xr-var-data > table {\n",
       "  float: right;\n",
       "}\n",
       "\n",
       ".xr-var-name span,\n",
       ".xr-var-data,\n",
       ".xr-attrs {\n",
       "  padding-left: 25px !important;\n",
       "}\n",
       "\n",
       ".xr-attrs,\n",
       ".xr-var-attrs,\n",
       ".xr-var-data {\n",
       "  grid-column: 1 / -1;\n",
       "}\n",
       "\n",
       "dl.xr-attrs {\n",
       "  padding: 0;\n",
       "  margin: 0;\n",
       "  display: grid;\n",
       "  grid-template-columns: 125px auto;\n",
       "}\n",
       "\n",
       ".xr-attrs dt,\n",
       ".xr-attrs dd {\n",
       "  padding: 0;\n",
       "  margin: 0;\n",
       "  float: left;\n",
       "  padding-right: 10px;\n",
       "  width: auto;\n",
       "}\n",
       "\n",
       ".xr-attrs dt {\n",
       "  font-weight: normal;\n",
       "  grid-column: 1;\n",
       "}\n",
       "\n",
       ".xr-attrs dt:hover span {\n",
       "  display: inline-block;\n",
       "  background: var(--xr-background-color);\n",
       "  padding-right: 10px;\n",
       "}\n",
       "\n",
       ".xr-attrs dd {\n",
       "  grid-column: 2;\n",
       "  white-space: pre-wrap;\n",
       "  word-break: break-all;\n",
       "}\n",
       "\n",
       ".xr-icon-database,\n",
       ".xr-icon-file-text2 {\n",
       "  display: inline-block;\n",
       "  vertical-align: middle;\n",
       "  width: 1em;\n",
       "  height: 1.5em !important;\n",
       "  stroke-width: 0;\n",
       "  stroke: currentColor;\n",
       "  fill: currentColor;\n",
       "}\n",
       "</style><pre class='xr-text-repr-fallback'>&lt;xarray.DataArray &#x27;iceDraft&#x27; (ny: 40, nx: 240)&gt;\n",
       "array([[ True,  True,  True, ..., False, False, False],\n",
       "       [ True,  True,  True, ..., False, False, False],\n",
       "       [ True,  True,  True, ..., False, False, False],\n",
       "       ...,\n",
       "       [ True,  True,  True, ..., False, False, False],\n",
       "       [ True,  True,  True, ..., False, False, False],\n",
       "       [ True,  True,  True, ..., False, False, False]])\n",
       "Coordinates:\n",
       "  * nx       (nx) float32 3.21e+05 3.23e+05 3.25e+05 ... 7.97e+05 7.99e+05\n",
       "  * ny       (ny) float32 1e+03 3e+03 5e+03 7e+03 ... 7.5e+04 7.7e+04 7.9e+04\n",
       "Attributes:\n",
       "    description:  elevation of the ice-ocean interface\n",
       "    units:        m</pre><div class='xr-wrap' hidden><div class='xr-header'><div class='xr-obj-type'>xarray.DataArray</div><div class='xr-array-name'>'iceDraft'</div><ul class='xr-dim-list'><li><span class='xr-has-index'>ny</span>: 40</li><li><span class='xr-has-index'>nx</span>: 240</li></ul></div><ul class='xr-sections'><li class='xr-section-item'><div class='xr-array-wrap'><input id='section-e5f5277a-d411-4f8d-bd8b-fab2d2bf667c' class='xr-array-in' type='checkbox' checked><label for='section-e5f5277a-d411-4f8d-bd8b-fab2d2bf667c' title='Show/hide data repr'><svg class='icon xr-icon-database'><use xlink:href='#icon-database'></use></svg></label><div class='xr-array-preview xr-preview'><span>True True True True True True ... False False False False False False</span></div><div class='xr-array-data'><pre>array([[ True,  True,  True, ..., False, False, False],\n",
       "       [ True,  True,  True, ..., False, False, False],\n",
       "       [ True,  True,  True, ..., False, False, False],\n",
       "       ...,\n",
       "       [ True,  True,  True, ..., False, False, False],\n",
       "       [ True,  True,  True, ..., False, False, False],\n",
       "       [ True,  True,  True, ..., False, False, False]])</pre></div></div></li><li class='xr-section-item'><input id='section-a87dc708-8d21-42df-9687-800a65ed2da3' class='xr-section-summary-in' type='checkbox'  checked><label for='section-a87dc708-8d21-42df-9687-800a65ed2da3' class='xr-section-summary' >Coordinates: <span>(2)</span></label><div class='xr-section-inline-details'></div><div class='xr-section-details'><ul class='xr-var-list'><li class='xr-var-item'><div class='xr-var-name'><span class='xr-has-index'>nx</span></div><div class='xr-var-dims'>(nx)</div><div class='xr-var-dtype'>float32</div><div class='xr-var-preview xr-preview'>3.21e+05 3.23e+05 ... 7.99e+05</div><input id='attrs-65f5c871-7461-46d5-9374-9fc79d3a256f' class='xr-var-attrs-in' type='checkbox' ><label for='attrs-65f5c871-7461-46d5-9374-9fc79d3a256f' title='Show/Hide attributes'><svg class='icon xr-icon-file-text2'><use xlink:href='#icon-file-text2'></use></svg></label><input id='data-c9d98ba8-c5d1-42c7-a6fb-da62d4705ef0' class='xr-var-data-in' type='checkbox'><label for='data-c9d98ba8-c5d1-42c7-a6fb-da62d4705ef0' title='Show/Hide data repr'><svg class='icon xr-icon-database'><use xlink:href='#icon-database'></use></svg></label><div class='xr-var-attrs'><dl class='xr-attrs'><dt><span>units :</span></dt><dd>m</dd><dt><span>description :</span></dt><dd>X axis</dd></dl></div><div class='xr-var-data'><pre>array([321000., 323000., 325000., ..., 795000., 797000., 799000.],\n",
       "      dtype=float32)</pre></div></li><li class='xr-var-item'><div class='xr-var-name'><span class='xr-has-index'>ny</span></div><div class='xr-var-dims'>(ny)</div><div class='xr-var-dtype'>float32</div><div class='xr-var-preview xr-preview'>1e+03 3e+03 ... 7.7e+04 7.9e+04</div><input id='attrs-83bf93f2-d052-4282-8bd8-34fd94eee826' class='xr-var-attrs-in' type='checkbox' ><label for='attrs-83bf93f2-d052-4282-8bd8-34fd94eee826' title='Show/Hide attributes'><svg class='icon xr-icon-file-text2'><use xlink:href='#icon-file-text2'></use></svg></label><input id='data-556561aa-36a3-4452-a0a9-aeff1737560e' class='xr-var-data-in' type='checkbox'><label for='data-556561aa-36a3-4452-a0a9-aeff1737560e' title='Show/Hide data repr'><svg class='icon xr-icon-database'><use xlink:href='#icon-database'></use></svg></label><div class='xr-var-attrs'><dl class='xr-attrs'><dt><span>units :</span></dt><dd>m</dd><dt><span>description :</span></dt><dd>Y axis</dd></dl></div><div class='xr-var-data'><pre>array([ 1000.,  3000.,  5000.,  7000.,  9000., 11000., 13000., 15000., 17000.,\n",
       "       19000., 21000., 23000., 25000., 27000., 29000., 31000., 33000., 35000.,\n",
       "       37000., 39000., 41000., 43000., 45000., 47000., 49000., 51000., 53000.,\n",
       "       55000., 57000., 59000., 61000., 63000., 65000., 67000., 69000., 71000.,\n",
       "       73000., 75000., 77000., 79000.], dtype=float32)</pre></div></li></ul></div></li><li class='xr-section-item'><input id='section-324fdc6e-ff02-493e-917c-7359c3992370' class='xr-section-summary-in' type='checkbox'  checked><label for='section-324fdc6e-ff02-493e-917c-7359c3992370' class='xr-section-summary' >Attributes: <span>(2)</span></label><div class='xr-section-inline-details'></div><div class='xr-section-details'><dl class='xr-attrs'><dt><span>description :</span></dt><dd>elevation of the ice-ocean interface</dd><dt><span>units :</span></dt><dd>m</dd></dl></div></li></ul></div></div>"
      ],
      "text/plain": [
       "<xarray.DataArray 'iceDraft' (ny: 40, nx: 240)>\n",
       "array([[ True,  True,  True, ..., False, False, False],\n",
       "       [ True,  True,  True, ..., False, False, False],\n",
       "       [ True,  True,  True, ..., False, False, False],\n",
       "       ...,\n",
       "       [ True,  True,  True, ..., False, False, False],\n",
       "       [ True,  True,  True, ..., False, False, False],\n",
       "       [ True,  True,  True, ..., False, False, False]])\n",
       "Coordinates:\n",
       "  * nx       (nx) float32 3.21e+05 3.23e+05 3.25e+05 ... 7.97e+05 7.99e+05\n",
       "  * ny       (ny) float32 1e+03 3e+03 5e+03 7e+03 ... 7.5e+04 7.7e+04 7.9e+04\n",
       "Attributes:\n",
       "    description:  elevation of the ice-ocean interface\n",
       "    units:        m"
      ]
     },
     "execution_count": 63,
     "metadata": {},
     "output_type": "execute_result"
    }
   ],
   "source": [
    "xr.ufuncs.isnan(Data.iceDraft)"
   ]
  },
  {
   "cell_type": "code",
   "execution_count": null,
   "id": "8d948d31-58f4-41b3-a6a9-a9649080da6b",
   "metadata": {},
   "outputs": [],
   "source": []
  }
 ],
 "metadata": {
  "kernelspec": {
   "display_name": "py37",
   "language": "python",
   "name": "py37"
  },
  "language_info": {
   "codemirror_mode": {
    "name": "ipython",
    "version": 3
   },
   "file_extension": ".py",
   "mimetype": "text/x-python",
   "name": "python",
   "nbconvert_exporter": "python",
   "pygments_lexer": "ipython3",
   "version": "3.7.11"
  }
 },
 "nbformat": 4,
 "nbformat_minor": 5
}
