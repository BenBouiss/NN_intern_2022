{
 "cells": [
  {
   "cell_type": "code",
   "execution_count": null,
   "id": "461f9703-3b40-47c9-a011-9cacda6608f2",
   "metadata": {},
   "outputs": [],
   "source": []
  },
  {
   "cell_type": "code",
   "execution_count": 1,
   "id": "b5cdeb0c-3fdc-43c5-b115-b83cb8a55c08",
   "metadata": {},
   "outputs": [],
   "source": [
    "import numpy as np\n",
    "import matplotlib.pyplot as plt\n",
    "import xarray as xr\n",
    "import os\n",
    "import pandas as pd\n",
    "import glob\n",
    "import math\n",
    "import time\n",
    "import sys\n",
    "from scipy.spatial import cKDTree\n"
   ]
  },
  {
   "cell_type": "code",
   "execution_count": 2,
   "id": "539d9896-ee53-4b26-8bba-8efa73d53c70",
   "metadata": {},
   "outputs": [],
   "source": [
    "def Make_dire(file_path):\n",
    "    if not os.path.isdir(file_path):\n",
    "        os.makedirs(file_path)"
   ]
  },
  {
   "cell_type": "markdown",
   "id": "13293609-4d6f-4690-ab0b-def6b934ae00",
   "metadata": {},
   "source": [
    "Dans NN, var en x pour simul y<br>\n",
    "x : T, S, x, y, z<br>\n",
    "y : MeltRate<br>\n",
    "1ere Étape : Preparer les données"
   ]
  },
  {
   "cell_type": "code",
   "execution_count": 3,
   "id": "205f88ee-bad3-43c3-be0b-dc9061473002",
   "metadata": {},
   "outputs": [],
   "source": [
    "def get_depth_temp_sali(df, Data):\n",
    "    ys, IceDraft = df.ny, df.iceDraft\n",
    "    zs = np.array(Data.nz)\n",
    "    N_T, N_S = [], []\n",
    "    ylast = None\n",
    "    dataset = Data[['temperatureYZ', 'salinityYZ']].to_dataframe().dropna()\n",
    "    Index_Y = dataset.index.get_level_values('ny')\n",
    "    for ind, y in enumerate(ys):\n",
    "        indz = np.abs(np.array(zs + IceDraft[ind])).argmin()\n",
    "        if y != ylast:\n",
    "            Slice = dataset.iloc[Index_Y == y].droplevel('ny')\n",
    "        Z_N = abs(np.array(Slice.index - indz)).argmin() + Slice.index[0]\n",
    "        New_T = dataset.temperatureYZ.loc[Z_N, y]\n",
    "        New_S = dataset.salinityYZ.loc[Z_N, y]\n",
    "        N_T.append(New_T)\n",
    "        N_S.append(New_S)\n",
    "    return np.array(N_T), np.array(N_S)"
   ]
  },
  {
   "cell_type": "code",
   "execution_count": 4,
   "id": "1f8ce9f4-6562-446d-8f3d-2638bc3d2809",
   "metadata": {},
   "outputs": [],
   "source": [
    "def New_get_depth_temp_sal(df, Data): ## Method 3\n",
    "    ys, Icedraft = np.array(df.ny), np.array(df.iceDraft)\n",
    "    Var = ['temperatureYZ', 'salinityYZ']\n",
    "    y = xr.DataArray(ys)\n",
    "    iceZ = xr.DataArray(Icedraft)\n",
    "    Data = Data.assign_coords({'nz':  - Data.nz})\n",
    "    Filled = Data[Var].interpolate_na(dim=\"nz\", use_coordinate = True, method = 'linear', fill_value=\"extrapolate\")\n",
    "    Cur = Filled[Var].interp(ny = y, nz = iceZ, method = 'linear')\n",
    "    T, S = np.array(Cur.to_array())\n",
    "    return T, S\n"
   ]
  },
  {
   "cell_type": "code",
   "execution_count": 5,
   "id": "33c027d1-562b-438c-a7d6-fb5b1a0e4005",
   "metadata": {},
   "outputs": [],
   "source": [
    "def Method1_get_T_S(df, Data):\n",
    "    ys = np.array(df.ny)\n",
    "    y = xr.DataArray(ys)\n",
    "    T = np.array(Data.temperatureYZ.sel(ny = y).mean(dim = 'nz', skipna = True))\n",
    "    S = np.array(Data.salinityYZ.sel(ny = y).mean(dim = 'nz', skipna = True))\n",
    "    return T, S"
   ]
  },
  {
   "cell_type": "code",
   "execution_count": null,
   "id": "ce072fea-289d-4c31-930c-2f28a96167b1",
   "metadata": {},
   "outputs": [],
   "source": []
  },
  {
   "cell_type": "code",
   "execution_count": 15,
   "id": "fabfe0d9-8090-40a0-9d1c-1747ae946c26",
   "metadata": {},
   "outputs": [],
   "source": [
    "def Method2_get_T_S(df, Data):\n",
    "    \"\"\"\n",
    "    Method returns for each point a list of size Z of values averaged on the Y dimensions\n",
    "    \"\"\"\n",
    "    ys = np.array(df.ny)\n",
    "    y = xr.DataArray(ys)\n",
    "    zs = np.array(df.iceDraft)\n",
    "    z = xr.DataArray(zs)\n",
    "    \n",
    "    Data = Data.assign_coords({'nz':  - Data.nz})\n",
    "    T = Data.temperatureYZ.mean(dim = 'ny', skipna= True).interpolate_na(dim = 'nz', \n",
    "                                        method = 'nearest', fill_value = 'extrapolate').to_numpy()\n",
    "    S = Data.salinityYZ.mean(dim = 'ny', skipna= True).interpolate_na(dim = 'nz', \n",
    "                                        method = 'nearest', fill_value = 'extrapolate').to_numpy()\n",
    "    Names_T = [f\"T_{i}\" for i in range(Max)]\n",
    "    Names_S = [f\"S_{i}\" for i in range(Max)]\n",
    "    size = len(df)\n",
    "    T = pd.DataFrame(np.tile(T, (size, 1)), columns = Names_T)\n",
    "    S = pd.DataFrame(np.tile(S, (size, 1)), columns = Names_S)\n",
    "    return pd.concat([T, S], axis=1)"
   ]
  },
  {
   "cell_type": "code",
   "execution_count": 21,
   "id": "a4e6c725-b4f3-4729-b301-42fe912840d6",
   "metadata": {},
   "outputs": [],
   "source": [
    "def Method2p5_get_T_S(df, Data): ## Method 2.5\n",
    "    \n",
    "    ys = np.array(df.ny)\n",
    "    y = xr.DataArray(ys)\n",
    "    zs = np.array(df.iceDraft)\n",
    "    z = xr.DataArray(zs)\n",
    "    \n",
    "    Data = Data.assign_coords({'nz':  - Data.nz})\n",
    "    Var = ['temperatureYZ', 'salinityYZ']\n",
    "    Cur = Data[Var].mean(dim = 'ny', skipna= True).interpolate_na(dim = 'nz', \n",
    "                                        method = 'nearest', fill_value = 'extrapolate')\n",
    "    #T_s = Data.temperatureYZ.mean(dim = 'ny', skipna= True).interpolate_na(dim = 'nz', \n",
    "    #                                    method = 'nearest', fill_value = 'extrapolate')\n",
    "    #S_s = Data.salinityYZ.mean(dim = 'ny', skipna= True).interpolate_na(dim = 'nz', \n",
    "    #                                    method = 'nearest', fill_value = 'extrapolate')\n",
    "    \n",
    "    Cur = Cur[Var].interp(nz = zs, method = 'linear')\n",
    "    T, S = np.array(Cur.to_array())\n",
    "    return T, S"
   ]
  },
  {
   "cell_type": "code",
   "execution_count": 8,
   "id": "bd7d90b0-eab0-4db5-a8ac-e8c5ba469551",
   "metadata": {},
   "outputs": [],
   "source": [
    "def Method4_get_T_S(df, Data, auto_lite, extent = 40):\n",
    "    \"\"\"\n",
    "    Method returns for each point a list of size Z of values at Y\n",
    "    \"\"\"\n",
    "    ys = np.array(df.ny)\n",
    "    y = xr.DataArray(ys)\n",
    "    Data = Data.assign_coords({'nz':  - Data.nz})\n",
    "    T = np.array(Data.temperatureYZ.sel(ny = y).interpolate_na(dim=\"nz\", method = 'nearest', fill_value=\"extrapolate\"))\n",
    "    S = np.array(Data.salinityYZ.sel(ny = y).interpolate_na(dim=\"nz\", method = 'nearest', fill_value=\"extrapolate\"))\n",
    "    \n",
    "    Max = np.shape(T)[0]\n",
    "    Names_T = [f\"T_{i}\" for i in range(Max)]\n",
    "    Names_S = [f\"S_{i}\" for i in range(Max)]\n",
    "    \n",
    "    New_ind = np.linspace(start=0, stop=144, num = extent, endpoint=False).astype(int)\n",
    "    NEW_T = [f\"T_{i}\" for i in New_ind]\n",
    "    NEW_S = [f\"S_{i}\" for i in New_ind]\n",
    "    \n",
    "    DF_T = pd.DataFrame(T, index=Names_T).T\n",
    "    DF_S = pd.DataFrame(S, index=Names_S).T\n",
    "    if auto_lite:\n",
    "        return pd.concat([DF_T[NEW_T], DF_S[NEW_S]], axis=1)\n",
    "    else:\n",
    "        return pd.concat([DF_T, DF_S], axis=1)"
   ]
  },
  {
   "cell_type": "code",
   "execution_count": 9,
   "id": "43e14022-524d-45e8-a6bf-b86090ce049f",
   "metadata": {},
   "outputs": [],
   "source": [
    "def Get_Ground_line(df, Arr):\n",
    "    Arr = Arr.fillna(-9999)\n",
    "    a = Arr.stack(grid=['ny', 'nx'])\n",
    "    Grounds = a[a == -9999]\n",
    "    Oc = a[a != -9999]\n",
    "    inds_grounds = Grounds.indexes['grid'].to_frame().values.astype(float)\n",
    "    inds_oc = df[['ny','nx']]\n",
    "    Spat = cKDTree(inds_grounds)\n",
    "    Dists, _ = Spat.query(inds_oc)\n",
    "    return Dists"
   ]
  },
  {
   "cell_type": "code",
   "execution_count": 10,
   "id": "e9bbd76f-0dae-4533-9c3d-de92f170ea97",
   "metadata": {},
   "outputs": [],
   "source": [
    "def Get_Front_line(df, Arr):\n",
    "    a = Arr.stack(grid=['ny', 'nx'])\n",
    "    Oc = a[a == 0]\n",
    "    ice = a[a != -0]\n",
    "    inds_oc = Oc.indexes['grid'].to_frame().values.astype(float)\n",
    "    inds_ice = df[['ny','nx']]\n",
    "    Spat = cKDTree(inds_oc)\n",
    "    Dists, _ = Spat.query(inds_ice)\n",
    "    return Dists"
   ]
  },
  {
   "cell_type": "code",
   "execution_count": 11,
   "id": "b6607d67-5168-4990-9329-b7cc9907e906",
   "metadata": {},
   "outputs": [],
   "source": [
    "def Compute_slope(Data, df):\n",
    "    ARR = Data\n",
    "    ARR = xr.where(ARR < 100, 100, ARR).dropna('nx', 'all').interpolate_na(dim = \"nx\", use_coordinate = True, method = 'nearest', fill_value='extrapolate')\n",
    "    x0, x1, y0, y1 = (ARR.shift(nx = -1, fill_value = np.nan).interpolate_na(dim = \"nx\", use_coordinate = True, method = 'nearest', fill_value='extrapolate'), \n",
    "                      ARR.shift(nx = 1, fill_value = np.nan).interpolate_na(dim = \"nx\", use_coordinate = True, method = 'nearest', fill_value='extrapolate'), \n",
    "                      ARR.shift(ny = -1, fill_value = np.nan).interpolate_na(dim = \"ny\", use_coordinate = True, method = 'nearest', fill_value='extrapolate'), \n",
    "                      ARR.shift(ny = 1, fill_value = np.nan).interpolate_na(dim = \"ny\", use_coordinate = True, method = 'nearest', fill_value='extrapolate'))\n",
    "    dx = (x1 - x0)\n",
    "    dy = (y1 - y0)\n",
    "    d = (dx**2 + dy**2)**.5\n",
    "    \n",
    "    ys, xs = np.array(df.ny), np.array(df.nx)\n",
    "    y, x = xr.DataArray(ys), xr.DataArray(xs)\n",
    "    if len(d.coords) == 3 :\n",
    "        d = d.sel(nx = x, ny = y).to_dataframe().drop(['nx', 'ny', 'nTime'], axis = 1)\n",
    "        DX = dx.sel(nx = x, ny = y).to_dataframe().drop(['nx', 'ny', 'nTime'], axis = 1)\n",
    "        DY = dy.sel(nx = x, ny = y).to_dataframe().drop(['nx', 'ny', 'nTime'], axis = 1)\n",
    "    else : \n",
    "        d = d.sel(nx = x, ny = y).to_dataframe().drop(['nx', 'ny'], axis = 1)\n",
    "        DX = dx.sel(nx = x, ny = y).to_dataframe().drop(['nx', 'ny'], axis = 1)\n",
    "        DY = dy.sel(nx = x, ny = y).to_dataframe().drop(['nx', 'ny'], axis = 1)\n",
    "    return d, DX, DY"
   ]
  },
  {
   "cell_type": "code",
   "execution_count": 19,
   "id": "bc9b37da-ec87-4c83-be4c-a30788673c23",
   "metadata": {},
   "outputs": [
    {
     "data": {
      "text/plain": [
       "['/bettik/bouissob/ISOMIP+/Ocean1_COM_NEMO-CNRS.nc',\n",
       " '/bettik/bouissob/ISOMIP+/Ocean4_COM_NEMO-CNRS.nc',\n",
       " '/bettik/bouissob/ISOMIP+/Ocean3_COM_NEMO-CNRS.nc',\n",
       " '/bettik/bouissob/ISOMIP+/Ocean2_COM_NEMO-CNRS.nc']"
      ]
     },
     "execution_count": 19,
     "metadata": {},
     "output_type": "execute_result"
    }
   ],
   "source": [
    "File_path = '/bettik/bouissob/ISOMIP+/'\n",
    "Bet_path = '/bettik/bouissob/'\n",
    "Data_type = 'COM_NEMO-CNRS'\n",
    "paths = glob.glob(File_path + f'*{Data_type}.nc')\n",
    "paths"
   ]
  },
  {
   "cell_type": "code",
   "execution_count": 13,
   "id": "f3aae7d2-f449-4895-97b0-5be380cea7f2",
   "metadata": {},
   "outputs": [
    {
     "data": {
      "text/plain": [
       "['/bettik/bouissob/FAVIER_2019/CPL_EXP13_rst_COM_NEMO-CNRS.nc',\n",
       " '/bettik/bouissob/FAVIER_2019/CPL_EXP23_rst_COM_NEMO-CNRS.nc',\n",
       " '/bettik/bouissob/FAVIER_2019/CPL_EXP11_rst_COM_NEMO-CNRS.nc',\n",
       " '/bettik/bouissob/FAVIER_2019/CPL_EXP21_rst_COM_NEMO-CNRS.nc',\n",
       " '/bettik/bouissob/FAVIER_2019/CPL_EXP10_rst_COM_NEMO-CNRS.nc',\n",
       " '/bettik/bouissob/FAVIER_2019/CPL_EXP20_rst_COM_NEMO-CNRS.nc',\n",
       " '/bettik/bouissob/FAVIER_2019/CPL_EXP22_rst_COM_NEMO-CNRS.nc',\n",
       " '/bettik/bouissob/FAVIER_2019/CPL_EXP12_rst_COM_NEMO-CNRS.nc']"
      ]
     },
     "execution_count": 13,
     "metadata": {},
     "output_type": "execute_result"
    }
   ],
   "source": [
    "File_path = '/bettik/bouissob/FAVIER_2019/'\n",
    "Bet_path = '/bettik/bouissob/'\n",
    "Data_type = 'COM_NEMO-CNRS'\n",
    "paths = glob.glob(File_path + '*.nc')\n",
    "paths"
   ]
  },
  {
   "cell_type": "code",
   "execution_count": 23,
   "id": "74fa1752-be4a-4a6d-afa1-cd539fd18acd",
   "metadata": {
    "tags": []
   },
   "outputs": [
    {
     "name": "stdout",
     "output_type": "stream",
     "text": [
      "/bettik/bouissob/ISOMIP+/Ocean1_COM_NEMO-CNRS.nc\n",
      "Done in 42.51501189300325 s              Elapsed time = 42 s              ETA : 0 s                          \n",
      "69.79216\n",
      "/bettik/bouissob/ISOMIP+/Ocean4_COM_NEMO-CNRS.nc\n",
      "Done in 605.0905644720187 s                Elapsed time = 604 s              ETA : 1 s                          \n",
      "398.57836\n",
      "/bettik/bouissob/ISOMIP+/Ocean3_COM_NEMO-CNRS.nc\n",
      "Done in 605.5849429899827 s                Elapsed time = 604 s              ETA : 1 s                          \n",
      "384.14956\n",
      "/bettik/bouissob/ISOMIP+/Ocean2_COM_NEMO-CNRS.nc\n",
      "Done in 34.99909653200302 s              Elapsed time = 34 s              ETA : 0 s                          \n",
      "82.87216\n"
     ]
    }
   ],
   "source": [
    "Method = 2.5\n",
    "for path in paths:\n",
    "    if path.split('/')[-2] == 'FAVIER_2019':\n",
    "        Name = path.split('/')[-1].replace(f'_{Data_type}.nc', '')\n",
    "        auto_lite = False\n",
    "        fav = True\n",
    "    else:\n",
    "        auto_lite = False\n",
    "        Name = path.split('/')[-1].split('_')[0]\n",
    "        fav = False\n",
    "    dfT = pd.DataFrame()\n",
    "    \n",
    "    print(path)\n",
    "    Data = xr.open_dataset(path)\n",
    "    Data = Data.assign_coords({'nx': Data.x,\n",
    "                           'ny': Data.y,\n",
    "                           'nz': Data.z,\n",
    "                           'nTime': Data.time})\n",
    "    T = np.array(Data.nTime.as_numpy())\n",
    "    Horiz_resol = 2 #km/index\n",
    "    Time = len(T)\n",
    "    Start = time.perf_counter()\n",
    "    T = []\n",
    "    df = []\n",
    "    for t in range(Time):\n",
    "        if (t+1)%int(Time/100) == 0:\n",
    "            print('Starting {} / {}                       Elapsed time = {} s              ETA : {} s                         '.format(t+1, Time, \n",
    "                                                    int(time.perf_counter() - Start), int((Time-t+1) * (time.perf_counter() - Start)/(t+1))), end = '\\r')\n",
    "        df = pd.DataFrame()\n",
    "        df['meltRate'] = (Data['meltRate'].isel(nTime = t).to_dataframe())['meltRate']\n",
    "        df['thermalDriving'] = Data['thermalDriving'].isel(nTime = t).to_dataframe()['thermalDriving']\n",
    "        df['halineDriving'] = Data['halineDriving'].isel(nTime = t).to_dataframe()['halineDriving']\n",
    "        if Data['iceDraft'].ndim == 2:\n",
    "            df['iceDraft'] = Data['iceDraft'].to_dataframe()['iceDraft']\n",
    "            df['bathymetry'] = Data['bathymetry'].to_dataframe()['bathymetry']\n",
    "#            df['bathymetry'] = Data['bathymetry'].to_dataframe()['bathymetry']\n",
    "        else:\n",
    "            df['iceDraft'] = Data['iceDraft'].isel(nTime = t).to_dataframe()['iceDraft']\n",
    "            df['bathymetry'] = Data['bathymetry'].isel(nTime = t).to_dataframe()['bathymetry']\n",
    "        df['date'] = t\n",
    "        df.dropna(inplace = True)\n",
    "        df.reset_index(inplace=True)\n",
    "\n",
    "        if Data['iceDraft'].ndim == 2:\n",
    "            if t == 0 :\n",
    "                Dist_gl = Get_Ground_line(df, Data.iceDraft)\n",
    "                Dist_fl = Get_Front_line(df, Data.iceDraft)\n",
    "                Slope_ice, Slope_iceDraft_x, Slope_iceDraft_y = Compute_slope(Data.iceDraft, df)\n",
    "                Slope_bathy, Slope_bathymetry_x, Slope_bathymetry_y = Compute_slope(Data.bathymetry, df)\n",
    "            df['Distances_ground_line'] = Dist_gl\n",
    "            df['Distances'] = Dist_gl\n",
    "            df['Distances_front_line'] = Dist_fl\n",
    "            df['Slope_iceDraft'] = Slope_ice\n",
    "            df['Slope_iceDraft_x'] = Slope_iceDraft_x\n",
    "            df['Slope_iceDraft_y'] = Slope_iceDraft_y\n",
    "            \n",
    "            df['Slope_bathymetry'] = Slope_bathy\n",
    "            df['Slope_bathymetry_x'] = Slope_bathymetry_x\n",
    "            df['Slope_bathymetry_y'] = Slope_bathymetry_y\n",
    "        else :\n",
    "            Dist_gl = Get_Ground_line(df, Data.iceDraft.isel(nTime = t))\n",
    "            df['Distances_ground_line'] = Dist_gl\n",
    "            df['Distances'] = Dist_gl\n",
    "            df['Distances_front_line'] = Get_Front_line(df, Data.iceDraft.isel(nTime = t))\n",
    "            df['Slope_iceDraft'], df['Slope_iceDraft_x'], df['Slope_iceDraft_y'] = Compute_slope(Data.iceDraft.isel(nTime = t), df)\n",
    "            df['Slope_bathymetry'], df['Slope_bathymetry_x'], df['Slope_bathymetry_y'] = Compute_slope(Data.bathymetry.isel(nTime = t), df)\n",
    "        \n",
    "        if Method == 2:\n",
    "            df_new = Method2_get_T_S(df, Data.isel(nTime = t))\n",
    "            df = pd.concat([df, df_new], axis = 1)\n",
    "        if Method == 3 or Method == None:\n",
    "            T, S = New_get_depth_temp_sal(df, Data.isel(nTime = t))\n",
    "            df['temperatureYZ'] = T\n",
    "            df['salinityYZ'] = S\n",
    "        if Method == 4:\n",
    "            df_new = Method4_get_T_S(df, Data.isel(nTime = t), auto_lite)\n",
    "            df = pd.concat([df, df_new], axis = 1)\n",
    "            df.dropna(inplace = True)\n",
    "        if Method == 2.5:\n",
    "            T, S = Method2p5_get_T_S(df, Data.isel(nTime = t))\n",
    "            df['temperatureYZ'] = T\n",
    "            df['salinityYZ'] = S\n",
    "        dfT = pd.concat([dfT, df], ignore_index = True)\n",
    "\n",
    "    print('Done in {} s'.format(time.perf_counter() - Start))#, end = '\\r')\n",
    "    #dfT.dropna(inplace = True)\n",
    "    #dfT.reset_index(drop = True, inplace = True)\n",
    "    dfT.rename(columns={'nx' :'x', 'ny': 'y'}, inplace=True)\n",
    "    if Method != None:\n",
    "        if fav:\n",
    "            f_path = Bet_path + f'Method_Data/FAVIER_2019/Method_{Method}/'\n",
    "        else:\n",
    "            f_path = Bet_path + f'Method_Data/{Data_type}/Method_{Method}/'\n",
    "        Make_dire(f_path)\n",
    "        print(sys.getsizeof(dfT) / 10**6)\n",
    "        if auto_lite:\n",
    "            pd.DataFrame.to_csv(dfT, f_path + f'{Name}_lite.csv', index = False)\n",
    "        else:\n",
    "            pd.DataFrame.to_csv(dfT, f_path + f'{Name}.csv', index = False)\n",
    "#    else:\n",
    "#        pd.DataFrame.to_csv(dfT, Bet_path + 'Data/New_data_{}_{}.csv'.format(Name, Data_type), index = False)"
   ]
  },
  {
   "cell_type": "code",
   "execution_count": 17,
   "id": "c2ffad04-66df-4553-a3c2-1de8c44b3abe",
   "metadata": {},
   "outputs": [
    {
     "data": {
      "text/plain": [
       "'CPL_EXP23_rst'"
      ]
     },
     "execution_count": 17,
     "metadata": {},
     "output_type": "execute_result"
    }
   ],
   "source": [
    "Name"
   ]
  },
  {
   "cell_type": "code",
   "execution_count": null,
   "id": "c4b95d86-b71b-4816-a3a7-beda0430910c",
   "metadata": {},
   "outputs": [],
   "source": [
    "cpls = ['CPL_EXP10_rst', 'CPL_EXP12_rst', 'CPL_EXP20_rst', 'CPL_EXP22_rst',\n",
    "'CPL_EXP11_rst', 'CPL_EXP13_rst', 'CPL_EXP21_rst', 'CPL_EXP23_rst'\n",
    "]"
   ]
  },
  {
   "cell_type": "code",
   "execution_count": null,
   "id": "4176f1ce-55db-484e-8f95-f30a9fde0074",
   "metadata": {
    "tags": []
   },
   "outputs": [],
   "source": [
    "File_path = '/bettik/bouissob/ISOMIP+/'\n",
    "Bet_path = '/bettik/bouissob/'\n",
    "Data_type = 'COM_NEMO-CNRS'\n",
    "Data_type = 'FAVIER_2019'\n",
    "def Convert_to_lite(Bet_path, Data_type, Method, Desired_len = 40, Oc = 'Ocean1'):\n",
    "    f_path = Bet_path + f'Method_Data/{Data_type}/Method_{Method}'\n",
    "    path = f\"{f_path}/{Oc}.csv\"\n",
    "    path = f\"{f_path}/{Oc}_lite.csv\"\n",
    "    extent = 144\n",
    "    \n",
    "    df = pd.read_csv(path, nrows = 1)\n",
    "    COL = df.columns\n",
    "    New_ind = np.linspace(start=0, stop=extent, num = Desired_len, endpoint=False).astype(int)\n",
    "    ALL_ind = [i for i in range(extent)]\n",
    "    Dropping_ind = [i for i in ALL_ind if i not in New_ind]\n",
    "    Drop_T = [f\"T_{i}\" for i in Dropping_ind]\n",
    "    Drop_S = [f\"S_{i}\" for i in Dropping_ind]\n",
    "    \n",
    "    COL = [i for i in COL if ((i not in Drop_S) and (i not in Drop_T))]\n",
    "    df = pd.read_csv(path, usecols = COL)\n",
    "    T = [f\"T_{i}\" for i in New_ind]\n",
    "    S = [f\"S_{i}\" for i in New_ind]\n",
    "    df.rename(dict(zip(T, [ f\"T_{i}\" for i in np.arange(0, Desired_len).astype(str) ])), axis = 1, inplace = True)\n",
    "    df.rename(dict(zip(S, [ f\"S_{i}\" for i in np.arange(0, Desired_len).astype(str) ])), axis = 1, inplace = True)\n",
    "    pd.DataFrame.to_csv(df, f\"{f_path}/{Oc}_lite.csv\", index = False)\n",
    "\n",
    "#for Oc in ['Ocean1', 'Ocean2', 'Ocean3', 'Ocean4']:\n",
    "for Oc in cpls:\n",
    "    print(f\"Starting {Oc}\")\n",
    "    Start = time.perf_counter()\n",
    "    A = Convert_to_lite(Bet_path, Data_type, Method = 4, Oc = Oc)\n",
    "    print(f\"{time.perf_counter() - Start} s elapsed\")"
   ]
  },
  {
   "cell_type": "code",
   "execution_count": 4,
   "id": "c42bf881-7f8c-46fa-9a0e-06828755c69a",
   "metadata": {},
   "outputs": [],
   "source": [
    "File_path = '/bettik/bouissob/ISOMIP+/'\n",
    "Bet_path = '/bettik/bouissob/'\n",
    "Data_type = 'COM_NEMO-CNRS'\n",
    "Method = 4\n",
    "f_path = Bet_path + f'Method_Data/{Data_type}/Method_{Method}'\n",
    "files = glob.glob(f\"{f_path}/Ocean1_lite.csv\")[0]"
   ]
  }
 ],
 "metadata": {
  "kernelspec": {
   "display_name": "py37",
   "language": "python",
   "name": "py37"
  },
  "language_info": {
   "codemirror_mode": {
    "name": "ipython",
    "version": 3
   },
   "file_extension": ".py",
   "mimetype": "text/x-python",
   "name": "python",
   "nbconvert_exporter": "python",
   "pygments_lexer": "ipython3",
   "version": "3.7.13"
  },
  "toc-autonumbering": false,
  "toc-showcode": false,
  "toc-showmarkdowntxt": false
 },
 "nbformat": 4,
 "nbformat_minor": 5
}
