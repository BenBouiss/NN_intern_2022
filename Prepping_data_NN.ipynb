{
 "cells": [
  {
   "cell_type": "code",
   "execution_count": 1,
   "id": "b5cdeb0c-3fdc-43c5-b115-b83cb8a55c08",
   "metadata": {},
   "outputs": [],
   "source": [
    "import numpy as np\n",
    "import matplotlib.pyplot as plt\n",
    "import xarray as xr\n",
    "import os\n",
    "import pandas as pd\n",
    "import glob\n",
    "import math\n",
    "import time"
   ]
  },
  {
   "cell_type": "code",
   "execution_count": 2,
   "id": "72130807-b433-4ef4-8030-85d5a7e63b20",
   "metadata": {},
   "outputs": [],
   "source": [
    "File_path = '/bettik/bouissob/ISOMIP+/'\n",
    "Bet_path = '/bettik/bouissob/'"
   ]
  },
  {
   "cell_type": "code",
   "execution_count": 3,
   "id": "eccdd424-ce98-4f88-9aaf-ebc0f60b457e",
   "metadata": {},
   "outputs": [
    {
     "data": {
      "text/plain": [
       "['Ocean4_COM_MITgcm_JPL.nc', 'Ocean1_TYP_FVCOM.nc']"
      ]
     },
     "execution_count": 3,
     "metadata": {},
     "output_type": "execute_result"
    }
   ],
   "source": [
    "os.listdir(File_path)[0:2]"
   ]
  },
  {
   "cell_type": "code",
   "execution_count": 4,
   "id": "539d9896-ee53-4b26-8bba-8efa73d53c70",
   "metadata": {},
   "outputs": [],
   "source": [
    "Data_Name = '*COM_NEMO-CNRS.nc'\n",
    "paths = glob.glob(File_path + Data_Name)"
   ]
  },
  {
   "cell_type": "code",
   "execution_count": 5,
   "id": "340e6c9e-3603-40b9-85a7-756a5ac74c54",
   "metadata": {},
   "outputs": [
    {
     "data": {
      "text/plain": [
       "['/bettik/bouissob/ISOMIP+/Ocean1_COM_NEMO-CNRS.nc',\n",
       " '/bettik/bouissob/ISOMIP+/Ocean4_COM_NEMO-CNRS.nc',\n",
       " '/bettik/bouissob/ISOMIP+/Ocean3_COM_NEMO-CNRS.nc',\n",
       " '/bettik/bouissob/ISOMIP+/Ocean2_COM_NEMO-CNRS.nc']"
      ]
     },
     "execution_count": 5,
     "metadata": {},
     "output_type": "execute_result"
    }
   ],
   "source": [
    "paths"
   ]
  },
  {
   "cell_type": "markdown",
   "id": "13293609-4d6f-4690-ab0b-def6b934ae00",
   "metadata": {},
   "source": [
    "Dans NN, var en x pour simul y<br>\n",
    "x : T, S, x, y, z<br>\n",
    "y : MeltRate<br>\n",
    "1ere Étape : Preparer les données"
   ]
  },
  {
   "cell_type": "code",
   "execution_count": 6,
   "id": "205f88ee-bad3-43c3-be0b-dc9061473002",
   "metadata": {},
   "outputs": [],
   "source": [
    "def get_depth_temp_sali(df, Data, zs):\n",
    "    ys, IceDraft = df.ny, df.iceDraft\n",
    "    N_T, N_S = [], []\n",
    "    ylast = None\n",
    "    dataset = Data[['temperatureYZ', 'salinityYZ']].to_dataframe().dropna()\n",
    "    Index_Y = dataset.index.get_level_values('ny')\n",
    "    for ind, y in enumerate(ys):\n",
    "        indz = np.abs(np.array(zs + IceDraft[ind])).argmin()\n",
    "        if y != ylast:\n",
    "            Slice = dataset.iloc[Index_Y == y].droplevel('ny')\n",
    "        Z_N = abs(np.array(Slice.index - indz)).argmin() + Slice.index[0]\n",
    "        New_T = dataset.temperatureYZ.loc[Z_N, y]\n",
    "        New_S = dataset.salinityYZ.loc[Z_N, y]\n",
    "        N_T.append(New_T)\n",
    "        N_S.append(New_S)\n",
    "    return np.array(N_T), np.array(N_S)"
   ]
  },
  {
   "cell_type": "code",
   "execution_count": 7,
   "id": "1f8ce9f4-6562-446d-8f3d-2638bc3d2809",
   "metadata": {},
   "outputs": [],
   "source": [
    "def New_get_depth_temp_sal(df, Data):\n",
    "    ys, Icedraft = np.array(df.ny), np.array(df.iceDraft)\n",
    "    Var = ['temperatureYZ', 'salinityYZ']\n",
    "    y = xr.DataArray(ys)\n",
    "    iceZ = xr.DataArray(Icedraft)\n",
    "    Data = Data.assign_coords({'nz':  - Data.nz})\n",
    "    Filled = Data[Var].interpolate_na(dim=\"nz\", use_coordinate = True, method = 'nearest', fill_value=\"extrapolate\")\n",
    "    Cur = Filled[Var].interp(ny = y, nz = iceZ, method = 'nearest')\n",
    "    T, S = np.array(Cur.to_array())\n",
    "    return T, S\n"
   ]
  },
  {
   "cell_type": "code",
   "execution_count": null,
   "id": "43e14022-524d-45e8-a6bf-b86090ce049f",
   "metadata": {},
   "outputs": [],
   "source": []
  },
  {
   "cell_type": "code",
   "execution_count": 15,
   "id": "74fa1752-be4a-4a6d-afa1-cd539fd18acd",
   "metadata": {
    "tags": []
   },
   "outputs": [
    {
     "name": "stdout",
     "output_type": "stream",
     "text": [
      "/bettik/bouissob/ISOMIP+/Ocean1_COM_NEMO-CNRS.nc\n",
      "Done in 19.776410204998683 s\n",
      "/bettik/bouissob/ISOMIP+/Ocean4_COM_NEMO-CNRS.nc\n",
      "Done in 139.10499995801365 s\n"
     ]
    }
   ],
   "source": [
    "for path in paths[0:2]:\n",
    "    dfT = pd.DataFrame()\n",
    "    Name = path.replace('.nc', '').replace(File_path, '')\n",
    "    print(path)\n",
    "    Data = xr.open_dataset(path)\n",
    "    Data = Data.assign_coords({'nx': Data.x,\n",
    "                           'ny': Data.y,\n",
    "                           'nz': Data.z,\n",
    "                           'nTime': Data.time})\n",
    "    T = np.array(Data.nTime.as_numpy())\n",
    "    Horiz_resol = 2 #km/index\n",
    "    XstartYZ = int(500 / Horiz_resol)\n",
    "    YstartXZ = int(40 / Horiz_resol)\n",
    "    Time = len(T)\n",
    "    Start = time.perf_counter()\n",
    "    T = []\n",
    "    df = []\n",
    "    for t in range(Time):\n",
    "        if (t+1)%int(Time/10) == 0:\n",
    "            print('Starting {} / {}    '.format(t+1, Time), end = '\\r')\n",
    "        df = pd.DataFrame()\n",
    "        df['meltRate'] = (Data['meltRate'].isel(nTime = t).to_dataframe())['meltRate']\n",
    "        df['thermalDriving'] = Data['thermalDriving'].isel(nTime = t).to_dataframe()['thermalDriving']\n",
    "        df['halineDriving'] = Data['halineDriving'].isel(nTime = t).to_dataframe()['halineDriving']\n",
    "        if Data['iceDraft'].ndim == 2:\n",
    "            df['iceDraft'] = Data['iceDraft'].to_dataframe()['iceDraft']\n",
    "        else:\n",
    "            df['iceDraft'] = Data['iceDraft'].isel(nTime = t).to_dataframe()['iceDraft']\n",
    "        df['date'] = t\n",
    "        df.dropna(inplace = True)\n",
    "        df.reset_index(inplace=True)\n",
    "        T, S = New_get_depth_temp_sal(df, Data.isel(nTime = t))\n",
    "        #T, S = get_depth_temp_sali(df, Data.isel(nTime = t), Data.z.to_dataframe())\n",
    "        df['temperatureYZ'] = T\n",
    "        df['salinityYZ'] = S\n",
    "        dfT = pd.concat([dfT, df], ignore_index = True)\n",
    "\n",
    "    print('Done in {} s'.format(time.perf_counter() - Start))\n",
    "    d = pd.DataFrame(dfT)\n",
    "    dfT.dropna(inplace = True)\n",
    "    dfT.reset_index(drop = True, inplace = True)\n",
    "    dfT.rename(columns={'nx' :'x', 'ny': 'y'}, inplace=True)\n",
    "    dfT['x'] = dfT['x'] * Horiz_resol\n",
    "    dfT['y'] = dfT['y'] * Horiz_resol\n",
    "    #pd.DataFrame.to_csv(dfT, Bet_path + 'Data/data_{}.csv'.format(Name), index = False)"
   ]
  },
  {
   "cell_type": "code",
   "execution_count": null,
   "id": "8a06bb76-125a-4c64-accf-25ceba9d7155",
   "metadata": {},
   "outputs": [],
   "source": []
  },
  {
   "cell_type": "code",
   "execution_count": null,
   "id": "dcab31bb-45a0-41c4-84a4-c77a8ce166d5",
   "metadata": {},
   "outputs": [],
   "source": []
  }
 ],
 "metadata": {
  "kernelspec": {
   "display_name": "py37",
   "language": "python",
   "name": "py37"
  },
  "language_info": {
   "codemirror_mode": {
    "name": "ipython",
    "version": 3
   },
   "file_extension": ".py",
   "mimetype": "text/x-python",
   "name": "python",
   "nbconvert_exporter": "python",
   "pygments_lexer": "ipython3",
   "version": "3.7.11"
  }
 },
 "nbformat": 4,
 "nbformat_minor": 5
}
