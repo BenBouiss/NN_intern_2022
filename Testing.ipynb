{
 "cells": [
  {
   "cell_type": "code",
   "execution_count": 5,
   "id": "b5a5a19c-ef27-4aa2-95c4-8b5de31732e2",
   "metadata": {},
   "outputs": [],
   "source": [
    "import numpy as np"
   ]
  },
  {
   "cell_type": "code",
   "execution_count": null,
   "id": "0882f381-c259-478f-bd52-994b9a816e1c",
   "metadata": {},
   "outputs": [],
   "source": [
    "def Hyp_param_list(Ind, Max):\n",
    "    List = ['1', '4', '16', '32', '64']\n",
    "    string = []\n",
    "    Possible = List[min(4, 2 * Ind + int(Max/2)) :min(int(Max/2) + 3 + Ind, len(List))]\n",
    "    if Ind == Max:\n",
    "        return Possible\n",
    "    else:\n",
    "        Next = Hyp_param_list(Ind + 1, Max)\n",
    "        return ['_'.join([j, i]) for i in Next for j in Possible]"
   ]
  },
  {
   "cell_type": "code",
   "execution_count": 42,
   "id": "32c0217a-3fb8-40b8-b5e9-6f3dbd325140",
   "metadata": {},
   "outputs": [],
   "source": [
    "li = Hyp_param_list(0, 3)"
   ]
  },
  {
   "cell_type": "code",
   "execution_count": 43,
   "id": "8ab12650-3f7a-4b2d-80d5-2de4355c17ac",
   "metadata": {},
   "outputs": [
    {
     "data": {
      "text/plain": [
       "['4_32_64_64',\n",
       " '16_32_64_64',\n",
       " '32_32_64_64',\n",
       " '4_64_64_64',\n",
       " '16_64_64_64',\n",
       " '32_64_64_64']"
      ]
     },
     "execution_count": 43,
     "metadata": {},
     "output_type": "execute_result"
    }
   ],
   "source": [
    "import pickle"
   ]
  },
  {
   "cell_type": "code",
   "execution_count": 3,
   "id": "1eb98781-fcd4-438a-b891-e6b5a3f218f6",
   "metadata": {},
   "outputs": [],
   "source": [
    "A, B = [2], [3]"
   ]
  },
  {
   "cell_type": "code",
   "execution_count": 13,
   "id": "8218d13a-5115-4b1c-9af0-75cedd22fccb",
   "metadata": {},
   "outputs": [],
   "source": [
    "A = 'abc'"
   ]
  },
  {
   "cell_type": "code",
   "execution_count": null,
   "id": "16ad25ed-a414-45a7-98f6-38c4fdec1786",
   "metadata": {},
   "outputs": [],
   "source": []
  },
  {
   "cell_type": "code",
   "execution_count": 4,
   "id": "cc7bb56f-111d-4dc4-9417-0675ec7760cb",
   "metadata": {},
   "outputs": [],
   "source": [
    "List = ['1', '2', '4', '8', '16', '32', '64']"
   ]
  },
  {
   "cell_type": "code",
   "execution_count": 3,
   "id": "e5a3a8a0-6760-4a1e-8d3f-aa5da7203553",
   "metadata": {},
   "outputs": [],
   "source": [
    "import NN\n",
    "import os\n",
    "import importlib\n",
    "import glob\n",
    "import pandas as pd\n",
    "import numpy as np\n",
    "import tensorflow as tf\n"
   ]
  },
  {
   "cell_type": "code",
   "execution_count": 11,
   "id": "529ca4fd-fd06-4b93-a07c-2c75630e70ae",
   "metadata": {},
   "outputs": [],
   "source": [
    "OcT = ['Ocean1', 'Ocean2', 'Ocean3', 'Ocean4']"
   ]
  },
  {
   "cell_type": "code",
   "execution_count": 26,
   "id": "d77af434-d090-459c-9efe-935a377cd45a",
   "metadata": {},
   "outputs": [
    {
     "name": "stdout",
     "output_type": "stream",
     "text": [
      "/home/bouissob/Code/Auto_model/COM_NEMO-CNRS/Ocean1_Ocean2_Ocean3_Ocean4/Ep_4\n",
      "Data variables used : x y temperatureYZ salinityYZ iceDraft\n",
      "Data variables used : x y temperatureYZ salinityYZ iceDraft\n",
      "Data variables used : x y temperatureYZ salinityYZ iceDraft\n",
      "Data variables used : x y temperatureYZ salinityYZ iceDraft\n",
      "Data variables used : x y temperatureYZ salinityYZ iceDraft\n",
      "Data variables used : x y temperatureYZ salinityYZ iceDraft\n",
      "Data variables used : x y temperatureYZ salinityYZ iceDraft\n",
      "Data variables used : x y temperatureYZ salinityYZ iceDraft\n",
      "Data variables used : x y temperatureYZ salinityYZ iceDraft\n",
      "Data variables used : x y temperatureYZ salinityYZ iceDraft\n",
      "Data variables used : x y temperatureYZ salinityYZ iceDraft\n",
      "Starting 1200 / 1200\r"
     ]
    },
    {
     "data": {
      "image/png": "[encoded data removed]",
      "text/plain": [
       "<Figure size 432x288 with 1 Axes>"
      ]
     },
     "metadata": {
      "needs_background": "light"
     },
     "output_type": "display_data"
    }
   ],
   "source": [
    "#def Plotting(Epoch = 14, Ocean_trained = 'Ocean1', Type_trained = 'COM_NEMO', \n",
    "             #Plotting_target = 'Ocean1', Type_tar = 'COM_NEMO-CNRS' ):\n",
    "importlib.reload(NN)\n",
    "Rm, Param, Neur = NN.Plotting(Epoch = 4, Ocean_trained = OcT, Plotting_target = 'Ocean4')"
   ]
  },
  {
   "cell_type": "code",
   "execution_count": null,
   "id": "57bc6efa-af27-40a4-977f-a47f2b0dc97b",
   "metadata": {},
   "outputs": [],
   "source": []
  },
  {
   "cell_type": "code",
   "execution_count": 6,
   "id": "eb683d26-3329-441a-bcf8-f4e795df80df",
   "metadata": {},
   "outputs": [
    {
     "data": {
      "text/plain": [
       "array([   19,    49,    55,   121,   681,   945,  1273,  1729,  1257,\n",
       "        1521,  2361,  2817,  6977,  7585,  9569, 10689, 14849, 17089])"
      ]
     },
     "execution_count": 6,
     "metadata": {},
     "output_type": "execute_result"
    }
   ],
   "source": [
    "Param"
   ]
  },
  {
   "cell_type": "code",
   "execution_count": null,
   "id": "17b11b10-4007-4529-8b3d-4f925ed8c4e2",
   "metadata": {},
   "outputs": [],
   "source": []
  }
 ],
 "metadata": {
  "kernelspec": {
   "display_name": "py37",
   "language": "python",
   "name": "py37"
  },
  "language_info": {
   "codemirror_mode": {
    "name": "ipython",
    "version": 3
   },
   "file_extension": ".py",
   "mimetype": "text/x-python",
   "name": "python",
   "nbconvert_exporter": "python",
   "pygments_lexer": "ipython3",
   "version": "3.7.11"
  }
 },
 "nbformat": 4,
 "nbformat_minor": 5
}
