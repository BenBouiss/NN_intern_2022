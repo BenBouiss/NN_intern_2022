{
 "cells": [
  {
   "cell_type": "code",
   "execution_count": 1,
   "id": "b5a5a19c-ef27-4aa2-95c4-8b5de31732e2",
   "metadata": {},
   "outputs": [],
   "source": [
    "def Hyp_param_list(Ind, Max):\n",
    "    List = ['1', '4', '16', '32', '64']\n",
    "    string = []\n",
    "    Possible = List[min(4, Max - 1 + Ind) :min(Max + 1 + Ind, len(List))]\n",
    "    if Ind == Max:\n",
    "        return Possible\n",
    "    else:\n",
    "        Next = Hyp_param_list(Ind + 1, Max)\n",
    "        return ['_'.join([j, i]) for i in Next for j in Possible]"
   ]
  },
  {
   "cell_type": "code",
   "execution_count": 2,
   "id": "32c0217a-3fb8-40b8-b5e9-6f3dbd325140",
   "metadata": {},
   "outputs": [],
   "source": [
    "li = Hyp_param_list(0, 3)"
   ]
  },
  {
   "cell_type": "code",
   "execution_count": 3,
   "id": "8ab12650-3f7a-4b2d-80d5-2de4355c17ac",
   "metadata": {},
   "outputs": [
    {
     "data": {
      "text/plain": [
       "['16_32_64_64', '32_32_64_64', '16_64_64_64', '32_64_64_64']"
      ]
     },
     "execution_count": 3,
     "metadata": {},
     "output_type": "execute_result"
    }
   ],
   "source": [
    "li"
   ]
  },
  {
   "cell_type": "code",
   "execution_count": 4,
   "id": "cc7bb56f-111d-4dc4-9417-0675ec7760cb",
   "metadata": {},
   "outputs": [],
   "source": [
    "List = ['1', '2', '4', '8', '16', '32', '64']"
   ]
  },
  {
   "cell_type": "code",
   "execution_count": 8,
   "id": "03e6c66c-ce0c-40e5-b64d-37e1d335f3cb",
   "metadata": {},
   "outputs": [
    {
     "data": {
      "text/plain": [
       "[None, None]"
      ]
     },
     "execution_count": 8,
     "metadata": {},
     "output_type": "execute_result"
    }
   ],
   "source": [
    "Neur_seqs = []\n",
    "[Neur_seqs.extend(Hyp_param_list(0, i+1 )) for i in range(2)]\n"
   ]
  },
  {
   "cell_type": "code",
   "execution_count": 9,
   "id": "bd86e43a-7d05-4f9e-b503-1ae744963db8",
   "metadata": {
    "tags": []
   },
   "outputs": [
    {
     "data": {
      "text/plain": [
       "['1_4',\n",
       " '4_4',\n",
       " '1_16',\n",
       " '4_16',\n",
       " '4_16_32',\n",
       " '16_16_32',\n",
       " '4_32_32',\n",
       " '16_32_32',\n",
       " '4_16_64',\n",
       " '16_16_64',\n",
       " '4_32_64',\n",
       " '16_32_64']"
      ]
     },
     "execution_count": 9,
     "metadata": {},
     "output_type": "execute_result"
    }
   ],
   "source": [
    "Neur_seqs"
   ]
  },
  {
   "cell_type": "code",
   "execution_count": 7,
   "id": "bfbab1d0-eeaf-4b45-90b5-237de1bad3ee",
   "metadata": {},
   "outputs": [],
   "source": [
    "def print_kwargs(a = 2, b = 3):\n",
    "    print(a, b)"
   ]
  },
  {
   "cell_type": "code",
   "execution_count": 15,
   "id": "306d4e07-a5c7-42d8-beae-735ffe7b1a2f",
   "metadata": {},
   "outputs": [
    {
     "name": "stdout",
     "output_type": "stream",
     "text": [
      "2 3\n"
     ]
    }
   ],
   "source": [
    "print_kwargs()"
   ]
  },
  {
   "cell_type": "code",
   "execution_count": 13,
   "id": "72a2dbbe-d593-4d55-9b76-81af0f2dd00d",
   "metadata": {},
   "outputs": [],
   "source": [
    "def pass_args(**kwargs):\n",
    "    B_args = kwargs\n",
    "    print_kwargs(**B_args)"
   ]
  },
  {
   "cell_type": "code",
   "execution_count": 14,
   "id": "260e6124-4ca5-4619-b8e9-cefa61f4298e",
   "metadata": {},
   "outputs": [
    {
     "name": "stdout",
     "output_type": "stream",
     "text": [
      "4 30\n"
     ]
    }
   ],
   "source": [
    "pass_args(b = 30, a = 4)"
   ]
  },
  {
   "cell_type": "code",
   "execution_count": null,
   "id": "1a2ab006-887b-40f7-9659-e951ffb3e991",
   "metadata": {},
   "outputs": [],
   "source": []
  }
 ],
 "metadata": {
  "kernelspec": {
   "display_name": "py37",
   "language": "python",
   "name": "py37"
  },
  "language_info": {
   "codemirror_mode": {
    "name": "ipython",
    "version": 3
   },
   "file_extension": ".py",
   "mimetype": "text/x-python",
   "name": "python",
   "nbconvert_exporter": "python",
   "pygments_lexer": "ipython3",
   "version": "3.7.11"
  }
 },
 "nbformat": 4,
 "nbformat_minor": 5
}
