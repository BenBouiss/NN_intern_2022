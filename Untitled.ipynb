{
 "cells": [
  {
   "cell_type": "code",
   "execution_count": 91,
   "id": "b5a5a19c-ef27-4aa2-95c4-8b5de31732e2",
   "metadata": {},
   "outputs": [],
   "source": [
    "def Hyp_param_list(Ind, Max):\n",
    "    List = ['1', '4', '16', '32', '64']\n",
    "    string = []\n",
    "    Possible = List[min(4, Max - 1 + Ind) :min(Max + 1 + Ind, len(List))]\n",
    "    if Ind == Max:\n",
    "        return Possible\n",
    "    else:\n",
    "        Next = Hyp_param_list(Ind + 1, Max)\n",
    "        return ['_'.join([j, i]) for i in Next for j in Possible]"
   ]
  },
  {
   "cell_type": "code",
   "execution_count": 151,
   "id": "32c0217a-3fb8-40b8-b5e9-6f3dbd325140",
   "metadata": {},
   "outputs": [],
   "source": [
    "li = Hyp_param_list(0, 5)"
   ]
  },
  {
   "cell_type": "code",
   "execution_count": 152,
   "id": "8ab12650-3f7a-4b2d-80d5-2de4355c17ac",
   "metadata": {},
   "outputs": [
    {
     "data": {
      "text/plain": [
       "['64_64_64_64_64_64']"
      ]
     },
     "execution_count": 152,
     "metadata": {},
     "output_type": "execute_result"
    }
   ],
   "source": [
    "li"
   ]
  },
  {
   "cell_type": "code",
   "execution_count": 153,
   "id": "cc7bb56f-111d-4dc4-9417-0675ec7760cb",
   "metadata": {},
   "outputs": [],
   "source": [
    "List = ['1', '2', '4', '8', '16', '32', '64']"
   ]
  },
  {
   "cell_type": "code",
   "execution_count": 119,
   "id": "03e6c66c-ce0c-40e5-b64d-37e1d335f3cb",
   "metadata": {},
   "outputs": [],
   "source": [
    "List.extend(li)"
   ]
  },
  {
   "cell_type": "code",
   "execution_count": 120,
   "id": "b25fb268-5faf-486a-b787-25b7dcf591e0",
   "metadata": {},
   "outputs": [
    {
     "data": {
      "text/plain": [
       "['1', '2', '4', '8', '16', '32', '64', 'b', 'a']"
      ]
     },
     "execution_count": 120,
     "metadata": {},
     "output_type": "execute_result"
    }
   ],
   "source": [
    "List"
   ]
  },
  {
   "cell_type": "code",
   "execution_count": 143,
   "id": "14d234fd-e033-4a12-86da-1b65ce0d4333",
   "metadata": {},
   "outputs": [],
   "source": [
    "li.extend( Hyp_param_list(0, i+1 ) for i in range(3))"
   ]
  },
  {
   "cell_type": "code",
   "execution_count": 146,
   "id": "85c7f89b-6231-4d1c-ac40-581ba8b13fcb",
   "metadata": {},
   "outputs": [
    {
     "data": {
      "text/plain": [
       "[None, None, None]"
      ]
     },
     "execution_count": 146,
     "metadata": {},
     "output_type": "execute_result"
    }
   ],
   "source": [
    "[li.extend(Hyp_param_list(0, i+1 )) for i in range(3)]"
   ]
  },
  {
   "cell_type": "code",
   "execution_count": null,
   "id": "aa665644-6304-4e0d-b0ad-7ac332ced95a",
   "metadata": {},
   "outputs": [],
   "source": []
  },
  {
   "cell_type": "code",
   "execution_count": null,
   "id": "e2108c32-dd77-4665-85c5-31c8416514cb",
   "metadata": {},
   "outputs": [],
   "source": []
  },
  {
   "cell_type": "code",
   "execution_count": null,
   "id": "1638de19-5659-4181-a72d-7ead0cc030f2",
   "metadata": {},
   "outputs": [],
   "source": []
  }
 ],
 "metadata": {
  "kernelspec": {
   "display_name": "py37",
   "language": "python",
   "name": "py37"
  },
  "language_info": {
   "codemirror_mode": {
    "name": "ipython",
    "version": 3
   },
   "file_extension": ".py",
   "mimetype": "text/x-python",
   "name": "python",
   "nbconvert_exporter": "python",
   "pygments_lexer": "ipython3",
   "version": "3.7.11"
  }
 },
 "nbformat": 4,
 "nbformat_minor": 5
}
