{
 "cells": [
  {
   "cell_type": "code",
   "execution_count": 1,
   "id": "b4b7c5ca-4cb3-47b1-807e-c81258953371",
   "metadata": {},
   "outputs": [],
   "source": [
    "import pandas as pd\n",
    "import xarray as xr\n",
    "import numpy as np\n",
    "import matplotlib.pyplot as plt\n",
    "import os\n",
    "import glob\n",
    "from scipy.interpolate import make_interp_spline, BSpline\n",
    "import re\n",
    "import ast\n",
    "import seaborn as sns\n",
    "sns.set_context('paper') "
   ]
  },
  {
   "cell_type": "code",
   "execution_count": 2,
   "id": "bcd0449c-40bd-4b37-8699-c05e46b91fc2",
   "metadata": {},
   "outputs": [],
   "source": [
    "File_path = '/bettik/bouissob/FAVIER_2019/'\n",
    "Bet_path = '/bettik/bouissob/'\n",
    "Data_type = 'COM_NEMO-CNRS'\n",
    "Var_X_BIG_Extra = ['iceDraft', 'bathymetry', 'Slope_iceDraft_x', 'Slope_bathymetry_x',\n",
    "                   'Slope_iceDraft_y', 'Slope_bathymetry_y', 'Big_T', 'Big_S',\n",
    "                  'Distances_ground_line', 'Distances_front_line']"
   ]
  },
  {
   "cell_type": "code",
   "execution_count": 3,
   "id": "50ca4ce0-cf72-424e-a2c5-93e3d2861389",
   "metadata": {},
   "outputs": [],
   "source": [
    "\n",
    "# 300 represents number of points to make between T.min and T.max\n",
    "#xnew = np.linspace(T.min(), T.max(), 300) \n",
    "\n",
    "#spl = make_interp_spline(T, power, k=3)  # type: BSpline\n",
    "#power_smooth = spl(xnew)\n",
    "\n",
    "#plt.plot(xnew, power_smooth)\n",
    "#plt.show()"
   ]
  },
  {
   "cell_type": "code",
   "execution_count": 4,
   "id": "8969edcd-c225-4e2d-a0ff-934a44b86f7e",
   "metadata": {},
   "outputs": [],
   "source": [
    "def Vertic_profil(f, T, var = 'temperatureXZ'):\n",
    "    #plt.figure()\n",
    "    data = xr.open_dataset(f)\n",
    "    data = data.assign_coords({'nx': data.x,\n",
    "                           'ny': data.y,\n",
    "                           'nz': - data.z,\n",
    "                           'nTime': data.time})\n",
    "    T = data[var].isel(nTime = T).isel(nx = len(data.nx) - 1)\n",
    "    Z = T.nz\n",
    "    name = re.findall('CPL_(\\w+)_rst', f)[0]\n",
    "    plt.plot(T, Z, label = name)\n",
    "    return Z"
   ]
  },
  {
   "cell_type": "code",
   "execution_count": 6,
   "id": "6625bb87-6c87-4108-8405-755058c832ba",
   "metadata": {
    "tags": []
   },
   "outputs": [
    {
     "name": "stdout",
     "output_type": "stream",
     "text": [
      "Starting /bettik/bouissob/FAVIER_2019/CPL_EXP13_rst_COM_NEMO-CNRS.nc   0/7\n",
      "Starting /bettik/bouissob/FAVIER_2019/CPL_EXP23_rst_COM_NEMO-CNRS.nc   1/7\n",
      "Starting /bettik/bouissob/FAVIER_2019/CPL_EXP11_rst_COM_NEMO-CNRS.nc   2/7\n",
      "Starting /bettik/bouissob/FAVIER_2019/CPL_EXP21_rst_COM_NEMO-CNRS.nc   3/7\n",
      "Starting /bettik/bouissob/FAVIER_2019/CPL_EXP10_rst_COM_NEMO-CNRS.nc   4/7\n",
      "Starting /bettik/bouissob/FAVIER_2019/CPL_EXP20_rst_COM_NEMO-CNRS.nc   5/7\n",
      "Starting /bettik/bouissob/FAVIER_2019/CPL_EXP22_rst_COM_NEMO-CNRS.nc   6/7\n",
      "Starting /bettik/bouissob/FAVIER_2019/CPL_EXP12_rst_COM_NEMO-CNRS.nc   7/7\n"
     ]
    },
    {
     "data": {
      "text/plain": [
       "Text(0.5, 1.0, 'TemperatureXZ profiles')"
      ]
     },
     "execution_count": 6,
     "metadata": {},
     "output_type": "execute_result"
    },
    {
     "data": {
      "image/png": "[encoded data removed]",
      "text/plain": [
       "<Figure size 432x288 with 1 Axes>"
      ]
     },
     "metadata": {
      "needs_background": "light"
     },
     "output_type": "display_data"
    }
   ],
   "source": [
    "files = glob.glob(f'{File_path}*')\n",
    "plt.figure()\n",
    "T = 1199\n",
    "for i, f in enumerate(files):\n",
    "    print(f'Starting {f}   {i}/{len(files)-1}')\n",
    "    Z = Vertic_profil(f, T)\n",
    "COLD = [-1.9,-1.9]\n",
    "WARM = [-1.9, 1]\n",
    "z = [min(Z).values, max(Z).values]\n",
    "plt.plot(COLD, z, label = 'COLD')\n",
    "plt.plot(WARM, z, label = 'WARM')\n",
    "plt.gca().invert_yaxis()\n",
    "plt.legend()\n",
    "plt.xlabel('Temperature(C)')\n",
    "plt.ylabel('Depth (m)')\n",
    "plt.title('TemperatureXZ profiles')\n",
    "#plt.savefig(f'Image_output/All_exp_{T}.png', facecolor = 'white')"
   ]
  },
  {
   "cell_type": "code",
   "execution_count": 7,
   "id": "ad54e995-9002-4ff8-b68c-5303872de971",
   "metadata": {
    "tags": []
   },
   "outputs": [],
   "source": [
    "#plt.figure()\n",
    "#T = 239\n",
    "#for i, f in enumerate(files):\n",
    "#    print(f'Starting {f}   {i}/{len(files)-1}')\n",
    "#    Z = Vertic_profil(f, T, var = 'salinityXZ')\n",
    "#COLD = [33.8, 34.55]\n",
    "#WARM = [33.8, 34.7]\n",
    "#z = [min(Z).values, max(Z).values]\n",
    "#plt.plot(COLD, z, label = 'COLD')\n",
    "#plt.plot(WARM, z, label = 'WARM')\n",
    "#plt.gca().invert_yaxis()\n",
    "#plt.legend()\n",
    "#plt.xlabel('Salinity(PSU)')\n",
    "#plt.ylabel('Depth (m)')\n",
    "#plt.title('SalinityXZ profiles')\n",
    "#plt.savefig(f'Image_output/All_exp_{T}.png', facecolor = 'white')"
   ]
  },
  {
   "cell_type": "code",
   "execution_count": 8,
   "id": "22b777ab-733c-4735-abab-e7db6afa4190",
   "metadata": {},
   "outputs": [],
   "source": [
    "Uniq_var = ['iceDraft', 'bathymetry', 'Slope_iceDraft', 'Slope_bathymetry',\n",
    "                'Big_T', 'Big_S', 'Distances_ground_line', 'Distances_front_line']"
   ]
  },
  {
   "cell_type": "code",
   "execution_count": 9,
   "id": "b2f22acc-41d0-41f5-b4b6-5c2b5d9bb69c",
   "metadata": {},
   "outputs": [],
   "source": [
    "p = f'{os.getcwd()}/Cached_data/Variables_benchmark.csv'"
   ]
  },
  {
   "cell_type": "code",
   "execution_count": 10,
   "id": "e4284c3f-ec17-4014-8bdd-b6d0a30e77ee",
   "metadata": {},
   "outputs": [],
   "source": [
    "Data = pd.read_csv(p)"
   ]
  },
  {
   "cell_type": "code",
   "execution_count": 11,
   "id": "bdc85509-65ba-48e3-915e-75971a2a3332",
   "metadata": {},
   "outputs": [
    {
     "data": {
      "text/html": [
       "<div>\n",
       "<style scoped>\n",
       "    .dataframe tbody tr th:only-of-type {\n",
       "        vertical-align: middle;\n",
       "    }\n",
       "\n",
       "    .dataframe tbody tr th {\n",
       "        vertical-align: top;\n",
       "    }\n",
       "\n",
       "    .dataframe thead th {\n",
       "        text-align: right;\n",
       "    }\n",
       "</style>\n",
       "<table border=\"1\" class=\"dataframe\">\n",
       "  <thead>\n",
       "    <tr style=\"text-align: right;\">\n",
       "      <th></th>\n",
       "      <th>RMSEs</th>\n",
       "      <th>RMSE_tot</th>\n",
       "      <th>Var</th>\n",
       "    </tr>\n",
       "  </thead>\n",
       "  <tbody>\n",
       "    <tr>\n",
       "      <th>0</th>\n",
       "      <td>[0.61712858 0.28906381 0.51506748 0.05484502]</td>\n",
       "      <td>0.387876</td>\n",
       "      <td>['bathymetry', 'Slope_iceDraft_x', 'Slope_bath...</td>\n",
       "    </tr>\n",
       "    <tr>\n",
       "      <th>1</th>\n",
       "      <td>[0.75831513 0.23165843 0.45309013 0.06759232]</td>\n",
       "      <td>0.373814</td>\n",
       "      <td>['iceDraft', 'Slope_iceDraft_x', 'Slope_bathym...</td>\n",
       "    </tr>\n",
       "    <tr>\n",
       "      <th>2</th>\n",
       "      <td>[0.62579602 0.20446691 0.49512351 0.07473426]</td>\n",
       "      <td>0.374898</td>\n",
       "      <td>['iceDraft', 'bathymetry', 'Slope_bathymetry_x...</td>\n",
       "    </tr>\n",
       "    <tr>\n",
       "      <th>3</th>\n",
       "      <td>[0.60004631 0.24224478 0.4450882  0.03718891]</td>\n",
       "      <td>0.343458</td>\n",
       "      <td>['iceDraft', 'bathymetry', 'Slope_iceDraft_x',...</td>\n",
       "    </tr>\n",
       "    <tr>\n",
       "      <th>4</th>\n",
       "      <td>[0.88246319 0.47544169 0.52349788 0.04175668]</td>\n",
       "      <td>0.445508</td>\n",
       "      <td>['iceDraft', 'bathymetry', 'Slope_iceDraft_x',...</td>\n",
       "    </tr>\n",
       "    <tr>\n",
       "      <th>5</th>\n",
       "      <td>[0.67473633 0.28429243 0.4433374  0.04397257]</td>\n",
       "      <td>0.356787</td>\n",
       "      <td>['iceDraft', 'bathymetry', 'Slope_iceDraft_x',...</td>\n",
       "    </tr>\n",
       "    <tr>\n",
       "      <th>6</th>\n",
       "      <td>[0.60928012 0.21526812 0.43815205 0.03732367]</td>\n",
       "      <td>0.339582</td>\n",
       "      <td>['iceDraft', 'bathymetry', 'Slope_iceDraft_x',...</td>\n",
       "    </tr>\n",
       "    <tr>\n",
       "      <th>7</th>\n",
       "      <td>[0.62845229 0.21726365 0.48925227 0.04479217]</td>\n",
       "      <td>0.370638</td>\n",
       "      <td>['iceDraft', 'bathymetry', 'Slope_iceDraft_x',...</td>\n",
       "    </tr>\n",
       "    <tr>\n",
       "      <th>8</th>\n",
       "      <td>[51.16586326  8.4192944   4.30079485  2.07404065]</td>\n",
       "      <td>15.262717</td>\n",
       "      <td>['iceDraft', 'bathymetry', 'Slope_iceDraft_x',...</td>\n",
       "    </tr>\n",
       "  </tbody>\n",
       "</table>\n",
       "</div>"
      ],
      "text/plain": [
       "                                               RMSEs   RMSE_tot  \\\n",
       "0      [0.61712858 0.28906381 0.51506748 0.05484502]   0.387876   \n",
       "1      [0.75831513 0.23165843 0.45309013 0.06759232]   0.373814   \n",
       "2      [0.62579602 0.20446691 0.49512351 0.07473426]   0.374898   \n",
       "3      [0.60004631 0.24224478 0.4450882  0.03718891]   0.343458   \n",
       "4      [0.88246319 0.47544169 0.52349788 0.04175668]   0.445508   \n",
       "5      [0.67473633 0.28429243 0.4433374  0.04397257]   0.356787   \n",
       "6      [0.60928012 0.21526812 0.43815205 0.03732367]   0.339582   \n",
       "7      [0.62845229 0.21726365 0.48925227 0.04479217]   0.370638   \n",
       "8  [51.16586326  8.4192944   4.30079485  2.07404065]  15.262717   \n",
       "\n",
       "                                                 Var  \n",
       "0  ['bathymetry', 'Slope_iceDraft_x', 'Slope_bath...  \n",
       "1  ['iceDraft', 'Slope_iceDraft_x', 'Slope_bathym...  \n",
       "2  ['iceDraft', 'bathymetry', 'Slope_bathymetry_x...  \n",
       "3  ['iceDraft', 'bathymetry', 'Slope_iceDraft_x',...  \n",
       "4  ['iceDraft', 'bathymetry', 'Slope_iceDraft_x',...  \n",
       "5  ['iceDraft', 'bathymetry', 'Slope_iceDraft_x',...  \n",
       "6  ['iceDraft', 'bathymetry', 'Slope_iceDraft_x',...  \n",
       "7  ['iceDraft', 'bathymetry', 'Slope_iceDraft_x',...  \n",
       "8  ['iceDraft', 'bathymetry', 'Slope_iceDraft_x',...  "
      ]
     },
     "execution_count": 11,
     "metadata": {},
     "output_type": "execute_result"
    }
   ],
   "source": [
    "Data"
   ]
  },
  {
   "cell_type": "code",
   "execution_count": 12,
   "id": "a8709143-6c01-4775-bdd3-f6e441dd495e",
   "metadata": {},
   "outputs": [],
   "source": [
    "Var = []\n",
    "RMSE_oc = []\n",
    "RMSE_tot = []\n",
    "for index in Data.index:\n",
    "    cur = Data.loc[index]\n",
    "    Var.append(ast.literal_eval(Data['Var'].loc[index]))\n",
    "    RMSE_oc.append(np.array(Data['RMSEs'].loc[index].strip('][').split()).astype(float))\n",
    "    RMSE_tot.append(float(Data['RMSE_tot'].loc[index]))"
   ]
  },
  {
   "cell_type": "code",
   "execution_count": 13,
   "id": "b3c76580-93e5-4374-8a30-a3e4f3493450",
   "metadata": {},
   "outputs": [],
   "source": [
    "N_V = []\n",
    "for ind, Vars in enumerate(Var):\n",
    "    if 'T_0' in Vars:\n",
    "        for i in range(40):\n",
    "            Vars.remove(f'T_{i}')\n",
    "        Vars.append('Big_T')\n",
    "    if 'S_0' in Vars:\n",
    "        for i in range(40):\n",
    "            Vars.remove(f'S_{i}')\n",
    "        Vars.append('Big_S')\n",
    "    if 'Slope_iceDraft_x' in Vars:\n",
    "        Vars.remove('Slope_iceDraft_x')\n",
    "        Vars.remove('Slope_iceDraft_y')\n",
    "        Vars.append('Slope_iceDraft')\n",
    "        \n",
    "    if 'Slope_bathymetry_x' in Vars:\n",
    "        Vars.remove('Slope_bathymetry_x')\n",
    "        Vars.remove('Slope_bathymetry_y')\n",
    "        Vars.append('Slope_bathymetry')\n",
    "    N_V.append(Vars)"
   ]
  },
  {
   "cell_type": "code",
   "execution_count": null,
   "id": "7c76e3fd-f7a6-4905-a089-45fb5678cf23",
   "metadata": {},
   "outputs": [],
   "source": []
  },
  {
   "cell_type": "code",
   "execution_count": 14,
   "id": "d8063345-67c7-42df-afbf-48255b40b45d",
   "metadata": {},
   "outputs": [],
   "source": [
    "Dropped_var = []\n",
    "\n",
    "for v in N_V:\n",
    "    dv = []\n",
    "    for uv in Uniq_var:\n",
    "        if uv not in v:\n",
    "            dv.append(uv)\n",
    "    Dropped_var.append(dv)"
   ]
  },
  {
   "cell_type": "code",
   "execution_count": 15,
   "id": "8f9e1655-0f49-4c5c-ac53-cffb1225c5c0",
   "metadata": {},
   "outputs": [
    {
     "data": {
      "text/plain": [
       "[['iceDraft'],\n",
       " ['bathymetry'],\n",
       " ['Slope_iceDraft'],\n",
       " ['Slope_bathymetry'],\n",
       " ['Big_T'],\n",
       " ['Big_S'],\n",
       " ['Distances_ground_line'],\n",
       " ['Distances_front_line'],\n",
       " ['Big_T', 'Big_S']]"
      ]
     },
     "execution_count": 15,
     "metadata": {},
     "output_type": "execute_result"
    }
   ],
   "source": [
    "Dropped_var"
   ]
  },
  {
   "cell_type": "code",
   "execution_count": 16,
   "id": "72684f27-4333-4c0b-b34d-c39a0d24781f",
   "metadata": {},
   "outputs": [],
   "source": [
    "df = pd.DataFrame()"
   ]
  },
  {
   "cell_type": "code",
   "execution_count": 17,
   "id": "08cde97d-96e0-4668-9b76-b975d9f84c03",
   "metadata": {},
   "outputs": [],
   "source": [
    "df['Var_drop'] = [ '_'.join(i) for i in Dropped_var]\n",
    "df['RMSE_tot'] = RMSE_tot\n",
    "df[['Ocean1', 'Ocean2', 'Ocean3', 'Ocean4']] = RMSE_oc"
   ]
  },
  {
   "cell_type": "code",
   "execution_count": 18,
   "id": "ec456baa-c333-4a4a-a310-c641b635cd4e",
   "metadata": {},
   "outputs": [],
   "source": [
    "DF = df.set_index('Var_drop')"
   ]
  },
  {
   "cell_type": "code",
   "execution_count": 35,
   "id": "a6d8602c-1eee-4df8-8237-738d8aba5abd",
   "metadata": {
    "tags": []
   },
   "outputs": [],
   "source": [
    "rank = DF.rank(axis = 0, ascending = False)\n",
    "\n",
    "#plt.savefig(f'{os.getcwd()}/Image_output/Heatmap_RMSE.png',facecolor = 'white')"
   ]
  },
  {
   "cell_type": "code",
   "execution_count": 57,
   "id": "5626fed3-63fc-421d-82d2-2c26bdfc6f5d",
   "metadata": {},
   "outputs": [
    {
     "data": {
      "text/html": [
       "<style type=\"text/css\">\n",
       "#T_bd09c_row0_col0 {\n",
       "  background-color: #7db8da;\n",
       "  color: #000000;\n",
       "}\n",
       "#T_bd09c_row0_col1, #T_bd09c_row5_col3 {\n",
       "  background-color: #ebf3fb;\n",
       "  color: #000000;\n",
       "}\n",
       "#T_bd09c_row0_col2 {\n",
       "  background-color: #b3d3e8;\n",
       "  color: #000000;\n",
       "}\n",
       "#T_bd09c_row0_col3 {\n",
       "  background-color: #084a91;\n",
       "  color: #f1f1f1;\n",
       "}\n",
       "#T_bd09c_row0_col4 {\n",
       "  background-color: #77b5d9;\n",
       "  color: #000000;\n",
       "}\n",
       "#T_bd09c_row1_col0 {\n",
       "  background-color: #afd1e7;\n",
       "  color: #000000;\n",
       "}\n",
       "#T_bd09c_row1_col1 {\n",
       "  background-color: #57a0ce;\n",
       "  color: #f1f1f1;\n",
       "}\n",
       "#T_bd09c_row1_col2, #T_bd09c_row7_col1 {\n",
       "  background-color: #e3eef9;\n",
       "  color: #000000;\n",
       "}\n",
       "#T_bd09c_row1_col3 {\n",
       "  background-color: #d5e5f4;\n",
       "  color: #000000;\n",
       "}\n",
       "#T_bd09c_row1_col4 {\n",
       "  background-color: #1561a9;\n",
       "  color: #f1f1f1;\n",
       "}\n",
       "#T_bd09c_row2_col0 {\n",
       "  background-color: #abd0e6;\n",
       "  color: #000000;\n",
       "}\n",
       "#T_bd09c_row2_col1 {\n",
       "  background-color: #e5eff9;\n",
       "  color: #000000;\n",
       "}\n",
       "#T_bd09c_row2_col2, #T_bd09c_row3_col1, #T_bd09c_row3_col4, #T_bd09c_row6_col0, #T_bd09c_row6_col3, #T_bd09c_row6_col4 {\n",
       "  background-color: #f7fbff;\n",
       "  color: #000000;\n",
       "}\n",
       "#T_bd09c_row2_col3 {\n",
       "  background-color: #3787c0;\n",
       "  color: #f1f1f1;\n",
       "}\n",
       "#T_bd09c_row2_col4, #T_bd09c_row4_col0, #T_bd09c_row4_col1, #T_bd09c_row4_col2, #T_bd09c_row4_col3 {\n",
       "  background-color: #08306b;\n",
       "  color: #f1f1f1;\n",
       "}\n",
       "#T_bd09c_row3_col0 {\n",
       "  background-color: #f0f6fd;\n",
       "  color: #000000;\n",
       "}\n",
       "#T_bd09c_row3_col2 {\n",
       "  background-color: #dce9f6;\n",
       "  color: #000000;\n",
       "}\n",
       "#T_bd09c_row3_col3 {\n",
       "  background-color: #e7f1fa;\n",
       "  color: #000000;\n",
       "}\n",
       "#T_bd09c_row4_col4 {\n",
       "  background-color: #dfebf7;\n",
       "  color: #000000;\n",
       "}\n",
       "#T_bd09c_row5_col0 {\n",
       "  background-color: #d7e6f5;\n",
       "  color: #000000;\n",
       "}\n",
       "#T_bd09c_row5_col1 {\n",
       "  background-color: #c2d9ee;\n",
       "  color: #000000;\n",
       "}\n",
       "#T_bd09c_row5_col2, #T_bd09c_row7_col0 {\n",
       "  background-color: #b8d5ea;\n",
       "  color: #000000;\n",
       "}\n",
       "#T_bd09c_row5_col4 {\n",
       "  background-color: #d3e4f3;\n",
       "  color: #000000;\n",
       "}\n",
       "#T_bd09c_row6_col1 {\n",
       "  background-color: #f1f7fd;\n",
       "  color: #000000;\n",
       "}\n",
       "#T_bd09c_row6_col2 {\n",
       "  background-color: #eff6fc;\n",
       "  color: #000000;\n",
       "}\n",
       "#T_bd09c_row7_col2 {\n",
       "  background-color: #eef5fc;\n",
       "  color: #000000;\n",
       "}\n",
       "#T_bd09c_row7_col3 {\n",
       "  background-color: #4a98c9;\n",
       "  color: #f1f1f1;\n",
       "}\n",
       "#T_bd09c_row7_col4 {\n",
       "  background-color: #d0e1f2;\n",
       "  color: #000000;\n",
       "}\n",
       "</style>\n",
       "<table id=\"T_bd09c_\">\n",
       "  <thead>\n",
       "    <tr>\n",
       "      <th class=\"blank level0\" >&nbsp;</th>\n",
       "      <th class=\"col_heading level0 col0\" >RMSE_tot</th>\n",
       "      <th class=\"col_heading level0 col1\" >Ocean1</th>\n",
       "      <th class=\"col_heading level0 col2\" >Ocean2</th>\n",
       "      <th class=\"col_heading level0 col3\" >Ocean3</th>\n",
       "      <th class=\"col_heading level0 col4\" >Ocean4</th>\n",
       "    </tr>\n",
       "    <tr>\n",
       "      <th class=\"index_name level0\" >Var_drop</th>\n",
       "      <th class=\"blank col0\" >&nbsp;</th>\n",
       "      <th class=\"blank col1\" >&nbsp;</th>\n",
       "      <th class=\"blank col2\" >&nbsp;</th>\n",
       "      <th class=\"blank col3\" >&nbsp;</th>\n",
       "      <th class=\"blank col4\" >&nbsp;</th>\n",
       "    </tr>\n",
       "  </thead>\n",
       "  <tbody>\n",
       "    <tr>\n",
       "      <th id=\"T_bd09c_level0_row0\" class=\"row_heading level0 row0\" >iceDraft</th>\n",
       "      <td id=\"T_bd09c_row0_col0\" class=\"data row0 col0\" >0.387876</td>\n",
       "      <td id=\"T_bd09c_row0_col1\" class=\"data row0 col1\" >0.617129</td>\n",
       "      <td id=\"T_bd09c_row0_col2\" class=\"data row0 col2\" >0.289064</td>\n",
       "      <td id=\"T_bd09c_row0_col3\" class=\"data row0 col3\" >0.515067</td>\n",
       "      <td id=\"T_bd09c_row0_col4\" class=\"data row0 col4\" >0.054845</td>\n",
       "    </tr>\n",
       "    <tr>\n",
       "      <th id=\"T_bd09c_level0_row1\" class=\"row_heading level0 row1\" >bathymetry</th>\n",
       "      <td id=\"T_bd09c_row1_col0\" class=\"data row1 col0\" >0.373814</td>\n",
       "      <td id=\"T_bd09c_row1_col1\" class=\"data row1 col1\" >0.758315</td>\n",
       "      <td id=\"T_bd09c_row1_col2\" class=\"data row1 col2\" >0.231658</td>\n",
       "      <td id=\"T_bd09c_row1_col3\" class=\"data row1 col3\" >0.453090</td>\n",
       "      <td id=\"T_bd09c_row1_col4\" class=\"data row1 col4\" >0.067592</td>\n",
       "    </tr>\n",
       "    <tr>\n",
       "      <th id=\"T_bd09c_level0_row2\" class=\"row_heading level0 row2\" >Slope_iceDraft</th>\n",
       "      <td id=\"T_bd09c_row2_col0\" class=\"data row2 col0\" >0.374898</td>\n",
       "      <td id=\"T_bd09c_row2_col1\" class=\"data row2 col1\" >0.625796</td>\n",
       "      <td id=\"T_bd09c_row2_col2\" class=\"data row2 col2\" >0.204467</td>\n",
       "      <td id=\"T_bd09c_row2_col3\" class=\"data row2 col3\" >0.495124</td>\n",
       "      <td id=\"T_bd09c_row2_col4\" class=\"data row2 col4\" >0.074734</td>\n",
       "    </tr>\n",
       "    <tr>\n",
       "      <th id=\"T_bd09c_level0_row3\" class=\"row_heading level0 row3\" >Slope_bathymetry</th>\n",
       "      <td id=\"T_bd09c_row3_col0\" class=\"data row3 col0\" >0.343458</td>\n",
       "      <td id=\"T_bd09c_row3_col1\" class=\"data row3 col1\" >0.600046</td>\n",
       "      <td id=\"T_bd09c_row3_col2\" class=\"data row3 col2\" >0.242245</td>\n",
       "      <td id=\"T_bd09c_row3_col3\" class=\"data row3 col3\" >0.445088</td>\n",
       "      <td id=\"T_bd09c_row3_col4\" class=\"data row3 col4\" >0.037189</td>\n",
       "    </tr>\n",
       "    <tr>\n",
       "      <th id=\"T_bd09c_level0_row4\" class=\"row_heading level0 row4\" >Big_T</th>\n",
       "      <td id=\"T_bd09c_row4_col0\" class=\"data row4 col0\" >0.445508</td>\n",
       "      <td id=\"T_bd09c_row4_col1\" class=\"data row4 col1\" >0.882463</td>\n",
       "      <td id=\"T_bd09c_row4_col2\" class=\"data row4 col2\" >0.475442</td>\n",
       "      <td id=\"T_bd09c_row4_col3\" class=\"data row4 col3\" >0.523498</td>\n",
       "      <td id=\"T_bd09c_row4_col4\" class=\"data row4 col4\" >0.041757</td>\n",
       "    </tr>\n",
       "    <tr>\n",
       "      <th id=\"T_bd09c_level0_row5\" class=\"row_heading level0 row5\" >Big_S</th>\n",
       "      <td id=\"T_bd09c_row5_col0\" class=\"data row5 col0\" >0.356787</td>\n",
       "      <td id=\"T_bd09c_row5_col1\" class=\"data row5 col1\" >0.674736</td>\n",
       "      <td id=\"T_bd09c_row5_col2\" class=\"data row5 col2\" >0.284292</td>\n",
       "      <td id=\"T_bd09c_row5_col3\" class=\"data row5 col3\" >0.443337</td>\n",
       "      <td id=\"T_bd09c_row5_col4\" class=\"data row5 col4\" >0.043973</td>\n",
       "    </tr>\n",
       "    <tr>\n",
       "      <th id=\"T_bd09c_level0_row6\" class=\"row_heading level0 row6\" >Distances_ground_line</th>\n",
       "      <td id=\"T_bd09c_row6_col0\" class=\"data row6 col0\" >0.339582</td>\n",
       "      <td id=\"T_bd09c_row6_col1\" class=\"data row6 col1\" >0.609280</td>\n",
       "      <td id=\"T_bd09c_row6_col2\" class=\"data row6 col2\" >0.215268</td>\n",
       "      <td id=\"T_bd09c_row6_col3\" class=\"data row6 col3\" >0.438152</td>\n",
       "      <td id=\"T_bd09c_row6_col4\" class=\"data row6 col4\" >0.037324</td>\n",
       "    </tr>\n",
       "    <tr>\n",
       "      <th id=\"T_bd09c_level0_row7\" class=\"row_heading level0 row7\" >Distances_front_line</th>\n",
       "      <td id=\"T_bd09c_row7_col0\" class=\"data row7 col0\" >0.370638</td>\n",
       "      <td id=\"T_bd09c_row7_col1\" class=\"data row7 col1\" >0.628452</td>\n",
       "      <td id=\"T_bd09c_row7_col2\" class=\"data row7 col2\" >0.217264</td>\n",
       "      <td id=\"T_bd09c_row7_col3\" class=\"data row7 col3\" >0.489252</td>\n",
       "      <td id=\"T_bd09c_row7_col4\" class=\"data row7 col4\" >0.044792</td>\n",
       "    </tr>\n",
       "  </tbody>\n",
       "</table>\n"
      ],
      "text/plain": [
       "<pandas.io.formats.style.Styler at 0x7ff119d74f90>"
      ]
     },
     "execution_count": 57,
     "metadata": {},
     "output_type": "execute_result"
    }
   ],
   "source": [
    "DF.loc[DF.index[:-1]].style.background_gradient(cmap='Blues')"
   ]
  },
  {
   "cell_type": "code",
   "execution_count": 44,
   "id": "ff02e680-d908-4d10-b48f-d8d33d197326",
   "metadata": {},
   "outputs": [
    {
     "data": {
      "image/png": "[encoded data removed]",
      "text/plain": [
       "<Figure size 432x288 with 1 Axes>"
      ]
     },
     "metadata": {
      "needs_background": "light"
     },
     "output_type": "display_data"
    }
   ],
   "source": [
    "d = DF.loc[DF.index[:-1]]\n",
    "Min = d.min()\n",
    "Max = d.max()\n",
    "d2 = (d - Min) / (Max - Min)\n",
    "sns.heatmap(d2, annot=d, cmap=\"Blues\", cbar=False)\n",
    "\n",
    "plt.savefig(f'{os.getcwd()}/Image_output/Heatmap_RMSE.png',facecolor = 'white', dpi=300, bbox_inches = \"tight\")"
   ]
  },
  {
   "cell_type": "code",
   "execution_count": 42,
   "id": "651de284-7e3b-4504-a883-06f9d99b0fe3",
   "metadata": {},
   "outputs": [
    {
     "data": {
      "image/png": "[encoded data removed]",
      "text/plain": [
       "<Figure size 432x288 with 2 Axes>"
      ]
     },
     "metadata": {
      "needs_background": "light"
     },
     "output_type": "display_data"
    }
   ],
   "source": [
    "sns.heatmap(rank, annot=DF, cmap=\"Blues_r\", cbar=True)\n",
    "plt.savefig(f'{os.getcwd()}/Image_output/Heatmap_RMSE_rank.png',facecolor = 'white', dpi=300, bbox_inches = \"tight\")"
   ]
  },
  {
   "cell_type": "code",
   "execution_count": 59,
   "id": "e41bf20d-2b79-439a-b075-68ed1c15e5da",
   "metadata": {},
   "outputs": [
    {
     "data": {
      "text/html": [
       "<style type=\"text/css\">\n",
       "#T_d7d30_row0_col0, #T_d7d30_row0_col2, #T_d7d30_row0_col3, #T_d7d30_row1_col1, #T_d7d30_row1_col4 {\n",
       "  background-color: #2171b5;\n",
       "  color: #f1f1f1;\n",
       "}\n",
       "#T_d7d30_row0_col1, #T_d7d30_row3_col3, #T_d7d30_row4_col4, #T_d7d30_row5_col0, #T_d7d30_row7_col2 {\n",
       "  background-color: #c7dbef;\n",
       "  color: #000000;\n",
       "}\n",
       "#T_d7d30_row0_col4, #T_d7d30_row2_col0, #T_d7d30_row2_col3, #T_d7d30_row5_col1, #T_d7d30_row5_col2 {\n",
       "  background-color: #4292c6;\n",
       "  color: #f1f1f1;\n",
       "}\n",
       "#T_d7d30_row1_col0, #T_d7d30_row3_col2, #T_d7d30_row7_col1, #T_d7d30_row7_col3, #T_d7d30_row7_col4 {\n",
       "  background-color: #6caed6;\n",
       "  color: #f1f1f1;\n",
       "}\n",
       "#T_d7d30_row1_col2, #T_d7d30_row1_col3, #T_d7d30_row2_col1, #T_d7d30_row5_col4, #T_d7d30_row7_col0 {\n",
       "  background-color: #9fcae1;\n",
       "  color: #000000;\n",
       "}\n",
       "#T_d7d30_row2_col2, #T_d7d30_row3_col1, #T_d7d30_row3_col4, #T_d7d30_row6_col0, #T_d7d30_row6_col3 {\n",
       "  background-color: #f7fbff;\n",
       "  color: #000000;\n",
       "}\n",
       "#T_d7d30_row2_col4, #T_d7d30_row4_col0, #T_d7d30_row4_col1, #T_d7d30_row4_col2, #T_d7d30_row4_col3 {\n",
       "  background-color: #08519c;\n",
       "  color: #f1f1f1;\n",
       "}\n",
       "#T_d7d30_row3_col0, #T_d7d30_row5_col3, #T_d7d30_row6_col1, #T_d7d30_row6_col2, #T_d7d30_row6_col4 {\n",
       "  background-color: #dfebf7;\n",
       "  color: #000000;\n",
       "}\n",
       "#T_d7d30_row8_col0, #T_d7d30_row8_col1, #T_d7d30_row8_col2, #T_d7d30_row8_col3, #T_d7d30_row8_col4 {\n",
       "  background-color: #08306b;\n",
       "  color: #f1f1f1;\n",
       "}\n",
       "</style>\n",
       "<table id=\"T_d7d30_\">\n",
       "  <thead>\n",
       "    <tr>\n",
       "      <th class=\"blank level0\" >&nbsp;</th>\n",
       "      <th class=\"col_heading level0 col0\" >RMSE_tot</th>\n",
       "      <th class=\"col_heading level0 col1\" >Ocean1</th>\n",
       "      <th class=\"col_heading level0 col2\" >Ocean2</th>\n",
       "      <th class=\"col_heading level0 col3\" >Ocean3</th>\n",
       "      <th class=\"col_heading level0 col4\" >Ocean4</th>\n",
       "    </tr>\n",
       "    <tr>\n",
       "      <th class=\"index_name level0\" >Var_drop</th>\n",
       "      <th class=\"blank col0\" >&nbsp;</th>\n",
       "      <th class=\"blank col1\" >&nbsp;</th>\n",
       "      <th class=\"blank col2\" >&nbsp;</th>\n",
       "      <th class=\"blank col3\" >&nbsp;</th>\n",
       "      <th class=\"blank col4\" >&nbsp;</th>\n",
       "    </tr>\n",
       "  </thead>\n",
       "  <tbody>\n",
       "    <tr>\n",
       "      <th id=\"T_d7d30_level0_row0\" class=\"row_heading level0 row0\" >iceDraft</th>\n",
       "      <td id=\"T_d7d30_row0_col0\" class=\"data row0 col0\" >3</td>\n",
       "      <td id=\"T_d7d30_row0_col1\" class=\"data row0 col1\" >7</td>\n",
       "      <td id=\"T_d7d30_row0_col2\" class=\"data row0 col2\" >3</td>\n",
       "      <td id=\"T_d7d30_row0_col3\" class=\"data row0 col3\" >3</td>\n",
       "      <td id=\"T_d7d30_row0_col4\" class=\"data row0 col4\" >4</td>\n",
       "    </tr>\n",
       "    <tr>\n",
       "      <th id=\"T_d7d30_level0_row1\" class=\"row_heading level0 row1\" >bathymetry</th>\n",
       "      <td id=\"T_d7d30_row1_col0\" class=\"data row1 col0\" >5</td>\n",
       "      <td id=\"T_d7d30_row1_col1\" class=\"data row1 col1\" >3</td>\n",
       "      <td id=\"T_d7d30_row1_col2\" class=\"data row1 col2\" >6</td>\n",
       "      <td id=\"T_d7d30_row1_col3\" class=\"data row1 col3\" >6</td>\n",
       "      <td id=\"T_d7d30_row1_col4\" class=\"data row1 col4\" >3</td>\n",
       "    </tr>\n",
       "    <tr>\n",
       "      <th id=\"T_d7d30_level0_row2\" class=\"row_heading level0 row2\" >Slope_iceDraft</th>\n",
       "      <td id=\"T_d7d30_row2_col0\" class=\"data row2 col0\" >4</td>\n",
       "      <td id=\"T_d7d30_row2_col1\" class=\"data row2 col1\" >6</td>\n",
       "      <td id=\"T_d7d30_row2_col2\" class=\"data row2 col2\" >9</td>\n",
       "      <td id=\"T_d7d30_row2_col3\" class=\"data row2 col3\" >4</td>\n",
       "      <td id=\"T_d7d30_row2_col4\" class=\"data row2 col4\" >2</td>\n",
       "    </tr>\n",
       "    <tr>\n",
       "      <th id=\"T_d7d30_level0_row3\" class=\"row_heading level0 row3\" >Slope_bathymetry</th>\n",
       "      <td id=\"T_d7d30_row3_col0\" class=\"data row3 col0\" >8</td>\n",
       "      <td id=\"T_d7d30_row3_col1\" class=\"data row3 col1\" >9</td>\n",
       "      <td id=\"T_d7d30_row3_col2\" class=\"data row3 col2\" >5</td>\n",
       "      <td id=\"T_d7d30_row3_col3\" class=\"data row3 col3\" >7</td>\n",
       "      <td id=\"T_d7d30_row3_col4\" class=\"data row3 col4\" >9</td>\n",
       "    </tr>\n",
       "    <tr>\n",
       "      <th id=\"T_d7d30_level0_row4\" class=\"row_heading level0 row4\" >Big_T</th>\n",
       "      <td id=\"T_d7d30_row4_col0\" class=\"data row4 col0\" >2</td>\n",
       "      <td id=\"T_d7d30_row4_col1\" class=\"data row4 col1\" >2</td>\n",
       "      <td id=\"T_d7d30_row4_col2\" class=\"data row4 col2\" >2</td>\n",
       "      <td id=\"T_d7d30_row4_col3\" class=\"data row4 col3\" >2</td>\n",
       "      <td id=\"T_d7d30_row4_col4\" class=\"data row4 col4\" >7</td>\n",
       "    </tr>\n",
       "    <tr>\n",
       "      <th id=\"T_d7d30_level0_row5\" class=\"row_heading level0 row5\" >Big_S</th>\n",
       "      <td id=\"T_d7d30_row5_col0\" class=\"data row5 col0\" >7</td>\n",
       "      <td id=\"T_d7d30_row5_col1\" class=\"data row5 col1\" >4</td>\n",
       "      <td id=\"T_d7d30_row5_col2\" class=\"data row5 col2\" >4</td>\n",
       "      <td id=\"T_d7d30_row5_col3\" class=\"data row5 col3\" >8</td>\n",
       "      <td id=\"T_d7d30_row5_col4\" class=\"data row5 col4\" >6</td>\n",
       "    </tr>\n",
       "    <tr>\n",
       "      <th id=\"T_d7d30_level0_row6\" class=\"row_heading level0 row6\" >Distances_ground_line</th>\n",
       "      <td id=\"T_d7d30_row6_col0\" class=\"data row6 col0\" >9</td>\n",
       "      <td id=\"T_d7d30_row6_col1\" class=\"data row6 col1\" >8</td>\n",
       "      <td id=\"T_d7d30_row6_col2\" class=\"data row6 col2\" >8</td>\n",
       "      <td id=\"T_d7d30_row6_col3\" class=\"data row6 col3\" >9</td>\n",
       "      <td id=\"T_d7d30_row6_col4\" class=\"data row6 col4\" >8</td>\n",
       "    </tr>\n",
       "    <tr>\n",
       "      <th id=\"T_d7d30_level0_row7\" class=\"row_heading level0 row7\" >Distances_front_line</th>\n",
       "      <td id=\"T_d7d30_row7_col0\" class=\"data row7 col0\" >6</td>\n",
       "      <td id=\"T_d7d30_row7_col1\" class=\"data row7 col1\" >5</td>\n",
       "      <td id=\"T_d7d30_row7_col2\" class=\"data row7 col2\" >7</td>\n",
       "      <td id=\"T_d7d30_row7_col3\" class=\"data row7 col3\" >5</td>\n",
       "      <td id=\"T_d7d30_row7_col4\" class=\"data row7 col4\" >5</td>\n",
       "    </tr>\n",
       "    <tr>\n",
       "      <th id=\"T_d7d30_level0_row8\" class=\"row_heading level0 row8\" >Big_T_Big_S</th>\n",
       "      <td id=\"T_d7d30_row8_col0\" class=\"data row8 col0\" >1</td>\n",
       "      <td id=\"T_d7d30_row8_col1\" class=\"data row8 col1\" >1</td>\n",
       "      <td id=\"T_d7d30_row8_col2\" class=\"data row8 col2\" >1</td>\n",
       "      <td id=\"T_d7d30_row8_col3\" class=\"data row8 col3\" >1</td>\n",
       "      <td id=\"T_d7d30_row8_col4\" class=\"data row8 col4\" >1</td>\n",
       "    </tr>\n",
       "  </tbody>\n",
       "</table>\n"
      ],
      "text/plain": [
       "<pandas.io.formats.style.Styler at 0x7ff12088ef90>"
      ]
     },
     "execution_count": 59,
     "metadata": {},
     "output_type": "execute_result"
    }
   ],
   "source": [
    "rank.astype(int).style.background_gradient(cmap='Blues_r')"
   ]
  },
  {
   "cell_type": "code",
   "execution_count": null,
   "id": "5233318f-fa63-450b-8e51-957db082a835",
   "metadata": {},
   "outputs": [],
   "source": []
  }
 ],
 "metadata": {
  "kernelspec": {
   "display_name": "py37",
   "language": "python",
   "name": "py37"
  },
  "language_info": {
   "codemirror_mode": {
    "name": "ipython",
    "version": 3
   },
   "file_extension": ".py",
   "mimetype": "text/x-python",
   "name": "python",
   "nbconvert_exporter": "python",
   "pygments_lexer": "ipython3",
   "version": "3.7.13"
  }
 },
 "nbformat": 4,
 "nbformat_minor": 5
}
