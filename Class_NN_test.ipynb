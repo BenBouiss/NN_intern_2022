{
 "cells": [
  {
   "cell_type": "code",
   "execution_count": 1,
   "id": "52f7f59d-95e3-4941-bfdf-631f8678bb3f",
   "metadata": {},
   "outputs": [],
   "source": [
    "import NN\n",
    "import os\n",
    "import importlib\n",
    "import glob\n",
    "import pandas as pd\n",
    "import numpy as np\n",
    "import tensorflow as tf\n",
    "os.environ['TF_CPP_MIN_LOG_LEVEL'] = '3' "
   ]
  },
  {
   "cell_type": "code",
   "execution_count": 2,
   "id": "401a6dc0-5ab4-4ab2-85fc-997ba396a371",
   "metadata": {},
   "outputs": [
    {
     "data": {
      "text/plain": [
       "<module 'NN' from '/home/bouissob/Code/NN.py'>"
      ]
     },
     "execution_count": 2,
     "metadata": {},
     "output_type": "execute_result"
    }
   ],
   "source": [
    "importlib.reload(NN)"
   ]
  },
  {
   "cell_type": "code",
   "execution_count": 3,
   "id": "eed05240-403a-4b86-a043-e83bff976a67",
   "metadata": {},
   "outputs": [],
   "source": [
    "#def __init__(self, Epoch = 2, Neur_seq = '32/64/64/32', Dataset_train = ['Ocean1'], Oc_mod_type = 'COM_NEMO-CNRS', \n",
    "#             Var_X = ['x', 'y', 'temperatureYZ', 'salinityYZ', 'iceDraft'], Var_Y = 'meltRate'):"
   ]
  },
  {
   "cell_type": "code",
   "execution_count": 4,
   "id": "e624cd57-c427-4cbf-8c73-0d791a810bfa",
   "metadata": {},
   "outputs": [],
   "source": [
    "#Test = NN.model_NN(Epoch = 1, Neur_seq = '4_2')\n",
    "#Test.train()"
   ]
  },
  {
   "cell_type": "code",
   "execution_count": 5,
   "id": "e0318911-56cd-4540-b54c-4099d291a09d",
   "metadata": {},
   "outputs": [],
   "source": [
    "OcT = ['Ocean1', 'Ocean2', 'Ocean3', 'Ocean4']"
   ]
  },
  {
   "cell_type": "code",
   "execution_count": null,
   "id": "4b5202d7-03f2-4ff5-b6c4-5bddbf2943f1",
   "metadata": {
    "tags": []
   },
   "outputs": [
    {
     "name": "stdout",
     "output_type": "stream",
     "text": [
      "Projected training regiment :\n",
      " ['1_4', '4_4', '1_16', '4_16', '4_16_32', '16_16_32', '4_32_32', '16_32_32', '4_16_64', '16_16_64', '4_32_64', '16_32_64', '16_32_64_64', '32_32_64_64', '16_64_64_64', '32_64_64_64']\n",
      "Starting training for neurone : 1_4, 0/16\n",
      "Starting training for neurone : 4_4, 1/16\n"
     ]
    }
   ],
   "source": [
    "Training = NN.Sequencial_training(NN.model_NN, Epoch = 4)\n",
    "Tot = Training.training(3, verbose = 0, batch_size = 64, Dataset_train = OcT)"
   ]
  },
  {
   "cell_type": "code",
   "execution_count": null,
   "id": "7d034e50-47ed-4331-9add-d19b310a8870",
   "metadata": {},
   "outputs": [],
   "source": [
    "pwd = os.getcwd()\n",
    "Ocean_mod = 'Ocean1'\n",
    "Type = 'COM_NEMO-CNRS'\n",
    "Models_path = os.path.join(pwd, 'Auto_model', Type, Ocean_mod)\n",
    "li = glob.glob(Models_path + '/Ep_14*')"
   ]
  },
  {
   "cell_type": "code",
   "execution_count": null,
   "id": "bd256f9c-c2d2-40da-b939-76b87bb7eb12",
   "metadata": {},
   "outputs": [],
   "source": [
    "Test = li[len(li) - 1]\n",
    "MeanX, StdX = pd.read_pickle(Test + '/MeanX.pkl'), pd.read_pickle(Test + '/StdX.pkl')\n",
    "MeanY, StdY = np.loadtxt(Test + '/MeanY.csv'), np.loadtxt(Test + '/StdY.csv')\n",
    "model = tf.keras.models.load_model(Test + '/model.h5')"
   ]
  },
  {
   "cell_type": "code",
   "execution_count": null,
   "id": "b8a65f63-3ebd-4ced-9213-30fdc00a672c",
   "metadata": {},
   "outputs": [],
   "source": [
    "model.count_params()"
   ]
  },
  {
   "cell_type": "code",
   "execution_count": null,
   "id": "bf022370-964c-42b3-a38b-45cf2fec325f",
   "metadata": {
    "tags": []
   },
   "outputs": [],
   "source": [
    "#def Plotting(Epoch = 14, Ocean_trained = 'Ocean1', Type_trained = 'COM_NEMO', \n",
    "             #Plotting_target = 'Ocean1', Type_tar = 'COM_NEMO-CNRS' ):\n",
    "importlib.reload(NN)\n",
    "Rm, Param, Neur = NN.Plotting()"
   ]
  },
  {
   "cell_type": "code",
   "execution_count": null,
   "id": "db724790-3488-47fd-95f4-3633c5387dc6",
   "metadata": {},
   "outputs": [],
   "source": [
    "Rn"
   ]
  },
  {
   "cell_type": "code",
   "execution_count": null,
   "id": "4fc8e404-0122-424b-a80d-23d1bbd1a02b",
   "metadata": {},
   "outputs": [],
   "source": [
    "Neur"
   ]
  },
  {
   "cell_type": "code",
   "execution_count": null,
   "id": "f860a646-58d8-4dc1-b94d-6e3d1aef3e54",
   "metadata": {},
   "outputs": [],
   "source": [
    "B"
   ]
  },
  {
   "cell_type": "code",
   "execution_count": null,
   "id": "3d0c4a5d-72a5-45b4-8da3-8fc782158873",
   "metadata": {},
   "outputs": [],
   "source": [
    "Epoch, Neur, Choix = re.findall('Ep_(\\d+)_N_(\\w+)_Ch_(\\d+)', Test)[0]"
   ]
  },
  {
   "cell_type": "code",
   "execution_count": null,
   "id": "dbfab742-71a3-4755-ae66-d9e244ebc898",
   "metadata": {},
   "outputs": [],
   "source": []
  },
  {
   "cell_type": "code",
   "execution_count": null,
   "id": "9179a04b-9a8b-4305-81a1-a4a420d03288",
   "metadata": {},
   "outputs": [],
   "source": []
  },
  {
   "cell_type": "code",
   "execution_count": null,
   "id": "3427d77d-1afa-4755-b417-dac04b8355be",
   "metadata": {},
   "outputs": [],
   "source": []
  }
 ],
 "metadata": {
  "kernelspec": {
   "display_name": "py37",
   "language": "python",
   "name": "py37"
  },
  "language_info": {
   "codemirror_mode": {
    "name": "ipython",
    "version": 3
   },
   "file_extension": ".py",
   "mimetype": "text/x-python",
   "name": "python",
   "nbconvert_exporter": "python",
   "pygments_lexer": "ipython3",
   "version": "3.7.11"
  }
 },
 "nbformat": 4,
 "nbformat_minor": 5
}
