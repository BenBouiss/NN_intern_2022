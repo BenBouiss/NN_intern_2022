{
 "cells": [
  {
   "cell_type": "code",
   "execution_count": 1,
   "id": "52f7f59d-95e3-4941-bfdf-631f8678bb3f",
   "metadata": {},
   "outputs": [],
   "source": [
    "import NN\n",
    "import os\n",
    "os.environ['TF_CPP_MIN_LOG_LEVEL'] = '3' "
   ]
  },
  {
   "cell_type": "code",
   "execution_count": 2,
   "id": "eed05240-403a-4b86-a043-e83bff976a67",
   "metadata": {},
   "outputs": [],
   "source": [
    "#def __init__(self, Epoch = 2, Neur_seq = '32/64/64/32', Dataset_train = ['Ocean1'], Oc_mod_type = 'COM_NEMO-CNRS', \n",
    "#             Var_X = ['x', 'y', 'temperatureYZ', 'salinityYZ', 'iceDraft'], Var_Y = 'meltRate'):"
   ]
  },
  {
   "cell_type": "code",
   "execution_count": 3,
   "id": "e624cd57-c427-4cbf-8c73-0d791a810bfa",
   "metadata": {},
   "outputs": [],
   "source": [
    "Test = NN.model_NN(Epoch = 1, Neur_seq = '4_2')\n",
    "#Test.train()"
   ]
  },
  {
   "cell_type": "code",
   "execution_count": 4,
   "id": "4b5202d7-03f2-4ff5-b6c4-5bddbf2943f1",
   "metadata": {
    "tags": []
   },
   "outputs": [
    {
     "name": "stdout",
     "output_type": "stream",
     "text": [
      "Starting training for neurone : 16_32_64_64\n",
      "Epoch 1/2\n",
      "17448/17448 [==============================] - 30s 2ms/step - loss: 0.1368 - mae: 0.1848 - mse: 0.1368 - val_loss: 0.0664 - val_mae: 0.1223 - val_mse: 0.0664\n",
      "Epoch 2/2\n",
      "17448/17448 [==============================] - 29s 2ms/step - loss: 0.0626 - mae: 0.1182 - mse: 0.0626 - val_loss: 0.0443 - val_mae: 0.1018 - val_mse: 0.0443\n",
      "Starting training for neurone : 32_32_64_64\n",
      "Epoch 1/2\n",
      "17448/17448 [==============================] - 35s 2ms/step - loss: 0.1312 - mae: 0.1792 - mse: 0.1312 - val_loss: 0.0959 - val_mae: 0.1356 - val_mse: 0.0959\n",
      "Epoch 2/2\n",
      "17448/17448 [==============================] - 33s 2ms/step - loss: 0.0512 - mae: 0.1076 - mse: 0.0512 - val_loss: 0.0284 - val_mae: 0.0854 - val_mse: 0.0284\n",
      "Starting training for neurone : 16_64_64_64\n",
      "Epoch 1/2\n",
      "17448/17448 [==============================] - 34s 2ms/step - loss: 0.1316 - mae: 0.1778 - mse: 0.1316 - val_loss: 0.0725 - val_mae: 0.1229 - val_mse: 0.0725\n",
      "Epoch 2/2\n",
      "17448/17448 [==============================] - 33s 2ms/step - loss: 0.0628 - mae: 0.1149 - mse: 0.0628 - val_loss: 0.0346 - val_mae: 0.0963 - val_mse: 0.0346\n",
      "Starting training for neurone : 32_64_64_64\n",
      "Epoch 1/2\n",
      "17448/17448 [==============================] - 35s 2ms/step - loss: 0.1280 - mae: 0.1725 - mse: 0.1280 - val_loss: 0.0488 - val_mae: 0.1144 - val_mse: 0.0488\n",
      "Epoch 2/2\n",
      "17448/17448 [==============================] - 34s 2ms/step - loss: 0.0441 - mae: 0.1014 - mse: 0.0441 - val_loss: 0.0433 - val_mae: 0.0928 - val_mse: 0.0433\n"
     ]
    }
   ],
   "source": [
    "Training = NN.Sequencial_training(Test, Epoch = 2)\n",
    "Training.training(3)"
   ]
  },
  {
   "cell_type": "code",
   "execution_count": null,
   "id": "7d034e50-47ed-4331-9add-d19b310a8870",
   "metadata": {},
   "outputs": [],
   "source": []
  },
  {
   "cell_type": "code",
   "execution_count": null,
   "id": "bd256f9c-c2d2-40da-b939-76b87bb7eb12",
   "metadata": {},
   "outputs": [],
   "source": []
  }
 ],
 "metadata": {
  "kernelspec": {
   "display_name": "py37",
   "language": "python",
   "name": "py37"
  },
  "language_info": {
   "codemirror_mode": {
    "name": "ipython",
    "version": 3
   },
   "file_extension": ".py",
   "mimetype": "text/x-python",
   "name": "python",
   "nbconvert_exporter": "python",
   "pygments_lexer": "ipython3",
   "version": "3.7.11"
  }
 },
 "nbformat": 4,
 "nbformat_minor": 5
}
