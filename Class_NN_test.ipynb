{
 "cells": [
  {
   "cell_type": "code",
   "execution_count": 43,
   "id": "52f7f59d-95e3-4941-bfdf-631f8678bb3f",
   "metadata": {},
   "outputs": [],
   "source": [
    "import NN\n",
    "import os\n",
    "import importlib\n",
    "import glob\n",
    "import pandas as pd\n",
    "import numpy as np\n",
    "import tensorflow as tf\n",
    "import matplotlib.pyplot as plt\n",
    "os.environ['TF_CPP_MIN_LOG_LEVEL'] = '3' "
   ]
  },
  {
   "cell_type": "code",
   "execution_count": 18,
   "id": "401a6dc0-5ab4-4ab2-85fc-997ba396a371",
   "metadata": {},
   "outputs": [
    {
     "data": {
      "text/plain": [
       "<module 'NN' from '/home/bouissob/Code/NN.py'>"
      ]
     },
     "execution_count": 18,
     "metadata": {},
     "output_type": "execute_result"
    }
   ],
   "source": [
    "importlib.reload(NN)"
   ]
  },
  {
   "cell_type": "code",
   "execution_count": 19,
   "id": "eed05240-403a-4b86-a043-e83bff976a67",
   "metadata": {},
   "outputs": [],
   "source": [
    "#def __init__(self, Epoch = 2, Neur_seq = '32/64/64/32', Dataset_train = ['Ocean1'], Oc_mod_type = 'COM_NEMO-CNRS', \n",
    "#             Var_X = ['x', 'y', 'temperatureYZ', 'salinityYZ', 'iceDraft'], Var_Y = 'meltRate'):"
   ]
  },
  {
   "cell_type": "code",
   "execution_count": 20,
   "id": "e624cd57-c427-4cbf-8c73-0d791a810bfa",
   "metadata": {},
   "outputs": [],
   "source": [
    "#Test = NN.model_NN(Epoch = 1, Neur_seq = '4_2')\n",
    "#Test.train()"
   ]
  },
  {
   "cell_type": "code",
   "execution_count": 4,
   "id": "e0318911-56cd-4540-b54c-4099d291a09d",
   "metadata": {},
   "outputs": [],
   "source": [
    "OcT = ['Ocean1', 'Ocean2', 'Ocean3', 'Ocean4']"
   ]
  },
  {
   "cell_type": "code",
   "execution_count": 22,
   "id": "4b5202d7-03f2-4ff5-b6c4-5bddbf2943f1",
   "metadata": {
    "tags": []
   },
   "outputs": [],
   "source": [
    "Training = NN.Sequencial_training(NN.model_NN, Epoch = 4)\n"
   ]
  },
  {
   "cell_type": "code",
   "execution_count": 24,
   "id": "c300c967-c806-4b5b-936e-a8a535c8ecb3",
   "metadata": {},
   "outputs": [
    {
     "data": {
      "text/plain": [
       "[]"
      ]
     },
     "execution_count": 24,
     "metadata": {},
     "output_type": "execute_result"
    }
   ],
   "source": [
    "Training.Neur_seq_preview(0)"
   ]
  },
  {
   "cell_type": "code",
   "execution_count": null,
   "id": "7386d107-115c-45e9-ae69-92c9ca7ecb63",
   "metadata": {},
   "outputs": [],
   "source": []
  },
  {
   "cell_type": "code",
   "execution_count": null,
   "id": "291f3fb1-b5a5-4d1f-8d18-c03c19d8e982",
   "metadata": {},
   "outputs": [],
   "source": [
    "Tot = Training.training(3, verbose = 0, batch_size = 64, Dataset_train = OcT)"
   ]
  },
  {
   "cell_type": "code",
   "execution_count": null,
   "id": "7d034e50-47ed-4331-9add-d19b310a8870",
   "metadata": {},
   "outputs": [],
   "source": [
    "pwd = os.getcwd()\n",
    "Ocean_mod = 'Ocean1'\n",
    "Type = 'COM_NEMO-CNRS'\n",
    "Models_path = os.path.join(pwd, 'Auto_model', Type, Ocean_mod)\n",
    "li = glob.glob(Models_path + '/Ep_14*')"
   ]
  },
  {
   "cell_type": "code",
   "execution_count": null,
   "id": "bd256f9c-c2d2-40da-b939-76b87bb7eb12",
   "metadata": {},
   "outputs": [],
   "source": [
    "Test = li[len(li) - 1]\n",
    "MeanX, StdX = pd.read_pickle(Test + '/MeanX.pkl'), pd.read_pickle(Test + '/StdX.pkl')\n",
    "MeanY, StdY = np.loadtxt(Test + '/MeanY.csv'), np.loadtxt(Test + '/StdY.csv')\n",
    "model = tf.keras.models.load_model(Test + '/model.h5')"
   ]
  },
  {
   "cell_type": "code",
   "execution_count": null,
   "id": "b8a65f63-3ebd-4ced-9213-30fdc00a672c",
   "metadata": {},
   "outputs": [],
   "source": [
    "model.count_params()"
   ]
  },
  {
   "cell_type": "code",
   "execution_count": 54,
   "id": "bf022370-964c-42b3-a38b-45cf2fec325f",
   "metadata": {
    "tags": []
   },
   "outputs": [
    {
     "name": "stdout",
     "output_type": "stream",
     "text": [
      "/home/bouissob/Code/Auto_model/COM_NEMO-CNRS/Ocean1/Ep_14\n",
      "Starting 18/18 model\r"
     ]
    },
    {
     "data": {
      "image/png": "[encoded data removed]",
      "text/plain": [
       "<Figure size 432x288 with 1 Axes>"
      ]
     },
     "metadata": {
      "needs_background": "light"
     },
     "output_type": "display_data"
    }
   ],
   "source": [
    "#def Compute_data_for_plotting(Epoch = 14, Ocean_trained = 'Ocean1', Type_trained = 'COM_NEMO-CNRS', \n",
    "#             Ocean_target = 'Ocean1', Type_tar = 'COM_NEMO-CNRS', message = 1):\n",
    "importlib.reload(NN)\n",
    "Rm, Param, Neur = NN.Plot_RMSE_to_param(Epoch = 14, Ocean_trained = 'Ocean1', message = 0)"
   ]
  },
  {
   "cell_type": "code",
   "execution_count": 56,
   "id": "db724790-3488-47fd-95f4-3633c5387dc6",
   "metadata": {},
   "outputs": [
    {
     "name": "stdout",
     "output_type": "stream",
     "text": [
      "/home/bouissob/Code/Auto_model/COM_NEMO-CNRS/Ocean1_Ocean2_Ocean3_Ocean4/Ep_4\n",
      "Starting 11/11 model\r"
     ]
    },
    {
     "data": {
      "image/png": "[encoded data removed]",
      "text/plain": [
       "<Figure size 432x288 with 1 Axes>"
      ]
     },
     "metadata": {
      "needs_background": "light"
     },
     "output_type": "display_data"
    }
   ],
   "source": [
    "importlib.reload(NN)\n",
    "RMSEs, Params, Melts, Modded_melts, Neurs, Oc = NN.Plot_Melt_to_Modded_melt(Epoch = 4, \n",
    "                                Ocean_trained = OcT, message = 0, Ocean_target = OcT)"
   ]
  },
  {
   "cell_type": "code",
   "execution_count": 38,
   "id": "4fc8e404-0122-424b-a80d-23d1bbd1a02b",
   "metadata": {},
   "outputs": [
    {
     "data": {
      "text/plain": [
       "array([1., 2.])"
      ]
     },
     "execution_count": 38,
     "metadata": {},
     "output_type": "execute_result"
    }
   ],
   "source": [
    "np.unique(Oc)"
   ]
  },
  {
   "cell_type": "code",
   "execution_count": 47,
   "id": "2a5ffcf7-c294-4b64-8fab-74fd374b547b",
   "metadata": {},
   "outputs": [
    {
     "data": {
      "text/plain": [
       "60720"
      ]
     },
     "execution_count": 47,
     "metadata": {},
     "output_type": "execute_result"
    }
   ],
   "source": [
    "len(Oc)"
   ]
  },
  {
   "cell_type": "code",
   "execution_count": 49,
   "id": "bf91dae9-7550-4920-90ff-a579159c0ac3",
   "metadata": {},
   "outputs": [
    {
     "data": {
      "text/plain": [
       "5280"
      ]
     },
     "execution_count": 49,
     "metadata": {},
     "output_type": "execute_result"
    }
   ],
   "source": [
    "len(Melts)"
   ]
  },
  {
   "cell_type": "code",
   "execution_count": null,
   "id": "3d0c4a5d-72a5-45b4-8da3-8fc782158873",
   "metadata": {},
   "outputs": [],
   "source": [
    "Epoch, Neur, Choix = re.findall('Ep_(\\d+)_N_(\\w+)_Ch_(\\d+)', Test)[0]"
   ]
  },
  {
   "cell_type": "code",
   "execution_count": null,
   "id": "dbfab742-71a3-4755-ae66-d9e244ebc898",
   "metadata": {},
   "outputs": [],
   "source": []
  },
  {
   "cell_type": "code",
   "execution_count": null,
   "id": "9179a04b-9a8b-4305-81a1-a4a420d03288",
   "metadata": {},
   "outputs": [],
   "source": []
  },
  {
   "cell_type": "code",
   "execution_count": null,
   "id": "3427d77d-1afa-4755-b417-dac04b8355be",
   "metadata": {},
   "outputs": [],
   "source": []
  }
 ],
 "metadata": {
  "kernelspec": {
   "display_name": "py37",
   "language": "python",
   "name": "py37"
  },
  "language_info": {
   "codemirror_mode": {
    "name": "ipython",
    "version": 3
   },
   "file_extension": ".py",
   "mimetype": "text/x-python",
   "name": "python",
   "nbconvert_exporter": "python",
   "pygments_lexer": "ipython3",
   "version": "3.7.11"
  }
 },
 "nbformat": 4,
 "nbformat_minor": 5
}
