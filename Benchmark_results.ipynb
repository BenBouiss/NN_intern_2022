{
 "cells": [
  {
   "cell_type": "code",
   "execution_count": null,
   "id": "54e3e81b-f8f1-4424-b853-edcc104fe942",
   "metadata": {},
   "outputs": [],
   "source": []
  },
  {
   "cell_type": "code",
   "execution_count": 1,
   "id": "f45b7910-40c7-4023-8eb1-94f51604bae4",
   "metadata": {},
   "outputs": [
    {
     "name": "stdout",
     "output_type": "stream",
     "text": [
      "PWD : /home/bouissob/Code\n",
      "PWD : /home/bouissob/Code\n"
     ]
    },
    {
     "data": {
      "text/plain": [
       "<module 'Scripts.Trainings' from '/home/bouissob/Code/Scripts/Trainings.py'>"
      ]
     },
     "execution_count": 1,
     "metadata": {},
     "output_type": "execute_result"
    }
   ],
   "source": [
    "import pandas as pd\n",
    "import xarray as xr\n",
    "import numpy as np\n",
    "import matplotlib.pyplot as plt\n",
    "import os\n",
    "import glob\n",
    "from scipy.interpolate import make_interp_spline, BSpline\n",
    "import re\n",
    "import ast\n",
    "import seaborn as sns\n",
    "from Scripts import Trainings\n",
    "from Scripts import Plotting\n",
    "from Scripts import Computing_functions\n",
    "import importlib\n",
    "import tensorflow as tf\n",
    "from scipy.ndimage.filters import gaussian_filter1d\n",
    "\n",
    "sns.set_context('paper') \n",
    "importlib.reload(Plotting)\n",
    "importlib.reload(Computing_functions)\n",
    "importlib.reload(Trainings)"
   ]
  },
  {
   "cell_type": "code",
   "execution_count": 2,
   "id": "a104cddd-060f-4965-a0a6-b17abe76d08c",
   "metadata": {},
   "outputs": [],
   "source": [
    "File_path = '/bettik/bouissob/FAVIER_2019/'\n",
    "Bet_path = '/bettik/bouissob/'\n",
    "Data_type = 'COM_NEMO-CNRS'\n",
    "SIZE = 13\n",
    "Var_X_BIG_Extra = ['iceDraft', 'bathymetry', 'Slope_iceDraft_x', 'Slope_bathymetry_x',\n",
    "                   'Slope_iceDraft_y', 'Slope_bathymetry_y', 'Big_T', 'Big_S',\n",
    "                  'Distances_ground_line', 'Distances_front_line']\n",
    "OcT = ['Ocean1', 'Ocean2', 'Ocean3', 'Ocean4']\n",
    "Train_oc_exp = ['Ocean1', 'Ocean2', 'Ocean3', 'Ocean4', 'CPL_EXP10_rst','CPL_EXP13_rst', 'CPL_EXP22_rst', 'CPL_EXP23_rst']\n",
    "ALL_EXP = ['CPL_EXP10_rst','CPL_EXP11_rst', 'CPL_EXP12_rst','CPL_EXP13_rst','CPL_EXP20_rst','CPL_EXP21_rst','CPL_EXP22_rst', 'CPL_EXP23_rst']\n",
    "\n",
    "NEW = ['IceOcean1r_ElmerIce', 'IceOcean1ra_ElmerIce']\n",
    "NEW_under100supr = ['IceOcean1r_ElmerIce_under100supr', 'IceOcean1ra_ElmerIce_under100supr']\n",
    "NEW_fill100 = ['IceOcean1r_ElmerIce_fill100', 'IceOcean1ra_ElmerIce_fill100']\n",
    "Var_X_slopexy = ['iceDraft', 'bathymetry', 'Slope_iceDraft_x', 'Slope_bathymetry_x',\n",
    "                   'Slope_iceDraft_y', 'Slope_bathymetry_y', 'temperatureYZ', 'salinityYZ',\n",
    "                  'Distances_ground_line', 'Distances_front_line']\n",
    "ALL_OC = OcT + ALL_EXP"
   ]
  },
  {
   "cell_type": "code",
   "execution_count": null,
   "id": "4f72910b-1995-43dc-bd42-dc0c0441e4a4",
   "metadata": {},
   "outputs": [
    {
     "data": {
      "text/plain": [
       "<matplotlib.collections.QuadMesh at 0x7f1b49504410>"
      ]
     },
     "execution_count": 4,
     "metadata": {},
     "output_type": "execute_result"
    },
    {
     "data": {
      "image/png": "[encoded data removed]",
      "text/plain": [
       "<Figure size 432x288 with 2 Axes>"
      ]
     },
     "metadata": {
      "needs_background": "light"
     },
     "output_type": "display_data"
    }
   ],
   "source": [
    "Bet_path = '/bettik/bouissob/'\n",
    "p = Bet_path + 'ISOMIP+/Ocean1_COM_NEMO-CNRS.nc'\n",
    "d = xr.open_dataset(p)\n",
    "d = d.assign_coords({'nx': d.x,\n",
    "                           'ny': d.y,\n",
    "                           'nz':  d.z,\n",
    "                           'nTime': d.time})\n",
    "d.assign_coords()\n",
    "d.temperatureXZ.isel(nTime = 0).plot()"
   ]
  },
  {
   "cell_type": "code",
   "execution_count": 132,
   "id": "31524482-25c0-41ef-96ab-aaa32d64d527",
   "metadata": {
    "tags": []
   },
   "outputs": [
    {
     "name": "stdout",
     "output_type": "stream",
     "text": [
      "relu  : 1/2            /home/bouissob/Code/Auto_model/COM_NEMO-CNRS/Ocean1_Ocean2_Ocean3_Ocean4/Ep_50_N_8_Ch_0-1652123223_Ex_Benchmark_swish_relu  :  1/2\n",
      "['8']\n",
      "relu  : 1/2            /home/bouissob/Code/Auto_model/COM_NEMO-CNRS/Ocean1_Ocean2_Ocean3_Ocean4/Ep_50_N_8_Ch_0-1652182789_Ex_Benchmark_swish_relu  :  2/2\n",
      "['8', '8']\n",
      "swish  : 2/2            /home/bouissob/Code/Auto_model/COM_NEMO-CNRS/Ocean1_Ocean2_Ocean3_Ocean4/Ep_50_N_8_Ch_0-1652089400_Ex_Benchmark_swish_relu  :  1/1\n",
      "['8']\n"
     ]
    }
   ],
   "source": [
    "NN_attrib = {'Ocean' : OcT, 'Epoch' : None, 'Neur' : '8',\n",
    "            'Method_data' : 4, 'Exact' : False, 'Extra_n' : 'Benchmark_swish_relu'}\n",
    "\n",
    "A2 = Computing_functions.Compute_benchmark_function(NN_attributes = NN_attrib, Get_time = True,\n",
    "                                                   li_activation = ['relu', 'swish'], Ocean = OcT, message=0)"
   ]
  },
  {
   "cell_type": "code",
   "execution_count": 134,
   "id": "706a9102-785c-437a-8f6e-3706f411d914",
   "metadata": {},
   "outputs": [
    {
     "data": {
      "text/plain": [
       "[[[750.2226451949973, 553.1491549299972], [721, 721], ['8', '8']],\n",
       " [[719.615237768], [721], ['8']]]"
      ]
     },
     "execution_count": 134,
     "metadata": {},
     "output_type": "execute_result"
    }
   ],
   "source": [
    "A2"
   ]
  },
  {
   "cell_type": "code",
   "execution_count": 4,
   "id": "06876b8c-05df-4e22-a1b0-2233000cfdba",
   "metadata": {},
   "outputs": [
    {
     "name": "stdout",
     "output_type": "stream",
     "text": [
      "Starting /home/bouissob/Code/Auto_model/COM_NEMO-CNRS/Ocean1_Ocean2_Ocean3_Ocean4/Ep_128_N_128_128_128_128_128_Ch_0-1653046604_Ex_Drop_Var_bench_128        1/9\n",
      "Starting 1/1 model Ep_128_N_128_128_128_128_128_Ch_0-1653046604_Ex_Drop_Var_bench_128                                                   \r"
     ]
    },
    {
     "name": "stderr",
     "output_type": "stream",
     "text": [
      "2022-05-23 11:10:21.685160: I tensorflow/compiler/jit/xla_cpu_device.cc:41] Not creating XLA devices, tf_xla_enable_xla_devices not set\n",
      "2022-05-23 11:10:21.685440: I tensorflow/core/platform/cpu_feature_guard.cc:142] This TensorFlow binary is optimized with oneAPI Deep Neural Network Library (oneDNN) to use the following CPU instructions in performance-critical operations:  SSE4.1 SSE4.2 AVX AVX2 AVX512F FMA\n",
      "To enable them in other operations, rebuild TensorFlow with the appropriate compiler flags.\n",
      "2022-05-23 11:10:21.694181: I tensorflow/core/common_runtime/process_util.cc:146] Creating new thread pool with default inter op setting: 2. Tune using inter_op_parallelism_threads for best performance.\n"
     ]
    },
    {
     "name": "stdout",
     "output_type": "stream",
     "text": [
      "Starting /home/bouissob/Code/Auto_model/COM_NEMO-CNRS/Ocean1_Ocean2_Ocean3_Ocean4/Ep_128_N_128_128_128_128_128_Ch_0-1653161787_Ex_Drop_Var_bench_128        2/9\n",
      "Starting /home/bouissob/Code/Auto_model/COM_NEMO-CNRS/Ocean1_Ocean2_Ocean3_Ocean4/Ep_128_N_128_128_128_128_128_Ch_0-1653141884_Ex_Drop_Var_bench_128        3/9\n",
      "Starting /home/bouissob/Code/Auto_model/COM_NEMO-CNRS/Ocean1_Ocean2_Ocean3_Ocean4/Ep_128_N_128_128_128_128_128_Ch_0-1653184181_Ex_Drop_Var_bench_128        4/9\n",
      "Starting /home/bouissob/Code/Auto_model/COM_NEMO-CNRS/Ocean1_Ocean2_Ocean3_Ocean4/Ep_128_N_128_128_128_128_128_Ch_0-1653202773_Ex_Drop_Var_bench_128        5/9\n",
      "Starting /home/bouissob/Code/Auto_model/COM_NEMO-CNRS/Ocean1_Ocean2_Ocean3_Ocean4/Ep_128_N_128_128_128_128_128_Ch_0-1653220299_Ex_Drop_Var_bench_128        6/9\n",
      "Starting /home/bouissob/Code/Auto_model/COM_NEMO-CNRS/Ocean1_Ocean2_Ocean3_Ocean4/Ep_128_N_128_128_128_128_128_Ch_0-1653238639_Ex_Drop_Var_bench_128        7/9\n",
      "Starting /home/bouissob/Code/Auto_model/COM_NEMO-CNRS/Ocean1_Ocean2_Ocean3_Ocean4/Ep_128_N_128_128_128_128_128_Ch_0-1653256258_Ex_Drop_Var_bench_128        8/9\n",
      "Starting /home/bouissob/Code/Auto_model/COM_NEMO-CNRS/Ocean1_Ocean2_Ocean3_Ocean4/Ep_128_N_128_128_128_128_128_Ch_0-1653276358_Ex_Drop_Var_bench_128        9/9\n",
      "Starting 1195 / 1199p_128_N_128_128_128_128_128_Ch_0-1653276358_Ex_Drop_Var_bench_128                                                   \r"
     ]
    }
   ],
   "source": [
    "OcT = ['Ocean1','Ocean2','Ocean3','Ocean4']\n",
    "NN_attrib = {'Ocean' : OcT}\n",
    "\n",
    "li = Computing_functions.Compute_benchmark(name = 'Drop_Var_bench_128', NN_attributes = NN_attrib, Oc = OcT)"
   ]
  },
  {
   "cell_type": "code",
   "execution_count": 14,
   "id": "a4b66614-1c3f-4966-9a20-88aa6075af20",
   "metadata": {
    "tags": []
   },
   "outputs": [],
   "source": [
    " df = pd.DataFrame(li, columns = ['RMSEs', 'RMSE_tot', 'Var'])"
   ]
  },
  {
   "cell_type": "code",
   "execution_count": 28,
   "id": "57c55748-316f-4850-b510-c5aba331eb74",
   "metadata": {},
   "outputs": [],
   "source": [
    "df.to_csv(f'{os.getcwd()}/Cached_data/Var_drop_benchmark_128EpNeur128.csv')"
   ]
  },
  {
   "cell_type": "code",
   "execution_count": null,
   "id": "dde67451-7727-4045-b1fb-b09b246a8883",
   "metadata": {},
   "outputs": [],
   "source": []
  },
  {
   "cell_type": "code",
   "execution_count": 24,
   "id": "247a164b-2d60-4eaa-b2eb-6d41c9362f03",
   "metadata": {},
   "outputs": [],
   "source": [
    "RMSEs = []\n",
    "for l in li:\n",
    "    RMSEs.append(l[0])"
   ]
  },
  {
   "cell_type": "code",
   "execution_count": 25,
   "id": "ce31101a-a4d9-448b-bc35-14164244bc67",
   "metadata": {},
   "outputs": [],
   "source": [
    "df[OcT] = RMSEs"
   ]
  },
  {
   "cell_type": "code",
   "execution_count": 3,
   "id": "c96183a9-8a8e-4c20-afc6-73fa181bfacf",
   "metadata": {},
   "outputs": [],
   "source": [
    "DF = pd.read_csv(f'{os.getcwd()}/Cached_data/Benchmark_relu_swish.csv')\n",
    "DF = DF.append(DF.loc[DF.Neur == '8'], ignore_index = True)\n",
    "DF.sort_values('Param_swish', inplace = True, ascending=True)\n",
    "DF.reset_index(inplace = True, drop = True)\n",
    "DF.loc[3, 'RMSEs_relu'] = 1.7837450369297072\n",
    "DF.loc[3, 'Time_relu'] = 553.1491549299972\n",
    "A\n",
    "\n",
    "df_swish = pd.DataFrame()\n",
    "\n",
    "df_swish['RMSEs_swish'] = A[1][1]\n",
    "df_swish['Param_swish'] = A[1][0]\n",
    "df_swish.sort_values('Param_swish', inplace = True, ascending=True)\n",
    "df_swish.reset_index(inplace = True)\n",
    "\n",
    "df = pd.DataFrame()\n",
    "df['RMSEs_relu'] = A[0][1]\n",
    "df['Param_relu'] = A[0][0]\n",
    "df.sort_values('Param_relu', inplace = True, ascending=True)\n",
    "df.reset_index(inplace = True,drop = True)\n",
    "\n",
    "df[['RMSEs_swish', 'Param_swish']] = df_swish[['RMSEs_swish', 'Param_swish']]\n",
    "DF['Precision'] = ( DF['RMSEs_relu'] - DF['RMSEs_swish'] ) / DF['RMSEs_relu']\n",
    "\n",
    "#DF['Precision'] = ( DF['RMSEs_relu'] - DF['RMSEs_swish'] ) \n",
    "fig = plt.figure()\n",
    "ax = plt.gca()\n",
    "ax.scatter(DF['Param_swish'], DF['Precision'])\n",
    "ax2 = ax.twinx()\n",
    "ax2.scatter(DF['Param_swish'], DF['Time_swish'] - DF['Time_relu'], c = 'r')\n",
    "#ax2.set_yscale('log')\n",
    "ax2.set_xscale('log')\n",
    "ax.set_xscale('log')\n",
    "ax.set_xlabel(\"Parameter count\")\n",
    "\n",
    "ax.set_ylabel(\"RMSE percent difference (Swish - Relu)\", color=\"Blue\")\n",
    "ax2.set_ylabel(\"Difference training time(s) (Swish - Relu)\", color=\"red\")\n",
    "fig.savefig(f'{os.getcwd()}/Image_output/DiffReluSwish.png', facecolor = 'white', bbox_inches='tight', dpi = 300)\n",
    "#ax.set_yscale('log')"
   ]
  },
  {
   "cell_type": "code",
   "execution_count": null,
   "id": "170953dc-bd39-40f3-8928-34adf45bb0eb",
   "metadata": {},
   "outputs": [
    {
     "data": {
      "text/html": [
       "<div>\n",
       "<style scoped>\n",
       "    .dataframe tbody tr th:only-of-type {\n",
       "        vertical-align: middle;\n",
       "    }\n",
       "\n",
       "    .dataframe tbody tr th {\n",
       "        vertical-align: top;\n",
       "    }\n",
       "\n",
       "    .dataframe thead th {\n",
       "        text-align: right;\n",
       "    }\n",
       "</style>\n",
       "<table border=\"1\" class=\"dataframe\">\n",
       "  <thead>\n",
       "    <tr style=\"text-align: right;\">\n",
       "      <th></th>\n",
       "      <th>RMSEs_relu</th>\n",
       "      <th>Param_relu</th>\n",
       "      <th>RMSEs_swish</th>\n",
       "      <th>Param_swish</th>\n",
       "      <th>Precision</th>\n",
       "      <th>Time_relu</th>\n",
       "      <th>Time_swish</th>\n",
       "      <th>Neur</th>\n",
       "    </tr>\n",
       "  </thead>\n",
       "  <tbody>\n",
       "    <tr>\n",
       "      <th>0</th>\n",
       "      <td>5.355072</td>\n",
       "      <td>91</td>\n",
       "      <td>3.213724</td>\n",
       "      <td>91</td>\n",
       "      <td>0.399873</td>\n",
       "      <td>499.856967</td>\n",
       "      <td>772.747491</td>\n",
       "      <td>1</td>\n",
       "    </tr>\n",
       "    <tr>\n",
       "      <th>1</th>\n",
       "      <td>3.241218</td>\n",
       "      <td>381</td>\n",
       "      <td>1.949766</td>\n",
       "      <td>381</td>\n",
       "      <td>0.398446</td>\n",
       "      <td>750.222645</td>\n",
       "      <td>1432.638411</td>\n",
       "      <td>4_4</td>\n",
       "    </tr>\n",
       "    <tr>\n",
       "      <th>3</th>\n",
       "      <td>1.783745</td>\n",
       "      <td>721</td>\n",
       "      <td>1.631731</td>\n",
       "      <td>721</td>\n",
       "      <td>0.085222</td>\n",
       "      <td>553.149155</td>\n",
       "      <td>719.615238</td>\n",
       "      <td>8</td>\n",
       "    </tr>\n",
       "    <tr>\n",
       "      <th>4</th>\n",
       "      <td>1.296547</td>\n",
       "      <td>721</td>\n",
       "      <td>1.631731</td>\n",
       "      <td>721</td>\n",
       "      <td>-0.258521</td>\n",
       "      <td>2049.190481</td>\n",
       "      <td>719.615238</td>\n",
       "      <td>8</td>\n",
       "    </tr>\n",
       "    <tr>\n",
       "      <th>5</th>\n",
       "      <td>1.783745</td>\n",
       "      <td>721</td>\n",
       "      <td>1.631731</td>\n",
       "      <td>721</td>\n",
       "      <td>0.085222</td>\n",
       "      <td>553.149155</td>\n",
       "      <td>719.615238</td>\n",
       "      <td>8</td>\n",
       "    </tr>\n",
       "    <tr>\n",
       "      <th>6</th>\n",
       "      <td>0.743953</td>\n",
       "      <td>1713</td>\n",
       "      <td>0.716302</td>\n",
       "      <td>1713</td>\n",
       "      <td>0.037168</td>\n",
       "      <td>752.388573</td>\n",
       "      <td>858.759244</td>\n",
       "      <td>16_16</td>\n",
       "    </tr>\n",
       "    <tr>\n",
       "      <th>7</th>\n",
       "      <td>0.710283</td>\n",
       "      <td>1985</td>\n",
       "      <td>0.648914</td>\n",
       "      <td>1985</td>\n",
       "      <td>0.086401</td>\n",
       "      <td>1077.396691</td>\n",
       "      <td>1008.985102</td>\n",
       "      <td>16_16_16</td>\n",
       "    </tr>\n",
       "    <tr>\n",
       "      <th>8</th>\n",
       "      <td>0.623989</td>\n",
       "      <td>3937</td>\n",
       "      <td>0.585461</td>\n",
       "      <td>3937</td>\n",
       "      <td>0.061745</td>\n",
       "      <td>956.441612</td>\n",
       "      <td>1435.901046</td>\n",
       "      <td>32_32</td>\n",
       "    </tr>\n",
       "    <tr>\n",
       "      <th>9</th>\n",
       "      <td>0.590007</td>\n",
       "      <td>4993</td>\n",
       "      <td>0.530389</td>\n",
       "      <td>4993</td>\n",
       "      <td>0.101047</td>\n",
       "      <td>1335.781637</td>\n",
       "      <td>2260.818589</td>\n",
       "      <td>32_32_32</td>\n",
       "    </tr>\n",
       "    <tr>\n",
       "      <th>10</th>\n",
       "      <td>0.495988</td>\n",
       "      <td>14081</td>\n",
       "      <td>0.448458</td>\n",
       "      <td>14081</td>\n",
       "      <td>0.095829</td>\n",
       "      <td>1037.402309</td>\n",
       "      <td>2821.411891</td>\n",
       "      <td>64_64_64</td>\n",
       "    </tr>\n",
       "    <tr>\n",
       "      <th>11</th>\n",
       "      <td>0.463689</td>\n",
       "      <td>18241</td>\n",
       "      <td>0.419836</td>\n",
       "      <td>18241</td>\n",
       "      <td>0.094574</td>\n",
       "      <td>2174.942961</td>\n",
       "      <td>4310.033989</td>\n",
       "      <td>64_64_64_64</td>\n",
       "    </tr>\n",
       "    <tr>\n",
       "      <th>12</th>\n",
       "      <td>0.405458</td>\n",
       "      <td>36577</td>\n",
       "      <td>0.386105</td>\n",
       "      <td>36577</td>\n",
       "      <td>0.047731</td>\n",
       "      <td>1729.171813</td>\n",
       "      <td>4031.586930</td>\n",
       "      <td>96_96_96_96</td>\n",
       "    </tr>\n",
       "    <tr>\n",
       "      <th>13</th>\n",
       "      <td>0.409727</td>\n",
       "      <td>45889</td>\n",
       "      <td>0.363789</td>\n",
       "      <td>45889</td>\n",
       "      <td>0.112117</td>\n",
       "      <td>1631.579375</td>\n",
       "      <td>4818.238398</td>\n",
       "      <td>96_96_96_96_96</td>\n",
       "    </tr>\n",
       "    <tr>\n",
       "      <th>14</th>\n",
       "      <td>0.369494</td>\n",
       "      <td>77569</td>\n",
       "      <td>0.322042</td>\n",
       "      <td>77569</td>\n",
       "      <td>0.128423</td>\n",
       "      <td>2033.319007</td>\n",
       "      <td>6684.216986</td>\n",
       "      <td>128_128_128_128_128</td>\n",
       "    </tr>\n",
       "  </tbody>\n",
       "</table>\n",
       "</div>"
      ],
      "text/plain": [
       "    RMSEs_relu  Param_relu  RMSEs_swish  Param_swish  Precision    Time_relu  \\\n",
       "0     5.355072          91     3.213724           91   0.399873   499.856967   \n",
       "1     3.241218         381     1.949766          381   0.398446   750.222645   \n",
       "3     1.783745         721     1.631731          721   0.085222   553.149155   \n",
       "4     1.296547         721     1.631731          721  -0.258521  2049.190481   \n",
       "5     1.783745         721     1.631731          721   0.085222   553.149155   \n",
       "6     0.743953        1713     0.716302         1713   0.037168   752.388573   \n",
       "7     0.710283        1985     0.648914         1985   0.086401  1077.396691   \n",
       "8     0.623989        3937     0.585461         3937   0.061745   956.441612   \n",
       "9     0.590007        4993     0.530389         4993   0.101047  1335.781637   \n",
       "10    0.495988       14081     0.448458        14081   0.095829  1037.402309   \n",
       "11    0.463689       18241     0.419836        18241   0.094574  2174.942961   \n",
       "12    0.405458       36577     0.386105        36577   0.047731  1729.171813   \n",
       "13    0.409727       45889     0.363789        45889   0.112117  1631.579375   \n",
       "14    0.369494       77569     0.322042        77569   0.128423  2033.319007   \n",
       "\n",
       "     Time_swish                 Neur  \n",
       "0    772.747491                    1  \n",
       "1   1432.638411                  4_4  \n",
       "3    719.615238                    8  \n",
       "4    719.615238                    8  \n",
       "5    719.615238                    8  \n",
       "6    858.759244                16_16  \n",
       "7   1008.985102             16_16_16  \n",
       "8   1435.901046                32_32  \n",
       "9   2260.818589             32_32_32  \n",
       "10  2821.411891             64_64_64  \n",
       "11  4310.033989          64_64_64_64  \n",
       "12  4031.586930          96_96_96_96  \n",
       "13  4818.238398       96_96_96_96_96  \n",
       "14  6684.216986  128_128_128_128_128  "
      ]
     },
     "execution_count": 8,
     "metadata": {},
     "output_type": "execute_result"
    }
   ],
   "source": [
    "DF"
   ]
  },
  {
   "cell_type": "code",
   "execution_count": 9,
   "id": "7be681ee-d64b-4c1e-95c4-bb4eeffb211d",
   "metadata": {},
   "outputs": [
    {
     "data": {
      "image/png": "[encoded data removed]",
      "text/plain": [
       "<Figure size 432x288 with 2 Axes>"
      ]
     },
     "metadata": {
      "needs_background": "light"
     },
     "output_type": "display_data"
    }
   ],
   "source": []
  },
  {
   "cell_type": "code",
   "execution_count": 4,
   "id": "f729a912-896c-4265-b335-b94dc7bc598a",
   "metadata": {},
   "outputs": [
    {
     "data": {
      "text/plain": [
       "['/home/bouissob/Code/Auto_model/COM_NEMO-CNRS/Ocean1_Ocean2_Ocean3_Ocean4/Ep_50_N_1_Ch_0-1652122514_Ex_Benchmark_swish_relu',\n",
       " '/home/bouissob/Code/Auto_model/COM_NEMO-CNRS/Ocean1_Ocean2_Ocean3_Ocean4/Ep_50_N_8_Ch_0-1652123223_Ex_Benchmark_swish_relu',\n",
       " '/home/bouissob/Code/Auto_model/COM_NEMO-CNRS/Ocean1_Ocean2_Ocean3_Ocean4/Ep_50_N_4_4_Ch_0-1652124161_Ex_Benchmark_swish_relu',\n",
       " '/home/bouissob/Code/Auto_model/COM_NEMO-CNRS/Ocean1_Ocean2_Ocean3_Ocean4/Ep_50_N_16_16_Ch_0-1652126398_Ex_Benchmark_swish_relu',\n",
       " '/home/bouissob/Code/Auto_model/COM_NEMO-CNRS/Ocean1_Ocean2_Ocean3_Ocean4/Ep_50_N_32_32_Ch_0-1652127333_Ex_Benchmark_swish_relu',\n",
       " '/home/bouissob/Code/Auto_model/COM_NEMO-CNRS/Ocean1_Ocean2_Ocean3_Ocean4/Ep_50_N_16_16_16_Ch_0-1652128593_Ex_Benchmark_swish_relu',\n",
       " '/home/bouissob/Code/Auto_model/COM_NEMO-CNRS/Ocean1_Ocean2_Ocean3_Ocean4/Ep_50_N_32_32_32_Ch_0-1652129732_Ex_Benchmark_swish_relu',\n",
       " '/home/bouissob/Code/Auto_model/COM_NEMO-CNRS/Ocean1_Ocean2_Ocean3_Ocean4/Ep_50_N_64_64_64_Ch_0-1652131249_Ex_Benchmark_swish_relu',\n",
       " '/home/bouissob/Code/Auto_model/COM_NEMO-CNRS/Ocean1_Ocean2_Ocean3_Ocean4/Ep_50_N_64_64_64_64_Ch_0-1652132467_Ex_Benchmark_swish_relu',\n",
       " '/home/bouissob/Code/Auto_model/COM_NEMO-CNRS/Ocean1_Ocean2_Ocean3_Ocean4/Ep_50_N_96_96_96_96_Ch_0-1652134822_Ex_Benchmark_swish_relu',\n",
       " '/home/bouissob/Code/Auto_model/COM_NEMO-CNRS/Ocean1_Ocean2_Ocean3_Ocean4/Ep_50_N_96_96_96_96_96_Ch_0-1652136734_Ex_Benchmark_swish_relu',\n",
       " '/home/bouissob/Code/Auto_model/COM_NEMO-CNRS/Ocean1_Ocean2_Ocean3_Ocean4/Ep_50_N_128_128_128_128_128_Ch_0-1652138550_Ex_Benchmark_swish_relu']"
      ]
     },
     "execution_count": 4,
     "metadata": {},
     "output_type": "execute_result"
    }
   ],
   "source": [
    "NN_attrib = {'Ocean' : OcT, 'Epoch' : None, 'Activation_fct' : 'relu',\n",
    "            'Method_data' : 4, 'Exact' : False, 'Extra_n' : 'Benchmark_swish_relu'}\n",
    "Trainings.Get_model_path_json(**NN_attrib)"
   ]
  },
  {
   "cell_type": "code",
   "execution_count": null,
   "id": "58f79a84-60d1-4160-a82e-f5c17879fd24",
   "metadata": {},
   "outputs": [],
   "source": []
  },
  {
   "cell_type": "code",
   "execution_count": 33,
   "id": "add2cf79-5d7a-4bea-92cc-b9bbe2122a43",
   "metadata": {},
   "outputs": [],
   "source": [
    "p = f'{os.getcwd()}/Auto_model/COM_NEMO-CNRS/Ocean1_Ocean2_Ocean3_Ocean4_CPL_EXP10_rst_CPL_EXP13_rst_CPL_EXP22_rst_CPL_EXP23_rst/Ep_128_N_96_96_96_96_96_Ch_0-1650407902_Ex_/'\n",
    "Config = Trainings.Get_model_attributes(p)\n",
    "Vars = Config.get('Var_X')\n",
    "if 'T_0' in Vars:\n",
    "    inst = []\n",
    "    for i in range(40):\n",
    "        Vars.remove(f'T_{i}')\n",
    "        inst.append(f'T_{i}')\n",
    "    Vars.append(inst)\n",
    "    Vars.append(inst + ['-ms'])\n",
    "if 'S_0' in Vars:\n",
    "    inst = []\n",
    "    for i in range(40):\n",
    "        Vars.remove(f'S_{i}')\n",
    "        inst.append(f'S_{i}')\n",
    "    Vars.append(inst)\n",
    "    Vars.append(inst + ['-ms'])\n",
    "if 'Slope_iceDraft_x' in Vars:\n",
    "    Vars.remove('Slope_iceDraft_x')\n",
    "    Vars.remove('Slope_iceDraft_y')\n",
    "    Vars.append(['Slope_iceDraft_x', 'Slope_iceDraft_y'])\n",
    "\n",
    "if 'Slope_bathymetry_x' in Vars:\n",
    "    Vars.remove('Slope_bathymetry_x')\n",
    "    Vars.remove('Slope_bathymetry_y')\n",
    "    Vars.append(['Slope_bathymetry_x', 'Slope_bathymetry_y'])"
   ]
  },
  {
   "cell_type": "code",
   "execution_count": 36,
   "id": "c8efe14c-0d12-4176-af9f-1d17375ca3fc",
   "metadata": {},
   "outputs": [
    {
     "name": "stdout",
     "output_type": "stream",
     "text": [
      "iceDraft\n",
      "bathymetry\n",
      "Distances_ground_line\n",
      "Distances_front_line\n",
      "['T_0', 'T_1', 'T_2', 'T_3', 'T_4', 'T_5', 'T_6', 'T_7', 'T_8', 'T_9', 'T_10', 'T_11', 'T_12', 'T_13', 'T_14', 'T_15', 'T_16', 'T_17', 'T_18', 'T_19', 'T_20', 'T_21', 'T_22', 'T_23', 'T_24', 'T_25', 'T_26', 'T_27', 'T_28', 'T_29', 'T_30', 'T_31', 'T_32', 'T_33', 'T_34', 'T_35', 'T_36', 'T_37', 'T_38', 'T_39']\n",
      "['T_0', 'T_1', 'T_2', 'T_3', 'T_4', 'T_5', 'T_6', 'T_7', 'T_8', 'T_9', 'T_10', 'T_11', 'T_12', 'T_13', 'T_14', 'T_15', 'T_16', 'T_17', 'T_18', 'T_19', 'T_20', 'T_21', 'T_22', 'T_23', 'T_24', 'T_25', 'T_26', 'T_27', 'T_28', 'T_29', 'T_30', 'T_31', 'T_32', 'T_33', 'T_34', 'T_35', 'T_36', 'T_37', 'T_38', 'T_39', '-ms']\n",
      "['S_0', 'S_1', 'S_2', 'S_3', 'S_4', 'S_5', 'S_6', 'S_7', 'S_8', 'S_9', 'S_10', 'S_11', 'S_12', 'S_13', 'S_14', 'S_15', 'S_16', 'S_17', 'S_18', 'S_19', 'S_20', 'S_21', 'S_22', 'S_23', 'S_24', 'S_25', 'S_26', 'S_27', 'S_28', 'S_29', 'S_30', 'S_31', 'S_32', 'S_33', 'S_34', 'S_35', 'S_36', 'S_37', 'S_38', 'S_39']\n",
      "['S_0', 'S_1', 'S_2', 'S_3', 'S_4', 'S_5', 'S_6', 'S_7', 'S_8', 'S_9', 'S_10', 'S_11', 'S_12', 'S_13', 'S_14', 'S_15', 'S_16', 'S_17', 'S_18', 'S_19', 'S_20', 'S_21', 'S_22', 'S_23', 'S_24', 'S_25', 'S_26', 'S_27', 'S_28', 'S_29', 'S_30', 'S_31', 'S_32', 'S_33', 'S_34', 'S_35', 'S_36', 'S_37', 'S_38', 'S_39', '-ms']\n",
      "['Slope_iceDraft_x', 'Slope_iceDraft_y']\n",
      "['Slope_bathymetry_x', 'Slope_bathymetry_y']\n"
     ]
    }
   ],
   "source": [
    "for shuffle in Vars:\n",
    "    print(shuffle if type(shuffle) != list else shuffle.copy())"
   ]
  },
  {
   "cell_type": "code",
   "execution_count": 23,
   "id": "c244bbd6-ec25-4936-a325-eb1a27c1324b",
   "metadata": {},
   "outputs": [],
   "source": [
    "# for f in ALL_EXP:\n",
    "#     print(f'Starting  {f}')\n",
    "#     f_p = f'{Bet_path}Method_Data/COM_NEMO-CNRS/Method_4/{f}_lite.csv'\n",
    "#     df = pd.read_csv(f_p)\n",
    "#     df = df.loc[df.iceDraft >= 100]\n",
    "#     df.to_csv(f'{Bet_path}Method_Data/COM_NEMO-CNRS/Method_4/{f}_under100supr_lite.csv')\n",
    "# for f in ALL_EXP:\n",
    "#     print(f'Starting  {f}')\n",
    "#     f_p = f'{Bet_path}Method_Data/COM_NEMO-CNRS/Method_4/{f}_lite.csv'\n",
    "#     df = pd.read_csv(f_p)\n",
    "#     df['iceDraft'] = np.where(df['iceDraft'] < 100 , 100, df['iceDraft'])\n",
    "#     df.to_csv(f'{Bet_path}Method_Data/COM_NEMO-CNRS/Method_4/{f}_fill100_lite.csv')"
   ]
  },
  {
   "cell_type": "code",
   "execution_count": 46,
   "id": "ca1fc3f8-dc00-4810-a6c0-138771b29cee",
   "metadata": {},
   "outputs": [
    {
     "data": {
      "text/plain": [
       "'/bettik/bouissob/FAVIER_2019/CPL_EXP13_rst_COM_NEMO-CNRS.nc'"
      ]
     },
     "execution_count": 46,
     "metadata": {},
     "output_type": "execute_result"
    }
   ],
   "source": [
    "f"
   ]
  },
  {
   "cell_type": "code",
   "execution_count": null,
   "id": "81aa0faa-5f56-4dcc-b14f-ed7192659f01",
   "metadata": {},
   "outputs": [],
   "source": []
  },
  {
   "cell_type": "code",
   "execution_count": 44,
   "id": "6daf497e-04a0-44af-a3e6-fe8a8f69071b",
   "metadata": {},
   "outputs": [],
   "source": [
    "data = xr.open_dataset(f)\n",
    "data = data.assign_coords({'nx': data.x,\n",
    "                       'ny': data.y,\n",
    "                       'nz': - data.z,\n",
    "                       'nTime': data.time})"
   ]
  },
  {
   "cell_type": "code",
   "execution_count": 5,
   "id": "8969edcd-c225-4e2d-a0ff-934a44b86f7e",
   "metadata": {},
   "outputs": [],
   "source": [
    "Dict = {'EXP20' : 'Warm 0', 'EXP10' : 'Warm 1', 'EXP11' : 'Warm 2', 'EXP13' : 'Warm 3', 'EXP22' : 'Cold 0', 'EXP12' : 'Cold 1'}\n",
    "Color = {'Warm 0' : (1, 0, 0, 0.25), 'Warm 1' : (1, 0, 0, 0.5), 'Warm 2' : (1, 0, 0, 0.75), 'Warm 3' : (0.5, 0, 0, 1), \n",
    "         'Cold 0' : (0, 0, 1, 0.5), 'Cold 1' : (0, 0, 1, 1)}\n",
    "\n",
    "def Vertic_profil(f, T, var = 'temperatureXZ', s = .5):\n",
    "    #plt.figure()\n",
    "    data = xr.open_dataset(f)\n",
    "    data = data.assign_coords({'nx': data.x,\n",
    "                           'ny': data.y,\n",
    "                           'nz': - data.z,\n",
    "                           'nTime': data.time})\n",
    "    T = data[var].isel(nTime = T).isel(nx = len(data.nx) - 1)\n",
    "    Z = T.nz\n",
    "    name = re.findall('CPL_(\\w+)_rst', f)[0]\n",
    "    xnew = np.linspace(min(Z), T.max(), 300)\n",
    "    if name in Dict:\n",
    "        ysmoothed = gaussian_filter1d(T, sigma=2)\n",
    "        plt.plot(ysmoothed, Z, label = Dict[name], color = Color[Dict[name]])\n",
    "        [plt.axhline(y=i*100, linestyle='dashed', c = 'grey', linewidth=1) for i in np.unique((Z/100).astype(int)) if i%2 != 0]\n",
    "    return Z, T"
   ]
  },
  {
   "cell_type": "code",
   "execution_count": 25,
   "id": "6625bb87-6c87-4108-8405-755058c832ba",
   "metadata": {
    "tags": []
   },
   "outputs": [
    {
     "name": "stdout",
     "output_type": "stream",
     "text": [
      "Starting /bettik/bouissob/FAVIER_2019/CPL_EXP12_rst_COM_NEMO-CNRS.nc   0/7\n",
      "Starting /bettik/bouissob/FAVIER_2019/CPL_EXP22_rst_COM_NEMO-CNRS.nc   1/7\n",
      "Starting /bettik/bouissob/FAVIER_2019/CPL_EXP20_rst_COM_NEMO-CNRS.nc   2/7\n",
      "Starting /bettik/bouissob/FAVIER_2019/CPL_EXP10_rst_COM_NEMO-CNRS.nc   3/7\n",
      "Starting /bettik/bouissob/FAVIER_2019/CPL_EXP21_rst_COM_NEMO-CNRS.nc   4/7\n",
      "Starting /bettik/bouissob/FAVIER_2019/CPL_EXP11_rst_COM_NEMO-CNRS.nc   5/7\n",
      "Starting /bettik/bouissob/FAVIER_2019/CPL_EXP23_rst_COM_NEMO-CNRS.nc   6/7\n",
      "Starting /bettik/bouissob/FAVIER_2019/CPL_EXP13_rst_COM_NEMO-CNRS.nc   7/7\n"
     ]
    },
    {
     "data": {
      "image/png": "[encoded data removed]",
      "text/plain": [
       "<Figure size 630x315 with 1 Axes>"
      ]
     },
     "metadata": {
      "needs_background": "light"
     },
     "output_type": "display_data"
    }
   ],
   "source": [
    "size = 13\n",
    "dim = (8.75/3*3, 8.75/3*1.5)\n",
    "files = glob.glob(f'{File_path}*')\n",
    "f = plt.figure()\n",
    "f.set_size_inches(dim)\n",
    "T = 1199\n",
    "s = 1\n",
    "for i, fi in enumerate(reversed(files)):\n",
    "    print(f'Starting {fi}   {i}/{len(files)-1}')\n",
    "    Z, _ = Vertic_profil(fi, T, s = s)\n",
    "\n",
    "    \n",
    "    \n",
    "COLD = [-1.9,-1.9]\n",
    "WARM = [-1.9, 1]\n",
    "z = [min(Z).values, max(Z).values]\n",
    "plt.plot(COLD, z, label = 'COLD')\n",
    "plt.plot(WARM, z, label = 'WARM')\n",
    "plt.gca().invert_yaxis()\n",
    "plt.legend(fontsize=size-2)\n",
    "plt.xlabel('Potential temperature($^\\circ$C)', fontsize=size)\n",
    "plt.ylabel('Depth (m)', fontsize=size)\n",
    "plt.gca().tick_params(labelsize=size-2)\n",
    "#plt.title('TemperatureXZ profiles')\n",
    "sns.despine()\n",
    "#plt.savefig(f'Image_output/All_exp_{T}_temperature.png', facecolor = 'white', bbox_inches='tight', dpi = 300)\n",
    "\n",
    "\n",
    "labelsize=5"
   ]
  },
  {
   "cell_type": "code",
   "execution_count": 6,
   "id": "ad54e995-9002-4ff8-b68c-5303872de971",
   "metadata": {
    "tags": []
   },
   "outputs": [
    {
     "name": "stdout",
     "output_type": "stream",
     "text": [
      "Starting /bettik/bouissob/FAVIER_2019/CPL_EXP12_rst_COM_NEMO-CNRS.nc   0/7\n",
      "Starting /bettik/bouissob/FAVIER_2019/CPL_EXP22_rst_COM_NEMO-CNRS.nc   1/7\n",
      "Starting /bettik/bouissob/FAVIER_2019/CPL_EXP20_rst_COM_NEMO-CNRS.nc   2/7\n",
      "Starting /bettik/bouissob/FAVIER_2019/CPL_EXP10_rst_COM_NEMO-CNRS.nc   3/7\n",
      "Starting /bettik/bouissob/FAVIER_2019/CPL_EXP21_rst_COM_NEMO-CNRS.nc   4/7\n",
      "Starting /bettik/bouissob/FAVIER_2019/CPL_EXP11_rst_COM_NEMO-CNRS.nc   5/7\n",
      "Starting /bettik/bouissob/FAVIER_2019/CPL_EXP23_rst_COM_NEMO-CNRS.nc   6/7\n",
      "Starting /bettik/bouissob/FAVIER_2019/CPL_EXP13_rst_COM_NEMO-CNRS.nc   7/7\n"
     ]
    },
    {
     "data": {
      "image/png": "[encoded data removed]",
      "text/plain": [
       "<Figure size 630x315 with 1 Axes>"
      ]
     },
     "metadata": {
      "needs_background": "light"
     },
     "output_type": "display_data"
    }
   ],
   "source": [
    "size = 13\n",
    "dim = (8.75/3*3, 8.75/3*1.5)\n",
    "f = plt.figure()\n",
    "f.set_size_inches(dim)\n",
    "T = 1199\n",
    "Names = []\n",
    "S_all = []\n",
    "files = glob.glob(f'{File_path}*')\n",
    "\n",
    "for i, fi in enumerate(reversed(files)):\n",
    "    print(f'Starting {fi}   {i}/{len(files)-1}')\n",
    "    Z, S  = Vertic_profil(fi, T, var = 'salinityXZ')\n",
    "    name = re.findall('CPL_(\\w+)_rst', fi)[0]\n",
    "    if name in Dict:\n",
    "        S_all.append(S)\n",
    "        Names.append(name)\n",
    "COLD = [33.8, 34.55]\n",
    "WARM = [33.8, 34.7]\n",
    "z = [min(Z).values, max(Z).values]\n",
    "plt.plot(COLD, z, label = 'COLD')\n",
    "plt.plot(WARM, z, label = 'WARM')\n",
    "plt.gca().invert_yaxis()\n",
    "plt.legend(fontsize=size-2)\n",
    "plt.xlabel('Practical salinity(PSU)', fontsize=size)\n",
    "plt.ylabel('Depth (m)', fontsize=size)\n",
    "plt.gca().tick_params(labelsize=size-2)\n",
    "sns.despine()\n",
    "#plt.title('SalinityXZ profiles')\n",
    "plt.savefig(f'Image_output/All_exp_{T}_salinity.png', facecolor = 'white', dpi = 300, bbox_inches='tight')"
   ]
  },
  {
   "cell_type": "code",
   "execution_count": null,
   "id": "39c95c35-3410-4a52-a215-97c6b5b83761",
   "metadata": {},
   "outputs": [],
   "source": []
  },
  {
   "cell_type": "code",
   "execution_count": null,
   "id": "ba91a82c-432f-4730-b583-508866d32a70",
   "metadata": {},
   "outputs": [],
   "source": []
  },
  {
   "cell_type": "code",
   "execution_count": 3,
   "id": "b3c76580-93e5-4374-8a30-a3e4f3493450",
   "metadata": {},
   "outputs": [],
   "source": [
    "Uniq_var = ['iceDraft', 'bathymetry', 'Slope_iceDraft', 'Slope_bathymetry',\n",
    "                'T(z)', 'S(z)', 'Distances_ground_line', 'Distances_front_line']\n",
    "#p = f'{os.getcwd()}/Cached_data/Variables_benchmark.csv'\n",
    "p = f'{os.getcwd()}/Cached_data/Var_drop_benchmark_128EpNeur128.csv'\n",
    "\n",
    "Data = pd.read_csv(p)\n",
    "Var = []\n",
    "RMSE_oc = []\n",
    "RMSE_tot = []\n",
    "for index in Data.index:\n",
    "    cur = Data.loc[index]\n",
    "    Var.append(ast.literal_eval(Data['Var'].loc[index]))\n",
    "    RMSE_oc.append(np.array(Data['RMSEs'].loc[index].strip('][').split()).astype(float))\n",
    "    RMSE_tot.append(float(Data['RMSE_tot'].loc[index]))\n",
    "\n",
    "N_V = []\n",
    "for ind, Vars in enumerate(Var):\n",
    "    if 'T_0' in Vars:\n",
    "        for i in range(40):\n",
    "            Vars.remove(f'T_{i}')\n",
    "        Vars.append('T(z)')\n",
    "    if 'S_0' in Vars:\n",
    "        for i in range(40):\n",
    "            Vars.remove(f'S_{i}')\n",
    "        Vars.append('S(z)')\n",
    "    if 'Slope_iceDraft_x' in Vars:\n",
    "        Vars.remove('Slope_iceDraft_x')\n",
    "        Vars.remove('Slope_iceDraft_y')\n",
    "        Vars.append('Slope_iceDraft')\n",
    "        \n",
    "    if 'Slope_bathymetry_x' in Vars:\n",
    "        Vars.remove('Slope_bathymetry_x')\n",
    "        Vars.remove('Slope_bathymetry_y')\n",
    "        Vars.append('Slope_bathymetry')\n",
    "    N_V.append(Vars)"
   ]
  },
  {
   "cell_type": "code",
   "execution_count": null,
   "id": "44cb89eb-597b-475c-afa2-3c6fac29cd59",
   "metadata": {
    "tags": []
   },
   "outputs": [],
   "source": []
  },
  {
   "cell_type": "code",
   "execution_count": 4,
   "id": "d8063345-67c7-42df-afbf-48255b40b45d",
   "metadata": {},
   "outputs": [],
   "source": [
    "Dropped_var = []\n",
    "\n",
    "for v in N_V:\n",
    "    dv = []\n",
    "    for uv in Uniq_var:\n",
    "        if uv not in v:\n",
    "            dv.append(uv)\n",
    "    Dropped_var.append(dv)"
   ]
  },
  {
   "cell_type": "code",
   "execution_count": 5,
   "id": "8f9e1655-0f49-4c5c-ac53-cffb1225c5c0",
   "metadata": {},
   "outputs": [
    {
     "data": {
      "text/plain": [
       "[['iceDraft'],\n",
       " ['Slope_iceDraft'],\n",
       " ['bathymetry'],\n",
       " ['Slope_bathymetry'],\n",
       " ['T(z)'],\n",
       " ['S(z)'],\n",
       " ['Distances_ground_line'],\n",
       " ['Distances_front_line'],\n",
       " ['T(z)', 'S(z)']]"
      ]
     },
     "execution_count": 5,
     "metadata": {},
     "output_type": "execute_result"
    }
   ],
   "source": [
    "Dropped_var"
   ]
  },
  {
   "cell_type": "code",
   "execution_count": 6,
   "id": "72684f27-4333-4c0b-b34d-c39a0d24781f",
   "metadata": {},
   "outputs": [],
   "source": [
    "df = pd.DataFrame()"
   ]
  },
  {
   "cell_type": "code",
   "execution_count": 7,
   "id": "08cde97d-96e0-4668-9b76-b975d9f84c03",
   "metadata": {},
   "outputs": [],
   "source": [
    "df['Var_drop'] = [ '_'.join(i) for i in Dropped_var]\n",
    "df['Total RMSE'] = RMSE_tot\n",
    "df[['Ocean1', 'Ocean2', 'Ocean3', 'Ocean4']] = RMSE_oc"
   ]
  },
  {
   "cell_type": "code",
   "execution_count": 8,
   "id": "ec456baa-c333-4a4a-a310-c641b635cd4e",
   "metadata": {},
   "outputs": [],
   "source": [
    "DF = df.set_index('Var_drop')"
   ]
  },
  {
   "cell_type": "code",
   "execution_count": 9,
   "id": "a6d8602c-1eee-4df8-8237-738d8aba5abd",
   "metadata": {
    "tags": []
   },
   "outputs": [],
   "source": [
    "rank = DF.rank(axis = 0, ascending = False)\n",
    "\n",
    "#plt.savefig(f'{os.getcwd()}/Image_output/Heatmap_RMSE.png',facecolor = 'white')"
   ]
  },
  {
   "cell_type": "code",
   "execution_count": 13,
   "id": "fba6d3e9-57d7-42a4-9951-deaa240822ce",
   "metadata": {},
   "outputs": [
    {
     "data": {
      "text/html": [
       "<div>\n",
       "<style scoped>\n",
       "    .dataframe tbody tr th:only-of-type {\n",
       "        vertical-align: middle;\n",
       "    }\n",
       "\n",
       "    .dataframe tbody tr th {\n",
       "        vertical-align: top;\n",
       "    }\n",
       "\n",
       "    .dataframe thead th {\n",
       "        text-align: right;\n",
       "    }\n",
       "</style>\n",
       "<table border=\"1\" class=\"dataframe\">\n",
       "  <thead>\n",
       "    <tr style=\"text-align: right;\">\n",
       "      <th></th>\n",
       "      <th>Total RMSE</th>\n",
       "      <th>Ocean1</th>\n",
       "      <th>Ocean2</th>\n",
       "      <th>Ocean3</th>\n",
       "      <th>Ocean4</th>\n",
       "    </tr>\n",
       "    <tr>\n",
       "      <th>Var_drop</th>\n",
       "      <th></th>\n",
       "      <th></th>\n",
       "      <th></th>\n",
       "      <th></th>\n",
       "      <th></th>\n",
       "    </tr>\n",
       "  </thead>\n",
       "  <tbody>\n",
       "    <tr>\n",
       "      <th>iceDraft</th>\n",
       "      <td>0.328211</td>\n",
       "      <td>0.545366</td>\n",
       "      <td>0.243978</td>\n",
       "      <td>0.431080</td>\n",
       "      <td>0.037535</td>\n",
       "    </tr>\n",
       "    <tr>\n",
       "      <th>Slope_iceDraft</th>\n",
       "      <td>0.309534</td>\n",
       "      <td>0.531278</td>\n",
       "      <td>0.184525</td>\n",
       "      <td>0.406908</td>\n",
       "      <td>0.034583</td>\n",
       "    </tr>\n",
       "    <tr>\n",
       "      <th>bathymetry</th>\n",
       "      <td>0.298565</td>\n",
       "      <td>0.556443</td>\n",
       "      <td>0.192273</td>\n",
       "      <td>0.378991</td>\n",
       "      <td>0.033134</td>\n",
       "    </tr>\n",
       "    <tr>\n",
       "      <th>Slope_bathymetry</th>\n",
       "      <td>0.293850</td>\n",
       "      <td>0.526153</td>\n",
       "      <td>0.182272</td>\n",
       "      <td>0.379378</td>\n",
       "      <td>0.037241</td>\n",
       "    </tr>\n",
       "    <tr>\n",
       "      <th>T(z)</th>\n",
       "      <td>0.364977</td>\n",
       "      <td>0.779497</td>\n",
       "      <td>0.356076</td>\n",
       "      <td>0.413435</td>\n",
       "      <td>0.046929</td>\n",
       "    </tr>\n",
       "    <tr>\n",
       "      <th>S(z)</th>\n",
       "      <td>0.309002</td>\n",
       "      <td>0.606484</td>\n",
       "      <td>0.250168</td>\n",
       "      <td>0.376612</td>\n",
       "      <td>0.037414</td>\n",
       "    </tr>\n",
       "    <tr>\n",
       "      <th>Distances_ground_line</th>\n",
       "      <td>0.282102</td>\n",
       "      <td>0.525343</td>\n",
       "      <td>0.162106</td>\n",
       "      <td>0.359269</td>\n",
       "      <td>0.039561</td>\n",
       "    </tr>\n",
       "    <tr>\n",
       "      <th>Distances_front_line</th>\n",
       "      <td>0.290181</td>\n",
       "      <td>0.530709</td>\n",
       "      <td>0.159417</td>\n",
       "      <td>0.372911</td>\n",
       "      <td>0.041333</td>\n",
       "    </tr>\n",
       "    <tr>\n",
       "      <th>T(z)_S(z)</th>\n",
       "      <td>15.092607</td>\n",
       "      <td>51.111517</td>\n",
       "      <td>8.206996</td>\n",
       "      <td>3.219834</td>\n",
       "      <td>1.362560</td>\n",
       "    </tr>\n",
       "  </tbody>\n",
       "</table>\n",
       "</div>"
      ],
      "text/plain": [
       "                       Total RMSE     Ocean1    Ocean2    Ocean3    Ocean4\n",
       "Var_drop                                                                  \n",
       "iceDraft                 0.328211   0.545366  0.243978  0.431080  0.037535\n",
       "Slope_iceDraft           0.309534   0.531278  0.184525  0.406908  0.034583\n",
       "bathymetry               0.298565   0.556443  0.192273  0.378991  0.033134\n",
       "Slope_bathymetry         0.293850   0.526153  0.182272  0.379378  0.037241\n",
       "T(z)                     0.364977   0.779497  0.356076  0.413435  0.046929\n",
       "S(z)                     0.309002   0.606484  0.250168  0.376612  0.037414\n",
       "Distances_ground_line    0.282102   0.525343  0.162106  0.359269  0.039561\n",
       "Distances_front_line     0.290181   0.530709  0.159417  0.372911  0.041333\n",
       "T(z)_S(z)               15.092607  51.111517  8.206996  3.219834  1.362560"
      ]
     },
     "execution_count": 13,
     "metadata": {},
     "output_type": "execute_result"
    }
   ],
   "source": [
    "DF"
   ]
  },
  {
   "cell_type": "code",
   "execution_count": 22,
   "id": "35cb386f-fe0d-4e22-b256-1f4ec9ed00df",
   "metadata": {
    "collapsed": true,
    "jupyter": {
     "outputs_hidden": true
    },
    "tags": []
   },
   "outputs": [
    {
     "ename": "KeyError",
     "evalue": "'iceDraft'",
     "output_type": "error",
     "traceback": [
      "\u001b[0;31m---------------------------------------------------------------------------\u001b[0m",
      "\u001b[0;31mKeyError\u001b[0m                                  Traceback (most recent call last)",
      "\u001b[0;32m~/miniconda3/envs/py37/lib/python3.7/site-packages/pandas/core/indexes/base.py\u001b[0m in \u001b[0;36mget_loc\u001b[0;34m(self, key, method, tolerance)\u001b[0m\n\u001b[1;32m   3360\u001b[0m             \u001b[0;32mtry\u001b[0m\u001b[0;34m:\u001b[0m\u001b[0;34m\u001b[0m\u001b[0;34m\u001b[0m\u001b[0m\n\u001b[0;32m-> 3361\u001b[0;31m                 \u001b[0;32mreturn\u001b[0m \u001b[0mself\u001b[0m\u001b[0;34m.\u001b[0m\u001b[0m_engine\u001b[0m\u001b[0;34m.\u001b[0m\u001b[0mget_loc\u001b[0m\u001b[0;34m(\u001b[0m\u001b[0mcasted_key\u001b[0m\u001b[0;34m)\u001b[0m\u001b[0;34m\u001b[0m\u001b[0;34m\u001b[0m\u001b[0m\n\u001b[0m\u001b[1;32m   3362\u001b[0m             \u001b[0;32mexcept\u001b[0m \u001b[0mKeyError\u001b[0m \u001b[0;32mas\u001b[0m \u001b[0merr\u001b[0m\u001b[0;34m:\u001b[0m\u001b[0;34m\u001b[0m\u001b[0;34m\u001b[0m\u001b[0m\n",
      "\u001b[0;32m~/miniconda3/envs/py37/lib/python3.7/site-packages/pandas/_libs/index.pyx\u001b[0m in \u001b[0;36mpandas._libs.index.IndexEngine.get_loc\u001b[0;34m()\u001b[0m\n",
      "\u001b[0;32m~/miniconda3/envs/py37/lib/python3.7/site-packages/pandas/_libs/index.pyx\u001b[0m in \u001b[0;36mpandas._libs.index.IndexEngine.get_loc\u001b[0;34m()\u001b[0m\n",
      "\u001b[0;32mpandas/_libs/hashtable_class_helper.pxi\u001b[0m in \u001b[0;36mpandas._libs.hashtable.PyObjectHashTable.get_item\u001b[0;34m()\u001b[0m\n",
      "\u001b[0;32mpandas/_libs/hashtable_class_helper.pxi\u001b[0m in \u001b[0;36mpandas._libs.hashtable.PyObjectHashTable.get_item\u001b[0;34m()\u001b[0m\n",
      "\u001b[0;31mKeyError\u001b[0m: 'iceDraft'",
      "\nThe above exception was the direct cause of the following exception:\n",
      "\u001b[0;31mKeyError\u001b[0m                                  Traceback (most recent call last)",
      "\u001b[0;32m/tmp/ipykernel_11746/391297259.py\u001b[0m in \u001b[0;36m<module>\u001b[0;34m\u001b[0m\n\u001b[0;32m----> 1\u001b[0;31m \u001b[0mDF\u001b[0m\u001b[0;34m[\u001b[0m\u001b[0;34m'iceDraft'\u001b[0m\u001b[0;34m]\u001b[0m\u001b[0;34m\u001b[0m\u001b[0;34m\u001b[0m\u001b[0m\n\u001b[0m",
      "\u001b[0;32m~/miniconda3/envs/py37/lib/python3.7/site-packages/pandas/core/frame.py\u001b[0m in \u001b[0;36m__getitem__\u001b[0;34m(self, key)\u001b[0m\n\u001b[1;32m   3456\u001b[0m             \u001b[0;32mif\u001b[0m \u001b[0mself\u001b[0m\u001b[0;34m.\u001b[0m\u001b[0mcolumns\u001b[0m\u001b[0;34m.\u001b[0m\u001b[0mnlevels\u001b[0m \u001b[0;34m>\u001b[0m \u001b[0;36m1\u001b[0m\u001b[0;34m:\u001b[0m\u001b[0;34m\u001b[0m\u001b[0;34m\u001b[0m\u001b[0m\n\u001b[1;32m   3457\u001b[0m                 \u001b[0;32mreturn\u001b[0m \u001b[0mself\u001b[0m\u001b[0;34m.\u001b[0m\u001b[0m_getitem_multilevel\u001b[0m\u001b[0;34m(\u001b[0m\u001b[0mkey\u001b[0m\u001b[0;34m)\u001b[0m\u001b[0;34m\u001b[0m\u001b[0;34m\u001b[0m\u001b[0m\n\u001b[0;32m-> 3458\u001b[0;31m             \u001b[0mindexer\u001b[0m \u001b[0;34m=\u001b[0m \u001b[0mself\u001b[0m\u001b[0;34m.\u001b[0m\u001b[0mcolumns\u001b[0m\u001b[0;34m.\u001b[0m\u001b[0mget_loc\u001b[0m\u001b[0;34m(\u001b[0m\u001b[0mkey\u001b[0m\u001b[0;34m)\u001b[0m\u001b[0;34m\u001b[0m\u001b[0;34m\u001b[0m\u001b[0m\n\u001b[0m\u001b[1;32m   3459\u001b[0m             \u001b[0;32mif\u001b[0m \u001b[0mis_integer\u001b[0m\u001b[0;34m(\u001b[0m\u001b[0mindexer\u001b[0m\u001b[0;34m)\u001b[0m\u001b[0;34m:\u001b[0m\u001b[0;34m\u001b[0m\u001b[0;34m\u001b[0m\u001b[0m\n\u001b[1;32m   3460\u001b[0m                 \u001b[0mindexer\u001b[0m \u001b[0;34m=\u001b[0m \u001b[0;34m[\u001b[0m\u001b[0mindexer\u001b[0m\u001b[0;34m]\u001b[0m\u001b[0;34m\u001b[0m\u001b[0;34m\u001b[0m\u001b[0m\n",
      "\u001b[0;32m~/miniconda3/envs/py37/lib/python3.7/site-packages/pandas/core/indexes/base.py\u001b[0m in \u001b[0;36mget_loc\u001b[0;34m(self, key, method, tolerance)\u001b[0m\n\u001b[1;32m   3361\u001b[0m                 \u001b[0;32mreturn\u001b[0m \u001b[0mself\u001b[0m\u001b[0;34m.\u001b[0m\u001b[0m_engine\u001b[0m\u001b[0;34m.\u001b[0m\u001b[0mget_loc\u001b[0m\u001b[0;34m(\u001b[0m\u001b[0mcasted_key\u001b[0m\u001b[0;34m)\u001b[0m\u001b[0;34m\u001b[0m\u001b[0;34m\u001b[0m\u001b[0m\n\u001b[1;32m   3362\u001b[0m             \u001b[0;32mexcept\u001b[0m \u001b[0mKeyError\u001b[0m \u001b[0;32mas\u001b[0m \u001b[0merr\u001b[0m\u001b[0;34m:\u001b[0m\u001b[0;34m\u001b[0m\u001b[0;34m\u001b[0m\u001b[0m\n\u001b[0;32m-> 3363\u001b[0;31m                 \u001b[0;32mraise\u001b[0m \u001b[0mKeyError\u001b[0m\u001b[0;34m(\u001b[0m\u001b[0mkey\u001b[0m\u001b[0;34m)\u001b[0m \u001b[0;32mfrom\u001b[0m \u001b[0merr\u001b[0m\u001b[0;34m\u001b[0m\u001b[0;34m\u001b[0m\u001b[0m\n\u001b[0m\u001b[1;32m   3364\u001b[0m \u001b[0;34m\u001b[0m\u001b[0m\n\u001b[1;32m   3365\u001b[0m         \u001b[0;32mif\u001b[0m \u001b[0mis_scalar\u001b[0m\u001b[0;34m(\u001b[0m\u001b[0mkey\u001b[0m\u001b[0;34m)\u001b[0m \u001b[0;32mand\u001b[0m \u001b[0misna\u001b[0m\u001b[0;34m(\u001b[0m\u001b[0mkey\u001b[0m\u001b[0;34m)\u001b[0m \u001b[0;32mand\u001b[0m \u001b[0;32mnot\u001b[0m \u001b[0mself\u001b[0m\u001b[0;34m.\u001b[0m\u001b[0mhasnans\u001b[0m\u001b[0;34m:\u001b[0m\u001b[0;34m\u001b[0m\u001b[0;34m\u001b[0m\u001b[0m\n",
      "\u001b[0;31mKeyError\u001b[0m: 'iceDraft'"
     ]
    }
   ],
   "source": [
    "DF['iceDraft']"
   ]
  },
  {
   "cell_type": "code",
   "execution_count": 12,
   "id": "5626fed3-63fc-421d-82d2-2c26bdfc6f5d",
   "metadata": {},
   "outputs": [
    {
     "ename": "KeyError",
     "evalue": "\"None of [Index(['iceDraft', 'bathymetry', 'Slope_iceDraft', 'Slope_bathymetry',\\n       'Distances_ground_line', 'Distances_front_line', 'T(z)', 'S(z)',\\n       'T(z)_S(z)'],\\n      dtype='object')] are in the [columns]\"",
     "output_type": "error",
     "traceback": [
      "\u001b[0;31m---------------------------------------------------------------------------\u001b[0m",
      "\u001b[0;31mKeyError\u001b[0m                                  Traceback (most recent call last)",
      "\u001b[0;32m/tmp/ipykernel_11746/911963531.py\u001b[0m in \u001b[0;36m<module>\u001b[0;34m\u001b[0m\n\u001b[1;32m     10\u001b[0m \u001b[0;34m\u001b[0m\u001b[0m\n\u001b[1;32m     11\u001b[0m \u001b[0;34m\u001b[0m\u001b[0m\n\u001b[0;32m---> 12\u001b[0;31m \u001b[0md\u001b[0m \u001b[0;34m=\u001b[0m \u001b[0mDF\u001b[0m\u001b[0;34m[\u001b[0m\u001b[0mOrder_index\u001b[0m\u001b[0;34m]\u001b[0m\u001b[0;34m\u001b[0m\u001b[0;34m\u001b[0m\u001b[0m\n\u001b[0m\u001b[1;32m     13\u001b[0m \u001b[0mMin\u001b[0m \u001b[0;34m=\u001b[0m \u001b[0md\u001b[0m\u001b[0;34m.\u001b[0m\u001b[0mmin\u001b[0m\u001b[0;34m(\u001b[0m\u001b[0;34m)\u001b[0m\u001b[0;34m\u001b[0m\u001b[0;34m\u001b[0m\u001b[0m\n\u001b[1;32m     14\u001b[0m \u001b[0mMax\u001b[0m \u001b[0;34m=\u001b[0m \u001b[0md\u001b[0m\u001b[0;34m.\u001b[0m\u001b[0mmax\u001b[0m\u001b[0;34m(\u001b[0m\u001b[0;34m)\u001b[0m\u001b[0;34m\u001b[0m\u001b[0;34m\u001b[0m\u001b[0m\n",
      "\u001b[0;32m~/miniconda3/envs/py37/lib/python3.7/site-packages/pandas/core/frame.py\u001b[0m in \u001b[0;36m__getitem__\u001b[0;34m(self, key)\u001b[0m\n\u001b[1;32m   3462\u001b[0m             \u001b[0;32mif\u001b[0m \u001b[0mis_iterator\u001b[0m\u001b[0;34m(\u001b[0m\u001b[0mkey\u001b[0m\u001b[0;34m)\u001b[0m\u001b[0;34m:\u001b[0m\u001b[0;34m\u001b[0m\u001b[0;34m\u001b[0m\u001b[0m\n\u001b[1;32m   3463\u001b[0m                 \u001b[0mkey\u001b[0m \u001b[0;34m=\u001b[0m \u001b[0mlist\u001b[0m\u001b[0;34m(\u001b[0m\u001b[0mkey\u001b[0m\u001b[0;34m)\u001b[0m\u001b[0;34m\u001b[0m\u001b[0;34m\u001b[0m\u001b[0m\n\u001b[0;32m-> 3464\u001b[0;31m             \u001b[0mindexer\u001b[0m \u001b[0;34m=\u001b[0m \u001b[0mself\u001b[0m\u001b[0;34m.\u001b[0m\u001b[0mloc\u001b[0m\u001b[0;34m.\u001b[0m\u001b[0m_get_listlike_indexer\u001b[0m\u001b[0;34m(\u001b[0m\u001b[0mkey\u001b[0m\u001b[0;34m,\u001b[0m \u001b[0maxis\u001b[0m\u001b[0;34m=\u001b[0m\u001b[0;36m1\u001b[0m\u001b[0;34m)\u001b[0m\u001b[0;34m[\u001b[0m\u001b[0;36m1\u001b[0m\u001b[0;34m]\u001b[0m\u001b[0;34m\u001b[0m\u001b[0;34m\u001b[0m\u001b[0m\n\u001b[0m\u001b[1;32m   3465\u001b[0m \u001b[0;34m\u001b[0m\u001b[0m\n\u001b[1;32m   3466\u001b[0m         \u001b[0;31m# take() does not accept boolean indexers\u001b[0m\u001b[0;34m\u001b[0m\u001b[0;34m\u001b[0m\u001b[0;34m\u001b[0m\u001b[0m\n",
      "\u001b[0;32m~/miniconda3/envs/py37/lib/python3.7/site-packages/pandas/core/indexing.py\u001b[0m in \u001b[0;36m_get_listlike_indexer\u001b[0;34m(self, key, axis)\u001b[0m\n\u001b[1;32m   1312\u001b[0m             \u001b[0mkeyarr\u001b[0m\u001b[0;34m,\u001b[0m \u001b[0mindexer\u001b[0m\u001b[0;34m,\u001b[0m \u001b[0mnew_indexer\u001b[0m \u001b[0;34m=\u001b[0m \u001b[0max\u001b[0m\u001b[0;34m.\u001b[0m\u001b[0m_reindex_non_unique\u001b[0m\u001b[0;34m(\u001b[0m\u001b[0mkeyarr\u001b[0m\u001b[0;34m)\u001b[0m\u001b[0;34m\u001b[0m\u001b[0;34m\u001b[0m\u001b[0m\n\u001b[1;32m   1313\u001b[0m \u001b[0;34m\u001b[0m\u001b[0m\n\u001b[0;32m-> 1314\u001b[0;31m         \u001b[0mself\u001b[0m\u001b[0;34m.\u001b[0m\u001b[0m_validate_read_indexer\u001b[0m\u001b[0;34m(\u001b[0m\u001b[0mkeyarr\u001b[0m\u001b[0;34m,\u001b[0m \u001b[0mindexer\u001b[0m\u001b[0;34m,\u001b[0m \u001b[0maxis\u001b[0m\u001b[0;34m)\u001b[0m\u001b[0;34m\u001b[0m\u001b[0;34m\u001b[0m\u001b[0m\n\u001b[0m\u001b[1;32m   1315\u001b[0m \u001b[0;34m\u001b[0m\u001b[0m\n\u001b[1;32m   1316\u001b[0m         if needs_i8_conversion(ax.dtype) or isinstance(\n",
      "\u001b[0;32m~/miniconda3/envs/py37/lib/python3.7/site-packages/pandas/core/indexing.py\u001b[0m in \u001b[0;36m_validate_read_indexer\u001b[0;34m(self, key, indexer, axis)\u001b[0m\n\u001b[1;32m   1372\u001b[0m                 \u001b[0;32mif\u001b[0m \u001b[0muse_interval_msg\u001b[0m\u001b[0;34m:\u001b[0m\u001b[0;34m\u001b[0m\u001b[0;34m\u001b[0m\u001b[0m\n\u001b[1;32m   1373\u001b[0m                     \u001b[0mkey\u001b[0m \u001b[0;34m=\u001b[0m \u001b[0mlist\u001b[0m\u001b[0;34m(\u001b[0m\u001b[0mkey\u001b[0m\u001b[0;34m)\u001b[0m\u001b[0;34m\u001b[0m\u001b[0;34m\u001b[0m\u001b[0m\n\u001b[0;32m-> 1374\u001b[0;31m                 \u001b[0;32mraise\u001b[0m \u001b[0mKeyError\u001b[0m\u001b[0;34m(\u001b[0m\u001b[0;34mf\"None of [{key}] are in the [{axis_name}]\"\u001b[0m\u001b[0;34m)\u001b[0m\u001b[0;34m\u001b[0m\u001b[0;34m\u001b[0m\u001b[0m\n\u001b[0m\u001b[1;32m   1375\u001b[0m \u001b[0;34m\u001b[0m\u001b[0m\n\u001b[1;32m   1376\u001b[0m             \u001b[0mnot_found\u001b[0m \u001b[0;34m=\u001b[0m \u001b[0mlist\u001b[0m\u001b[0;34m(\u001b[0m\u001b[0mensure_index\u001b[0m\u001b[0;34m(\u001b[0m\u001b[0mkey\u001b[0m\u001b[0;34m)\u001b[0m\u001b[0;34m[\u001b[0m\u001b[0mmissing_mask\u001b[0m\u001b[0;34m.\u001b[0m\u001b[0mnonzero\u001b[0m\u001b[0;34m(\u001b[0m\u001b[0;34m)\u001b[0m\u001b[0;34m[\u001b[0m\u001b[0;36m0\u001b[0m\u001b[0;34m]\u001b[0m\u001b[0;34m]\u001b[0m\u001b[0;34m.\u001b[0m\u001b[0munique\u001b[0m\u001b[0;34m(\u001b[0m\u001b[0;34m)\u001b[0m\u001b[0;34m)\u001b[0m\u001b[0;34m\u001b[0m\u001b[0;34m\u001b[0m\u001b[0m\n",
      "\u001b[0;31mKeyError\u001b[0m: \"None of [Index(['iceDraft', 'bathymetry', 'Slope_iceDraft', 'Slope_bathymetry',\\n       'Distances_ground_line', 'Distances_front_line', 'T(z)', 'S(z)',\\n       'T(z)_S(z)'],\\n      dtype='object')] are in the [columns]\""
     ]
    }
   ],
   "source": [
    "Order_index = ['iceDraft',\n",
    " 'bathymetry',\n",
    " 'Slope_iceDraft',\n",
    " 'Slope_bathymetry',\n",
    " 'Distances_ground_line',\n",
    " 'Distances_front_line',\n",
    " 'T(z)',\n",
    " 'S(z)',\n",
    " 'T(z)_S(z)']\n",
    "\n",
    "\n",
    "d = DF[Order_index]\n",
    "Min = d.min()\n",
    "Max = d.max()\n",
    "d2 = (d - Min) / (Max - Min)\n",
    "fig, axes = plt.subplots(figsize=(8, 5))\n",
    "#h = sns.heatmap(rank, annot=d, cmap=\"Blues_r\", cbar=False)\n",
    "b = sns.heatmap(rank, cmap = 'Blues_r', annot = d, fmt='.2f', cbar = False, \n",
    "                annot_kws={'fontsize' : SIZE})\n",
    "b.axes.set_ylabel('')\n",
    "b.tick_params(labelsize = SIZE)\n",
    "#sns.despine()\n",
    "\n",
    "#plt.savefig(f'{os.getcwd()}/Image_output/Heatmap_RMSE_Drop_128.png',facecolor = 'white', dpi=300, bbox_inches = \"tight\")"
   ]
  },
  {
   "cell_type": "code",
   "execution_count": null,
   "id": "7921a1b2-8be0-4fa3-a045-40e39207ddf2",
   "metadata": {},
   "outputs": [],
   "source": [
    "b = sns.heatmap(rank, cmap = 'Blues_r', annot = A, fmt='.2f', cbar = False, \n",
    "                annot_kws={'fontsize' : SIZE})\n",
    "#sns.set(font_scale = 1.3)\n",
    "#b.axes.set_xlabel(fontsize = SIZE)\n",
    "b.axes.set_ylabel('')\n",
    "b.tick_params(labelsize = SIZE)\n",
    "sns.despine()"
   ]
  },
  {
   "cell_type": "code",
   "execution_count": null,
   "id": "3b9811c5-0d03-424a-80ea-8e948ee5780b",
   "metadata": {},
   "outputs": [],
   "source": [
    "# New_index = ['iceDraft', 'bathymetry', 'Distances\\nground_line',\n",
    "#                'Distances\\nfront_line', 'T(z) ', 'S(z) ', 'Slope_iceDraft', 'Slope_bathymetry',\n",
    "#              'T(z) mixed\\nshuffle','S(z) mixed\\nshuffle', 'bathymetry/\\niceDraft']"
   ]
  },
  {
   "cell_type": "code",
   "execution_count": null,
   "id": "ff02e680-d908-4d10-b48f-d8d33d197326",
   "metadata": {
    "collapsed": true,
    "jupyter": {
     "outputs_hidden": true
    },
    "tags": []
   },
   "outputs": [
    {
     "data": {
      "image/png": "[encoded data removed]",
      "text/plain": [
       "<Figure size 432x288 with 1 Axes>"
      ]
     },
     "metadata": {
      "needs_background": "light"
     },
     "output_type": "display_data"
    },
    {
     "data": {
      "image/png": "[encoded data removed]",
      "text/plain": [
       "<Figure size 432x288 with 2 Axes>"
      ]
     },
     "metadata": {
      "needs_background": "light"
     },
     "output_type": "display_data"
    }
   ],
   "source": [
    "d = DF.loc[DF.index[:-1]]\n",
    "Min = d.min()\n",
    "Max = d.max()\n",
    "d2 = (d - Min) / (Max - Min)\n",
    "sns.heatmap(d2, annot=d, cmap=\"Blues\", cbar=False)\n",
    "\n",
    "\n",
    "#plt.savefig(f'{os.getcwd()}/Image_output/Heatmap_RMSE.png',facecolor = 'white', dpi=300, bbox_inches = \"tight\")\n",
    "plt.figure()\n",
    "h = sns.heatmap(rank, annot=DF, cmap=\"Blues_r\", cbar=True)\n",
    "h.set(ylabel=None)\n",
    "plt.savefig(f'{os.getcwd()}/Image_output/Heatmap_RMSE_rank.png',facecolor = 'white', \n",
    "            dpi=300, bbox_inches = \"tight\", annot_kws={'fontsize' : SIZE})\n"
   ]
  },
  {
   "cell_type": "code",
   "execution_count": null,
   "id": "1a9c7b39-f483-4517-80d2-b2b2f5b681e0",
   "metadata": {},
   "outputs": [],
   "source": [
    "b = sns.heatmap(rank, cmap = 'Blues_r', annot = A, fmt='.2f', cbar = False, \n",
    "                annot_kws={'fontsize' : SIZE})\n",
    "#sns.set(font_scale = 1.3)\n",
    "#b.axes.set_xlabel(fontsize = SIZE)\n",
    "b.axes.set_ylabel('')\n",
    "b.tick_params(labelsize = SIZE)\n",
    "sns.despine()"
   ]
  },
  {
   "cell_type": "code",
   "execution_count": 36,
   "id": "5233318f-fa63-450b-8e51-957db082a835",
   "metadata": {},
   "outputs": [],
   "source": [
    "p = f'{os.getcwd()}/Cached_data/Variables_benchmark.csv'\n",
    "data = pd.read_csv(p)\n",
    "Var = []\n",
    "RMSE_oc = []\n",
    "RMSE_tot = []\n",
    "\n",
    "for index in data.index:\n",
    "    cur = data.loc[index]\n",
    "    if '[' in data['Var'].loc[index]:\n",
    "        Var.append(ast.literal_eval(data['Var'].loc[index]))\n",
    "    else:\n",
    "        Var.append(data['Var'].loc[index])\n",
    "    RMSE_oc.append(np.array(data['RMSEs'].loc[index].strip('][').split()).astype(float))\n",
    "    RMSE_tot.append(float(data['RMSE_tot'].loc[index]))\n"
   ]
  },
  {
   "cell_type": "code",
   "execution_count": 78,
   "id": "8725eed6-b535-459d-a3c2-3fa59fb43e56",
   "metadata": {},
   "outputs": [],
   "source": [
    "p = f'{os.getcwd()}/Cached_data/Variables_benchmark_shuffle_ALL.csv'\n",
    "data = pd.read_csv(p)\n",
    "Var = []\n",
    "RMSE_oc = []\n",
    "RMSE_tot = []\n",
    "\n",
    "for index in data.index:\n",
    "    cur = data.loc[index]\n",
    "    if '[' in data['Var'].loc[index]:\n",
    "        Var.append(ast.literal_eval(data['Var'].loc[index]))\n",
    "    else:\n",
    "        Var.append(data['Var'].loc[index])\n",
    "    RMSE_oc.append(np.array(data['RMSEs'].loc[index].strip('][').split()).astype(float))\n",
    "    RMSE_tot.append(float(data['RMSE_tot'].loc[index]))\n",
    "OC = ast.literal_eval(cur['Oc'])"
   ]
  },
  {
   "cell_type": "code",
   "execution_count": 52,
   "id": "2e9e048d-209a-4534-839f-b40406b3f69d",
   "metadata": {},
   "outputs": [],
   "source": [
    "new_v = []\n",
    "for v in Var:\n",
    "    if type(v) == list:\n",
    "        #print(v)\n",
    "        if 'T_0' in v:\n",
    "            new_v.append('T(z)')\n",
    "        elif 'S_0' in v:\n",
    "            new_v.append('S(z)')\n",
    "        elif 'Slope' in v[0]:\n",
    "            new_v.append(v[0][:-2])\n",
    "    else:\n",
    "        new_v.append(v)"
   ]
  },
  {
   "cell_type": "code",
   "execution_count": 59,
   "id": "8ce33162-80e0-4efd-b888-c0835b1b2ec9",
   "metadata": {
    "tags": []
   },
   "outputs": [],
   "source": [
    "df = pd.DataFrame()\n",
    "df['Var_shuffled'] = new_v\n",
    "df['Total RMSE'] = RMSE_tot\n",
    "df[Oc] = RMSE_oc\n",
    "#df[OcT + ALL_EXP] = RMSE_oc\n",
    "DF = pd.DataFrame(df).set_index('Var_shuffled')"
   ]
  },
  {
   "cell_type": "code",
   "execution_count": 20,
   "id": "3f7e19fa-2350-4689-bd1d-9091ed450225",
   "metadata": {
    "tags": []
   },
   "outputs": [],
   "source": [
    "# d = DF\n",
    "# Min = d.min()\n",
    "# Max = d.max()\n",
    "# d2 = (d - Min) / (Max - Min)\n",
    "# fig, axes = plt.subplots(figsize=(10, 4))\n",
    "# rank = DF.rank(axis = 0, ascending = False)\n",
    "# h = sns.heatmap(rank, annot=d, cmap=\"Blues_r\", cbar=True)\n",
    "# h.set(ylabel=None)\n",
    "# plt.savefig(f'{os.getcwd()}/Image_output/Heatmap_RMSE_shuffle_OcTExp10-13-22-23.png',facecolor = 'white', dpi=300, bbox_inches = \"tight\")"
   ]
  },
  {
   "cell_type": "code",
   "execution_count": 33,
   "id": "1545663f-12ce-4929-bd98-1a8c28698e2b",
   "metadata": {},
   "outputs": [
    {
     "data": {
      "text/plain": [
       "['/home/bouissob/Code/Cached_data/Shuffle_benchmark/Var_benchmark_1653216190/Var_benchmark_1653216190_0_.csv',\n",
       " '/home/bouissob/Code/Cached_data/Shuffle_benchmark/Var_benchmark_1653216190/Var_benchmark_1653216190_1_.csv',\n",
       " '/home/bouissob/Code/Cached_data/Shuffle_benchmark/Var_benchmark_1653216190/Var_benchmark_1653216190_2_.csv',\n",
       " '/home/bouissob/Code/Cached_data/Shuffle_benchmark/Var_benchmark_1653216190/Var_benchmark_1653216190_3_.csv']"
      ]
     },
     "execution_count": 33,
     "metadata": {},
     "output_type": "execute_result"
    }
   ],
   "source": [
    "ID = 1650362530\n",
    "#ID = 1651150755\n",
    "ID = 1650407902\n",
    "ID = 1653044112 #Shuffle Ep128 Neur 128X5 OcT\n",
    "ID = 1653216190 #Shuffle Ep128 Neur 128X5 Composite OcT + EXP 10 13 22 23\n",
    "p = f'{os.getcwd()}/Cached_data/Shuffle_benchmark/'\n",
    "P = glob.glob(f'{p}*{ID}*')[0]\n",
    "ALL_p = glob.glob(f'{P}/*.csv')\n",
    "ALL_p"
   ]
  },
  {
   "cell_type": "code",
   "execution_count": null,
   "id": "4de01c95-7ce3-4eb3-9f22-7f9d375a2a99",
   "metadata": {},
   "outputs": [],
   "source": []
  },
  {
   "cell_type": "code",
   "execution_count": 34,
   "id": "c67fc02e-5e6d-4565-9e41-97545d912b53",
   "metadata": {},
   "outputs": [
    {
     "data": {
      "text/plain": [
       "'/home/bouissob/Code/Cached_data/Shuffle_benchmark/Var_benchmark_1653216190'"
      ]
     },
     "execution_count": 34,
     "metadata": {},
     "output_type": "execute_result"
    }
   ],
   "source": [
    "P"
   ]
  },
  {
   "cell_type": "code",
   "execution_count": 35,
   "id": "735afccc-bf71-4819-b77d-d2c0e69f4a3e",
   "metadata": {},
   "outputs": [],
   "source": [
    "def Convert_var(Var):\n",
    "    new_v = []\n",
    "    for v in Var:\n",
    "        if '[' in v:\n",
    "            v = ast.literal_eval(v)\n",
    "        if type(v) == list:\n",
    "            #print(v)\n",
    "            Suff = ''\n",
    "            if '-ms' in v:\n",
    "                Suff = 'mixed shuffle'\n",
    "            if 'T_0' in v:\n",
    "                new_v.append('T(z) ' + Suff)\n",
    "            elif 'S_0' in v:\n",
    "                new_v.append('S(z) ' + Suff)\n",
    "            elif 'Slope' in v[0]:\n",
    "                new_v.append(v[0][:-2])\n",
    "            else:\n",
    "                new_v.append('-'.join(v))\n",
    "        else:\n",
    "            new_v.append(v)\n",
    "    return new_v"
   ]
  },
  {
   "cell_type": "code",
   "execution_count": 36,
   "id": "5f67af01-3f74-49e5-84cd-9803be5db55c",
   "metadata": {
    "tags": []
   },
   "outputs": [],
   "source": [
    "li = []\n",
    "for f in ALL_p:\n",
    "    df = pd.read_csv(f)\n",
    "    df['Var_shuffled'] = Convert_var(np.array(df['Var_shuffled']))\n",
    "    df.set_index('Var_shuffled', inplace = True)\n",
    "    li.append(df)"
   ]
  },
  {
   "cell_type": "code",
   "execution_count": 66,
   "id": "90936dac-5945-4028-9b33-fdf3f33b4925",
   "metadata": {},
   "outputs": [],
   "source": [
    "A = pd.concat(li).groupby(level=0).mean()\n",
    "A = A.loc[li[0].index]\n",
    "Sorting = ['_'.join(i) for i in Dropped_var]\n",
    "A.rename(columns={'RMSE_tot' : 'Total RMSE'}, inplace = True)\n"
   ]
  },
  {
   "cell_type": "code",
   "execution_count": null,
   "id": "c1c367ca-ad67-4f1d-96df-03ef6f7781a4",
   "metadata": {},
   "outputs": [],
   "source": []
  },
  {
   "cell_type": "code",
   "execution_count": 75,
   "id": "83509d09-cf36-4e50-8e29-0614167a7acd",
   "metadata": {
    "tags": []
   },
   "outputs": [
    {
     "data": {
      "image/png": "[encoded data removed]",
      "text/plain": [
       "<Figure size 1152x432 with 1 Axes>"
      ]
     },
     "metadata": {
      "needs_background": "light"
     },
     "output_type": "display_data"
    }
   ],
   "source": [
    "A = pd.concat(li).groupby(level=0).mean()\n",
    "A = A.loc[li[0].index]\n",
    "Sorting = ['_'.join(i) for i in Dropped_var]\n",
    "A.rename(columns={'RMSE_tot' : 'Total RMSE'}, inplace = True)\n",
    "\n",
    "sns.set_context('paper') \n",
    "d = A\n",
    "New_index = ['iceDraft', 'bathymetry', 'Distances_ground_line',\n",
    "               'Distances_front_line', 'T(z) ', 'S(z) ', 'Slope_iceDraft', 'Slope_bathymetry',\n",
    "             'T(z) mixed\\nshuffle','S(z) mixed\\nshuffle', 'bathymetry/\\niceDraft']\n",
    "\n",
    "New_index = ['iceDraft', 'bathymetry', 'Distances\\nground_line',\n",
    "               'Distances\\nfront_line', 'T(z) ', 'S(z) ', 'Slope_iceDraft', 'Slope_bathymetry',\n",
    "             'T(z) mixed\\nshuffle','S(z) mixed\\nshuffle', 'bathymetry/\\niceDraft']\n",
    "Renaming_col = {'EXP20' : 'Warm0', 'EXP10' : 'Warm1', 'EXP11' : 'Warm2', \n",
    "            'EXP13' : 'Warm3', 'EXP22' : 'Cold0', 'EXP12' : 'Cold1', 'EXP21' : 'Warm0\\nbis',\n",
    "            'EXP23' : 'Warm0\\nbis2'}\n",
    "\n",
    "Dict = {}\n",
    "for name in d.columns:\n",
    "    extract = re.findall('CPL_(\\w+)_rst', name)\n",
    "    if extract != []:\n",
    "        new_n = extract[0]\n",
    "        Dict[name] = new_n\n",
    "d.rename(columns=Dict, inplace = True)\n",
    "d.rename(columns=Renaming_col, inplace = True)\n",
    "d.rename({'bathymetry-iceDraft': 'bathymetry/\\niceDraft', 'T(z) mixed shuffle' : 'T(z) mixed\\nshuffle',\n",
    "         'S(z) mixed shuffle' : 'S(z) mixed\\nshuffle', 'Distances_ground_line' : 'Distances\\nground_line',\n",
    "         'Distances_front_line' : 'Distances\\nfront_line'}, inplace = True)\n",
    "col = ['Total RMSE', 'Ocean1', 'Ocean2', 'Ocean3', 'Ocean4', 'Warm0',\n",
    "    'Warm0\\nbis','Warm0\\nbis2', 'Warm1', 'Warm2', 'Warm3','Cold0', 'Cold1']\n",
    "d = d[col]\n",
    "d = d.loc[New_index]\n",
    "fig = plt.figure(figsize = (16,6)) # Pour graph seulement OcT dim : (8, 5)\n",
    "Min = d.min()\n",
    "Max = d.max()\n",
    "d2 = 1 - (d - Min) / (Max - Min)\n",
    "rank = A.rank(axis = 0, ascending = False)\n",
    "b = sns.heatmap(d2, cmap = 'Blues_r', annot = d, fmt='.2f', cbar = False, \n",
    "                annot_kws={'fontsize' : SIZE})\n",
    "#sns.set(font_scale = 1.3)\n",
    "#b.axes.set_xlabel(fontsize = SIZE)\n",
    "b.axes.set_ylabel('')\n",
    "b.tick_params(labelsize = SIZE)\n",
    "#sns.despine()\n",
    "fig.savefig(f'{os.getcwd()}/Image_output/Heatmap_RMSE_shuffle_OcTExp10-13-22-23.png',facecolor = 'white', dpi=300, bbox_inches = \"tight\")"
   ]
  },
  {
   "cell_type": "code",
   "execution_count": 65,
   "id": "abf9042c-7a3a-4d94-9bde-3e541e9967c6",
   "metadata": {},
   "outputs": [
    {
     "data": {
      "text/html": [
       "<div>\n",
       "<style scoped>\n",
       "    .dataframe tbody tr th:only-of-type {\n",
       "        vertical-align: middle;\n",
       "    }\n",
       "\n",
       "    .dataframe tbody tr th {\n",
       "        vertical-align: top;\n",
       "    }\n",
       "\n",
       "    .dataframe thead th {\n",
       "        text-align: right;\n",
       "    }\n",
       "</style>\n",
       "<table border=\"1\" class=\"dataframe\">\n",
       "  <thead>\n",
       "    <tr style=\"text-align: right;\">\n",
       "      <th></th>\n",
       "      <th>Total RMSE</th>\n",
       "      <th>Ocean1</th>\n",
       "      <th>Ocean2</th>\n",
       "      <th>Ocean3</th>\n",
       "      <th>Ocean4</th>\n",
       "      <th>Warm0</th>\n",
       "      <th>Warm0\\nbis</th>\n",
       "      <th>Warm0\\nbis2</th>\n",
       "      <th>Warm1</th>\n",
       "      <th>Warm2</th>\n",
       "      <th>Warm3</th>\n",
       "      <th>Cold0</th>\n",
       "      <th>Cold1</th>\n",
       "    </tr>\n",
       "    <tr>\n",
       "      <th>Var_shuffled</th>\n",
       "      <th></th>\n",
       "      <th></th>\n",
       "      <th></th>\n",
       "      <th></th>\n",
       "      <th></th>\n",
       "      <th></th>\n",
       "      <th></th>\n",
       "      <th></th>\n",
       "      <th></th>\n",
       "      <th></th>\n",
       "      <th></th>\n",
       "      <th></th>\n",
       "      <th></th>\n",
       "    </tr>\n",
       "  </thead>\n",
       "  <tbody>\n",
       "    <tr>\n",
       "      <th>iceDraft</th>\n",
       "      <td>12.375380</td>\n",
       "      <td>22.376464</td>\n",
       "      <td>2.665315</td>\n",
       "      <td>9.692384</td>\n",
       "      <td>0.425268</td>\n",
       "      <td>8.501190</td>\n",
       "      <td>8.521822</td>\n",
       "      <td>7.590006</td>\n",
       "      <td>14.220616</td>\n",
       "      <td>14.361943</td>\n",
       "      <td>11.597832</td>\n",
       "      <td>8.676073</td>\n",
       "      <td>24.008917</td>\n",
       "    </tr>\n",
       "    <tr>\n",
       "      <th>bathymetry</th>\n",
       "      <td>33.787155</td>\n",
       "      <td>8.342500</td>\n",
       "      <td>19.565375</td>\n",
       "      <td>34.568999</td>\n",
       "      <td>5.611678</td>\n",
       "      <td>36.150560</td>\n",
       "      <td>36.633391</td>\n",
       "      <td>26.628751</td>\n",
       "      <td>51.535967</td>\n",
       "      <td>50.313774</td>\n",
       "      <td>26.887474</td>\n",
       "      <td>24.198112</td>\n",
       "      <td>26.462061</td>\n",
       "    </tr>\n",
       "    <tr>\n",
       "      <th>Distances_ground_line</th>\n",
       "      <td>19.118323</td>\n",
       "      <td>15.496227</td>\n",
       "      <td>10.344796</td>\n",
       "      <td>9.374765</td>\n",
       "      <td>6.034699</td>\n",
       "      <td>16.954461</td>\n",
       "      <td>16.686526</td>\n",
       "      <td>3.595559</td>\n",
       "      <td>30.479061</td>\n",
       "      <td>38.028913</td>\n",
       "      <td>4.896601</td>\n",
       "      <td>14.731626</td>\n",
       "      <td>20.305599</td>\n",
       "    </tr>\n",
       "    <tr>\n",
       "      <th>Distances_front_line</th>\n",
       "      <td>6.085283</td>\n",
       "      <td>2.248737</td>\n",
       "      <td>1.908587</td>\n",
       "      <td>1.981431</td>\n",
       "      <td>0.706444</td>\n",
       "      <td>5.010303</td>\n",
       "      <td>4.856167</td>\n",
       "      <td>2.692175</td>\n",
       "      <td>6.884244</td>\n",
       "      <td>12.405640</td>\n",
       "      <td>6.462663</td>\n",
       "      <td>1.019679</td>\n",
       "      <td>8.881225</td>\n",
       "    </tr>\n",
       "    <tr>\n",
       "      <th>T(z)</th>\n",
       "      <td>19.096272</td>\n",
       "      <td>55.675414</td>\n",
       "      <td>11.230942</td>\n",
       "      <td>4.338942</td>\n",
       "      <td>0.205007</td>\n",
       "      <td>13.106497</td>\n",
       "      <td>13.164271</td>\n",
       "      <td>9.434878</td>\n",
       "      <td>27.823909</td>\n",
       "      <td>18.140333</td>\n",
       "      <td>21.431214</td>\n",
       "      <td>3.303007</td>\n",
       "      <td>33.505402</td>\n",
       "    </tr>\n",
       "    <tr>\n",
       "      <th>T(z) mixed shuffle</th>\n",
       "      <td>18.684142</td>\n",
       "      <td>47.898846</td>\n",
       "      <td>11.239965</td>\n",
       "      <td>4.355176</td>\n",
       "      <td>0.205013</td>\n",
       "      <td>13.114319</td>\n",
       "      <td>13.166925</td>\n",
       "      <td>9.421166</td>\n",
       "      <td>27.798488</td>\n",
       "      <td>18.104127</td>\n",
       "      <td>21.463405</td>\n",
       "      <td>3.297661</td>\n",
       "      <td>33.502805</td>\n",
       "    </tr>\n",
       "    <tr>\n",
       "      <th>S(z)</th>\n",
       "      <td>35.516519</td>\n",
       "      <td>20.660344</td>\n",
       "      <td>23.328516</td>\n",
       "      <td>47.095616</td>\n",
       "      <td>1.994649</td>\n",
       "      <td>32.123234</td>\n",
       "      <td>32.064023</td>\n",
       "      <td>29.090141</td>\n",
       "      <td>40.606803</td>\n",
       "      <td>41.132900</td>\n",
       "      <td>54.281320</td>\n",
       "      <td>11.522912</td>\n",
       "      <td>37.084473</td>\n",
       "    </tr>\n",
       "    <tr>\n",
       "      <th>S(z) mixed shuffle</th>\n",
       "      <td>35.460850</td>\n",
       "      <td>14.599857</td>\n",
       "      <td>23.283189</td>\n",
       "      <td>47.113931</td>\n",
       "      <td>1.985206</td>\n",
       "      <td>32.049392</td>\n",
       "      <td>32.038361</td>\n",
       "      <td>29.090713</td>\n",
       "      <td>40.606573</td>\n",
       "      <td>41.133397</td>\n",
       "      <td>54.301920</td>\n",
       "      <td>11.532657</td>\n",
       "      <td>37.139731</td>\n",
       "    </tr>\n",
       "    <tr>\n",
       "      <th>Slope_iceDraft</th>\n",
       "      <td>9.171991</td>\n",
       "      <td>7.592488</td>\n",
       "      <td>1.219871</td>\n",
       "      <td>5.736186</td>\n",
       "      <td>0.101174</td>\n",
       "      <td>8.269533</td>\n",
       "      <td>8.553562</td>\n",
       "      <td>7.710795</td>\n",
       "      <td>16.812685</td>\n",
       "      <td>5.526860</td>\n",
       "      <td>15.321818</td>\n",
       "      <td>1.205215</td>\n",
       "      <td>8.925162</td>\n",
       "    </tr>\n",
       "    <tr>\n",
       "      <th>Slope_bathymetry</th>\n",
       "      <td>9.763481</td>\n",
       "      <td>5.078647</td>\n",
       "      <td>5.423504</td>\n",
       "      <td>6.797264</td>\n",
       "      <td>1.665096</td>\n",
       "      <td>9.371189</td>\n",
       "      <td>9.753206</td>\n",
       "      <td>6.435528</td>\n",
       "      <td>12.302171</td>\n",
       "      <td>18.940773</td>\n",
       "      <td>5.507487</td>\n",
       "      <td>3.160532</td>\n",
       "      <td>12.509519</td>\n",
       "    </tr>\n",
       "    <tr>\n",
       "      <th>bathymetry\\niceDraft</th>\n",
       "      <td>33.865296</td>\n",
       "      <td>12.262011</td>\n",
       "      <td>21.793753</td>\n",
       "      <td>35.497880</td>\n",
       "      <td>6.046203</td>\n",
       "      <td>33.247115</td>\n",
       "      <td>33.051725</td>\n",
       "      <td>23.371036</td>\n",
       "      <td>58.878122</td>\n",
       "      <td>48.483456</td>\n",
       "      <td>20.837468</td>\n",
       "      <td>17.152168</td>\n",
       "      <td>34.854034</td>\n",
       "    </tr>\n",
       "  </tbody>\n",
       "</table>\n",
       "</div>"
      ],
      "text/plain": [
       "                       Total RMSE     Ocean1     Ocean2     Ocean3    Ocean4  \\\n",
       "Var_shuffled                                                                   \n",
       "iceDraft                12.375380  22.376464   2.665315   9.692384  0.425268   \n",
       "bathymetry              33.787155   8.342500  19.565375  34.568999  5.611678   \n",
       "Distances_ground_line   19.118323  15.496227  10.344796   9.374765  6.034699   \n",
       "Distances_front_line     6.085283   2.248737   1.908587   1.981431  0.706444   \n",
       "T(z)                    19.096272  55.675414  11.230942   4.338942  0.205007   \n",
       "T(z) mixed shuffle      18.684142  47.898846  11.239965   4.355176  0.205013   \n",
       "S(z)                    35.516519  20.660344  23.328516  47.095616  1.994649   \n",
       "S(z) mixed shuffle      35.460850  14.599857  23.283189  47.113931  1.985206   \n",
       "Slope_iceDraft           9.171991   7.592488   1.219871   5.736186  0.101174   \n",
       "Slope_bathymetry         9.763481   5.078647   5.423504   6.797264  1.665096   \n",
       "bathymetry\\niceDraft    33.865296  12.262011  21.793753  35.497880  6.046203   \n",
       "\n",
       "                           Warm0  Warm0\\nbis  Warm0\\nbis2      Warm1  \\\n",
       "Var_shuffled                                                           \n",
       "iceDraft                8.501190    8.521822     7.590006  14.220616   \n",
       "bathymetry             36.150560   36.633391    26.628751  51.535967   \n",
       "Distances_ground_line  16.954461   16.686526     3.595559  30.479061   \n",
       "Distances_front_line    5.010303    4.856167     2.692175   6.884244   \n",
       "T(z)                   13.106497   13.164271     9.434878  27.823909   \n",
       "T(z) mixed shuffle     13.114319   13.166925     9.421166  27.798488   \n",
       "S(z)                   32.123234   32.064023    29.090141  40.606803   \n",
       "S(z) mixed shuffle     32.049392   32.038361    29.090713  40.606573   \n",
       "Slope_iceDraft          8.269533    8.553562     7.710795  16.812685   \n",
       "Slope_bathymetry        9.371189    9.753206     6.435528  12.302171   \n",
       "bathymetry\\niceDraft   33.247115   33.051725    23.371036  58.878122   \n",
       "\n",
       "                           Warm2      Warm3      Cold0      Cold1  \n",
       "Var_shuffled                                                       \n",
       "iceDraft               14.361943  11.597832   8.676073  24.008917  \n",
       "bathymetry             50.313774  26.887474  24.198112  26.462061  \n",
       "Distances_ground_line  38.028913   4.896601  14.731626  20.305599  \n",
       "Distances_front_line   12.405640   6.462663   1.019679   8.881225  \n",
       "T(z)                   18.140333  21.431214   3.303007  33.505402  \n",
       "T(z) mixed shuffle     18.104127  21.463405   3.297661  33.502805  \n",
       "S(z)                   41.132900  54.281320  11.522912  37.084473  \n",
       "S(z) mixed shuffle     41.133397  54.301920  11.532657  37.139731  \n",
       "Slope_iceDraft          5.526860  15.321818   1.205215   8.925162  \n",
       "Slope_bathymetry       18.940773   5.507487   3.160532  12.509519  \n",
       "bathymetry\\niceDraft   48.483456  20.837468  17.152168  34.854034  "
      ]
     },
     "execution_count": 65,
     "metadata": {},
     "output_type": "execute_result"
    }
   ],
   "source": [
    "d"
   ]
  },
  {
   "cell_type": "code",
   "execution_count": 1,
   "id": "61ba33cc-48b3-4c2b-af90-bcef4e22e137",
   "metadata": {},
   "outputs": [],
   "source": [
    "\n",
    "# sns.set_context('paper') \n",
    "# d = A\n",
    "# New_index = ['iceDraft', 'bathymetry', 'Distances_ground_line',\n",
    "#                'Distances_front_line', 'T(z) ', 'S(z) ', 'Slope_iceDraft', 'Slope_bathymetry',\n",
    "#              'T(z) mixed shuffle','S(z) mixed shuffle', 'bathymetry-iceDraft']\n",
    "# Dict = {}\n",
    "# for name in d.columns:\n",
    "#     extract = re.findall('CPL_(\\w+)_rst', name)\n",
    "#     if extract != []:\n",
    "#         new_n = extract[0]\n",
    "#         Dict[name] = new_n\n",
    "# d.rename(columns=Dict, inplace = True)\n",
    "# d = d.loc[New_index]\n",
    "# fig = plt.figure(figsize = (16,6)) # Pour graph seulement OcT dim : (8, 5)\n",
    "# Min = d.min()\n",
    "# Max = d.max()\n",
    "# d2 = 1 - (d - Min) / (Max - Min)\n",
    "# rank = A.rank(axis = 0, ascending = False)\n",
    "# b = sns.heatmap(d2, cmap = 'Blues_r', annot = A, fmt='.2f', cbar = False, \n",
    "#                 annot_kws={'fontsize' : SIZE})\n",
    "# #sns.set(font_scale = 1.3)\n",
    "# #b.axes.set_xlabel(fontsize = SIZE)\n",
    "# b.axes.set_ylabel('')\n",
    "# b.tick_params(labelsize = SIZE)\n",
    "# #sns.despine()\n",
    "# #fig.savefig(f'{os.getcwd()}/Image_output/Heatmap_RMSE_shuffle_OcTExp10-13-22-23.png',facecolor = 'white', dpi=300, bbox_inches = \"tight\")"
   ]
  },
  {
   "cell_type": "code",
   "execution_count": null,
   "id": "ddeee466-2f52-4ff3-addb-4db6c2b41017",
   "metadata": {},
   "outputs": [],
   "source": []
  }
 ],
 "metadata": {
  "kernelspec": {
   "display_name": "py37",
   "language": "python",
   "name": "py37"
  },
  "language_info": {
   "codemirror_mode": {
    "name": "ipython",
    "version": 3
   },
   "file_extension": ".py",
   "mimetype": "text/x-python",
   "name": "python",
   "nbconvert_exporter": "python",
   "pygments_lexer": "ipython3",
   "version": "3.7.13"
  }
 },
 "nbformat": 4,
 "nbformat_minor": 5
}
