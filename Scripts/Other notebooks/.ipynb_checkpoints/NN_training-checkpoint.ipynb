{
 "cells": [
  {
   "cell_type": "code",
   "execution_count": 161,
   "id": "83d547fb-cdb8-4150-b8aa-466264d45b33",
   "metadata": {},
   "outputs": [],
   "source": [
    "import tensorflow as tf\n",
    "import matplotlib.pyplot as plt\n",
    "import pandas as pd\n",
    "import os\n",
    "from glob import glob\n",
    "import numpy as np\n",
    "import time\n",
    "import xarray as xr\n",
    "import random\n",
    "import pickle\n",
    "import json"
   ]
  },
  {
   "cell_type": "code",
   "execution_count": 162,
   "id": "88c645d7-107f-4c87-b24f-6620ab1376a7",
   "metadata": {},
   "outputs": [
    {
     "data": {
      "text/plain": [
       "'/home/bouissob/Code'"
      ]
     },
     "execution_count": 162,
     "metadata": {},
     "output_type": "execute_result"
    }
   ],
   "source": [
    "os.getcwd()"
   ]
  },
  {
   "cell_type": "code",
   "execution_count": 163,
   "id": "5d53656e-d977-4256-b802-34c2fb020d03",
   "metadata": {},
   "outputs": [
    {
     "data": {
      "text/plain": [
       "{'Neur_seq': '32_64_64_32',\n",
       " 'Epoch': 1,\n",
       " 'Var_X': ['x', 'y', 'temperatureYZ', 'salinityYZ', 'iceDraft'],\n",
       " 'Var_Y': 'meltRate',\n",
       " 'Dataset_train': ['Ocean2'],\n",
       " 'Oc_mod_type': 'COM_NEMO-CNRS',\n",
       " 'activ_fct': 'swish',\n",
       " 'Choix': 0,\n",
       " 'Uniq_id': 1646214823,\n",
       " 'verbose': 1,\n",
       " 'batch_size': 128,\n",
       " 'Extra_n': ''}"
      ]
     },
     "execution_count": 163,
     "metadata": {},
     "output_type": "execute_result"
    }
   ],
   "source": [
    "path = os.path.join(os.getcwd(), 'Auto_model', 'COM_NEMO-CNRS', 'Ocean2')\n",
    "P = glob(path + '/*')[0]\n",
    "with open(P + '/config.json') as json_file:\n",
    "    data = json.load(json_file)\n",
    "data"
   ]
  },
  {
   "cell_type": "code",
   "execution_count": 164,
   "id": "e13629c1-a4de-4743-a5f4-318cfbcacb51",
   "metadata": {},
   "outputs": [
    {
     "data": {
      "text/plain": [
       "int"
      ]
     },
     "execution_count": 164,
     "metadata": {},
     "output_type": "execute_result"
    }
   ],
   "source": [
    "type(data['Choix'])"
   ]
  },
  {
   "cell_type": "code",
   "execution_count": 165,
   "id": "3066a768-1b62-43ad-a672-20311430dafd",
   "metadata": {},
   "outputs": [],
   "source": [
    "def Make_dire(file_path):\n",
    "    if not os.path.isdir(file_path):\n",
    "        os.makedirs(file_path)"
   ]
  },
  {
   "cell_type": "code",
   "execution_count": 166,
   "id": "383befeb-1a8a-4110-9a54-679aa0deba71",
   "metadata": {},
   "outputs": [],
   "source": [
    "Bet_path = '/bettik/bouissob/'\n",
    "\n",
    "files = glob(os.path.join(Bet_path, 'Data/') + '*Ocean1*')"
   ]
  },
  {
   "cell_type": "code",
   "execution_count": 167,
   "id": "ecb65680-f9c4-42d7-a607-38361aa2d470",
   "metadata": {},
   "outputs": [
    {
     "data": {
      "text/html": [
       "<div>\n",
       "<style scoped>\n",
       "    .dataframe tbody tr th:only-of-type {\n",
       "        vertical-align: middle;\n",
       "    }\n",
       "\n",
       "    .dataframe tbody tr th {\n",
       "        vertical-align: top;\n",
       "    }\n",
       "\n",
       "    .dataframe thead th {\n",
       "        text-align: right;\n",
       "    }\n",
       "</style>\n",
       "<table border=\"1\" class=\"dataframe\">\n",
       "  <thead>\n",
       "    <tr style=\"text-align: right;\">\n",
       "      <th></th>\n",
       "      <th>y</th>\n",
       "      <th>x</th>\n",
       "      <th>meltRate</th>\n",
       "      <th>thermalDriving</th>\n",
       "      <th>halineDriving</th>\n",
       "      <th>iceDraft</th>\n",
       "      <th>date</th>\n",
       "      <th>temperatureYZ</th>\n",
       "      <th>salinityYZ</th>\n",
       "    </tr>\n",
       "  </thead>\n",
       "  <tbody>\n",
       "    <tr>\n",
       "      <th>0</th>\n",
       "      <td>0</td>\n",
       "      <td>194</td>\n",
       "      <td>1.445518e-09</td>\n",
       "      <td>0.009086</td>\n",
       "      <td>0.127754</td>\n",
       "      <td>82.815510</td>\n",
       "      <td>0</td>\n",
       "      <td>-1.900030</td>\n",
       "      <td>33.893150</td>\n",
       "    </tr>\n",
       "    <tr>\n",
       "      <th>1</th>\n",
       "      <td>0</td>\n",
       "      <td>316</td>\n",
       "      <td>2.533100e-09</td>\n",
       "      <td>0.013837</td>\n",
       "      <td>0.194261</td>\n",
       "      <td>91.276440</td>\n",
       "      <td>0</td>\n",
       "      <td>-1.900030</td>\n",
       "      <td>33.893150</td>\n",
       "    </tr>\n",
       "    <tr>\n",
       "      <th>2</th>\n",
       "      <td>2</td>\n",
       "      <td>194</td>\n",
       "      <td>1.421181e-09</td>\n",
       "      <td>0.008926</td>\n",
       "      <td>0.125516</td>\n",
       "      <td>81.651650</td>\n",
       "      <td>0</td>\n",
       "      <td>-1.900036</td>\n",
       "      <td>33.892456</td>\n",
       "    </tr>\n",
       "    <tr>\n",
       "      <th>3</th>\n",
       "      <td>2</td>\n",
       "      <td>294</td>\n",
       "      <td>2.025993e-09</td>\n",
       "      <td>0.012627</td>\n",
       "      <td>0.177358</td>\n",
       "      <td>89.908270</td>\n",
       "      <td>0</td>\n",
       "      <td>-1.900036</td>\n",
       "      <td>33.892456</td>\n",
       "    </tr>\n",
       "    <tr>\n",
       "      <th>4</th>\n",
       "      <td>2</td>\n",
       "      <td>296</td>\n",
       "      <td>1.932426e-09</td>\n",
       "      <td>0.012012</td>\n",
       "      <td>0.168752</td>\n",
       "      <td>90.281364</td>\n",
       "      <td>0</td>\n",
       "      <td>-1.900036</td>\n",
       "      <td>33.892456</td>\n",
       "    </tr>\n",
       "  </tbody>\n",
       "</table>\n",
       "</div>"
      ],
      "text/plain": [
       "   y    x      meltRate  thermalDriving  halineDriving   iceDraft  date  \\\n",
       "0  0  194  1.445518e-09        0.009086       0.127754  82.815510     0   \n",
       "1  0  316  2.533100e-09        0.013837       0.194261  91.276440     0   \n",
       "2  2  194  1.421181e-09        0.008926       0.125516  81.651650     0   \n",
       "3  2  294  2.025993e-09        0.012627       0.177358  89.908270     0   \n",
       "4  2  296  1.932426e-09        0.012012       0.168752  90.281364     0   \n",
       "\n",
       "   temperatureYZ  salinityYZ  \n",
       "0      -1.900030   33.893150  \n",
       "1      -1.900030   33.893150  \n",
       "2      -1.900036   33.892456  \n",
       "3      -1.900036   33.892456  \n",
       "4      -1.900036   33.892456  "
      ]
     },
     "execution_count": 167,
     "metadata": {},
     "output_type": "execute_result"
    }
   ],
   "source": [
    "pd.read_csv(files[0]).head()"
   ]
  },
  {
   "cell_type": "code",
   "execution_count": 168,
   "id": "dde0327c-5a03-4bdf-b908-d62f5302313c",
   "metadata": {},
   "outputs": [],
   "source": [
    "multi = 0\n",
    "if multi == 1:\n",
    "    Datas = glob(Bet_path + '/Data/*S.csv')\n",
    "    Clean_Data = pd.DataFrame()\n",
    "    li = []\n",
    "    for ind, d in enumerate(Datas):\n",
    "        print('{}/{}'.format(ind, len(Datas)))\n",
    "        #data = pd.read_csv(d)\n",
    "        print(d)\n",
    "        li.append(pd.read_csv(d))\n",
    "    Clean_Data = pd.concat(li,ignore_index = True)\n",
    "    del li\n",
    "else:\n",
    "    Datas = glob(Bet_path + '/Data/*Ocean1*.csv')\n",
    "    Data = pd.read_csv(Datas[0])\n",
    "    Clean_Data = Data.dropna()\n",
    "    Clean_Data.reset_index(inplace=True, drop = True)\n"
   ]
  },
  {
   "cell_type": "code",
   "execution_count": 169,
   "id": "df04330d-600f-41ca-b010-fd0e762b9ada",
   "metadata": {},
   "outputs": [],
   "source": [
    "Cols = Clean_Data.columns\n",
    "Var_names_X = Cols.drop(['date', 'meltRate', 'temperatureYZ', 'salinityYZ']) #Config init avec driving\n",
    "#Var_names_X = Cols.drop(['date', 'meltRate', 'halineDriving', 'thermalDriving']) # Nouvelle config avec YZ"
   ]
  },
  {
   "cell_type": "code",
   "execution_count": 170,
   "id": "43fb6d75-c86b-47d1-9162-4a4499d7a951",
   "metadata": {
    "tags": []
   },
   "outputs": [
    {
     "name": "stdout",
     "output_type": "stream",
     "text": [
      "558336 139584\n"
     ]
    }
   ],
   "source": [
    "X = Clean_Data[Var_names_X]\n",
    "Y = Clean_Data['meltRate']\n",
    "X_train = X.sample(frac = 0.8)\n",
    "X_valid = X.drop(X_train.index)\n",
    "\n",
    "Y_train = Y.loc[X_train.index]\n",
    "Y_valid = Y.drop(X_train.index)\n",
    "print(len(X_train), len(X_valid))\n",
    "\n",
    "mean, std = X_train.mean(), X_train.std() \n",
    "meanY, stdY = Y_train.mean(), Y_train.std() \n",
    "X_train, X_valid = (np.array((X_train - mean)/std), \n",
    "                    np.array((X_valid - mean)/std))\n",
    "\n",
    "Y_train, Y_valid = (np.array((Y_train - meanY)/stdY), \n",
    "                    np.array((Y_valid - meanY)/stdY))\n",
    "\n",
    "del X, Y\n",
    "del Clean_Data\n",
    "#maxX, minX = X_train.max(), X_train.min()\n",
    "#maxY, minY = Y_train.max(), Y_train.min()\n",
    "#X_train, X_valid = np.array((X_train - minX)/(maxX - minX)), np.array((X_valid - minX)/(maxX - minX))\n",
    "#Y_train, Y_valid = np.array((Y_train - minY)/(maxY - minY)), np.array((Y_valid - minY)/(maxY - minY))\n",
    "#Y_train_N, Y_valid_N = np.array(Y_train / maxY), np.array(Y_valid/maxY)"
   ]
  },
  {
   "cell_type": "code",
   "execution_count": 260,
   "id": "6e03bb7b-7709-4c12-aee8-773ae6ebe394",
   "metadata": {},
   "outputs": [],
   "source": [
    "def Model_init(shape):\n",
    "    model = tf.keras.models.Sequential()\n",
    "    model.add(tf.keras.layers.Input(shape))\n",
    "    model.add(tf.keras.layers.Dense(32, activation = 'swish'))\n",
    "    model.add(tf.keras.layers.Dense(64, activation = 'swish'))\n",
    "    model.add(tf.keras.layers.Dense(32, activation = 'swish'))\n",
    "    model.add(tf.keras.layers.Dense(1))\n",
    "    model.compile(optimizer='adam',\n",
    "                 loss = 'mse',\n",
    "                metrics = ['mae', 'mse'])\n",
    "    return model\n",
    "def Model_init2(shape):\n",
    "    model = tf.keras.models.Sequential()\n",
    "    model.add(tf.keras.layers.Input(shape))\n",
    "    model.add(tf.keras.layers.Dense(32, activation = 'swish'))\n",
    "    model.add(tf.keras.layers.Dropout(0.9))\n",
    "    model.add(tf.keras.layers.Dense(64, activation = 'swish'))\n",
    "    model.add(tf.keras.layers.Dropout(0.9))\n",
    "    model.add(tf.keras.layers.Dense(32, activation = 'swish'))\n",
    "    model.add(tf.keras.layers.Dense(1))\n",
    "    model.compile(optimizer='adam',\n",
    "                 loss = 'mse',\n",
    "                metrics = ['mae', 'mse'])\n",
    "    return model"
   ]
  },
  {
   "cell_type": "code",
   "execution_count": 172,
   "id": "af9db763-ba68-4916-8213-04be68ad2ce5",
   "metadata": {},
   "outputs": [],
   "source": [
    "if len(Datas) ==1:\n",
    "    Temp = Datas[0].split('/')\n",
    "    Name = Temp[len(Temp) - 1]\n",
    "    Name = Name.replace('data_', '')\n",
    "    Ocean_scen = Name.split('_')[0]\n",
    "    Mod_nam = Name.replace(Ocean_scen + '_', '').split('.')[0]\n",
    "else:\n",
    "    Names = []\n",
    "    for n in Datas:\n",
    "        Temp = n.split('/')\n",
    "        Name = Temp[len(Temp) - 1]\n",
    "        Name = Name.replace('data_', '')\n",
    "        Ocean_scens = Name.split('_')[0]\n",
    "        Names.append(Ocean_scens)\n",
    "    Ocean_scen = '_'.join(Names)\n",
    "    Mod_nam = Name.replace(Ocean_scens + '_', '').split('.')[0]\n",
    "        "
   ]
  },
  {
   "cell_type": "code",
   "execution_count": 176,
   "id": "93067fab-8ae0-409e-9d99-8cc76b4927c1",
   "metadata": {},
   "outputs": [
    {
     "data": {
      "text/plain": [
       "'Ocean1_New'"
      ]
     },
     "execution_count": 176,
     "metadata": {},
     "output_type": "execute_result"
    }
   ],
   "source": [
    "Ocean_scen"
   ]
  },
  {
   "cell_type": "code",
   "execution_count": 177,
   "id": "61e2b46a-c9c0-4f68-afc4-073904ddfb02",
   "metadata": {},
   "outputs": [],
   "source": [
    "Model_path = '/'.join([os.getcwd(),'Models',Mod_nam, Ocean_scen])"
   ]
  },
  {
   "cell_type": "code",
   "execution_count": 178,
   "id": "d189df81-6302-4627-be21-39f8c7b07905",
   "metadata": {},
   "outputs": [
    {
     "data": {
      "text/plain": [
       "'/home/bouissob/Code/Models/Ocean1_COM_NEMO-CNRS/Ocean1_New'"
      ]
     },
     "execution_count": 178,
     "metadata": {},
     "output_type": "execute_result"
    }
   ],
   "source": [
    "Model_path"
   ]
  },
  {
   "cell_type": "code",
   "execution_count": 179,
   "id": "e53499e3-c7eb-453a-860b-344304ad2eb5",
   "metadata": {},
   "outputs": [],
   "source": [
    "model = Model_init2( (len(Var_names_X), ))"
   ]
  },
  {
   "cell_type": "code",
   "execution_count": 180,
   "id": "43827d3e-3300-4ca9-8a75-3a91e6c4711d",
   "metadata": {},
   "outputs": [
    {
     "name": "stdout",
     "output_type": "stream",
     "text": [
      "Model: \"sequential_35\"\n",
      "_________________________________________________________________\n",
      "Layer (type)                 Output Shape              Param #   \n",
      "=================================================================\n",
      "dense_141 (Dense)            (None, 32)                192       \n",
      "_________________________________________________________________\n",
      "dropout_60 (Dropout)         (None, 32)                0         \n",
      "_________________________________________________________________\n",
      "dense_142 (Dense)            (None, 64)                2112      \n",
      "_________________________________________________________________\n",
      "dropout_61 (Dropout)         (None, 64)                0         \n",
      "_________________________________________________________________\n",
      "dense_143 (Dense)            (None, 32)                2080      \n",
      "_________________________________________________________________\n",
      "dense_144 (Dense)            (None, 1)                 33        \n",
      "=================================================================\n",
      "Total params: 4,417\n",
      "Trainable params: 4,417\n",
      "Non-trainable params: 0\n",
      "_________________________________________________________________\n"
     ]
    }
   ],
   "source": [
    "model.summary()"
   ]
  },
  {
   "cell_type": "code",
   "execution_count": 181,
   "id": "5d968c93-72f8-43a8-a238-5f407bfd5ae9",
   "metadata": {},
   "outputs": [
    {
     "name": "stdout",
     "output_type": "stream",
     "text": [
      "<tensorflow.python.keras.layers.core.Dense object at 0x7fa326e6ba10> False\n",
      "<tensorflow.python.keras.layers.core.Dropout object at 0x7fa32fa5f290> True\n",
      "<tensorflow.python.keras.layers.core.Dense object at 0x7fa2e8abb890> False\n",
      "<tensorflow.python.keras.layers.core.Dropout object at 0x7fa326b30b10> True\n",
      "<tensorflow.python.keras.layers.core.Dense object at 0x7fa326e5d250> False\n",
      "<tensorflow.python.keras.layers.core.Dense object at 0x7fa326e5da50> False\n"
     ]
    }
   ],
   "source": [
    "for layer in model.layers:\n",
    "    print(layer, layer.name[:7] == 'dropout')"
   ]
  },
  {
   "cell_type": "code",
   "execution_count": 182,
   "id": "fb84d8dc-923a-4c77-adc0-0505f755f879",
   "metadata": {},
   "outputs": [
    {
     "data": {
      "text/plain": [
       "0.5"
      ]
     },
     "execution_count": 182,
     "metadata": {},
     "output_type": "execute_result"
    }
   ],
   "source": [
    "model.layers[1].rate"
   ]
  },
  {
   "cell_type": "code",
   "execution_count": 232,
   "id": "f2e7fae7-2e25-4063-a715-007fb1848338",
   "metadata": {},
   "outputs": [],
   "source": [
    "class CustomCallback(tf.keras.callbacks.Callback):\n",
    "    def __init__(self,ben):\n",
    "        \"\"\" Save params in constructor\n",
    "        \"\"\"\n",
    "        self.ben = ben\n",
    "    \n",
    "    def on_epoch_begin(self, epoch, logs = None):\n",
    "        Count = 0\n",
    "        for layer in self.model.layers:\n",
    "            if layer.name[:7] == 'dropout' and epoch == 2:\n",
    "                print('Ben')\n",
    "                layer.rate = 1\n",
    "                #self.model._layers.pop(i-Count +1)\n",
    "                Count += 1\n",
    "            elif layer.name[:7] == 'dropout':\n",
    "                pass"
   ]
  },
  {
   "cell_type": "code",
   "execution_count": 197,
   "id": "73cde406-13c2-4313-9824-a0f3466f2a2d",
   "metadata": {},
   "outputs": [
    {
     "data": {
      "text/plain": [
       "0"
      ]
     },
     "execution_count": 197,
     "metadata": {},
     "output_type": "execute_result"
    }
   ],
   "source": [
    "model.layers[1].rate"
   ]
  },
  {
   "cell_type": "code",
   "execution_count": 186,
   "id": "32faf044-7e99-44b7-b9bd-fccd3df18321",
   "metadata": {
    "tags": []
   },
   "outputs": [
    {
     "name": "stdout",
     "output_type": "stream",
     "text": [
      "Model: \"sequential_36\"\n",
      "_________________________________________________________________\n",
      "Layer (type)                 Output Shape              Param #   \n",
      "=================================================================\n",
      "dense_145 (Dense)            (None, 32)                192       \n",
      "_________________________________________________________________\n",
      "dropout_62 (Dropout)         (None, 32)                0         \n",
      "_________________________________________________________________\n",
      "dense_146 (Dense)            (None, 64)                2112      \n",
      "_________________________________________________________________\n",
      "dropout_63 (Dropout)         (None, 64)                0         \n",
      "_________________________________________________________________\n",
      "dense_147 (Dense)            (None, 32)                2080      \n",
      "_________________________________________________________________\n",
      "dense_148 (Dense)            (None, 1)                 33        \n",
      "=================================================================\n",
      "Total params: 4,417\n",
      "Trainable params: 4,417\n",
      "Non-trainable params: 0\n",
      "_________________________________________________________________\n",
      "Model: \"sequential_36\"\n",
      "_________________________________________________________________\n",
      "Layer (type)                 Output Shape              Param #   \n",
      "=================================================================\n",
      "dense_145 (Dense)            (None, 32)                192       \n",
      "_________________________________________________________________\n",
      "dense_146 (Dense)            (None, 64)                2112      \n",
      "_________________________________________________________________\n",
      "dense_147 (Dense)            (None, 32)                2080      \n",
      "_________________________________________________________________\n",
      "dense_148 (Dense)            (None, 1)                 33        \n",
      "=================================================================\n",
      "Total params: 4,417\n",
      "Trainable params: 4,417\n",
      "Non-trainable params: 0\n",
      "_________________________________________________________________\n"
     ]
    }
   ],
   "source": [
    "model = Model_init2( (len(Var_names_X), ))\n",
    "model.summary()\n",
    "Count = 0\n",
    "for i,layer in enumerate(model.layers):\n",
    "    if layer.name[:7] == 'dropout':\n",
    "        model._layers.pop(i-Count +1)\n",
    "        Count += 1\n",
    "model.summary()"
   ]
  },
  {
   "cell_type": "code",
   "execution_count": 188,
   "id": "ccf5c0e5-e2cd-4f01-9bab-a755b7d9f133",
   "metadata": {},
   "outputs": [
    {
     "name": "stdout",
     "output_type": "stream",
     "text": [
      "Model: \"sequential_37\"\n",
      "_________________________________________________________________\n",
      "Layer (type)                 Output Shape              Param #   \n",
      "=================================================================\n",
      "dense_149 (Dense)            (None, 32)                192       \n",
      "_________________________________________________________________\n",
      "dense_150 (Dense)            (None, 64)                2112      \n",
      "_________________________________________________________________\n",
      "dense_151 (Dense)            (None, 32)                2080      \n",
      "_________________________________________________________________\n",
      "dense_152 (Dense)            (None, 1)                 33        \n",
      "=================================================================\n",
      "Total params: 4,417\n",
      "Trainable params: 4,417\n",
      "Non-trainable params: 0\n",
      "_________________________________________________________________\n"
     ]
    }
   ],
   "source": [
    "model = Model_init( (len(Var_names_X), ))\n",
    "model.summary()"
   ]
  },
  {
   "cell_type": "code",
   "execution_count": 189,
   "id": "4595dafb-bef5-4480-8208-3a9a74859425",
   "metadata": {},
   "outputs": [
    {
     "data": {
      "text/plain": [
       "Index(['y', 'x', 'thermalDriving', 'halineDriving', 'iceDraft'], dtype='object')"
      ]
     },
     "execution_count": 189,
     "metadata": {},
     "output_type": "execute_result"
    }
   ],
   "source": [
    "Var_names_X"
   ]
  },
  {
   "cell_type": "code",
   "execution_count": 192,
   "id": "797dd403-f87a-400b-84d7-455e060be48c",
   "metadata": {
    "tags": []
   },
   "outputs": [
    {
     "name": "stdout",
     "output_type": "stream",
     "text": [
      "Epoch 1/6\n",
      "1091/1091 [==============================] - 4s 3ms/step - loss: 0.2010 - mae: 0.2284 - mse: 0.2010 - val_loss: 0.1138 - val_mae: 0.1522 - val_mse: 0.1138\n",
      "Epoch 2/6\n",
      "1091/1091 [==============================] - 3s 3ms/step - loss: 0.1080 - mae: 0.1461 - mse: 0.1080 - val_loss: 0.0942 - val_mae: 0.1308 - val_mse: 0.0942\n",
      "Epoch 3/6\n",
      "1091/1091 [==============================] - 3s 3ms/step - loss: 0.0891 - mae: 0.1283 - mse: 0.0891 - val_loss: 0.0821 - val_mae: 0.1224 - val_mse: 0.0821\n",
      "Epoch 4/6\n",
      "1091/1091 [==============================] - 3s 3ms/step - loss: 0.0793 - mae: 0.1220 - mse: 0.0793 - val_loss: 0.0983 - val_mae: 0.1374 - val_mse: 0.0983\n",
      "Epoch 5/6\n",
      "1091/1091 [==============================] - 3s 3ms/step - loss: 0.0735 - mae: 0.1170 - mse: 0.0735 - val_loss: 0.0652 - val_mae: 0.1107 - val_mse: 0.0652\n",
      "Epoch 6/6\n",
      "1091/1091 [==============================] - 4s 3ms/step - loss: 0.0650 - mae: 0.1124 - mse: 0.0650 - val_loss: 0.0607 - val_mae: 0.1089 - val_mse: 0.0607\n"
     ]
    }
   ],
   "source": [
    "Nbr_Epoch = 6\n",
    "\n",
    "Uniq = time.time()\n",
    "\n",
    "Name ='Ep_{}_Input_{}_{}_Extra_{}'.format(Nbr_Epoch, len(Var_names_X), Uniq, 'initcf')\n",
    "filepath = Model_path + '/' + Name + '/'\n",
    "Make_dire(filepath)\n",
    "#maxX.to_pickle(filepath + 'MaxX.pkl')\n",
    "#minX.to_pickle(filepath + 'MinX.pkl')\n",
    "#np.savetxt(filepath + 'MaxY.csv', np.array(maxY).reshape(1, ))\n",
    "#np.savetxt(filepath + 'MinY.csv', np.array(minY).reshape(1, ))\n",
    "\n",
    "#mean.to_pickle(filepath + 'MeanX.pkl')\n",
    "#std.to_pickle(filepath + 'StdX.pkl')\n",
    "#np.savetxt(filepath + 'MeanY.csv', np.array(meanY).reshape(1, ))\n",
    "#np.savetxt(filepath + 'StdY.csv', np.array(stdY).reshape(1, ))\n",
    "\n",
    "model = Model_init( (len(Var_names_X), ))\n",
    "Model = model.fit(X_train, Y_train,\n",
    "                   epochs = Nbr_Epoch,\n",
    "                   batch_size = 512,\n",
    "                   validation_data = (X_valid, Y_valid),\n",
    "                   callbacks=[CustomCallback(ben = 'neb')])\n",
    "Model_path = os.getcwd() + '/Models/' + Mod_nam + '/' + Ocean_scen + '/'\n",
    "#model.save(filepath + 'model.h5')\n",
    "#with open(filepath + 'TrainingHistory', 'wb') as file_pi:\n",
    "#    pickle.dump(Model.history, file_pi)\n",
    "#del X_train, Y_train\n",
    "#del X_valid, Y_valid"
   ]
  },
  {
   "cell_type": "code",
   "execution_count": null,
   "id": "badc52f5-ee4a-410f-b2ba-46525c26918a",
   "metadata": {},
   "outputs": [],
   "source": [
    "tf.keras.layers."
   ]
  },
  {
   "cell_type": "code",
   "execution_count": 219,
   "id": "01b72998-56fa-4d71-8dce-48af360d12ab",
   "metadata": {},
   "outputs": [
    {
     "name": "stdout",
     "output_type": "stream",
     "text": [
      "Epoch 1/6\n",
      "1091/1091 [==============================] - 4s 3ms/step - loss: 0.2966 - mae: 0.3012 - mse: 0.2966 - val_loss: 0.1454 - val_mae: 0.1862 - val_mse: 0.1454\n",
      "Epoch 2/6\n",
      "1091/1091 [==============================] - 4s 4ms/step - loss: 0.1777 - mae: 0.2169 - mse: 0.1777 - val_loss: 0.1374 - val_mae: 0.1862 - val_mse: 0.1374\n",
      "Epoch 3/6\n",
      "1091/1091 [==============================] - 5s 4ms/step - loss: 0.1676 - mae: 0.2104 - mse: 0.1676 - val_loss: 0.1322 - val_mae: 0.1811 - val_mse: 0.1322\n",
      "Epoch 4/6\n",
      "1091/1091 [==============================] - 4s 3ms/step - loss: 0.1573 - mae: 0.2030 - mse: 0.1573 - val_loss: 0.1276 - val_mae: 0.1828 - val_mse: 0.1276\n",
      "Epoch 5/6\n",
      "1091/1091 [==============================] - 4s 3ms/step - loss: 0.1522 - mae: 0.1986 - mse: 0.1522 - val_loss: 0.1218 - val_mae: 0.1821 - val_mse: 0.1218\n",
      "Epoch 6/6\n",
      "1091/1091 [==============================] - 4s 4ms/step - loss: 0.1485 - mae: 0.1943 - mse: 0.1485 - val_loss: 0.1181 - val_mae: 0.1741 - val_mse: 0.1181\n"
     ]
    }
   ],
   "source": [
    "Nbr_Epoch = 6\n",
    "model = Model_init2( (len(Var_names_X), ))\n",
    "Model = model.fit(X_train, Y_train,\n",
    "                   epochs = Nbr_Epoch,\n",
    "                   batch_size = 512,\n",
    "                   validation_data = (X_valid, Y_valid),\n",
    "                  callbacks=[CustomCallback(ben = 'neb')]\n",
    "                 )\n",
    "#Model = model.fit(X_train, Y_train,\n",
    "#                   epochs = Nbr_Epoch,\n",
    "#                   batch_size = 512,\n",
    "#                   validation_data = (X_valid, Y_valid),\n",
    "#                  callbacks=[CustomCallback(ben = 'neb')]\n",
    "#                 )"
   ]
  },
  {
   "cell_type": "code",
   "execution_count": 236,
   "id": "427bb0cc-8b4b-4411-b9a2-ad86336713a7",
   "metadata": {},
   "outputs": [],
   "source": [
    "model = Model_init2( (len(Var_names_X), ))\n",
    "#model.layers[1].rate = 0.2\n",
    "#model.layers[3].rate = 0.2"
   ]
  },
  {
   "cell_type": "code",
   "execution_count": 376,
   "id": "e438e221-9895-464a-a56f-c6447142f03d",
   "metadata": {},
   "outputs": [],
   "source": [
    "class DropoutScheduler(tf.keras.callbacks.Callback):\n",
    "    def __init__(self, rate = 0.1, verbose=0):\n",
    "        super(DropoutScheduler, self).__init__()\n",
    "        self.rate = rate\n",
    "\n",
    "    #def on_epoch_begin(self, epoch, logs=None):\n",
    "    #    for i,layer in enumerate(self.model.layers):\n",
    "    #        if layer.name[:7] == 'dropout' and epoch == 2:\n",
    "    #            self.model.layers[i].rate = 10\n",
    "    #            self.model.optimizer.lr = 0.01\n",
    "    #        if layer.name[:7] == 'dropout':\n",
    "    #            print(self.model.layers[i].rate)\n",
    "    def on_epoch_begin(self, epoch, logs = None):\n",
    "        Tag = False\n",
    "        model = self.model\n",
    "        for i,layer in enumerate(model.layers):\n",
    "            if layer.name[:7] == 'dropout' and epoch == 2:\n",
    "                model.layers[i].rate = 0.9999\n",
    "                Tag = True\n",
    "        if Tag:\n",
    "            #model_copy = tf.keras.models.clone_model(self.model)\n",
    "            #model_copy.compile(optimizer='adam',\n",
    "            #         loss = 'mse',\n",
    "            #        metrics = ['mae', 'mse'])\n",
    "            #model_copy.set_weights(self.model.get_weights())\n",
    "            #self.model = model_copy\n",
    "            clone = tf.keras.models.clone_model(model)\n",
    "            clone.set_weights(model.get_weights())\n",
    "            self.model = clone \n",
    "            \n",
    "def Model_init2(shape):\n",
    "    model = tf.keras.models.Sequential()\n",
    "    model.add(tf.keras.layers.Input(shape))\n",
    "    model.add(tf.keras.layers.Dense(32, activation = 'swish'))\n",
    "    model.add(tf.keras.layers.Dropout(0.))\n",
    "    model.add(tf.keras.layers.Dense(64, activation = 'swish'))\n",
    "    model.add(tf.keras.layers.Dropout(0.))\n",
    "    model.add(tf.keras.layers.Dense(32, activation = 'swish'))\n",
    "    model.add(tf.keras.layers.Dense(1))\n",
    "    model.compile(optimizer='adam',\n",
    "                 loss = 'mse',\n",
    "                metrics = ['mae', 'mse'])\n",
    "    return model\n",
    "def Model_init3(shape):\n",
    "    model = tf.keras.models.Sequential()\n",
    "    model.add(tf.keras.layers.Input(shape))\n",
    "    model.add(tf.keras.layers.Dense(32, activation = 'swish'))\n",
    "    model.add(tf.keras.layers.Dropout(0.2))\n",
    "    model.add(tf.keras.layers.Dense(64, activation = 'swish'))\n",
    "    model.add(tf.keras.layers.Dropout(0.2))\n",
    "    model.add(tf.keras.layers.Dense(32, activation = 'swish'))\n",
    "    model.add(tf.keras.layers.Dense(1))\n",
    "    model.compile(optimizer='adam',\n",
    "                 loss = 'mse',\n",
    "                metrics = ['mae', 'mse'])\n",
    "    return model"
   ]
  },
  {
   "cell_type": "code",
   "execution_count": 378,
   "id": "2c7c0fea-b6f3-4a79-92fd-60586fb27d2b",
   "metadata": {
    "tags": []
   },
   "outputs": [
    {
     "name": "stdout",
     "output_type": "stream",
     "text": [
      "Ben\n",
      "Ben\n",
      "Epoch 1/6\n",
      "1091/1091 [==============================] - 5s 4ms/step - loss: 0.2146 - mae: 0.2356 - mse: 0.2146 - val_loss: 0.1130 - val_mae: 0.1522 - val_mse: 0.1130\n",
      "Epoch 2/6\n",
      "1091/1091 [==============================] - 4s 3ms/step - loss: 0.1057 - mae: 0.1427 - mse: 0.1057 - val_loss: 0.0930 - val_mae: 0.1277 - val_mse: 0.0930\n",
      "Epoch 3/6\n",
      "1091/1091 [==============================] - 4s 3ms/step - loss: 0.0906 - mae: 0.1278 - mse: 0.0906 - val_loss: 0.0825 - val_mae: 0.1232 - val_mse: 0.0825\n",
      "Epoch 4/6\n",
      "1091/1091 [==============================] - 4s 3ms/step - loss: 0.0820 - mae: 0.1234 - mse: 0.0820 - val_loss: 0.0764 - val_mae: 0.1216 - val_mse: 0.0764\n",
      "Epoch 5/6\n",
      "1091/1091 [==============================] - 4s 3ms/step - loss: 0.0736 - mae: 0.1182 - mse: 0.0736 - val_loss: 0.0658 - val_mae: 0.1131 - val_mse: 0.0658\n",
      "Epoch 6/6\n",
      "1091/1091 [==============================] - 4s 4ms/step - loss: 0.0652 - mae: 0.1135 - mse: 0.0652 - val_loss: 0.0569 - val_mae: 0.1084 - val_mse: 0.0569\n"
     ]
    }
   ],
   "source": [
    "Nbr_Epoch = 6\n",
    "model = Model_init3( (len(Var_names_X), ))\n",
    "for i,layer in enumerate(model.layers):\n",
    "    if layer.name[:7] == 'dropout':\n",
    "        print('Ben')\n",
    "        model.layers[i].rate = 0\n",
    "Model = model.fit(X_train, Y_train,\n",
    "                   epochs = Nbr_Epoch,\n",
    "                   batch_size = 512,\n",
    "                   validation_data = (X_valid, Y_valid),\n",
    "                  callbacks=[DropoutScheduler()]\n",
    "                 )\n"
   ]
  },
  {
   "cell_type": "code",
   "execution_count": 359,
   "id": "7617090d-306a-4d58-94f0-0810eff08442",
   "metadata": {},
   "outputs": [
    {
     "data": {
      "text/plain": [
       "0.99999999999"
      ]
     },
     "execution_count": 359,
     "metadata": {},
     "output_type": "execute_result"
    }
   ],
   "source": [
    "model.layers[1].rate"
   ]
  },
  {
   "cell_type": "code",
   "execution_count": 357,
   "id": "f967f385-a242-422b-b24f-ba1fe96a4777",
   "metadata": {},
   "outputs": [
    {
     "data": {
      "text/plain": [
       "0.99999999999"
      ]
     },
     "execution_count": 357,
     "metadata": {},
     "output_type": "execute_result"
    }
   ],
   "source": [
    "Model.model.layers[1].rate"
   ]
  },
  {
   "cell_type": "code",
   "execution_count": 312,
   "id": "067f0953-db18-4664-9b73-b6e60a480a0e",
   "metadata": {},
   "outputs": [
    {
     "data": {
      "text/plain": [
       "{'name': 'dropout_214',\n",
       " 'trainable': True,\n",
       " 'dtype': 'float32',\n",
       " 'rate': 0.9999,\n",
       " 'noise_shape': None,\n",
       " 'seed': None}"
      ]
     },
     "execution_count": 312,
     "metadata": {},
     "output_type": "execute_result"
    }
   ],
   "source": [
    "Model.model.layers[1].get_config()"
   ]
  },
  {
   "cell_type": "markdown",
   "id": "5efde224-341c-4077-a02d-49d36908db27",
   "metadata": {
    "tags": []
   },
   "source": [
    "Data = Clean_Data.loc[Clean_Data.date == 200]\n",
    "X = Data[Var_names_X]\n",
    "X = np.array((X - mean)/std)\n",
    "X = np.array(X).reshape(-1, 5, )\n",
    "Y_mod = Model.model(X)\n",
    "#Data['Mod_Melt'] = Y_mod.numpy().reshape(len(Y_mod, )) * maxY\n",
    "Data['Mod_Melt'] = (Y_mod.numpy().reshape(len(Y_mod, )) * stdY) + meanY\n",
    "Dataset = Data.set_index(['y', 'x'])\n",
    "Dataset = Dataset.to_xarray()\n",
    "Dataset.Mod_Melt.plot(cmap = plt.get_cmap('viridis'))\n",
    "plt.figure()\n",
    "Dataset.meltRate.plot(cmap = plt.get_cmap('viridis'))"
   ]
  },
  {
   "cell_type": "code",
   "execution_count": 110,
   "id": "27b66e30-4535-462e-b0c6-324b99120b1f",
   "metadata": {},
   "outputs": [
    {
     "data": {
      "image/png": "[encoded data removed]",
      "text/plain": [
       "<Figure size 432x288 with 1 Axes>"
      ]
     },
     "metadata": {
      "needs_background": "light"
     },
     "output_type": "display_data"
    }
   ],
   "source": [
    "hist = Model.history\n",
    "plt.plot(hist['loss'])\n",
    "for k in hist.keys():\n",
    "    plt.plot(hist[k], label = k)\n",
    "plt.legend()\n",
    "plt.show()"
   ]
  },
  {
   "cell_type": "code",
   "execution_count": 150,
   "id": "9b364d8b-c288-499d-b499-ca002ae4a1a0",
   "metadata": {
    "tags": []
   },
   "outputs": [
    {
     "data": {
      "image/png": "[encoded data removed]",
      "text/plain": [
       "<Figure size 432x288 with 1 Axes>"
      ]
     },
     "metadata": {
      "needs_background": "light"
     },
     "output_type": "display_data"
    }
   ],
   "source": [
    "hist = Model.history\n",
    "plt.plot(hist['loss'])\n",
    "for k in hist.keys():\n",
    "    plt.plot(hist[k], label = k)\n",
    "plt.legend()\n",
    "plt.show()"
   ]
  },
  {
   "cell_type": "code",
   "execution_count": 15,
   "id": "763aebee-8c18-4146-96ba-7b392e955ae9",
   "metadata": {},
   "outputs": [
    {
     "data": {
      "image/png": "[encoded data removed]",
      "text/plain": [
       "<Figure size 432x288 with 1 Axes>"
      ]
     },
     "metadata": {
      "needs_background": "light"
     },
     "output_type": "display_data"
    }
   ],
   "source": [
    "hist = Model.history\n",
    "plt.plot(hist['loss'])\n",
    "for k in hist.keys():\n",
    "    plt.plot(hist[k], label = k)\n",
    "plt.legend()\n",
    "plt.show()"
   ]
  },
  {
   "cell_type": "code",
   "execution_count": 60,
   "id": "8de75b80-166a-491f-b90b-8d014e2b3c4b",
   "metadata": {},
   "outputs": [
    {
     "data": {
      "text/plain": [
       "Index(['y', 'x', 'thermalDriving', 'halineDriving', 'iceDraft'], dtype='object')"
      ]
     },
     "execution_count": 60,
     "metadata": {},
     "output_type": "execute_result"
    }
   ],
   "source": [
    "Var_names_X"
   ]
  },
  {
   "cell_type": "code",
   "execution_count": 73,
   "id": "db50a6ef-e8ec-43f0-b034-8eef60178744",
   "metadata": {},
   "outputs": [
    {
     "name": "stderr",
     "output_type": "stream",
     "text": [
      "/home/bouissob/miniconda3/envs/py37/lib/python3.7/site-packages/ipykernel_launcher.py:9: SettingWithCopyWarning: \n",
      "A value is trying to be set on a copy of a slice from a DataFrame.\n",
      "Try using .loc[row_indexer,col_indexer] = value instead\n",
      "\n",
      "See the caveats in the documentation: https://pandas.pydata.org/pandas-docs/stable/user_guide/indexing.html#returning-a-view-versus-a-copy\n",
      "  if __name__ == '__main__':\n"
     ]
    },
    {
     "data": {
      "text/plain": [
       "<matplotlib.collections.QuadMesh at 0x7ff43917da50>"
      ]
     },
     "execution_count": 73,
     "metadata": {},
     "output_type": "execute_result"
    },
    {
     "data": {
      "image/png": "[encoded data removed]",
      "text/plain": [
       "<Figure size 432x288 with 2 Axes>"
      ]
     },
     "metadata": {
      "needs_background": "light"
     },
     "output_type": "display_data"
    }
   ],
   "source": [
    "d = Clean_Data.loc[Clean_Data.date == 239]\n",
    "dx = d[Var_names_X]\n",
    "X = np.array((dx - mean) / std).reshape(-1, len(Var_names_X))\n",
    "#X[:, 4] = 0\n",
    "#X[:, 4] = 0\n",
    "X[:, 3] = 0\n",
    "X[:, 2] = 0\n",
    "Y = (model(X) * stdY) + meanY\n",
    "d['Mod'] = Y\n",
    "arr2 = d.set_index(['x', 'y']).to_xarray()\n",
    "arr2.Mod.plot(x = 'x')"
   ]
  },
  {
   "cell_type": "code",
   "execution_count": null,
   "id": "0a00cdab-565a-46c0-a364-55354c57632d",
   "metadata": {},
   "outputs": [],
   "source": []
  },
  {
   "cell_type": "code",
   "execution_count": null,
   "id": "bcfbd958-4e16-4b76-84c3-bf2756fa338c",
   "metadata": {},
   "outputs": [],
   "source": []
  },
  {
   "cell_type": "code",
   "execution_count": null,
   "id": "ccd2bf5e-004c-4285-85fc-d46f9ec3415c",
   "metadata": {},
   "outputs": [],
   "source": []
  },
  {
   "cell_type": "code",
   "execution_count": 46,
   "id": "d2cdd947-45ef-4913-8d69-08f0be8e691b",
   "metadata": {},
   "outputs": [
    {
     "data": {
      "text/plain": [
       "<matplotlib.collections.QuadMesh at 0x7ff439ce2890>"
      ]
     },
     "execution_count": 46,
     "metadata": {},
     "output_type": "execute_result"
    },
    {
     "data": {
      "image/png": "[encoded data removed]",
      "text/plain": [
       "<Figure size 432x288 with 2 Axes>"
      ]
     },
     "metadata": {
      "needs_background": "light"
     },
     "output_type": "display_data"
    }
   ],
   "source": [
    "arr.Mod.plot(x = 'x')"
   ]
  },
  {
   "cell_type": "code",
   "execution_count": 53,
   "id": "fc898696-25f4-4199-9087-52c0b2703eab",
   "metadata": {},
   "outputs": [],
   "source": []
  },
  {
   "cell_type": "code",
   "execution_count": 49,
   "id": "de40f53f-f7b3-44f4-afd7-3f30990652db",
   "metadata": {},
   "outputs": [
    {
     "data": {
      "text/plain": [
       "array([[-2.01888409, -0.85130163, -0.66888066, -0.77595926, -1.38065693],\n",
       "       [-2.01888409,  1.57113672, -0.58423412, -0.65459487, -1.30947082],\n",
       "       [-1.91539808, -0.85130163, -0.66558147, -0.77117258, -1.39044907],\n",
       "       ...,\n",
       "       [ 1.91358428,  1.61084882, -0.55120873, -0.60870989, -1.23607507],\n",
       "       [ 2.01707029, -0.85130163, -0.48458297, -0.51619807, -1.38274785],\n",
       "       [ 2.01707029,  1.57113672, -0.39261332, -0.3910131 , -1.31060156]])"
      ]
     },
     "execution_count": 49,
     "metadata": {},
     "output_type": "execute_result"
    }
   ],
   "source": [
    "X"
   ]
  },
  {
   "cell_type": "code",
   "execution_count": null,
   "id": "543e7afc-6bc5-4fb6-9c12-2fbb772c567c",
   "metadata": {},
   "outputs": [],
   "source": []
  }
 ],
 "metadata": {
  "kernelspec": {
   "display_name": "py37",
   "language": "python",
   "name": "py37"
  },
  "language_info": {
   "codemirror_mode": {
    "name": "ipython",
    "version": 3
   },
   "file_extension": ".py",
   "mimetype": "text/x-python",
   "name": "python",
   "nbconvert_exporter": "python",
   "pygments_lexer": "ipython3",
   "version": "3.7.11"
  }
 },
 "nbformat": 4,
 "nbformat_minor": 5
}
