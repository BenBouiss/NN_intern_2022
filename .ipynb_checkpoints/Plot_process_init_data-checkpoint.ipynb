{
 "cells": [
  {
   "cell_type": "code",
   "execution_count": 16,
   "id": "ca88481f-86c9-4ed8-a149-ef7dbe1b2467",
   "metadata": {},
   "outputs": [],
   "source": [
    "import pandas as pd\n",
    "import numpy as np\n",
    "import matplotlib.pyplot as plt\n",
    "import glob\n",
    "import os"
   ]
  },
  {
   "cell_type": "code",
   "execution_count": 17,
   "id": "2d9900a7-6f71-4234-b414-9ec3af5b5c24",
   "metadata": {},
   "outputs": [],
   "source": [
    "Datas = glob.glob(os.getcwd() + '/Data/*.csv')"
   ]
  },
  {
   "cell_type": "code",
   "execution_count": 36,
   "id": "621aa96c-b1fe-42bc-ba71-76f2ac0d60c6",
   "metadata": {},
   "outputs": [],
   "source": [
    "def Processing(d, data_type = 'thermalDriving'):\n",
    "    time_max = d.loc[len(d)-1].date + 1\n",
    "    clean_d = d[['meltRate', data_type]].loc[ ~d.meltRate.isna() & ~d[data_type].isna()]\n",
    "    return clean_d"
   ]
  },
  {
   "cell_type": "code",
   "execution_count": 37,
   "id": "51463236-46b5-4811-8154-51325010cb26",
   "metadata": {},
   "outputs": [
    {
     "name": "stdout",
     "output_type": "stream",
     "text": [
      "240.0\n"
     ]
    }
   ],
   "source": [
    "for data_name in Datas:\n",
    "    data = pd.read_csv(data_name)\n",
    "    clean_data = Processing(data)"
   ]
  },
  {
   "cell_type": "code",
   "execution_count": 20,
   "id": "e30a95e2-dfa9-4f44-aad9-d2d107f24eae",
   "metadata": {},
   "outputs": [
    {
     "data": {
      "text/plain": [
       "239.0"
      ]
     },
     "execution_count": 20,
     "metadata": {},
     "output_type": "execute_result"
    }
   ],
   "source": [
    "data.loc[len(data)-1].date"
   ]
  },
  {
   "cell_type": "code",
   "execution_count": null,
   "id": "62def8e0-e22b-478e-b5d4-4432b15af251",
   "metadata": {},
   "outputs": [],
   "source": []
  },
  {
   "cell_type": "code",
   "execution_count": null,
   "id": "9fe47789-3c7f-4566-b452-bd112cddbbc8",
   "metadata": {},
   "outputs": [],
   "source": []
  },
  {
   "cell_type": "code",
   "execution_count": null,
   "id": "023c1cdf-521b-4187-b459-53a056ba1cdc",
   "metadata": {},
   "outputs": [],
   "source": []
  }
 ],
 "metadata": {
  "kernelspec": {
   "display_name": "py37",
   "language": "python",
   "name": "py37"
  },
  "language_info": {
   "codemirror_mode": {
    "name": "ipython",
    "version": 3
   },
   "file_extension": ".py",
   "mimetype": "text/x-python",
   "name": "python",
   "nbconvert_exporter": "python",
   "pygments_lexer": "ipython3",
   "version": "3.7.11"
  }
 },
 "nbformat": 4,
 "nbformat_minor": 5
}
