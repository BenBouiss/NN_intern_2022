{
 "cells": [
  {
   "cell_type": "code",
   "execution_count": 1,
   "id": "b5cdeb0c-3fdc-43c5-b115-b83cb8a55c08",
   "metadata": {},
   "outputs": [],
   "source": [
    "import tensorflow as tf\n",
    "import numpy as np\n",
    "import matplotlib.pyplot as plt\n",
    "import xarray as xr\n",
    "import os"
   ]
  },
  {
   "cell_type": "code",
   "execution_count": 2,
   "id": "72130807-b433-4ef4-8030-85d5a7e63b20",
   "metadata": {},
   "outputs": [],
   "source": [
    "File_path = '/bettik/bouissob/ISOMIP+/'"
   ]
  },
  {
   "cell_type": "code",
   "execution_count": 3,
   "id": "eccdd424-ce98-4f88-9aaf-ebc0f60b457e",
   "metadata": {},
   "outputs": [
    {
     "data": {
      "text/plain": [
       "['Ocean4_COM_MITgcm_JPL.nc',\n",
       " 'Ocean1_TYP_FVCOM.nc',\n",
       " 'Ocean4_COM_POP2x.nc',\n",
       " 'Ocean3_COM_MITgcm_BAS_Coupled_V3.nc',\n",
       " 'Ocean2_COM_MITgcm_BAS.nc',\n",
       " 'Ocean1_COM_NEMO-CNRS.nc',\n",
       " 'Ocean2_COM_POP2x.nc',\n",
       " 'Ocean3_COM_POP2x.nc',\n",
       " 'Ocean2_TYP_POP2x.nc',\n",
       " 'Ocean2_TYPa_NEMO-CNRS.nc',\n",
       " 'Ocean3_COM_MITgcm_JPL.nc',\n",
       " 'Ocean1_COM_MITgcm_BAS.nc',\n",
       " 'Ocean4_COM_FVCOM.nc',\n",
       " 'Ocean4_COM_MOM6_SIGMA_ZSTAR.nc',\n",
       " 'Ocean1_TYP_ROMSUTAS.nc',\n",
       " 'Ocean3_COM_FVCOM.nc',\n",
       " 'Ocean2_COM_FVCOM.nc',\n",
       " 'Ocean2_COM_ROMSUTAS.nc',\n",
       " 'Ocean2_TYPb_NEMO-CNRS.nc',\n",
       " 'Ocean4_TYP_NEMO-UKESM1is.nc',\n",
       " 'Ocean2_TYP_NEMO-UKESM1is.nc',\n",
       " 'Ocean4_COM_MITgcm_BAS_Coupled_V3.nc',\n",
       " 'Ocean4_TYP_POP2x.nc',\n",
       " 'Ocean4_TYPb_NEMO-CNRS.nc',\n",
       " 'Ocean2_COM_NEMO-UKESM1is.nc',\n",
       " 'Ocean1_TYP_MOM6.nc',\n",
       " 'Ocean1_COM_MOM6_SIGMA_ZSTAR.nc',\n",
       " 'Ocean1_TYPb_NEMO-CNRS.nc',\n",
       " 'Ocean3_TYPb_NEMO-CNRS.nc',\n",
       " 'Ocean1_COM_MITgcm_BAS_CoupledV3.nc',\n",
       " 'Ocean2_TYP_ROMSUTAS.nc',\n",
       " 'Ocean1_TYPa_NEMO-CNRS.nc',\n",
       " 'Ocean1_COM_POP2x.nc',\n",
       " 'Ocean3_TYP_NEMO-UKESM1is.nc',\n",
       " 'Ocean2_COM_MPAS-Ocean.nc',\n",
       " 'Ocean4_COM_NEMO-UKESM1is.nc',\n",
       " 'Ocean3_COM_MOM6_SIGMA_ZSTAR.nc',\n",
       " 'Ocean1_COM_MITgcm_JPL.nc',\n",
       " 'PDFs',\n",
       " 'Ocean4_COM_NEMO-CNRS.nc',\n",
       " 'Ocean3_COM_NEMO-CNRS.nc',\n",
       " 'Ocean3_COM_NEMO-UKESM1is.nc',\n",
       " 'Ocean1_TYP_NEMO-UKESM1is.nc',\n",
       " 'Ocean1_COM_ROMSUTAS.nc',\n",
       " 'Ocean2_TYP_FVCOM.nc',\n",
       " 'Ocean1_COM_COCO.nc',\n",
       " 'Ocean2_COM_COCO.nc',\n",
       " 'Ocean2_COM_MITgcm_BAS_CoupledV3.nc',\n",
       " 'Ocean2_COM_NEMO-CNRS.nc',\n",
       " 'Ocean1_TYP_POP2x.nc',\n",
       " 'Ocean2_TYP_MPAS-Ocean.nc',\n",
       " 'Ocean3_COM_ROMSUTAS.nc',\n",
       " 'Ocean1_COM_MPAS-Ocean.nc',\n",
       " 'Ocean1_COM_FVCOM.nc',\n",
       " 'Ocean3_TYP_POP2x.nc',\n",
       " 'Ocean2_TYP_MOM6.nc',\n",
       " 'Ocean1_TYP_MPAS-Ocean.nc',\n",
       " 'Ocean2_COM_MITgcm_JPL.nc',\n",
       " 'Ocean1_COM_NEMO-UKESM1is.nc',\n",
       " 'Ocean2_COM_MOM6_SIGMA_ZSTAR.nc']"
      ]
     },
     "execution_count": 3,
     "metadata": {},
     "output_type": "execute_result"
    }
   ],
   "source": [
    "os.listdir(File_path)"
   ]
  },
  {
   "cell_type": "code",
   "execution_count": 4,
   "id": "539d9896-ee53-4b26-8bba-8efa73d53c70",
   "metadata": {},
   "outputs": [],
   "source": [
    "Data_Name = 'Ocean1_COM_NEMO-CNRS.nc'\n",
    "Data = xr.open_dataset(File_path + Data_Name)"
   ]
  },
  {
   "cell_type": "code",
   "execution_count": 5,
   "id": "bf742cda-2fb7-4f38-ad52-6efd9cb9b42a",
   "metadata": {
    "scrolled": true,
    "tags": []
   },
   "outputs": [
    {
     "data": {
      "text/plain": [
       "Frozen({'barotropicStreamfunction': <xarray.Variable (nTime: 240, ny: 40, nx: 240)>\n",
       "[2304000 values with dtype=float32]\n",
       "Attributes:\n",
       "    description:  barotropic streamfunction\n",
       "    units:        m^3/s, 'salinityYZ': <xarray.Variable (nTime: 240, nz: 144, ny: 40)>\n",
       "[1382400 values with dtype=float32]\n",
       "Attributes:\n",
       "    description:  salinity slice in y-z plane through x = 500 km\n",
       "    units:        PSU, 'temperatureYZ': <xarray.Variable (nTime: 240, nz: 144, ny: 40)>\n",
       "[1382400 values with dtype=float32]\n",
       "Attributes:\n",
       "    description:  temperature slice in y-z plane through x = 500 km\n",
       "    units:        deg C, 'salinityXZ': <xarray.Variable (nTime: 240, nz: 144, nx: 240)>\n",
       "[8294400 values with dtype=float32]\n",
       "Attributes:\n",
       "    description:  salinity slice in x-z plane through the center of the domai...\n",
       "    units:        PSU, 'temperatureXZ': <xarray.Variable (nTime: 240, nz: 144, nx: 240)>\n",
       "[8294400 values with dtype=float32]\n",
       "Attributes:\n",
       "    description:  temperature slice in x-z plane through the center of the do...\n",
       "    units:        deg C, 'bottomSalinity': <xarray.Variable (nTime: 240, ny: 40, nx: 240)>\n",
       "[2304000 values with dtype=float32]\n",
       "Attributes:\n",
       "    description:  salinity in the bottom grid cell of each ocean column\n",
       "    units:        PSU, 'bottomTemperature': <xarray.Variable (nTime: 240, ny: 40, nx: 240)>\n",
       "[2304000 values with dtype=float32]\n",
       "Attributes:\n",
       "    description:  temperature in the bottom grid cell of each ocean column\n",
       "    units:        deg C, 'halineDriving': <xarray.Variable (nTime: 240, ny: 40, nx: 240)>\n",
       "[2304000 values with dtype=float32]\n",
       "Attributes:\n",
       "    description:  haline driving used in the melt calculation\n",
       "    units:        PSU, 'thermalDriving': <xarray.Variable (nTime: 240, ny: 40, nx: 240)>\n",
       "[2304000 values with dtype=float32]\n",
       "Attributes:\n",
       "    description:  thermal driving used in the melt calculation\n",
       "    units:        deg C, 'frictionVelocity': <xarray.Variable (nTime: 240, ny: 40, nx: 240)>\n",
       "[2304000 values with dtype=float32]\n",
       "Attributes:\n",
       "    description:  friction velocity u* used in melt calculations\n",
       "    units:        m/s, 'meltRate': <xarray.Variable (nTime: 240, ny: 40, nx: 240)>\n",
       "[2304000 values with dtype=float32]\n",
       "Attributes:\n",
       "    description:  melt rate, positive for melting\n",
       "    units:        m/s, 'bathymetry': <xarray.Variable (ny: 40, nx: 240)>\n",
       "array([[ nan,  nan,  nan, ..., 720., 720., 720.],\n",
       "       [ nan,  nan,  nan, ..., 720., 720., 720.],\n",
       "       [ nan,  nan,  nan, ..., 720., 720., 720.],\n",
       "       ...,\n",
       "       [ nan,  nan,  nan, ..., 720., 720., 720.],\n",
       "       [ nan,  nan,  nan, ..., 720., 720., 720.],\n",
       "       [ nan,  nan,  nan, ..., 720., 720., 720.]], dtype=float32)\n",
       "Attributes:\n",
       "    description:  elevation of the bathymetry\n",
       "    units:        m, 'iceDraft': <xarray.Variable (ny: 40, nx: 240)>\n",
       "array([[nan, nan, nan, ...,  0.,  0.,  0.],\n",
       "       [nan, nan, nan, ...,  0.,  0.,  0.],\n",
       "       [nan, nan, nan, ...,  0.,  0.,  0.],\n",
       "       ...,\n",
       "       [nan, nan, nan, ...,  0.,  0.,  0.],\n",
       "       [nan, nan, nan, ...,  0.,  0.,  0.],\n",
       "       [nan, nan, nan, ...,  0.,  0.,  0.]], dtype=float32)\n",
       "Attributes:\n",
       "    description:  elevation of the ice-ocean interface\n",
       "    units:        m, 'meanSalinity': <xarray.Variable (nTime: 240)>\n",
       "array([34.19767 , 34.19919 , 34.199997, ..., 34.245506, 34.245285, 34.24602 ],\n",
       "      dtype=float32)\n",
       "Attributes:\n",
       "    description:  the salinity averaged over the ocean volume\n",
       "    units:        PSU, 'meanTemperature': <xarray.Variable (nTime: 240)>\n",
       "array([-1.833185, -1.819181, -1.811317, ..., -0.368912, -0.368915, -0.367222],\n",
       "      dtype=float32)\n",
       "Attributes:\n",
       "    description:  the potential temperature averaged over the ocean volume\n",
       "    units:        deg C, 'totalOceanVolume': <xarray.Variable (nTime: 240)>\n",
       "array([1.305058e+13, 1.305058e+13, 1.305057e+13, ..., 1.305055e+13,\n",
       "       1.305055e+13, 1.305055e+13], dtype=float32)\n",
       "Attributes:\n",
       "    description:  total volume of ocean\n",
       "    units:        m^3, 'totalMeltFlux': <xarray.Variable (nTime: 240)>\n",
       "array([ 129100.12,   93520.82,   79885.2 , ..., 4018050.2 , 4004786.2 ,\n",
       "       3984126.8 ], dtype=float32)\n",
       "Attributes:\n",
       "    description:  total flux of melt water summed over area of floating ice, ...\n",
       "    units:        kg/s, 'meanMeltRate': <xarray.Variable (nTime: 240)>\n",
       "array([1.109870e-08, 8.039961e-09, 6.867710e-09, ..., 3.454307e-07,\n",
       "       3.442904e-07, 3.425144e-07], dtype=float32)\n",
       "Attributes:\n",
       "    description:  mean melt rate averaged over area of floating ice, positive...\n",
       "    units:        m/s, 'overturningStreamfunction': <xarray.Variable (nTime: 240, nz: 144, nx: 240)>\n",
       "[8294400 values with dtype=float32]\n",
       "Attributes:\n",
       "    units:        m^3/s\n",
       "    description:  overturning (meridional) streamfunction, 'time': <xarray.Variable (nTime: 240)>\n",
       "array([cftime.DatetimeNoLeap(0, 1, 1, 0, 0, 0, 0, has_year_zero=True),\n",
       "       cftime.DatetimeNoLeap(0, 2, 1, 0, 0, 0, 0, has_year_zero=True),\n",
       "       cftime.DatetimeNoLeap(0, 3, 1, 0, 0, 0, 0, has_year_zero=True), ...,\n",
       "       cftime.DatetimeNoLeap(19, 10, 1, 0, 0, 0, 0, has_year_zero=True),\n",
       "       cftime.DatetimeNoLeap(19, 11, 1, 0, 0, 0, 0, has_year_zero=True),\n",
       "       cftime.DatetimeNoLeap(19, 12, 1, 0, 0, 0, 0, has_year_zero=True)],\n",
       "      dtype=object)\n",
       "Attributes:\n",
       "    description:  time at the beginning of the period over which monthly mean..., 'uBoundaryLayer': <xarray.Variable (nTime: 240, ny: 40, nx: 240)>\n",
       "[2304000 values with dtype=float32]\n",
       "Attributes:\n",
       "    units:        m/s\n",
       "    description:  x-velocity in the boundary layer used to compute u*, 'vBoundaryLayer': <xarray.Variable (nTime: 240, ny: 40, nx: 240)>\n",
       "[2304000 values with dtype=float32]\n",
       "Attributes:\n",
       "    units:        m/s\n",
       "    description:  y-velocity in the boundary layer used to compute u*, 'x': <xarray.Variable (nx: 240)>\n",
       "array([321000., 323000., 325000., ..., 795000., 797000., 799000.],\n",
       "      dtype=float32)\n",
       "Attributes:\n",
       "    units:        m\n",
       "    description:  X axis, 'y': <xarray.Variable (ny: 40)>\n",
       "array([ 1000.,  3000.,  5000.,  7000.,  9000., 11000., 13000., 15000., 17000.,\n",
       "       19000., 21000., 23000., 25000., 27000., 29000., 31000., 33000., 35000.,\n",
       "       37000., 39000., 41000., 43000., 45000., 47000., 49000., 51000., 53000.,\n",
       "       55000., 57000., 59000., 61000., 63000., 65000., 67000., 69000., 71000.,\n",
       "       73000., 75000., 77000., 79000.], dtype=float32)\n",
       "Attributes:\n",
       "    units:        m\n",
       "    description:  Y axis, 'z': <xarray.Variable (nz: 144)>\n",
       "array([  -2.5,   -7.5,  -12.5,  -17.5,  -22.5,  -27.5,  -32.5,  -37.5,  -42.5,\n",
       "        -47.5,  -52.5,  -57.5,  -62.5,  -67.5,  -72.5,  -77.5,  -82.5,  -87.5,\n",
       "        -92.5,  -97.5, -102.5, -107.5, -112.5, -117.5, -122.5, -127.5, -132.5,\n",
       "       -137.5, -142.5, -147.5, -152.5, -157.5, -162.5, -167.5, -172.5, -177.5,\n",
       "       -182.5, -187.5, -192.5, -197.5, -202.5, -207.5, -212.5, -217.5, -222.5,\n",
       "       -227.5, -232.5, -237.5, -242.5, -247.5, -252.5, -257.5, -262.5, -267.5,\n",
       "       -272.5, -277.5, -282.5, -287.5, -292.5, -297.5, -302.5, -307.5, -312.5,\n",
       "       -317.5, -322.5, -327.5, -332.5, -337.5, -342.5, -347.5, -352.5, -357.5,\n",
       "       -362.5, -367.5, -372.5, -377.5, -382.5, -387.5, -392.5, -397.5, -402.5,\n",
       "       -407.5, -412.5, -417.5, -422.5, -427.5, -432.5, -437.5, -442.5, -447.5,\n",
       "       -452.5, -457.5, -462.5, -467.5, -472.5, -477.5, -482.5, -487.5, -492.5,\n",
       "       -497.5, -502.5, -507.5, -512.5, -517.5, -522.5, -527.5, -532.5, -537.5,\n",
       "       -542.5, -547.5, -552.5, -557.5, -562.5, -567.5, -572.5, -577.5, -582.5,\n",
       "       -587.5, -592.5, -597.5, -602.5, -607.5, -612.5, -617.5, -622.5, -627.5,\n",
       "       -632.5, -637.5, -642.5, -647.5, -652.5, -657.5, -662.5, -667.5, -672.5,\n",
       "       -677.5, -682.5, -687.5, -692.5, -697.5, -702.5, -707.5, -712.5, -717.5],\n",
       "      dtype=float32)\n",
       "Attributes:\n",
       "    units:        m\n",
       "    description:  Vertical axis})"
      ]
     },
     "execution_count": 5,
     "metadata": {},
     "output_type": "execute_result"
    }
   ],
   "source": [
    "Data.variables"
   ]
  },
  {
   "cell_type": "code",
   "execution_count": 6,
   "id": "b8fc4465-31be-4dfd-82b7-d735f13a6565",
   "metadata": {},
   "outputs": [],
   "source": [
    "Time_step = len(Data.nTime)"
   ]
  },
  {
   "cell_type": "code",
   "execution_count": 7,
   "id": "2be4f1d8-d429-49df-8fb5-717cf5a74434",
   "metadata": {},
   "outputs": [
    {
     "data": {
      "text/plain": [
       "<matplotlib.collections.QuadMesh at 0x7f3282edfa90>"
      ]
     },
     "execution_count": 7,
     "metadata": {},
     "output_type": "execute_result"
    },
    {
     "data": {
      "image/png": "[encoded data removed]",
      "text/plain": [
       "<Figure size 432x288 with 2 Axes>"
      ]
     },
     "metadata": {
      "needs_background": "light"
     },
     "output_type": "display_data"
    }
   ],
   "source": [
    "Data.salinityXZ[2, :, :].plot()"
   ]
  },
  {
   "cell_type": "code",
   "execution_count": 9,
   "id": "1ffdb1ce-b851-4004-8a63-8098500582b9",
   "metadata": {},
   "outputs": [],
   "source": [
    "import matplotlib.animation as animation\n",
    "from IPython.display import HTML\n",
    "from matplotlib.animation import FuncAnimation\n",
    "%matplotlib inline"
   ]
  },
  {
   "cell_type": "code",
   "execution_count": null,
   "id": "ef53aa88-d021-49a6-a676-30dcdf17de24",
   "metadata": {},
   "outputs": [],
   "source": [
    "Data_Type = \"salinityXZ\"\n",
    "fig, ax = plt.subplots(figsize=(5, 4))\n",
    "x = Data[Data_Type].nx.as_numpy()\n",
    "z = Data[Data_Type].nz.as_numpy()\n",
    "cax = ax.pcolormesh(x, z, Data[Data_Type][0, :, :],\n",
    "                    vmin=float(Data[Data_Type].min()), vmax=float(Data[Data_Type].max()), cmap='Blues')\n",
    "fig.colorbar(cax)\n",
    "def animate(i):\n",
    "    cax.set_array(np.array(Data.salinityXZ[i, :, :]).flatten())\n",
    "    ax.set_title(\"Time = {} step\".format(i))\n",
    "\n",
    "anim = FuncAnimation(\n",
    "    fig, animate, interval=50, frames= Time_step)\n",
    "HTML(anim.to_html5_video())"
   ]
  },
  {
   "cell_type": "code",
   "execution_count": null,
   "id": "f745b94a-ed62-4a2a-8442-72c34fdcab20",
   "metadata": {},
   "outputs": [],
   "source": [
    "Data.salinityXZ[0, :, :].as_numpy"
   ]
  },
  {
   "cell_type": "code",
   "execution_count": null,
   "id": "477b1919-a14d-4732-ab70-d2f0e7c1b371",
   "metadata": {},
   "outputs": [],
   "source": [
    "np.array(Data.salinityXZ[0, :, :]).flatten()"
   ]
  },
  {
   "cell_type": "code",
   "execution_count": null,
   "id": "721ad278-1fff-410e-a484-e06f37d9d1f9",
   "metadata": {},
   "outputs": [],
   "source": []
  }
 ],
 "metadata": {
  "kernelspec": {
   "display_name": "py37",
   "language": "python",
   "name": "py37"
  },
  "language_info": {
   "codemirror_mode": {
    "name": "ipython",
    "version": 3
   },
   "file_extension": ".py",
   "mimetype": "text/x-python",
   "name": "python",
   "nbconvert_exporter": "python",
   "pygments_lexer": "ipython3",
   "version": "3.7.11"
  }
 },
 "nbformat": 4,
 "nbformat_minor": 5
}
