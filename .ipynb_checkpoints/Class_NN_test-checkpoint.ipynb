{
 "cells": [
  {
   "cell_type": "code",
   "execution_count": 1,
   "id": "52f7f59d-95e3-4941-bfdf-631f8678bb3f",
   "metadata": {},
   "outputs": [],
   "source": [
    "import NN"
   ]
  },
  {
   "cell_type": "code",
   "execution_count": 2,
   "id": "eed05240-403a-4b86-a043-e83bff976a67",
   "metadata": {},
   "outputs": [],
   "source": [
    "#def __init__(self, Epoch = 2, Neur_seq = '32/64/64/32', Dataset_train = ['Ocean1'], Oc_mod_type = 'COM_NEMO-CNRS', \n",
    "#             Var_X = ['x', 'y', 'temperatureYZ', 'salinityYZ', 'iceDraft'], Var_Y = 'meltRate'):"
   ]
  },
  {
   "cell_type": "code",
   "execution_count": 3,
   "id": "e624cd57-c427-4cbf-8c73-0d791a810bfa",
   "metadata": {},
   "outputs": [],
   "source": [
    "Test = NN.model_NN(Epoch = 1, Neur_seq = '4_2')\n",
    "#Test.train()"
   ]
  },
  {
   "cell_type": "code",
   "execution_count": null,
   "id": "4b5202d7-03f2-4ff5-b6c4-5bddbf2943f1",
   "metadata": {
    "tags": []
   },
   "outputs": [
    {
     "name": "stdout",
     "output_type": "stream",
     "text": [
      "Starting training for neurone : 64_64_64_64_64_64\n",
      " 5237/17448 [========>.....................] - ETA: 26s - loss: 0.1637 - mae: 0.2057 - mse: 0.1637"
     ]
    }
   ],
   "source": [
    "Training = NN.Sequencial_training(Test, Epoch = 2)\n",
    "Training.training(5)"
   ]
  },
  {
   "cell_type": "code",
   "execution_count": null,
   "id": "7d034e50-47ed-4331-9add-d19b310a8870",
   "metadata": {},
   "outputs": [],
   "source": []
  },
  {
   "cell_type": "code",
   "execution_count": null,
   "id": "bd256f9c-c2d2-40da-b939-76b87bb7eb12",
   "metadata": {},
   "outputs": [],
   "source": []
  }
 ],
 "metadata": {
  "kernelspec": {
   "display_name": "py37",
   "language": "python",
   "name": "py37"
  },
  "language_info": {
   "codemirror_mode": {
    "name": "ipython",
    "version": 3
   },
   "file_extension": ".py",
   "mimetype": "text/x-python",
   "name": "python",
   "nbconvert_exporter": "python",
   "pygments_lexer": "ipython3",
   "version": "3.7.11"
  }
 },
 "nbformat": 4,
 "nbformat_minor": 5
}
