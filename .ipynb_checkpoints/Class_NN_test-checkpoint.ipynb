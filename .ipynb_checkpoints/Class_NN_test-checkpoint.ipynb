{
 "cells": [
  {
   "cell_type": "code",
   "execution_count": 81,
   "id": "52f7f59d-95e3-4941-bfdf-631f8678bb3f",
   "metadata": {},
   "outputs": [],
   "source": [
    "import NN\n",
    "import os\n",
    "import importlib\n",
    "import glob\n",
    "import pandas as pd\n",
    "import numpy as np\n",
    "import tensorflow as tf\n",
    "os.environ['TF_CPP_MIN_LOG_LEVEL'] = '3' "
   ]
  },
  {
   "cell_type": "code",
   "execution_count": 88,
   "id": "401a6dc0-5ab4-4ab2-85fc-997ba396a371",
   "metadata": {},
   "outputs": [
    {
     "data": {
      "text/plain": [
       "<module 'NN' from '/home/bouissob/Code/NN.py'>"
      ]
     },
     "execution_count": 88,
     "metadata": {},
     "output_type": "execute_result"
    }
   ],
   "source": [
    "importlib.reload(NN)"
   ]
  },
  {
   "cell_type": "code",
   "execution_count": 84,
   "id": "eed05240-403a-4b86-a043-e83bff976a67",
   "metadata": {},
   "outputs": [],
   "source": [
    "#def __init__(self, Epoch = 2, Neur_seq = '32/64/64/32', Dataset_train = ['Ocean1'], Oc_mod_type = 'COM_NEMO-CNRS', \n",
    "#             Var_X = ['x', 'y', 'temperatureYZ', 'salinityYZ', 'iceDraft'], Var_Y = 'meltRate'):"
   ]
  },
  {
   "cell_type": "code",
   "execution_count": 17,
   "id": "e624cd57-c427-4cbf-8c73-0d791a810bfa",
   "metadata": {},
   "outputs": [],
   "source": [
    "#Test = NN.model_NN(Epoch = 1, Neur_seq = '4_2')\n",
    "#Test.train()"
   ]
  },
  {
   "cell_type": "code",
   "execution_count": 19,
   "id": "4b5202d7-03f2-4ff5-b6c4-5bddbf2943f1",
   "metadata": {
    "tags": []
   },
   "outputs": [],
   "source": [
    "Training = NN.Sequencial_training(NN.model_NN, Epoch = 14)\n",
    "#Tot = Training.training(4, verbose = 0)"
   ]
  },
  {
   "cell_type": "code",
   "execution_count": 4,
   "id": "7d034e50-47ed-4331-9add-d19b310a8870",
   "metadata": {},
   "outputs": [],
   "source": [
    "pwd = os.getcwd()\n",
    "Ocean_mod = 'Ocean1'\n",
    "Type = 'COM_NEMO-CNRS'\n",
    "Models_path = os.path.join(pwd, 'Auto_model', Type, Ocean_mod)\n",
    "li = glob.glob(Models_path + '/Ep_14*')"
   ]
  },
  {
   "cell_type": "code",
   "execution_count": 5,
   "id": "bd256f9c-c2d2-40da-b939-76b87bb7eb12",
   "metadata": {},
   "outputs": [],
   "source": [
    "Test = li[len(li) - 1]\n",
    "MeanX, StdX = pd.read_pickle(Test + '/MeanX.pkl'), pd.read_pickle(Test + '/StdX.pkl')\n",
    "MeanY, StdY = np.loadtxt(Test + '/MeanY.csv'), np.loadtxt(Test + '/StdY.csv')\n",
    "model = tf.keras.models.load_model(Test + '/model.h5')"
   ]
  },
  {
   "cell_type": "code",
   "execution_count": 8,
   "id": "b8a65f63-3ebd-4ced-9213-30fdc00a672c",
   "metadata": {},
   "outputs": [
    {
     "data": {
      "text/plain": [
       "17089"
      ]
     },
     "execution_count": 8,
     "metadata": {},
     "output_type": "execute_result"
    }
   ],
   "source": [
    "model.count_params()"
   ]
  },
  {
   "cell_type": "code",
   "execution_count": 116,
   "id": "bf022370-964c-42b3-a38b-45cf2fec325f",
   "metadata": {
    "tags": []
   },
   "outputs": [
    {
     "name": "stdout",
     "output_type": "stream",
     "text": [
      "/home/bouissob/Code/Auto_model/COM_NEMO-CNRS/Ocean1/Ep_14\n",
      "Starting 1/18 model\n",
      "Data variables used : x y temperatureYZ salinityYZ iceDraft\n",
      "Starting 2/18 model\n",
      "Data variables used : x y temperatureYZ salinityYZ iceDraft\n",
      "Starting 3/18 model\n",
      "Data variables used : x y temperatureYZ salinityYZ iceDraft\n",
      "Starting 4/18 model\n",
      "Data variables used : x y temperatureYZ salinityYZ iceDraft\n",
      "Starting 5/18 model\n",
      "Data variables used : x y temperatureYZ salinityYZ iceDraft\n",
      "Starting 6/18 model\n",
      "Data variables used : x y temperatureYZ salinityYZ iceDraft\n",
      "Starting 7/18 model\n",
      "Data variables used : x y temperatureYZ salinityYZ iceDraft\n",
      "Starting 8/18 model\n",
      "Data variables used : x y temperatureYZ salinityYZ iceDraft\n",
      "Starting 9/18 model\n",
      "Data variables used : x y temperatureYZ salinityYZ iceDraft\n",
      "Starting 10/18 model\n",
      "Data variables used : x y temperatureYZ salinityYZ iceDraft\n",
      "Starting 11/18 model\n",
      "Data variables used : x y temperatureYZ salinityYZ iceDraft\n",
      "Starting 12/18 model\n",
      "Data variables used : x y temperatureYZ salinityYZ iceDraft\n",
      "Starting 13/18 model\n",
      "Data variables used : x y temperatureYZ salinityYZ iceDraft\n",
      "Starting 14/18 model\n",
      "Data variables used : x y temperatureYZ salinityYZ iceDraft\n",
      "Starting 15/18 model\n",
      "Data variables used : x y temperatureYZ salinityYZ iceDraft\n",
      "Starting 16/18 model\n",
      "Data variables used : x y temperatureYZ salinityYZ iceDraft\n",
      "Starting 17/18 model\n",
      "Data variables used : x y temperatureYZ salinityYZ iceDraft\n",
      "Starting 18/18 model\n",
      "Data variables used : x y temperatureYZ salinityYZ iceDraft\n",
      "Starting 240 / 240\r"
     ]
    },
    {
     "ename": "ValueError",
     "evalue": "too many values to unpack (expected 2)",
     "output_type": "error",
     "traceback": [
      "\u001b[0;31m---------------------------------------------------------------------------\u001b[0m",
      "\u001b[0;31mValueError\u001b[0m                                Traceback (most recent call last)",
      "\u001b[0;32m/tmp/ipykernel_22787/3861452279.py\u001b[0m in \u001b[0;36m<module>\u001b[0;34m\u001b[0m\n\u001b[1;32m      2\u001b[0m              \u001b[0;31m#Plotting_target = 'Ocean1', Type_tar = 'COM_NEMO-CNRS' ):\u001b[0m\u001b[0;34m\u001b[0m\u001b[0;34m\u001b[0m\u001b[0;34m\u001b[0m\u001b[0m\n\u001b[1;32m      3\u001b[0m \u001b[0mimportlib\u001b[0m\u001b[0;34m.\u001b[0m\u001b[0mreload\u001b[0m\u001b[0;34m(\u001b[0m\u001b[0mNN\u001b[0m\u001b[0;34m)\u001b[0m\u001b[0;34m\u001b[0m\u001b[0;34m\u001b[0m\u001b[0m\n\u001b[0;32m----> 4\u001b[0;31m \u001b[0mRn\u001b[0m\u001b[0;34m,\u001b[0m \u001b[0mParam\u001b[0m \u001b[0;34m=\u001b[0m \u001b[0mNN\u001b[0m\u001b[0;34m.\u001b[0m\u001b[0mPlotting\u001b[0m\u001b[0;34m(\u001b[0m\u001b[0;34m)\u001b[0m\u001b[0;34m\u001b[0m\u001b[0;34m\u001b[0m\u001b[0m\n\u001b[0m",
      "\u001b[0;31mValueError\u001b[0m: too many values to unpack (expected 2)"
     ]
    },
    {
     "data": {
      "image/png": "[encoded data removed]",
      "text/plain": [
       "<Figure size 432x288 with 1 Axes>"
      ]
     },
     "metadata": {
      "needs_background": "light"
     },
     "output_type": "display_data"
    }
   ],
   "source": [
    "#def Plotting(Epoch = 14, Ocean_trained = 'Ocean1', Type_trained = 'COM_NEMO', \n",
    "             #Plotting_target = 'Ocean1', Type_tar = 'COM_NEMO-CNRS' ):\n",
    "importlib.reload(NN)\n",
    "Rn, Param, Neur = NN.Plotting()"
   ]
  },
  {
   "cell_type": "code",
   "execution_count": 113,
   "id": "db724790-3488-47fd-95f4-3633c5387dc6",
   "metadata": {},
   "outputs": [
    {
     "data": {
      "text/plain": [
       "array([2.59293552, 1.12625827, 5.23365526, 1.98052375, 3.62168845,\n",
       "       1.39233684, 2.1293524 , 2.82235001, 4.63708205, 1.2496925 ,\n",
       "       2.73965503, 2.0115879 , 1.06449002, 1.53996329, 1.10305261,\n",
       "       1.9279137 , 1.33869275, 1.29391968])"
      ]
     },
     "execution_count": 113,
     "metadata": {},
     "output_type": "execute_result"
    }
   ],
   "source": [
    "Rn"
   ]
  },
  {
   "cell_type": "code",
   "execution_count": 114,
   "id": "4fc8e404-0122-424b-a80d-23d1bbd1a02b",
   "metadata": {},
   "outputs": [
    {
     "data": {
      "text/plain": [
       "array(17089)"
      ]
     },
     "execution_count": 114,
     "metadata": {},
     "output_type": "execute_result"
    }
   ],
   "source": [
    "Param"
   ]
  },
  {
   "cell_type": "code",
   "execution_count": 108,
   "id": "f860a646-58d8-4dc1-b94d-6e3d1aef3e54",
   "metadata": {},
   "outputs": [
    {
     "data": {
      "text/plain": [
       "array([3])"
      ]
     },
     "execution_count": 108,
     "metadata": {},
     "output_type": "execute_result"
    }
   ],
   "source": [
    "B"
   ]
  },
  {
   "cell_type": "code",
   "execution_count": 65,
   "id": "3d0c4a5d-72a5-45b4-8da3-8fc782158873",
   "metadata": {},
   "outputs": [],
   "source": [
    "Epoch, Neur, Choix = re.findall('Ep_(\\d+)_N_(\\w+)_Ch_(\\d+)', Test)[0]"
   ]
  },
  {
   "cell_type": "code",
   "execution_count": null,
   "id": "dbfab742-71a3-4755-ae66-d9e244ebc898",
   "metadata": {},
   "outputs": [],
   "source": []
  },
  {
   "cell_type": "code",
   "execution_count": 70,
   "id": "9179a04b-9a8b-4305-81a1-a4a420d03288",
   "metadata": {},
   "outputs": [
    {
     "name": "stdout",
     "output_type": "stream",
     "text": [
      "Ocean1\n"
     ]
    }
   ],
   "source": []
  },
  {
   "cell_type": "code",
   "execution_count": null,
   "id": "3427d77d-1afa-4755-b417-dac04b8355be",
   "metadata": {},
   "outputs": [],
   "source": []
  }
 ],
 "metadata": {
  "kernelspec": {
   "display_name": "py37",
   "language": "python",
   "name": "py37"
  },
  "language_info": {
   "codemirror_mode": {
    "name": "ipython",
    "version": 3
   },
   "file_extension": ".py",
   "mimetype": "text/x-python",
   "name": "python",
   "nbconvert_exporter": "python",
   "pygments_lexer": "ipython3",
   "version": "3.7.11"
  }
 },
 "nbformat": 4,
 "nbformat_minor": 5
}
